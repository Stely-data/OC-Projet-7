{
 "cells": [
  {
   "cell_type": "markdown",
   "id": "aa01c55d-21f2-48a5-a2c1-bf0fd402c191",
   "metadata": {},
   "source": [
    "<b><font color=\"SteelBlue\" size=\"+3\">Implémentez un modèle de scoring</font></b>"
   ]
  },
  {
   "cell_type": "markdown",
   "id": "8a4ac084-8062-4d7a-a5c5-adc368e767a6",
   "metadata": {},
   "source": [
    "# Introduction"
   ]
  },
  {
   "cell_type": "markdown",
   "id": "ac7258d0-59a3-4263-a49e-dca4206dfcb2",
   "metadata": {},
   "source": [
    "Ce note book est la suite de l'EDA, il va permettre de présenter le prétraitement des données, le feature engineering et la modélisation."
   ]
  },
  {
   "cell_type": "code",
   "execution_count": 1,
   "id": "786a8563-5f1e-4e13-b28f-b1806e6de372",
   "metadata": {},
   "outputs": [],
   "source": [
    "# Chargement des librairies\n",
    "import pandas as pd\n",
    "import seaborn as sns\n",
    "import matplotlib.pyplot as plt\n",
    "\n",
    "# classe de feature engineering perso\n",
    "from feature_pipeline import FeatureEngineeringPipeline"
   ]
  },
  {
   "cell_type": "markdown",
   "id": "9114cdc0-cd29-4a9b-b01a-7e47a6345d83",
   "metadata": {},
   "source": [
    "# Feature engineering"
   ]
  },
  {
   "cell_type": "code",
   "execution_count": 2,
   "id": "4d75a39f-7394-4935-b35b-4eb696ef4379",
   "metadata": {},
   "outputs": [],
   "source": [
    "# Initialiser le pipeline\n",
    "pipeline = FeatureEngineeringPipeline()"
   ]
  },
  {
   "cell_type": "code",
   "execution_count": 3,
   "id": "6c2a5d6f-9a5e-4c15-a1ea-4052492987fb",
   "metadata": {},
   "outputs": [],
   "source": [
    "# Charger les données d'entraînement\n",
    "train_df = pd.read_csv('data/sources/application_train.csv')"
   ]
  },
  {
   "cell_type": "code",
   "execution_count": 14,
   "id": "7ed9b2a9-5ebe-4330-b233-51689758eea1",
   "metadata": {},
   "outputs": [
    {
     "data": {
      "text/plain": [
       "(307511, 122)"
      ]
     },
     "execution_count": 14,
     "metadata": {},
     "output_type": "execute_result"
    }
   ],
   "source": [
    "train_df.shape"
   ]
  },
  {
   "cell_type": "code",
   "execution_count": 4,
   "id": "cde02a97-7b3f-45cd-963a-e67bdff42279",
   "metadata": {},
   "outputs": [
    {
     "name": "stdout",
     "output_type": "stream",
     "text": [
      "Bureau and bureau_balance data - done in 17s\n",
      "previous_application - done in 24s\n",
      "previous applications balances - done in 670s\n"
     ]
    }
   ],
   "source": [
    "# Entraîner le pipeline\n",
    "train_df_transformed = pipeline.fit(train_df)"
   ]
  },
  {
   "cell_type": "code",
   "execution_count": 5,
   "id": "c65884e1-0cef-40fb-b7fe-703abc2dc529",
   "metadata": {},
   "outputs": [],
   "source": [
    "# Sauvegarder les paramètres de transformation\n",
    "pipeline.save('param')"
   ]
  },
  {
   "cell_type": "code",
   "execution_count": 7,
   "id": "827cd873-51ec-4f47-b50b-61b95f00adcb",
   "metadata": {},
   "outputs": [
    {
     "data": {
      "text/plain": [
       "(307506, 734)"
      ]
     },
     "execution_count": 7,
     "metadata": {},
     "output_type": "execute_result"
    }
   ],
   "source": [
    "train_df_transformed.shape"
   ]
  },
  {
   "cell_type": "code",
   "execution_count": 9,
   "id": "eb990d13-1c35-4937-b724-ccfaf4adf99b",
   "metadata": {},
   "outputs": [
    {
     "data": {
      "text/html": [
       "<div>\n",
       "<style scoped>\n",
       "    .dataframe tbody tr th:only-of-type {\n",
       "        vertical-align: middle;\n",
       "    }\n",
       "\n",
       "    .dataframe tbody tr th {\n",
       "        vertical-align: top;\n",
       "    }\n",
       "\n",
       "    .dataframe thead th {\n",
       "        text-align: right;\n",
       "    }\n",
       "</style>\n",
       "<table border=\"1\" class=\"dataframe\">\n",
       "  <thead>\n",
       "    <tr style=\"text-align: right;\">\n",
       "      <th></th>\n",
       "      <th>SK_ID_CURR</th>\n",
       "      <th>TARGET</th>\n",
       "      <th>NAME_CONTRACT_TYPE</th>\n",
       "      <th>CODE_GENDER</th>\n",
       "      <th>FLAG_OWN_CAR</th>\n",
       "      <th>FLAG_OWN_REALTY</th>\n",
       "      <th>CNT_CHILDREN</th>\n",
       "      <th>AMT_INCOME_TOTAL</th>\n",
       "      <th>AMT_CREDIT</th>\n",
       "      <th>AMT_ANNUITY</th>\n",
       "      <th>...</th>\n",
       "      <th>CURRENT_TO_APPROVED_ANNUITY_MEAN_RATIO</th>\n",
       "      <th>PAYMENT_MIN_TO_ANNUITY_RATIO</th>\n",
       "      <th>PAYMENT_MAX_TO_ANNUITY_RATIO</th>\n",
       "      <th>PAYMENT_MEAN_TO_ANNUITY_RATIO</th>\n",
       "      <th>CTA_CREDIT_TO_ANNUITY_MAX_RATIO</th>\n",
       "      <th>CTA_CREDIT_TO_ANNUITY_MEAN_RATIO</th>\n",
       "      <th>DAYS_DECISION_MEAN_TO_BIRTH</th>\n",
       "      <th>DAYS_CREDIT_MEAN_TO_BIRTH</th>\n",
       "      <th>DAYS_DECISION_MEAN_TO_EMPLOYED</th>\n",
       "      <th>DAYS_CREDIT_MEAN_TO_EMPLOYED</th>\n",
       "    </tr>\n",
       "  </thead>\n",
       "  <tbody>\n",
       "    <tr>\n",
       "      <th>0</th>\n",
       "      <td>100002</td>\n",
       "      <td>1</td>\n",
       "      <td>Cash loans</td>\n",
       "      <td>M</td>\n",
       "      <td>N</td>\n",
       "      <td>Y</td>\n",
       "      <td>0</td>\n",
       "      <td>202500.0</td>\n",
       "      <td>406597.5</td>\n",
       "      <td>24700.5</td>\n",
       "      <td>...</td>\n",
       "      <td>0.374558</td>\n",
       "      <td>0.374558</td>\n",
       "      <td>2.149501</td>\n",
       "      <td>0.467976</td>\n",
       "      <td>1.175716</td>\n",
       "      <td>1.175716</td>\n",
       "      <td>0.064052</td>\n",
       "      <td>0.092379</td>\n",
       "      <td>0.951334</td>\n",
       "      <td>1.372057</td>\n",
       "    </tr>\n",
       "    <tr>\n",
       "      <th>1</th>\n",
       "      <td>100003</td>\n",
       "      <td>0</td>\n",
       "      <td>Cash loans</td>\n",
       "      <td>F</td>\n",
       "      <td>N</td>\n",
       "      <td>N</td>\n",
       "      <td>0</td>\n",
       "      <td>270000.0</td>\n",
       "      <td>1293502.5</td>\n",
       "      <td>35698.5</td>\n",
       "      <td>...</td>\n",
       "      <td>1.584212</td>\n",
       "      <td>0.186646</td>\n",
       "      <td>15.710334</td>\n",
       "      <td>1.813930</td>\n",
       "      <td>0.290662</td>\n",
       "      <td>0.239484</td>\n",
       "      <td>0.077841</td>\n",
       "      <td>0.083552</td>\n",
       "      <td>1.098485</td>\n",
       "      <td>1.179082</td>\n",
       "    </tr>\n",
       "    <tr>\n",
       "      <th>2</th>\n",
       "      <td>100004</td>\n",
       "      <td>0</td>\n",
       "      <td>Revolving loans</td>\n",
       "      <td>M</td>\n",
       "      <td>Y</td>\n",
       "      <td>Y</td>\n",
       "      <td>0</td>\n",
       "      <td>67500.0</td>\n",
       "      <td>135000.0</td>\n",
       "      <td>6750.0</td>\n",
       "      <td>...</td>\n",
       "      <td>0.793667</td>\n",
       "      <td>0.793667</td>\n",
       "      <td>1.566513</td>\n",
       "      <td>1.051282</td>\n",
       "      <td>0.187652</td>\n",
       "      <td>0.187652</td>\n",
       "      <td>0.042791</td>\n",
       "      <td>0.045521</td>\n",
       "      <td>3.622222</td>\n",
       "      <td>3.853333</td>\n",
       "    </tr>\n",
       "    <tr>\n",
       "      <th>3</th>\n",
       "      <td>100006</td>\n",
       "      <td>0</td>\n",
       "      <td>Cash loans</td>\n",
       "      <td>F</td>\n",
       "      <td>N</td>\n",
       "      <td>Y</td>\n",
       "      <td>0</td>\n",
       "      <td>135000.0</td>\n",
       "      <td>312682.5</td>\n",
       "      <td>29686.5</td>\n",
       "      <td>...</td>\n",
       "      <td>0.735762</td>\n",
       "      <td>0.083638</td>\n",
       "      <td>23.303080</td>\n",
       "      <td>2.120394</td>\n",
       "      <td>2.643133</td>\n",
       "      <td>1.497703</td>\n",
       "      <td>0.018185</td>\n",
       "      <td>NaN</td>\n",
       "      <td>0.113722</td>\n",
       "      <td>NaN</td>\n",
       "    </tr>\n",
       "    <tr>\n",
       "      <th>4</th>\n",
       "      <td>100007</td>\n",
       "      <td>0</td>\n",
       "      <td>Cash loans</td>\n",
       "      <td>M</td>\n",
       "      <td>N</td>\n",
       "      <td>Y</td>\n",
       "      <td>0</td>\n",
       "      <td>121500.0</td>\n",
       "      <td>513000.0</td>\n",
       "      <td>21865.5</td>\n",
       "      <td>...</td>\n",
       "      <td>0.561561</td>\n",
       "      <td>0.000008</td>\n",
       "      <td>1.037195</td>\n",
       "      <td>0.558600</td>\n",
       "      <td>0.931669</td>\n",
       "      <td>0.538926</td>\n",
       "      <td>0.061350</td>\n",
       "      <td>0.057646</td>\n",
       "      <td>0.402513</td>\n",
       "      <td>0.378209</td>\n",
       "    </tr>\n",
       "  </tbody>\n",
       "</table>\n",
       "<p>5 rows × 734 columns</p>\n",
       "</div>"
      ],
      "text/plain": [
       "   SK_ID_CURR  TARGET NAME_CONTRACT_TYPE CODE_GENDER FLAG_OWN_CAR  \\\n",
       "0      100002       1         Cash loans           M            N   \n",
       "1      100003       0         Cash loans           F            N   \n",
       "2      100004       0    Revolving loans           M            Y   \n",
       "3      100006       0         Cash loans           F            N   \n",
       "4      100007       0         Cash loans           M            N   \n",
       "\n",
       "  FLAG_OWN_REALTY  CNT_CHILDREN  AMT_INCOME_TOTAL  AMT_CREDIT  AMT_ANNUITY  \\\n",
       "0               Y             0          202500.0    406597.5      24700.5   \n",
       "1               N             0          270000.0   1293502.5      35698.5   \n",
       "2               Y             0           67500.0    135000.0       6750.0   \n",
       "3               Y             0          135000.0    312682.5      29686.5   \n",
       "4               Y             0          121500.0    513000.0      21865.5   \n",
       "\n",
       "   ...  CURRENT_TO_APPROVED_ANNUITY_MEAN_RATIO PAYMENT_MIN_TO_ANNUITY_RATIO  \\\n",
       "0  ...                                0.374558                     0.374558   \n",
       "1  ...                                1.584212                     0.186646   \n",
       "2  ...                                0.793667                     0.793667   \n",
       "3  ...                                0.735762                     0.083638   \n",
       "4  ...                                0.561561                     0.000008   \n",
       "\n",
       "  PAYMENT_MAX_TO_ANNUITY_RATIO PAYMENT_MEAN_TO_ANNUITY_RATIO  \\\n",
       "0                     2.149501                      0.467976   \n",
       "1                    15.710334                      1.813930   \n",
       "2                     1.566513                      1.051282   \n",
       "3                    23.303080                      2.120394   \n",
       "4                     1.037195                      0.558600   \n",
       "\n",
       "  CTA_CREDIT_TO_ANNUITY_MAX_RATIO CTA_CREDIT_TO_ANNUITY_MEAN_RATIO  \\\n",
       "0                        1.175716                         1.175716   \n",
       "1                        0.290662                         0.239484   \n",
       "2                        0.187652                         0.187652   \n",
       "3                        2.643133                         1.497703   \n",
       "4                        0.931669                         0.538926   \n",
       "\n",
       "   DAYS_DECISION_MEAN_TO_BIRTH  DAYS_CREDIT_MEAN_TO_BIRTH  \\\n",
       "0                     0.064052                   0.092379   \n",
       "1                     0.077841                   0.083552   \n",
       "2                     0.042791                   0.045521   \n",
       "3                     0.018185                        NaN   \n",
       "4                     0.061350                   0.057646   \n",
       "\n",
       "   DAYS_DECISION_MEAN_TO_EMPLOYED  DAYS_CREDIT_MEAN_TO_EMPLOYED  \n",
       "0                        0.951334                      1.372057  \n",
       "1                        1.098485                      1.179082  \n",
       "2                        3.622222                      3.853333  \n",
       "3                        0.113722                           NaN  \n",
       "4                        0.402513                      0.378209  \n",
       "\n",
       "[5 rows x 734 columns]"
      ]
     },
     "execution_count": 9,
     "metadata": {},
     "output_type": "execute_result"
    }
   ],
   "source": [
    "train_df_transformed.head(5)"
   ]
  },
  {
   "cell_type": "code",
   "execution_count": 13,
   "id": "37a5b495-ab2d-4ff5-86ac-2b3570884fef",
   "metadata": {},
   "outputs": [
    {
     "data": {
      "text/plain": [
       "float64    676\n",
       "int64       42\n",
       "object      16\n",
       "Name: count, dtype: int64"
      ]
     },
     "execution_count": 13,
     "metadata": {},
     "output_type": "execute_result"
    }
   ],
   "source": [
    "train_df_transformed.dtypes.value_counts()"
   ]
  },
  {
   "cell_type": "code",
   "execution_count": 15,
   "id": "0d200168-f8e8-4ffc-b636-a77ba2e2f3d7",
   "metadata": {},
   "outputs": [
    {
     "name": "stdout",
     "output_type": "stream",
     "text": [
      "NAME_CONTRACT_TYPE: 2 valeurs uniques\n",
      "CODE_GENDER: 2 valeurs uniques\n",
      "FLAG_OWN_CAR: 2 valeurs uniques\n",
      "FLAG_OWN_REALTY: 2 valeurs uniques\n",
      "NAME_TYPE_SUITE: 7 valeurs uniques\n",
      "NAME_INCOME_TYPE: 8 valeurs uniques\n",
      "NAME_EDUCATION_TYPE: 5 valeurs uniques\n",
      "NAME_FAMILY_STATUS: 6 valeurs uniques\n",
      "NAME_HOUSING_TYPE: 6 valeurs uniques\n",
      "OCCUPATION_TYPE: 18 valeurs uniques\n",
      "WEEKDAY_APPR_PROCESS_START: 7 valeurs uniques\n",
      "ORGANIZATION_TYPE: 58 valeurs uniques\n",
      "FONDKAPREMONT_MODE: 4 valeurs uniques\n",
      "HOUSETYPE_MODE: 3 valeurs uniques\n",
      "WALLSMATERIAL_MODE: 7 valeurs uniques\n",
      "EMERGENCYSTATE_MODE: 2 valeurs uniques\n"
     ]
    }
   ],
   "source": [
    "def unique_values_per_object_column(df):    # Sélectionner les colonnes de type object\n",
    "    object_columns = df.select_dtypes(include=['object']).columns\n",
    "    \n",
    "    # Créer un dictionnaire pour stocker le nombre de valeurs uniques par colonne\n",
    "    unique_values_counts = {}\n",
    "    \n",
    "    # Boucle sur les colonnes object et compter les valeurs uniques\n",
    "    for col in object_columns:\n",
    "        unique_values_counts[col] = df[col].nunique()\n",
    "    \n",
    "    # Afficher les résultats\n",
    "    for col, count in unique_values_counts.items():\n",
    "        print(f\"{col}: {count} valeurs uniques\")\n",
    "\n",
    "unique_values_per_object_column(train_df_transformed)\n"
   ]
  },
  {
   "cell_type": "code",
   "execution_count": null,
   "id": "2bfeede8-003a-4bbd-8d5e-7beae9d9a9de",
   "metadata": {},
   "outputs": [],
   "source": []
  },
  {
   "cell_type": "code",
   "execution_count": null,
   "id": "f7331ac3-79e2-47e3-b2e7-a5d9ffad6304",
   "metadata": {},
   "outputs": [],
   "source": []
  },
  {
   "cell_type": "code",
   "execution_count": null,
   "id": "0ae73439-b859-465b-998a-5277f0f47d49",
   "metadata": {},
   "outputs": [],
   "source": []
  },
  {
   "cell_type": "code",
   "execution_count": null,
   "id": "77327ab9-f856-4ac5-901d-eefbb7ef1536",
   "metadata": {},
   "outputs": [],
   "source": []
  },
  {
   "cell_type": "code",
   "execution_count": null,
   "id": "43be2068-2097-4a0a-a6ab-9dd95dfefce7",
   "metadata": {},
   "outputs": [],
   "source": []
  },
  {
   "cell_type": "code",
   "execution_count": null,
   "id": "52f8d531-b7ef-40cb-91d5-c47398a24f30",
   "metadata": {},
   "outputs": [],
   "source": []
  },
  {
   "cell_type": "code",
   "execution_count": null,
   "id": "c75f47a9-c68e-4023-a410-6fbc022ed852",
   "metadata": {},
   "outputs": [],
   "source": [
    "# Charger les paramètres de transformation\n",
    "pipeline.load('path/to/save/directory')\n",
    "\n",
    "# Charger les données de test\n",
    "test_df = pd.read_csv('path/to/test.csv')\n",
    "\n",
    "# Transformer les données de test\n",
    "test_df_transformed = pipeline.transform(test_df)\n",
    "\n",
    "# Maintenant, vous pouvez utiliser `test_df_transformed` pour la prédiction"
   ]
  }
 ],
 "metadata": {
  "kernelspec": {
   "display_name": "Python 3 (ipykernel)",
   "language": "python",
   "name": "python3"
  },
  "language_info": {
   "codemirror_mode": {
    "name": "ipython",
    "version": 3
   },
   "file_extension": ".py",
   "mimetype": "text/x-python",
   "name": "python",
   "nbconvert_exporter": "python",
   "pygments_lexer": "ipython3",
   "version": "3.12.0"
  },
  "toc": {
   "base_numbering": 1,
   "nav_menu": {},
   "number_sections": true,
   "sideBar": true,
   "skip_h1_title": false,
   "title_cell": "Table of Contents",
   "title_sidebar": "Contents",
   "toc_cell": false,
   "toc_position": {},
   "toc_section_display": true,
   "toc_window_display": false
  }
 },
 "nbformat": 4,
 "nbformat_minor": 5
}
