{
 "cells": [
  {
   "cell_type": "markdown",
   "id": "aa01c55d-21f2-48a5-a2c1-bf0fd402c191",
   "metadata": {},
   "source": [
    "<b><font color=\"SteelBlue\" size=\"+3\">Implémentez un modèle de scoring</font></b>"
   ]
  },
  {
   "cell_type": "markdown",
   "id": "8a4ac084-8062-4d7a-a5c5-adc368e767a6",
   "metadata": {},
   "source": [
    "# Introduction"
   ]
  },
  {
   "cell_type": "markdown",
   "id": "ac7258d0-59a3-4263-a49e-dca4206dfcb2",
   "metadata": {},
   "source": [
    "Ce note book est la suite de l'EDA, il va permettre de présenter le prétraitement des données, le feature engineering et la modélisation."
   ]
  },
  {
   "cell_type": "code",
   "execution_count": 1,
   "id": "786a8563-5f1e-4e13-b28f-b1806e6de372",
   "metadata": {},
   "outputs": [
    {
     "name": "stderr",
     "output_type": "stream",
     "text": [
      "C:\\Users\\estel\\anaconda3\\envs\\Projet-7\\Lib\\site-packages\\tqdm\\auto.py:21: TqdmWarning: IProgress not found. Please update jupyter and ipywidgets. See https://ipywidgets.readthedocs.io/en/stable/user_install.html\n",
      "  from .autonotebook import tqdm as notebook_tqdm\n"
     ]
    }
   ],
   "source": [
    "# Chargement des librairies\n",
    "\n",
    "# Built-in\n",
    "import os\n",
    "import re\n",
    "import time\n",
    "# Affichage\n",
    "from IPython.display import Image\n",
    "\n",
    "# Manipulation et analyse des données\n",
    "import numpy as np\n",
    "import pandas as pd\n",
    "import seaborn as sns\n",
    "import matplotlib.pyplot as plt\n",
    "\n",
    "# Machine Learning - Suivi et Enregistrement\n",
    "import mlflow\n",
    "import mlflow.sklearn\n",
    "\n",
    "# Machine Learning - Prétraitement\n",
    "from sklearn.preprocessing import StandardScaler\n",
    "from sklearn.model_selection import train_test_split, cross_val_score, GridSearchCV, StratifiedKFold, RandomizedSearchCV\n",
    "from sklearn.utils.class_weight import compute_class_weight\n",
    "\n",
    "# Machine Learning - Algorithmes\n",
    "from sklearn.linear_model import LogisticRegression\n",
    "from sklearn.dummy import DummyClassifier\n",
    "from xgboost import XGBClassifier\n",
    "import lightgbm as lgb\n",
    "from lightgbm import LGBMClassifier\n",
    "from catboost import CatBoostClassifier, Pool\n",
    "\n",
    "# Machine Learning - Équilibrage des données\n",
    "from imblearn.over_sampling import SMOTE\n",
    "from imblearn.under_sampling import RandomUnderSampler\n",
    "\n",
    "# Machine Learning - Évaluation des performances\n",
    "from sklearn.metrics import classification_report, confusion_matrix, roc_auc_score, accuracy_score, make_scorer\n",
    "from sklearn.metrics import f1_score\n",
    "\n",
    "# Features importance\n",
    "import shap\n",
    "\n",
    "# Transformateur\n",
    "from sklearn.base import BaseEstimator, ClassifierMixin, TransformerMixin\n",
    "\n",
    "# Data drift\n",
    "from evidently.report import Report\n",
    "from evidently.metric_preset import DataDriftPreset\n",
    "\n",
    "# Pipeline\n",
    "from sklearn.pipeline import Pipeline\n",
    "from sklearn.preprocessing import FunctionTransformer\n",
    "import joblib\n",
    "\n",
    "# Custom Pipeline\n",
    "from feature_pipeline import FeatureEngineeringPipeline, remove_highly_correlated_features\n",
    "from models import PipelineWithDriftDetection, prepare_pip_data, ThresholdClassifier"
   ]
  },
  {
   "cell_type": "raw",
   "id": "877c076a-fdcf-4344-bf77-b1444849cbbb",
   "metadata": {},
   "source": [
    "mlflow.set_tracking_uri(uri=\"http://127.0.0.1:5000\")\n",
    "mlflow.set_experiment(\"Credit_Scoring_Experiment\")"
   ]
  },
  {
   "cell_type": "markdown",
   "id": "9ff1e3f7-1f86-4f53-a771-7ed8c87f080b",
   "metadata": {},
   "source": [
    "# Data préparation"
   ]
  },
  {
   "cell_type": "markdown",
   "id": "a70daaf5-d4cf-4661-9bdf-fb2eb9ac5aa8",
   "metadata": {},
   "source": [
    "## Chargement des données"
   ]
  },
  {
   "cell_type": "code",
   "execution_count": 2,
   "id": "cfff27f4-b9b8-4adf-b237-8b2a282ad2a3",
   "metadata": {},
   "outputs": [
    {
     "data": {
      "text/plain": [
       "['application_test.csv',\n",
       " 'application_train.csv',\n",
       " 'bureau.csv',\n",
       " 'bureau_balance.csv',\n",
       " 'credit_card_balance.csv',\n",
       " 'HomeCredit_columns_description.csv',\n",
       " 'installments_payments.csv',\n",
       " 'param',\n",
       " 'POS_CASH_balance.csv',\n",
       " 'previous_application.csv',\n",
       " 'Projet+Mise+en+prod+-+home-credit-default-risk.zip',\n",
       " 'sample_submission.csv']"
      ]
     },
     "execution_count": 2,
     "metadata": {},
     "output_type": "execute_result"
    }
   ],
   "source": [
    "os.listdir(\"data/Sources/\")"
   ]
  },
  {
   "cell_type": "code",
   "execution_count": 3,
   "id": "1f96549a-d5bf-4ddc-ad7e-d2c0934de3f4",
   "metadata": {},
   "outputs": [],
   "source": [
    "PATH = \"./data/Sources/\""
   ]
  },
  {
   "cell_type": "code",
   "execution_count": 4,
   "id": "7b5a8bd9-a476-4343-8105-4a611db9e1ad",
   "metadata": {},
   "outputs": [],
   "source": [
    "application_train = pd.read_csv(PATH+\"/application_train.csv\")\n",
    "application_test = pd.read_csv(PATH+\"/application_test.csv\")"
   ]
  },
  {
   "cell_type": "code",
   "execution_count": 5,
   "id": "90e112aa-67b5-4e88-8bec-26793308ad1b",
   "metadata": {},
   "outputs": [
    {
     "data": {
      "text/plain": [
       "(307511, 122)"
      ]
     },
     "execution_count": 5,
     "metadata": {},
     "output_type": "execute_result"
    }
   ],
   "source": [
    "application_train.shape"
   ]
  },
  {
   "cell_type": "markdown",
   "id": "fd4cd159-7b28-4bce-8a51-05adc042d567",
   "metadata": {},
   "source": [
    "## Split du jeu de données"
   ]
  },
  {
   "cell_type": "code",
   "execution_count": 6,
   "id": "ac8bcf74-f9f0-40d5-ae20-7273db1517a5",
   "metadata": {},
   "outputs": [],
   "source": [
    "# Division des données en ensembles d'entraînement et de test\n",
    "train, test = train_test_split(application_train, test_size=0.2, random_state=42, stratify=application_train['TARGET'])"
   ]
  },
  {
   "cell_type": "code",
   "execution_count": 7,
   "id": "63d59fcf-e785-4a30-b45d-39f9ec977970",
   "metadata": {},
   "outputs": [
    {
     "data": {
      "text/plain": [
       "(246008, 122)"
      ]
     },
     "execution_count": 7,
     "metadata": {},
     "output_type": "execute_result"
    }
   ],
   "source": [
    "train.shape"
   ]
  },
  {
   "cell_type": "code",
   "execution_count": 8,
   "id": "54423ba5-8bea-4dc1-843a-7331a532da23",
   "metadata": {},
   "outputs": [
    {
     "data": {
      "text/html": [
       "<div>\n",
       "<style scoped>\n",
       "    .dataframe tbody tr th:only-of-type {\n",
       "        vertical-align: middle;\n",
       "    }\n",
       "\n",
       "    .dataframe tbody tr th {\n",
       "        vertical-align: top;\n",
       "    }\n",
       "\n",
       "    .dataframe thead th {\n",
       "        text-align: right;\n",
       "    }\n",
       "</style>\n",
       "<table border=\"1\" class=\"dataframe\">\n",
       "  <thead>\n",
       "    <tr style=\"text-align: right;\">\n",
       "      <th></th>\n",
       "      <th>SK_ID_CURR</th>\n",
       "      <th>TARGET</th>\n",
       "      <th>NAME_CONTRACT_TYPE</th>\n",
       "      <th>CODE_GENDER</th>\n",
       "      <th>FLAG_OWN_CAR</th>\n",
       "      <th>FLAG_OWN_REALTY</th>\n",
       "      <th>CNT_CHILDREN</th>\n",
       "      <th>AMT_INCOME_TOTAL</th>\n",
       "      <th>AMT_CREDIT</th>\n",
       "      <th>AMT_ANNUITY</th>\n",
       "      <th>...</th>\n",
       "      <th>FLAG_DOCUMENT_18</th>\n",
       "      <th>FLAG_DOCUMENT_19</th>\n",
       "      <th>FLAG_DOCUMENT_20</th>\n",
       "      <th>FLAG_DOCUMENT_21</th>\n",
       "      <th>AMT_REQ_CREDIT_BUREAU_HOUR</th>\n",
       "      <th>AMT_REQ_CREDIT_BUREAU_DAY</th>\n",
       "      <th>AMT_REQ_CREDIT_BUREAU_WEEK</th>\n",
       "      <th>AMT_REQ_CREDIT_BUREAU_MON</th>\n",
       "      <th>AMT_REQ_CREDIT_BUREAU_QRT</th>\n",
       "      <th>AMT_REQ_CREDIT_BUREAU_YEAR</th>\n",
       "    </tr>\n",
       "  </thead>\n",
       "  <tbody>\n",
       "    <tr>\n",
       "      <th>181648</th>\n",
       "      <td>310536</td>\n",
       "      <td>0</td>\n",
       "      <td>Cash loans</td>\n",
       "      <td>F</td>\n",
       "      <td>N</td>\n",
       "      <td>N</td>\n",
       "      <td>2</td>\n",
       "      <td>90000.0</td>\n",
       "      <td>227520.0</td>\n",
       "      <td>13189.5</td>\n",
       "      <td>...</td>\n",
       "      <td>0</td>\n",
       "      <td>0</td>\n",
       "      <td>0</td>\n",
       "      <td>0</td>\n",
       "      <td>0.0</td>\n",
       "      <td>0.0</td>\n",
       "      <td>0.0</td>\n",
       "      <td>0.0</td>\n",
       "      <td>1.0</td>\n",
       "      <td>1.0</td>\n",
       "    </tr>\n",
       "    <tr>\n",
       "      <th>229245</th>\n",
       "      <td>365516</td>\n",
       "      <td>0</td>\n",
       "      <td>Cash loans</td>\n",
       "      <td>M</td>\n",
       "      <td>Y</td>\n",
       "      <td>Y</td>\n",
       "      <td>0</td>\n",
       "      <td>90000.0</td>\n",
       "      <td>161730.0</td>\n",
       "      <td>13095.0</td>\n",
       "      <td>...</td>\n",
       "      <td>0</td>\n",
       "      <td>0</td>\n",
       "      <td>0</td>\n",
       "      <td>0</td>\n",
       "      <td>NaN</td>\n",
       "      <td>NaN</td>\n",
       "      <td>NaN</td>\n",
       "      <td>NaN</td>\n",
       "      <td>NaN</td>\n",
       "      <td>NaN</td>\n",
       "    </tr>\n",
       "    <tr>\n",
       "      <th>122525</th>\n",
       "      <td>242055</td>\n",
       "      <td>1</td>\n",
       "      <td>Cash loans</td>\n",
       "      <td>M</td>\n",
       "      <td>N</td>\n",
       "      <td>Y</td>\n",
       "      <td>0</td>\n",
       "      <td>135000.0</td>\n",
       "      <td>728847.0</td>\n",
       "      <td>26307.0</td>\n",
       "      <td>...</td>\n",
       "      <td>0</td>\n",
       "      <td>0</td>\n",
       "      <td>0</td>\n",
       "      <td>0</td>\n",
       "      <td>0.0</td>\n",
       "      <td>0.0</td>\n",
       "      <td>2.0</td>\n",
       "      <td>0.0</td>\n",
       "      <td>0.0</td>\n",
       "      <td>2.0</td>\n",
       "    </tr>\n",
       "    <tr>\n",
       "      <th>306311</th>\n",
       "      <td>454894</td>\n",
       "      <td>1</td>\n",
       "      <td>Cash loans</td>\n",
       "      <td>M</td>\n",
       "      <td>N</td>\n",
       "      <td>N</td>\n",
       "      <td>0</td>\n",
       "      <td>135000.0</td>\n",
       "      <td>474183.0</td>\n",
       "      <td>34636.5</td>\n",
       "      <td>...</td>\n",
       "      <td>0</td>\n",
       "      <td>0</td>\n",
       "      <td>0</td>\n",
       "      <td>0</td>\n",
       "      <td>0.0</td>\n",
       "      <td>0.0</td>\n",
       "      <td>0.0</td>\n",
       "      <td>0.0</td>\n",
       "      <td>0.0</td>\n",
       "      <td>4.0</td>\n",
       "    </tr>\n",
       "    <tr>\n",
       "      <th>300658</th>\n",
       "      <td>448321</td>\n",
       "      <td>0</td>\n",
       "      <td>Cash loans</td>\n",
       "      <td>F</td>\n",
       "      <td>N</td>\n",
       "      <td>Y</td>\n",
       "      <td>0</td>\n",
       "      <td>180000.0</td>\n",
       "      <td>254700.0</td>\n",
       "      <td>27558.0</td>\n",
       "      <td>...</td>\n",
       "      <td>0</td>\n",
       "      <td>0</td>\n",
       "      <td>0</td>\n",
       "      <td>0</td>\n",
       "      <td>NaN</td>\n",
       "      <td>NaN</td>\n",
       "      <td>NaN</td>\n",
       "      <td>NaN</td>\n",
       "      <td>NaN</td>\n",
       "      <td>NaN</td>\n",
       "    </tr>\n",
       "  </tbody>\n",
       "</table>\n",
       "<p>5 rows × 122 columns</p>\n",
       "</div>"
      ],
      "text/plain": [
       "        SK_ID_CURR  TARGET NAME_CONTRACT_TYPE CODE_GENDER FLAG_OWN_CAR  \\\n",
       "181648      310536       0         Cash loans           F            N   \n",
       "229245      365516       0         Cash loans           M            Y   \n",
       "122525      242055       1         Cash loans           M            N   \n",
       "306311      454894       1         Cash loans           M            N   \n",
       "300658      448321       0         Cash loans           F            N   \n",
       "\n",
       "       FLAG_OWN_REALTY  CNT_CHILDREN  AMT_INCOME_TOTAL  AMT_CREDIT  \\\n",
       "181648               N             2           90000.0    227520.0   \n",
       "229245               Y             0           90000.0    161730.0   \n",
       "122525               Y             0          135000.0    728847.0   \n",
       "306311               N             0          135000.0    474183.0   \n",
       "300658               Y             0          180000.0    254700.0   \n",
       "\n",
       "        AMT_ANNUITY  ...  FLAG_DOCUMENT_18 FLAG_DOCUMENT_19 FLAG_DOCUMENT_20  \\\n",
       "181648      13189.5  ...                 0                0                0   \n",
       "229245      13095.0  ...                 0                0                0   \n",
       "122525      26307.0  ...                 0                0                0   \n",
       "306311      34636.5  ...                 0                0                0   \n",
       "300658      27558.0  ...                 0                0                0   \n",
       "\n",
       "       FLAG_DOCUMENT_21 AMT_REQ_CREDIT_BUREAU_HOUR AMT_REQ_CREDIT_BUREAU_DAY  \\\n",
       "181648                0                        0.0                       0.0   \n",
       "229245                0                        NaN                       NaN   \n",
       "122525                0                        0.0                       0.0   \n",
       "306311                0                        0.0                       0.0   \n",
       "300658                0                        NaN                       NaN   \n",
       "\n",
       "        AMT_REQ_CREDIT_BUREAU_WEEK  AMT_REQ_CREDIT_BUREAU_MON  \\\n",
       "181648                         0.0                        0.0   \n",
       "229245                         NaN                        NaN   \n",
       "122525                         2.0                        0.0   \n",
       "306311                         0.0                        0.0   \n",
       "300658                         NaN                        NaN   \n",
       "\n",
       "        AMT_REQ_CREDIT_BUREAU_QRT  AMT_REQ_CREDIT_BUREAU_YEAR  \n",
       "181648                        1.0                         1.0  \n",
       "229245                        NaN                         NaN  \n",
       "122525                        0.0                         2.0  \n",
       "306311                        0.0                         4.0  \n",
       "300658                        NaN                         NaN  \n",
       "\n",
       "[5 rows x 122 columns]"
      ]
     },
     "execution_count": 8,
     "metadata": {},
     "output_type": "execute_result"
    }
   ],
   "source": [
    "train.head(5)"
   ]
  },
  {
   "cell_type": "markdown",
   "id": "f3ead6fc-b60a-4bda-817d-e05698097476",
   "metadata": {},
   "source": [
    "## Sans imputation"
   ]
  },
  {
   "cell_type": "code",
   "execution_count": 9,
   "id": "eac900b2-3270-4e15-a134-8f2a93e48d04",
   "metadata": {},
   "outputs": [],
   "source": [
    "# Initialiser le pipeline\n",
    "pipeline = FeatureEngineeringPipeline(data_directory=PATH, impute=False)"
   ]
  },
  {
   "cell_type": "code",
   "execution_count": null,
   "id": "cea611bd-ae7b-4457-860e-454b1b547b46",
   "metadata": {},
   "outputs": [
    {
     "name": "stdout",
     "output_type": "stream",
     "text": [
      "feature_engineering - done\n",
      "Bureau and bureau_balance data - done in 55s\n",
      "previous_application - done in 52s\n",
      "previous applications balances - done in 461s\n",
      "Colonnes supprimées (Constantes): 0\n",
      "Variables avec + de 50% de valeurs manquantes: 247\n",
      "Colonnes supprimées (hautement corrélées): 125\n"
     ]
    }
   ],
   "source": [
    "train_transformed = pipeline.fit(train)"
   ]
  },
  {
   "cell_type": "code",
   "execution_count": null,
   "id": "aa4106b5-aa3e-426d-9b51-64e9b6ca7dfd",
   "metadata": {},
   "outputs": [],
   "source": [
    "train_transformed.shape"
   ]
  },
  {
   "cell_type": "code",
   "execution_count": null,
   "id": "7fde88b8-d8d7-4616-aaf2-9e8a5675ba3e",
   "metadata": {},
   "outputs": [],
   "source": [
    "train_transformed.head(5)"
   ]
  },
  {
   "cell_type": "code",
   "execution_count": null,
   "id": "6cb9bb6f-3234-426a-bd0d-2d8e05d8def4",
   "metadata": {},
   "outputs": [],
   "source": [
    "test_transformed = pipeline.transform(test)"
   ]
  },
  {
   "cell_type": "code",
   "execution_count": null,
   "id": "d59451be-b1e4-4249-85dc-cfc1d34347b7",
   "metadata": {},
   "outputs": [],
   "source": [
    "test_transformed.shape"
   ]
  },
  {
   "cell_type": "code",
   "execution_count": null,
   "id": "9824ac04-264d-463d-aacc-0566363b43b0",
   "metadata": {},
   "outputs": [],
   "source": [
    "test_transformed.head(5)"
   ]
  },
  {
   "cell_type": "code",
   "execution_count": null,
   "id": "c12c5ac4-bedb-417a-864a-0d3fc2918b47",
   "metadata": {},
   "outputs": [],
   "source": [
    "# Séparer les features et la cible sur le jeu sans imputation\n",
    "X_train = train_transformed\n",
    "y_train = train['TARGET']\n",
    "X_test = test_transformed\n",
    "y_test = test['TARGET']"
   ]
  },
  {
   "cell_type": "markdown",
   "id": "8cb9865e-ae9b-4688-ae66-a8b1707824c9",
   "metadata": {},
   "source": [
    "## Avec imputation"
   ]
  },
  {
   "cell_type": "code",
   "execution_count": null,
   "id": "093d6af9-1e29-4acb-b1c1-e3e6d14f9e84",
   "metadata": {},
   "outputs": [],
   "source": [
    "# Initialiser le pipeline\n",
    "pipeline_imp = FeatureEngineeringPipeline(data_directory=PATH, impute=True)"
   ]
  },
  {
   "cell_type": "code",
   "execution_count": null,
   "id": "2074a1b2-5032-447e-b426-0ec343af45ae",
   "metadata": {
    "scrolled": true
   },
   "outputs": [],
   "source": [
    "train_imputed_transformed = pipeline_imp.fit(train)"
   ]
  },
  {
   "cell_type": "code",
   "execution_count": null,
   "id": "14fa5b24-0312-4651-86d6-3b66f9836168",
   "metadata": {},
   "outputs": [],
   "source": [
    "train_imputed_transformed.shape"
   ]
  },
  {
   "cell_type": "code",
   "execution_count": null,
   "id": "be60b239-da08-4ed0-9351-07e4cc657ed9",
   "metadata": {},
   "outputs": [],
   "source": [
    "test_imputed_transformed = pipeline_imp.transform(test)"
   ]
  },
  {
   "cell_type": "code",
   "execution_count": null,
   "id": "7ee4e698-f96f-4d87-a965-7e72608a5998",
   "metadata": {},
   "outputs": [],
   "source": [
    "test_imputed_transformed.shape"
   ]
  },
  {
   "cell_type": "code",
   "execution_count": null,
   "id": "9a51d7f2-eb43-4a43-8040-3d03cca87210",
   "metadata": {},
   "outputs": [],
   "source": [
    "# Séparer les features et la cible sur le jeu imputé\n",
    "X_train_imputed = train_imputed_transformed\n",
    "y_train_imputed = train['TARGET']\n",
    "X_test_imputed = test_imputed_transformed\n",
    "y_test_imputed = test['TARGET']"
   ]
  },
  {
   "cell_type": "markdown",
   "id": "ec03f1a1-68eb-440a-9571-9cb99a311dd1",
   "metadata": {},
   "source": [
    "## Sauvegarde / Chargement"
   ]
  },
  {
   "cell_type": "code",
   "execution_count": null,
   "id": "6e10a121-ca05-4e8a-9791-efefbfaff74a",
   "metadata": {},
   "outputs": [],
   "source": [
    "# Fonction pour sauvegarder un DataFrame\n",
    "def save_dataframe(df, filename, output_dir):\n",
    "    if not os.path.exists(output_dir):\n",
    "        os.makedirs(output_dir)\n",
    "    output_path = os.path.join(output_dir, filename)\n",
    "    df.to_csv(output_path, index=False)\n",
    "    print(f\"DataFrame sauvegardé sous : {output_path}\")"
   ]
  },
  {
   "cell_type": "code",
   "execution_count": null,
   "id": "ddd41487-97f7-44e2-9d8b-723146f8e036",
   "metadata": {},
   "outputs": [],
   "source": [
    "train_df = pd.concat([X_train, y_train], axis=1)\n",
    "test_df = pd.concat([X_test, y_test], axis=1)\n",
    "train_imp_df = pd.concat([X_train_imputed, y_train_imputed], axis=1)\n",
    "test_imp_df = pd.concat([X_test_imputed, y_test_imputed], axis=1)"
   ]
  },
  {
   "cell_type": "code",
   "execution_count": null,
   "id": "525cc939-8fde-4d9f-bc39-8bd38fd392d7",
   "metadata": {},
   "outputs": [],
   "source": [
    "# Sauvegarde des dataframe selectionnées\n",
    "output_dir = \"/data/Cleaned/\"\n",
    "save_dataframe(train_df, \"train_df.csv\", output_dir)\n",
    "save_dataframe(test_df, \"test_df.csv\", output_dir)\n",
    "save_dataframe(train_imp_df, \"train_imp_df.csv\", output_dir)\n",
    "save_dataframe(test_imp_df, \"test_imp_df.csv\", output_dir)"
   ]
  },
  {
   "cell_type": "code",
   "execution_count": null,
   "id": "bfcb4d1c-55c4-42fc-966d-d3c66cd8fc18",
   "metadata": {},
   "outputs": [],
   "source": [
    "# Vérification de l'existence de la variable train_df\n",
    "try:\n",
    "    train_df\n",
    "except NameError:\n",
    "    train_df = None\n",
    "\n",
    "if train_df is None:\n",
    "    # Définir la variable selected_features ici\n",
    "    output_dir = \"data/Cleaned/\"\n",
    "    train_df = pd.read_csv(os.path.join(output_feat_dir, \"train_df.csv\"))\n",
    "    test_df = pd.read_csv(os.path.join(output_feat_dir, \"test_df.csv\"))\n",
    "    train_imp_df = pd.read_csv(os.path.join(output_feat_dir, \"train_imp_df.csv\"))\n",
    "    test_imp_df = pd.read_csv(os.path.join(output_feat_dir, \"test_imp_df.csv\"))  \n",
    "    print(\"Dataframes chargés avec succès.\")\n",
    "\n",
    "    # Séparer les features et la cible sur le jeu sans imputation\n",
    "    X_train = train_df.drop(columns=['TARGET'])\n",
    "    y_train = train_df['TARGET']\n",
    "    X_test = test_df.drop(columns=['TARGET'])\n",
    "    y_test = test_df['TARGET']\n",
    "\n",
    "\n",
    "    # Séparer les features et la cible sur le jeu imputé\n",
    "    X_train_imputed = train_imp_df.drop(columns=['TARGET'])\n",
    "    y_train_imputed = train_imp_df['TARGET']\n",
    "    X_test_imputed = test_imp_df.drop(columns=['TARGET'])\n",
    "    y_test_imputed = test_imp_df['TARGET']\n"
   ]
  },
  {
   "cell_type": "markdown",
   "id": "5a59566d-f3a5-4f21-ad29-910032724797",
   "metadata": {},
   "source": [
    "## Standardisation"
   ]
  },
  {
   "cell_type": "code",
   "execution_count": null,
   "id": "3e488bf9-48bb-4f25-8c08-ed0e676e58fe",
   "metadata": {},
   "outputs": [],
   "source": [
    "# Normaliser les données\n",
    "scaler = StandardScaler()\n",
    "X_train_scaled = scaler.fit_transform(X_train_imputed)\n",
    "X_test_scaled = scaler.transform(X_test_imputed)"
   ]
  },
  {
   "cell_type": "markdown",
   "id": "c84bfb47-cf38-4fdc-ab5d-d098e7717910",
   "metadata": {},
   "source": [
    "## Ensemble de validation"
   ]
  },
  {
   "cell_type": "code",
   "execution_count": null,
   "id": "0f4e2936-fbcc-4791-ae8e-699f995af6ca",
   "metadata": {},
   "outputs": [],
   "source": [
    "# Division des données d'entraînement en sous-ensembles d'entraînement et de validation sur jeu non imputé\n",
    "X_train_part, X_val_part, y_train_part, y_val_part = train_test_split(X_train, y_train,\n",
    "                                                                      test_size=0.2, random_state=42,\n",
    "                                                                      stratify=y_train)"
   ]
  },
  {
   "cell_type": "code",
   "execution_count": null,
   "id": "5c90816c-cd10-4ba5-bbeb-b943b66504a7",
   "metadata": {},
   "outputs": [],
   "source": [
    "# Division des données d'entraînement en sous-ensembles d'entraînement et de validation sur jeu imputé\n",
    "X_train_imp_part, X_val_imp_part, y_train_imp_part, y_val_imp_part = train_test_split(X_train_imputed, y_train_imputed,\n",
    "                                                                                      test_size=0.2, random_state=42,\n",
    "                                                                                      stratify=y_train_imputed)"
   ]
  },
  {
   "cell_type": "markdown",
   "id": "2efdb655-64c4-430c-a251-91cdeb245ec6",
   "metadata": {},
   "source": [
    "### Sur le df train"
   ]
  },
  {
   "cell_type": "code",
   "execution_count": null,
   "id": "7c394711-08d1-4b5c-8332-07a98493830e",
   "metadata": {},
   "outputs": [],
   "source": [
    "# Initialiser le pipeline\n",
    "pipeline = FeatureEngineeringPipeline(data_directory=PATH)"
   ]
  },
  {
   "cell_type": "code",
   "execution_count": null,
   "id": "ffc1b03a-a608-4b97-8b2d-6c1af8f9c774",
   "metadata": {},
   "outputs": [],
   "source": [
    "# Entraîner le pipeline\n",
    "train_transformed = pipeline.fit(dfs['Train'])"
   ]
  },
  {
   "cell_type": "code",
   "execution_count": null,
   "id": "7b467426-e13b-4191-932d-33fe0edd6905",
   "metadata": {},
   "outputs": [],
   "source": [
    "# Sauvegarder les paramètres de transformation\n",
    "pipeline.save(os.path.join(output_dir, \"param\"))"
   ]
  },
  {
   "cell_type": "code",
   "execution_count": null,
   "id": "2c98ca2c-c248-4629-8633-9972c705a633",
   "metadata": {},
   "outputs": [],
   "source": [
    "train_transformed.shape"
   ]
  },
  {
   "cell_type": "code",
   "execution_count": null,
   "id": "7fa2b1b0-8b57-4713-9b9b-5057fad67db1",
   "metadata": {},
   "outputs": [],
   "source": [
    "train_transformed.head(5)"
   ]
  },
  {
   "cell_type": "code",
   "execution_count": null,
   "id": "1a3e687e-778a-4884-9e37-b51a1bb90a40",
   "metadata": {},
   "outputs": [],
   "source": [
    "check_missing_values(train_transformed)"
   ]
  },
  {
   "cell_type": "markdown",
   "id": "25569923-1d23-4c79-9680-8eff179a3de6",
   "metadata": {},
   "source": [
    "### Sur le df test"
   ]
  },
  {
   "cell_type": "code",
   "execution_count": null,
   "id": "8ead627a-209f-42a4-b5bc-fa68bcb6a2a0",
   "metadata": {},
   "outputs": [],
   "source": [
    "# Charger les paramètres de transformation\n",
    "pipeline.load(os.path.join(output_dir, \"param\"))\n",
    "\n",
    "# Transformer les données de test\n",
    "test_transformed = pipeline.transform(dfs['Test'])"
   ]
  },
  {
   "cell_type": "code",
   "execution_count": null,
   "id": "a50eb6e1-d574-4a80-a990-fab0306cb933",
   "metadata": {},
   "outputs": [],
   "source": [
    "test_transformed.shape"
   ]
  },
  {
   "cell_type": "markdown",
   "id": "30d8ad61-64d8-4859-b628-6f5151d48584",
   "metadata": {},
   "source": [
    "## Sur jeu imputé"
   ]
  },
  {
   "cell_type": "markdown",
   "id": "47073fa8-59eb-4c45-8169-5325d92d2567",
   "metadata": {},
   "source": [
    "### Sur le df train"
   ]
  },
  {
   "cell_type": "code",
   "execution_count": null,
   "id": "64faec9c-992c-4364-8fb3-65c388e2eead",
   "metadata": {},
   "outputs": [],
   "source": [
    "# Initialiser le pipeline\n",
    "pipeline_imp = FeatureEngineeringPipeline(data_directory=output_dir_imputed + '/')"
   ]
  },
  {
   "cell_type": "code",
   "execution_count": null,
   "id": "3b20a5c2-9773-4a7c-8082-ba68f1ec254b",
   "metadata": {},
   "outputs": [],
   "source": [
    "# Entraîner le pipeline\n",
    "train_imputed_transformed = pipeline_imp.fit(dfs_imputed['Train'])"
   ]
  },
  {
   "cell_type": "code",
   "execution_count": null,
   "id": "23927442-d9d4-4ebb-9654-99539d189ac6",
   "metadata": {},
   "outputs": [],
   "source": [
    "# Sauvegarder les paramètres de transformation\n",
    "pipeline_imp.save(os.path.join(output_dir_imputed, \"param\"))"
   ]
  },
  {
   "cell_type": "code",
   "execution_count": null,
   "id": "6a5617e2-7a38-4a4f-9050-b35c068931e0",
   "metadata": {},
   "outputs": [],
   "source": [
    "train_imputed_transformed.shape"
   ]
  },
  {
   "cell_type": "code",
   "execution_count": null,
   "id": "844d2d1f-1629-433b-aef7-2175e520c4b8",
   "metadata": {},
   "outputs": [],
   "source": [
    "train_imputed_transformed.head(5)"
   ]
  },
  {
   "cell_type": "code",
   "execution_count": null,
   "id": "8a30f56a-70f2-4c3b-9020-3666caf296fa",
   "metadata": {},
   "outputs": [],
   "source": [
    "check_missing_values(train_imputed_transformed)"
   ]
  },
  {
   "cell_type": "markdown",
   "id": "880f4a7e-2f04-4d7c-be47-44b8b46b9bd5",
   "metadata": {},
   "source": [
    "### Sur le df test"
   ]
  },
  {
   "cell_type": "code",
   "execution_count": null,
   "id": "33da269f-fe4f-4ef9-bcd8-6aa8442f742d",
   "metadata": {},
   "outputs": [],
   "source": [
    "# Charger les paramètres de transformation\n",
    "pipeline_imp.load(os.path.join(output_dir_imputed, \"param\"))\n",
    "\n",
    "# Transformer les données de test\n",
    "test_imputed_transformed = pipeline_imp.transform(dfs_imputed['Test'])"
   ]
  },
  {
   "cell_type": "code",
   "execution_count": null,
   "id": "9ccb4b00-9139-4451-80f4-a5047935cb05",
   "metadata": {},
   "outputs": [],
   "source": [
    "test_imputed_transformed.shape"
   ]
  },
  {
   "cell_type": "code",
   "execution_count": null,
   "id": "8160f7dd-cc1e-4563-a515-1163a1ab543f",
   "metadata": {},
   "outputs": [],
   "source": [
    "# Vérification des colonnes avec des valeurs manquantes\n",
    "missing_values = test_imputed_transformed.isnull().sum()\n",
    "missing_columns = missing_values[missing_values > 0].index.tolist()\n",
    "print(f\"Colonnes avec des valeurs manquantes : {missing_columns}\")"
   ]
  },
  {
   "cell_type": "markdown",
   "id": "6ea96fc7-7587-4949-be53-61f0bc654846",
   "metadata": {},
   "source": [
    "## Sauvegarde / Chargement des données"
   ]
  },
  {
   "cell_type": "code",
   "execution_count": null,
   "id": "3b79b771-d1c3-47fe-9c6d-ed0c82d742da",
   "metadata": {},
   "outputs": [],
   "source": [
    "output_feat_dir = \"data/Featured\"\n",
    "\n",
    "# Enregistrer les DataFrames dans des fichiers CSV\n",
    "train_transformed.to_csv(os.path.join(output_feat_dir, \"train_transformed.csv\"), index=False)\n",
    "test_transformed.to_csv(os.path.join(output_feat_dir, \"test_transformed.csv\"), index=False)\n",
    "train_imputed_transformed.to_csv(os.path.join(output_feat_dir, \"train_imputed_transformed.csv\"), index=False)\n",
    "test_imputed_transformed.to_csv(os.path.join(output_feat_dir, \"test_imputed_transformed.csv\"), index=False)\n",
    "\n",
    "print(\"DataFrames enregistrés avec succès.\")"
   ]
  },
  {
   "cell_type": "code",
   "execution_count": null,
   "id": "377c9e6e-5aca-426b-9967-d0a968dc271e",
   "metadata": {},
   "outputs": [],
   "source": [
    "# Vérification de l'existence de la variable output_feat_dir\n",
    "try:\n",
    "    output_feat_dir\n",
    "except NameError:\n",
    "    output_feat_dir = None\n",
    "\n",
    "if output_feat_dir is None:\n",
    "    output_feat_dir = \"data/Featured\"\n",
    "\n",
    "    # Charger les DataFrames à partir des fichiers CSV\n",
    "    train_transformed = pd.read_csv(os.path.join(output_feat_dir, \"train_transformed.csv\"))\n",
    "    test_transformed = pd.read_csv(os.path.join(output_feat_dir, \"test_transformed.csv\"))\n",
    "    train_imputed_transformed = pd.read_csv(os.path.join(output_feat_dir, \"train_imputed_transformed.csv\"))\n",
    "    test_imputed_transformed = pd.read_csv(os.path.join(output_feat_dir, \"test_imputed_transformed.csv\"))\n",
    "\n",
    "    print(\"DataFrames chargés avec succès.\")"
   ]
  },
  {
   "cell_type": "code",
   "execution_count": null,
   "id": "23cbad9d-9a56-4c61-8640-dfd8684773cd",
   "metadata": {},
   "outputs": [],
   "source": [
    "print(f\"train_transformed : {train_transformed.shape},\\n\"\n",
    "      f\"test_transformed : {test_transformed.shape},\\n\"\n",
    "      f\"train_imputed_transformed : {train_imputed_transformed.shape},\\n\"\n",
    "      f\"test_imputed_transformed : {test_imputed_transformed.shape}\")"
   ]
  },
  {
   "cell_type": "code",
   "execution_count": null,
   "id": "159a03ad-a5ba-4566-a53b-5e4f4afd7114",
   "metadata": {},
   "outputs": [],
   "source": [
    "# nettoyage des noms de colonnes\n",
    "def clean_column_names(df):\n",
    "    df.columns = [re.sub(r'[^A-Za-z0-9_]+', '', col) for col in df.columns]\n",
    "    return df\n",
    "\n",
    "train_transformed = clean_column_names(train_transformed)\n",
    "test_transformed = clean_column_names(test_transformed)\n",
    "train_imputed_transformed = clean_column_names(train_imputed_transformed)\n",
    "test_imputed_transformed = clean_column_names(test_imputed_transformed)"
   ]
  },
  {
   "cell_type": "markdown",
   "id": "1a58d4dc-c685-47ad-874f-80c57ce33089",
   "metadata": {},
   "source": [
    "# Définition du Score Métier"
   ]
  },
  {
   "cell_type": "code",
   "execution_count": null,
   "id": "23b119b8-fb14-4734-8831-33e031002665",
   "metadata": {},
   "outputs": [],
   "source": [
    "def normalized_cost_function(y_true, y_pred):\n",
    "    fp_cost = 1\n",
    "    fn_cost = 10\n",
    "    fp = np.sum((y_true == 0) & (y_pred == 1))\n",
    "    fn = np.sum((y_true == 1) & (y_pred == 0))\n",
    "    cost = (fp_cost * fp + fn_cost * fn) / len(y_true)\n",
    "    return cost"
   ]
  },
  {
   "cell_type": "code",
   "execution_count": null,
   "id": "55fdab66-4096-4c62-9817-d92af1c8f324",
   "metadata": {},
   "outputs": [],
   "source": [
    "# Création du custom score avec la fonction cost\n",
    "custom_scorer = make_scorer(normalized_cost_function, greater_is_better=False)"
   ]
  },
  {
   "cell_type": "markdown",
   "id": "6e2918b3-8d28-4dee-a302-16ed521171f5",
   "metadata": {},
   "source": [
    "## Tests de différents modèles"
   ]
  },
  {
   "cell_type": "code",
   "execution_count": null,
   "id": "5b602ca3-d125-41a3-a54e-c6aa5f4cb6b5",
   "metadata": {},
   "outputs": [],
   "source": [
    "# Liste des modèles à tester\n",
    "dummy_model = DummyClassifier(strategy='most_frequent')\n",
    "logistic_model = LogisticRegression(random_state=42, max_iter=2000, n_jobs=-1)\n",
    "\n",
    "# Calcul de scale_pos_weight pour XGBoost\n",
    "scale_pos_weight = sum(y_train == 0) / sum(y_train == 1)\n",
    "xgb_model_weight = XGBClassifier(scale_pos_weight=scale_pos_weight, n_jobs=-1, use_label_encoder=False,\n",
    "                                 eval_metric='logloss', random_state=42)\n",
    "xgb_model = XGBClassifier(n_jobs=-1, use_label_encoder=False, eval_metric='logloss', random_state=42)\n",
    "\n",
    "\n",
    "lgbm_model = LGBMClassifier(verbose=0, n_jobs=-1, is_unbalance=False, random_state=42)\n",
    "lgbm_model_ub = LGBMClassifier(verbose=0, n_jobs=-1, is_unbalance=True, verbosity=-1, random_state=42)\n",
    "lgbm_model_weight = LGBMClassifier(verbose=0, n_jobs=-1, is_unbalance=False, scale_pos_weight=scale_pos_weight, random_state=42)\n",
    "\n",
    "# Calcul des poids de classe pour catboost\n",
    "class_weights = compute_class_weight(class_weight='balanced', classes=np.unique(y_train), y=y_train)\n",
    "class_weights_catboost = class_weights.tolist()\n",
    "catboost_model_weight = CatBoostClassifier(verbose=0, class_weights=class_weights_catboost, thread_count=-1, task_type=\"GPU\", random_seed=42)\n",
    "\n",
    "catboost_model = CatBoostClassifier(verbose=0, thread_count=-1, task_type=\"GPU\", random_seed=42)"
   ]
  },
  {
   "cell_type": "code",
   "execution_count": null,
   "id": "a77905a8-9eb7-4d05-bcff-547af91bf40b",
   "metadata": {},
   "outputs": [],
   "source": [
    "# Fonction pour préparer les données avec différentes techniques de rééquilibrage\n",
    "def prepare_data(need_imputation, need_scaling, need_validation, technique=None):\n",
    "\n",
    "    if need_imputation:\n",
    "        if need_validation:\n",
    "            #print(\"Avec imputation, sans scaling, avec validation\")\n",
    "            X_train_loc, y_train_loc = X_train_imp_part, y_train_imp_part\n",
    "            X_val, y_val = X_val_imp_part, y_val_imp_part\n",
    "            X_test_loc, y_test_loc = X_test_imputed, y_test_imputed\n",
    "        else:\n",
    "            if need_scaling:\n",
    "                #print(\"Avec Imputation, avec scaling, sans validation\")\n",
    "                X_train_loc, y_train_loc = X_train_scaled, y_train_imputed\n",
    "                X_test_loc, y_test_loc = X_test_scaled, y_test_imputed\n",
    "            else:\n",
    "                #print(\"Avec Imputation, sans scaling, sans validation\")\n",
    "                X_train_loc, y_train_loc = X_train_imputed, y_train_imputed\n",
    "                X_test_loc, y_test_loc = X_test_imputed, y_test_imputed\n",
    "            X_val, y_val = None, None\n",
    "    else:\n",
    "        if need_validation:\n",
    "            #print(\"Sans imputation, sans scaling, avec validation\")\n",
    "            X_train_loc, y_train_loc = X_train_part, y_train_part\n",
    "            X_val, y_val = X_val_part, y_val_part\n",
    "        else:\n",
    "            #print(\"Sans imputation, sans scaling, sans validation\")\n",
    "            X_train_loc, y_train_loc = X_train, y_train\n",
    "            X_val, y_val = None, None\n",
    "        X_test_loc, y_test_loc = X_test, y_test\n",
    "        \n",
    "    \n",
    "    if technique == \"SMOTE\":\n",
    "        smote = SMOTE(random_state=42)\n",
    "        X_res, y_res = smote.fit_resample(X_train_loc, y_train_loc)\n",
    "    elif technique == \"Undersampling\":\n",
    "        undersample = RandomUnderSampler(random_state=42)\n",
    "        X_res, y_res = undersample.fit_resample(X_train_loc, y_train_loc)\n",
    "    else:\n",
    "        X_res, y_res = X_train_loc, y_train_loc\n",
    "    #print(f\"X_res :{X_res.shape}\")\n",
    "    return X_res, y_res, X_val, y_val, X_test_loc, y_test_loc"
   ]
  },
  {
   "cell_type": "markdown",
   "id": "b824a049-20fc-4473-bfe5-e6027adb63d0",
   "metadata": {},
   "source": [
    "### Ensemble de validation fixe"
   ]
  },
  {
   "cell_type": "code",
   "execution_count": null,
   "id": "28b02e9d-00f4-40b6-8067-23cba3232fe8",
   "metadata": {},
   "outputs": [],
   "source": [
    "# Fonction pour calculer le taux de FN et FP\n",
    "def calculate_fn_fp_rates(y_true, y_pred):\n",
    "    tn, fp, fn, tp = confusion_matrix(y_true, y_pred).ravel()\n",
    "    fn_rate = fn / (fn + tp) if (fn + tp) > 0 else 0\n",
    "    fp_rate = fp / (fp + tn) if (fp + tn) > 0 else 0\n",
    "    return fn_rate, fp_rate"
   ]
  },
  {
   "cell_type": "code",
   "execution_count": null,
   "id": "4d0061c8-fe69-425e-bfef-f52d8bc73595",
   "metadata": {},
   "outputs": [],
   "source": [
    "results=[]\n",
    "\n",
    "# Fonction pour entraîner et enregistrer les modèles avec MLFlow\n",
    "def train_and_log_model(model, model_name, need_imputation=True, need_scaling=False, need_validation=False, technique=None, best_params=None):\n",
    "    with mlflow.start_run(run_name=f\"{model_name}\"):\n",
    "        # lancement du timer\n",
    "        start_time = time.time()\n",
    "    \n",
    "        # préparation des données\n",
    "        X_train_loc, y_train_loc, X_val, y_val, X_test_loc, y_test_loc = prepare_data(need_imputation, need_scaling,\n",
    "                                                                                      need_validation, technique)\n",
    "\n",
    "        # Appliquer les meilleurs hyperparamètres\n",
    "        if best_params:\n",
    "            model.set_params(**best_params)\n",
    "    \n",
    "        # entrainement du modèle\n",
    "        if \"LightGBM\" in model_name:\n",
    "            model.fit(X_train_loc, y_train_loc, eval_set=[(X_val, y_val)], callbacks=[lgb.early_stopping(stopping_rounds=50, verbose=False)])\n",
    "        elif \"CatBoost\" in model_name:\n",
    "            eval_dataset = Pool(X_val, y_val)\n",
    "            model.fit(X_train_loc, y_train_loc, eval_set=eval_dataset, early_stopping_rounds=50, verbose=False)\n",
    "        else:\n",
    "            # Entraînement des modèles qui n'utilisent pas d'ensemble de validation\n",
    "            model.fit(X_train_loc, y_train_loc)\n",
    "\n",
    "        # timer d'entrainement\n",
    "        training_time = time.time() - start_time\n",
    "\n",
    "        # lancement du timer\n",
    "        start_time = time.time()\n",
    "        \n",
    "        y_pred_proba = model.predict_proba(X_test_loc)[:, 1]\n",
    "        y_pred = (y_pred_proba >= 0.5).astype(int)\n",
    "\n",
    "        # timer de prediction\n",
    "        prediction_time = time.time() - start_time\n",
    "        \n",
    "        auc_score = roc_auc_score(y_test_loc, y_pred_proba)       \n",
    "        accuracy = accuracy_score(y_test_loc, y_pred)\n",
    "        custom_score = -normalized_cost_function(y_test_loc, y_pred)\n",
    "\n",
    "        # Calculer les taux de FN et FP\n",
    "        fn_rate, fp_rate = calculate_fn_fp_rates(y_test, y_pred)\n",
    "        \n",
    "        mlflow.log_param(\"model\", model_name)\n",
    "        mlflow.log_param(\"balancing_technique\", technique)\n",
    "        mlflow.log_metric(\"ROC AUC\", auc_score)\n",
    "        mlflow.log_metric(\"Accuracy\", accuracy)\n",
    "        mlflow.log_metric(\"Custom Score\", custom_score)\n",
    "        mlflow.log_metric(\"FN Rate\", fn_rate)\n",
    "        mlflow.log_metric(\"FP Rate\", fp_rate)\n",
    "        mlflow.log_metric(\"Training Time\", training_time)\n",
    "        mlflow.log_metric(\"Prediction Time\", prediction_time)\n",
    "        \n",
    "        mlflow.sklearn.log_model(model, f\"{model_name}\")\n",
    "\n",
    "        print(f\"{model_name} - ROC AUC: {auc_score}, Accuracy: {accuracy}, Custom Score: {custom_score}\")\n",
    "\n",
    "            # Ajouter les résultats au DataFrame\n",
    "    results.append({\n",
    "        \"Model\": model_name,\n",
    "        \"ROC AUC\": auc_score,\n",
    "        \"Accuracy\": accuracy,\n",
    "        \"Custom Score\": custom_score,\n",
    "        \"FN Rate\": fn_rate,\n",
    "        \"FP Rate\": fp_rate,\n",
    "        \"Training Time\": training_time,\n",
    "        \"Prediction Time\": prediction_time\n",
    "    })"
   ]
  },
  {
   "cell_type": "code",
   "execution_count": null,
   "id": "f24ec0fa-0d4a-4852-bf5f-91158d53b0a5",
   "metadata": {},
   "outputs": [],
   "source": [
    "# Liste des modèles à tester\n",
    "model_datasets = {\n",
    "    \"Dummy Classifier\": (dummy_model, True, False, False, None, None),\n",
    "    \"Logistic Regression\": (logistic_model, True, True, False, None, None),\n",
    "    \"Logistic Regression SMOTE\": (logistic_model, True, True, False, \"SMOTE\", None),\n",
    "    \"Logistic Regression Undersampling\": (logistic_model, True, True, False, \"Undersampling\", None),\n",
    "    \"XGBoost\": (xgb_model, True, False, False, None, None),\n",
    "    \"XGBoost with weight\": (xgb_model_weight, True, False, False, None, None),\n",
    "    \"LightGBM\": (lgbm_model, False, False, True, None, None),\n",
    "    \"LightGBM with weight\": (lgbm_model_weight, False, False, True, None, None),\n",
    "    \"LightGBM with unbalanced\": (lgbm_model_ub, False, False, True, None, None),\n",
    "    \"CatBoost\": (catboost_model, False, False, True, None, None),\n",
    "    \"CatBoost with weight\": (catboost_model_weight, False, False, True, None, None),\n",
    "}"
   ]
  },
  {
   "cell_type": "code",
   "execution_count": null,
   "id": "21103517-e021-4286-876e-c3ecee597aca",
   "metadata": {},
   "outputs": [],
   "source": [
    "# Entraîner et évaluer chaque modèle\n",
    "for model_name, dfs in model_datasets.items():\n",
    "    print(f\"Evaluating {model_name}\")\n",
    "    train_and_log_model(dfs[0], model_name, dfs[1], dfs[2], dfs[3], dfs[4], dfs[5])"
   ]
  },
  {
   "cell_type": "code",
   "execution_count": null,
   "id": "40464f84-6ba1-4e83-a492-41458a7d55e7",
   "metadata": {},
   "outputs": [],
   "source": [
    "# Afficher les résultats\n",
    "results_df = pd.DataFrame(results)\n",
    "results_df.sort_values(by=\"ROC AUC\", ascending=False)"
   ]
  },
  {
   "cell_type": "markdown",
   "id": "114e5ca7-c1f0-4d4f-bed5-17c12fccc146",
   "metadata": {},
   "source": [
    "### Validation croisée"
   ]
  },
  {
   "cell_type": "code",
   "execution_count": null,
   "id": "68ca355c-a5e8-45c0-871d-43a8e1443575",
   "metadata": {},
   "outputs": [],
   "source": [
    "# selection des modèles prometteurs\n",
    "model_datasets_cv = {\n",
    "    \"Dummy Classifier\": (dummy_model, True, False, False, None),\n",
    "    \"Logistic Regression\": (logistic_model, True, True, False, None),\n",
    "    \"Logistic Regression SMOTE\": (logistic_model, True, True, False, \"SMOTE\"),\n",
    "    \"Logistic Regression Undersampling\": (logistic_model, True, True, False, \"Undersampling\"),\n",
    "    \"XGBoost\": (xgb_model, True, False, False, None),\n",
    "    \"XGBoost with weight\": (xgb_model_weight, True, False, False, None),\n",
    "    \"LightGBM\": (lgbm_model, False, False, False, None),\n",
    "    \"LightGBM with weight\": (lgbm_model, False, False, False, None),\n",
    "    \"LightGBM with unbalanced\": (lgbm_model_ub, False, False, False, None),\n",
    "    \"CatBoost\": (catboost_model, False, False, False, None),\n",
    "    \"CatBoost with weight\": (catboost_model_weight, False, False, False, None),\n",
    "}"
   ]
  },
  {
   "cell_type": "code",
   "execution_count": null,
   "id": "818649ca-b6ae-44a9-b4e6-db80b6d3c626",
   "metadata": {},
   "outputs": [],
   "source": [
    "# Fonction pour effectuer une validation croisée et évaluer les modèles\n",
    "def cross_validate_model(model, X, y, scoring=custom_scorer):\n",
    "    skf = StratifiedKFold(n_splits=5, shuffle=True, random_state=42)\n",
    "    \n",
    "    auc_scores = cross_val_score(model, X, y, cv=skf, scoring=make_scorer(roc_auc_score))\n",
    "    accuracy_scores = cross_val_score(model, X, y, cv=skf, scoring=make_scorer(accuracy_score))\n",
    "    scores = cross_val_score(model, X, y, cv=skf, scoring=scoring)\n",
    "    \n",
    "    return {\n",
    "        \"auc_mean\": np.mean(auc_scores),\n",
    "        \"auc_std\": np.std(auc_scores),\n",
    "        \"accuracy_mean\": np.mean(accuracy_scores),\n",
    "        \"accuracy_std\": np.std(accuracy_scores),\n",
    "        \"custom_mean\": np.mean(scores),\n",
    "        \"custom_std\": np.std(scores)\n",
    "    }"
   ]
  },
  {
   "cell_type": "code",
   "execution_count": null,
   "id": "d9653007-885c-4ca5-ab66-5faec9c125b9",
   "metadata": {},
   "outputs": [],
   "source": [
    "# Liste pour stocker les résultats\n",
    "results = []\n",
    "\n",
    "# Entraîner et évaluer chaque modèle\n",
    "for model_name, dfs in model_datasets_cv.items():\n",
    "    print(f\"Evaluating {model_name}\")\n",
    "    # préparation des données\n",
    "    X_train_loc, y_train_loc, X_val_loc, y_val_loc, X_test_loc, y_test_loc = prepare_data(dfs[1], dfs[2], dfs[3], dfs[4])\n",
    "\n",
    "    # CV\n",
    "    scores = cross_validate_model(dfs[0], X_train_loc, y_train_loc, custom_scorer)\n",
    "    \n",
    "    # Enregistrer les résultats dans MLflow\n",
    "    with mlflow.start_run(run_name=f\"{model_name}_CV\"):\n",
    "        mlflow.log_param(\"model\", model_name)\n",
    "        mlflow.log_metric(\"ROC AUC\", scores[\"auc_mean\"])\n",
    "        mlflow.log_metric(\"Accuracy\", scores[\"accuracy_mean\"])\n",
    "        mlflow.log_metric(\"Custom Score\", scores[\"custom_mean\"])\n",
    "        mlflow.log_metric(\"ROC AUC STD\", scores[\"auc_std\"])\n",
    "        mlflow.log_metric(\"Accuracy STD\", scores[\"accuracy_std\"])\n",
    "        mlflow.log_metric(\"Custom Score STD\", scores[\"custom_std\"])\n",
    "        mlflow.sklearn.log_model(dfs[0], f\"{model_name}\")\n",
    "\n",
    "    print(f\"{model_name} - ROC AUC: {scores['auc_mean']} (STD: {scores['auc_std']}), \"\n",
    "          f\"Accuracy: {scores['accuracy_mean']} (STD: {scores['accuracy_std']}), \"\n",
    "          f\"Custom Score: {scores['custom_mean']} (STD: {scores['custom_std']})\")\n",
    "\n",
    "    # Ajouter les résultats au DataFrame\n",
    "    results.append({\n",
    "        \"Model\": model_name,\n",
    "        \"ROC AUC\": scores[\"auc_mean\"],\n",
    "        \"ROC AUC STD\": scores[\"auc_std\"],\n",
    "        \"Accuracy\": scores[\"accuracy_mean\"],\n",
    "        \"Accuracy STD\": scores[\"accuracy_std\"],\n",
    "        \"Custom Score\": scores[\"custom_mean\"],\n",
    "        \"Custom Score STD\": scores[\"custom_std\"]\n",
    "    })"
   ]
  },
  {
   "cell_type": "code",
   "execution_count": null,
   "id": "bf2d4b36-3673-4eb1-bf4f-077268bc4f51",
   "metadata": {},
   "outputs": [],
   "source": [
    "# Afficher les résultats\n",
    "results_df = pd.DataFrame(results)\n",
    "results_df.sort_values(by=\"Custom Score\", ascending=False)"
   ]
  },
  {
   "cell_type": "markdown",
   "id": "5850bdf1-070b-43b1-a3f0-caf428b4b254",
   "metadata": {},
   "source": [
    "## Recherche des hyperparamètres"
   ]
  },
  {
   "cell_type": "code",
   "execution_count": null,
   "id": "652da0d0-b064-48e2-a559-a5d829ec78cf",
   "metadata": {},
   "outputs": [],
   "source": [
    "# Sélection des modèles les plus prometteurs\n",
    "model_datasets_hp = {\n",
    "    #\"LightGBM with unbalanced\": (lgbm_model_ub, False, False, False, None),\n",
    "    \"CatBoost with weight\": (catboost_model_weight, False, False, False, None),\n",
    "}"
   ]
  },
  {
   "cell_type": "markdown",
   "id": "f796c1a5-0006-4a05-86ae-d3aaf6da2273",
   "metadata": {},
   "source": [
    "### RandomizedSearchCV"
   ]
  },
  {
   "cell_type": "code",
   "execution_count": null,
   "id": "61f49a76-589e-439f-a5eb-61743881e73e",
   "metadata": {},
   "outputs": [],
   "source": [
    "# Grilles d'hyperparamètres pour chaque modèle\n",
    "param_grids = {\n",
    "    \"LightGBM with unbalanced\": {\n",
    "        'n_estimators': [1200, 1300],\n",
    "        'max_depth': [40, 50, 60],\n",
    "        'learning_rate': [0.01, 0.1],\n",
    "        'num_leaves': [50, 60, 70],\n",
    "        'reg_alpha': [0.3, 0.4],\n",
    "        'reg_lambda': [0.1, 0.3],\n",
    "        'min_child_samples': [5, 10]\n",
    "    },\n",
    "    \"CatBoost with weight\": {\n",
    "        'iterations': [500, 1000, 1500],\n",
    "        'depth': [4, 6, 8, 10],\n",
    "        'learning_rate': [0.03, 0.05, 0.1],\n",
    "        'l2_leaf_reg': [1, 3, 5, 7]\n",
    "    }\n",
    "}"
   ]
  },
  {
   "cell_type": "code",
   "execution_count": null,
   "id": "b3b54ab7-07a1-46cd-b8bb-ffe42fb7d2cd",
   "metadata": {},
   "outputs": [],
   "source": [
    "# Recherche des hyperparamètres pour chaque modèle\n",
    "best_params = {}\n",
    "best_scores = {}\n",
    "\n",
    "for model_name, dfs in model_datasets_hp.items(): \n",
    "    print(f\"Processing {model_name}...\")\n",
    "    X_train_loc, y_train_loc, X_val, y_val, X_test_loc, y_test_loc = prepare_data(dfs[1], dfs[2], dfs[3], dfs[4])\n",
    "    \n",
    "    # Utiliser RandomizedSearchCV\n",
    "    random_search = RandomizedSearchCV(dfs[0], param_grids[model_name], n_iter=10, cv=5, scoring=make_scorer(roc_auc_score))\n",
    "    random_search.fit(X_train_loc, y_train_loc)\n",
    "    \n",
    "    best_params[model_name] = random_search.best_params_\n",
    "    best_scores[model_name] = random_search.best_score_\n",
    "\n",
    "    # Enregistrer les résultats dans MLflow\n",
    "    with mlflow.start_run(run_name=f\"{model_name}_HP_Rand\"):\n",
    "        mlflow.log_param(\"model\", model_name)\n",
    "        mlflow.log_metric(\"ROC AUC\", best_scores[model_name])\n",
    "        mlflow.log_params(best_params[model_name])\n",
    "        # Enregistrer le modèle dans MLflow\n",
    "        mlflow.sklearn.log_model(random_search.best_estimator_, model_name)\n",
    "\n",
    "\n",
    "# Afficher les meilleurs hyperparamètres et scores pour chaque modèle\n",
    "for model_name in best_params:\n",
    "    print(f\"{model_name} - Best Parameters: {best_params[model_name]}, Best ROC AUC: {best_scores[model_name]:.4f}\")\n"
   ]
  },
  {
   "cell_type": "markdown",
   "id": "3e27d5f2-61b4-46a3-a9c2-1166d5d50eea",
   "metadata": {},
   "source": [
    "### GridSearchCV"
   ]
  },
  {
   "cell_type": "code",
   "execution_count": null,
   "id": "f93d48fc-8563-452d-84ff-cf5e30a8ccfc",
   "metadata": {},
   "outputs": [],
   "source": [
    "# Grilles d'hyperparamètres pour chaque modèle\n",
    "param_grids = {\n",
    "    \"LightGBM with unbalanced\": {\n",
    "        'n_estimators': [1100, 1200],\n",
    "        'max_depth': [40, 50],\n",
    "        'learning_rate': [0.01, 0.1],\n",
    "        'num_leaves': [60, 70],\n",
    "        'reg_alpha': [0.3, 0.5],\n",
    "        'reg_lambda': [0, 0.1, 0.3],\n",
    "        'min_child_samples': [10, 20]\n",
    "    },\n",
    "    \"CatBoost with weight\": {\n",
    "        'iterations': [1000, 1100],\n",
    "        'depth': [5, 6],\n",
    "        'learning_rate': [0.02, 0.03],\n",
    "        'l2_leaf_reg': [1, 2]\n",
    "    }\n",
    "}"
   ]
  },
  {
   "cell_type": "code",
   "execution_count": null,
   "id": "4dd113a5-695c-4c92-9892-68ec522a0b19",
   "metadata": {},
   "outputs": [],
   "source": [
    "# Recherche des hyperparamètres pour chaque modèle\n",
    "best_params = {}\n",
    "best_scores = {}\n",
    "\n",
    "for model_name, (model, need_imputation, need_scaling, need_validation, technique) in model_datasets_hp.items():\n",
    "    print(f\"Processing {model_name}...\")\n",
    "    X_train_loc, y_train_loc, X_val, y_val, X_test_loc, y_test_loc = prepare_data(need_imputation, need_scaling,\n",
    "                                                                                  need_validation, technique)\n",
    "    \n",
    "    grid_search = GridSearchCV(model, param_grids[model_name], cv=5, scoring=make_scorer(roc_auc_score))\n",
    "    grid_search.fit(X_train_loc, y_train_loc)\n",
    "    \n",
    "    best_params[model_name] = grid_search.best_params_\n",
    "    best_scores[model_name] = grid_search.best_score_\n",
    "\n",
    "    # Enregistrer les résultats dans MLflow\n",
    "    with mlflow.start_run(run_name=f\"{model_name}_HP_Grid\"):\n",
    "        mlflow.log_param(\"model\", model_name)\n",
    "        mlflow.log_metric(\"ROC AUC\", best_scores[model_name])\n",
    "        mlflow.log_params(best_params[model_name])\n",
    "        # Enregistrer le modèle dans MLflow\n",
    "        mlflow.sklearn.log_model(grid_search.best_estimator_, model_name)"
   ]
  },
  {
   "cell_type": "code",
   "execution_count": null,
   "id": "0a311c32-a1b5-4843-ba39-a666d03398c5",
   "metadata": {},
   "outputs": [],
   "source": [
    "# Afficher les meilleurs hyperparamètres et scores pour chaque modèle\n",
    "for model_name in best_params:\n",
    "    print(f\"{model_name} - Best Parameters: {best_params[model_name]}, Best ROC AUC: {best_scores[model_name]:.4f}\")"
   ]
  },
  {
   "cell_type": "markdown",
   "id": "1c873d99-843c-4ddd-b448-5775749a92b0",
   "metadata": {},
   "source": [
    "Resultats sur jeu de test"
   ]
  },
  {
   "cell_type": "code",
   "execution_count": null,
   "id": "a33cd61b-11f4-4962-984c-2256d4f11fe8",
   "metadata": {},
   "outputs": [],
   "source": [
    "#  nouvelles instance des modeles\n",
    "lgbm_model_ub = LGBMClassifier(verbose=0, n_jobs=-1, is_unbalance=True, verbosity=-1)\n",
    "catboost_model_weight = CatBoostClassifier(verbose=0, class_weights=class_weights_catboost, thread_count=-1, task_type=\"GPU\")"
   ]
  },
  {
   "cell_type": "code",
   "execution_count": null,
   "id": "ad43356e-d51b-4119-aa43-fa64de82dc1a",
   "metadata": {},
   "outputs": [],
   "source": [
    "train_and_log_model(catboost_model_weight, \"best model\", False, False, True, None, best_params=best_params[\"CatBoost with weight\"])"
   ]
  },
  {
   "cell_type": "raw",
   "id": "aa2da3b2-8577-47ea-bf11-39c9d892b226",
   "metadata": {},
   "source": [
    "train_and_log_model(lgbm_model_ub, \"best model\", False, False, True, None, best_params=best_params[\"LightGBM with unbalanced\"])"
   ]
  },
  {
   "cell_type": "markdown",
   "id": "abf1ce7b-36b7-4387-8dd8-c92df410ba28",
   "metadata": {},
   "source": [
    "## Features importance"
   ]
  },
  {
   "cell_type": "code",
   "execution_count": null,
   "id": "9ee49e01-ff6e-4c10-bcbb-0052b1a3cb81",
   "metadata": {},
   "outputs": [],
   "source": [
    "# Initialiser l'explainer SHAP\n",
    "explainer = shap.Explainer(catboost_model_weight)\n",
    "\n",
    "# Calculer les valeurs SHAP pour les données de test\n",
    "shap_values = explainer(X_test_selected)\n",
    "\n",
    "# Visualiser l'importance des features\n",
    "shap.summary_plot(shap_values, X_test_selected, plot_type=\"bar\")\n",
    "\n",
    "# Visualiser les valeurs SHAP pour toutes les instances\n",
    "shap.summary_plot(shap_values, X_test_selected)"
   ]
  },
  {
   "cell_type": "markdown",
   "id": "3b952532-6912-41af-b837-90edf816c756",
   "metadata": {},
   "source": [
    "## Optimisation du seuil"
   ]
  },
  {
   "cell_type": "markdown",
   "id": "ebb6e937-0d1d-4bb4-9e84-370b5592abd2",
   "metadata": {},
   "source": [
    "Calculez les probabilités de prédiction pour l'ensemble de validation ou de test.\n",
    "Évaluez le coût de différentes valeurs de seuil (par exemple, de 0 à 1 avec des pas de 0.01) et sélectionnez le seuil qui minimise votre fonction de coût."
   ]
  },
  {
   "cell_type": "code",
   "execution_count": null,
   "id": "befbe35f-521b-401c-a6fd-1e75d047ee3c",
   "metadata": {},
   "outputs": [],
   "source": [
    "best_model = CatBoostClassifier(verbose=0, class_weights=class_weights_catboost, thread_count=-1, task_type=\"GPU\",\n",
    "                                    **best_params[\"CatBoost with weight\"])"
   ]
  },
  {
   "cell_type": "code",
   "execution_count": null,
   "id": "ef3aea4a-8959-446d-af3d-0bf62f2a2e06",
   "metadata": {},
   "outputs": [],
   "source": [
    "# Entraînez le modèle avec les meilleurs hyperparamètres\n",
    "best_model.fit(X_train_part, y_train_part)\n",
    "\n",
    "# Proba de prédiction\n",
    "y_proba = best_model.predict_proba(X_val_part)[:, 1]\n",
    "\n",
    "def find_best_threshold(y_true, y_proba, cost_function):\n",
    "    thresholds = np.arange(0.0, 1.0, 0.01)\n",
    "    best_threshold = 0.5\n",
    "    best_cost = float('inf')\n",
    "    costs = []\n",
    "    f1_scores = []\n",
    "    for threshold in thresholds:\n",
    "        y_pred = (y_proba >= threshold).astype(int)\n",
    "        cost = cost_function(y_true, y_pred)\n",
    "        f1 = f1_score(y_true, y_pred)\n",
    "        costs.append(cost)\n",
    "        f1_scores.append(f1)\n",
    "        if cost < best_cost:\n",
    "            best_cost = cost\n",
    "            best_threshold = threshold\n",
    "\n",
    "    # Tracer les valeurs\n",
    "    plt.figure(figsize=(12, 6))\n",
    "    plt.plot(thresholds, costs, label='Cost Function', color='red')\n",
    "    plt.plot(thresholds, f1_scores, label='F1 Score', color='blue')\n",
    "    plt.axvline(x=best_threshold, color='green', linestyle='--', label=f'Best Threshold: {best_threshold}')\n",
    "    plt.xlabel('Threshold')\n",
    "    plt.ylabel('Value')\n",
    "    plt.title('Cost Function and F1 Score vs Threshold')\n",
    "    plt.legend()\n",
    "    plt.grid(True)\n",
    "    plt.show()\n",
    "\n",
    "    return best_threshold, best_cost, thresholds, costs, f1_scores\n",
    "\n",
    "\n",
    "# Trouver le seuil optimal\n",
    "best_threshold, best_cost, thresholds, costs, f1_scores = find_best_threshold(y_val_part, y_proba, normalized_cost_function)\n",
    "print(f\"Optimal threshold: {best_threshold}, with cost: {best_cost}\")"
   ]
  },
  {
   "cell_type": "code",
   "execution_count": null,
   "id": "374ea60f-f976-459f-97e6-78afe5d3d81d",
   "metadata": {},
   "outputs": [],
   "source": [
    "# Prédire les probabilités sur le jeu de test\n",
    "y_test_proba = best_model.predict_proba(X_test_selected)[:, 1]\n",
    "\n",
    "# Utiliser le seuil optimisé pour les prédictions finales\n",
    "y_test_pred = (y_test_proba >= best_threshold).astype(int)\n",
    "\n",
    "# Calculer le custom_score final\n",
    "final_custom_score = -normalized_cost_function(y_test, y_test_pred)\n",
    "print(f\"Custom Score final: {final_custom_score}\")"
   ]
  },
  {
   "cell_type": "markdown",
   "id": "8c55b3bd-2d30-47c4-8c8b-97bc33c491c5",
   "metadata": {},
   "source": [
    "# Sauvegarde pour deploiement"
   ]
  },
  {
   "cell_type": "code",
   "execution_count": null,
   "id": "f2a8ed88-864b-4844-a42c-cb61508f855d",
   "metadata": {},
   "outputs": [],
   "source": [
    "# Sauvegarder le pipeline de préparation des données\n",
    "# Initialiser le pipeline\n",
    "pipeline_final = FeatureEngineeringPipeline(data_directory=PATH, impute=False)\n",
    "appli_train_transformed = pipeline_final.fit(application_train)\n",
    "\n",
    "pipeline_path = 'pipeline.pkl'\n",
    "joblib.dump(pipeline_final, pipeline_path)\n",
    "print(f\"Pipeline sauvegardé sous {pipeline_path}\")"
   ]
  },
  {
   "cell_type": "code",
   "execution_count": null,
   "id": "3b2a94de-1c63-4703-8aca-e90093c54cf0",
   "metadata": {},
   "outputs": [],
   "source": [
    "# Sauvegarder le meilleur modèle\n",
    "model_path = 'best_model.pkl'\n",
    "joblib.dump(best_model, model_path)\n",
    "print(f\"Modèle sauvegardé sous {model_path}\")\n"
   ]
  },
  {
   "cell_type": "code",
   "execution_count": null,
   "id": "00b748be-3901-45f9-a962-e3149339ac08",
   "metadata": {},
   "outputs": [],
   "source": [
    "# Sauvegarder le seuil optimal\n",
    "threshold_path = 'optimal_threshold.pkl'\n",
    "joblib.dump(optimal_threshold, threshold_path)\n",
    "print(f\"Seuil optimal sauvegardé sous {threshold_path}\")"
   ]
  },
  {
   "cell_type": "code",
   "execution_count": null,
   "id": "07d56d60-1fb6-4ba7-8596-ac31c0e4b1d9",
   "metadata": {},
   "outputs": [],
   "source": []
  }
 ],
 "metadata": {
  "kernelspec": {
   "display_name": "Python 3 (ipykernel)",
   "language": "python",
   "name": "python3"
  },
  "language_info": {
   "codemirror_mode": {
    "name": "ipython",
    "version": 3
   },
   "file_extension": ".py",
   "mimetype": "text/x-python",
   "name": "python",
   "nbconvert_exporter": "python",
   "pygments_lexer": "ipython3",
   "version": "3.12.3"
  },
  "toc": {
   "base_numbering": 1,
   "nav_menu": {},
   "number_sections": true,
   "sideBar": true,
   "skip_h1_title": false,
   "title_cell": "Table of Contents",
   "title_sidebar": "Contents",
   "toc_cell": false,
   "toc_position": {},
   "toc_section_display": true,
   "toc_window_display": false
  }
 },
 "nbformat": 4,
 "nbformat_minor": 5
}
