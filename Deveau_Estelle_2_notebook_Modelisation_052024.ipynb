{
 "cells": [
  {
   "cell_type": "markdown",
   "id": "aa01c55d-21f2-48a5-a2c1-bf0fd402c191",
   "metadata": {},
   "source": [
    "<b><font color=\"SteelBlue\" size=\"+3\">Implémentez un modèle de scoring</font></b>"
   ]
  },
  {
   "cell_type": "markdown",
   "id": "8a4ac084-8062-4d7a-a5c5-adc368e767a6",
   "metadata": {},
   "source": [
    "# Introduction"
   ]
  },
  {
   "cell_type": "markdown",
   "id": "ac7258d0-59a3-4263-a49e-dca4206dfcb2",
   "metadata": {},
   "source": [
    "Ce note book est la suite de l'EDA, il va permettre de présenter le prétraitement des données, le feature engineering et la modélisation."
   ]
  },
  {
   "cell_type": "code",
   "execution_count": 1,
   "id": "786a8563-5f1e-4e13-b28f-b1806e6de372",
   "metadata": {},
   "outputs": [],
   "source": [
    "# Chargement des librairies\n",
    "\n",
    "# Built-in\n",
    "import os\n",
    "\n",
    "# Data Manipulation and Analysis\n",
    "import numpy as np\n",
    "import pandas as pd\n",
    "import seaborn as sns\n",
    "import matplotlib.pyplot as plt\n",
    "\n",
    "# Machine Learning\n",
    "from imblearn.over_sampling import SMOTE\n",
    "from sklearn.model_selection import train_test_split\n",
    "from sklearn.metrics import make_scorer\n",
    "import lightgbm as lgb\n",
    "from catboost import CatBoostClassifier\n",
    "\n",
    "# Custom Feature Engineering Pipeline\n",
    "from feature_pipeline import FeatureEngineeringPipeline"
   ]
  },
  {
   "cell_type": "markdown",
   "id": "9ff1e3f7-1f86-4f53-a771-7ed8c87f080b",
   "metadata": {},
   "source": [
    "# Data préparation"
   ]
  },
  {
   "cell_type": "markdown",
   "id": "a70daaf5-d4cf-4661-9bdf-fb2eb9ac5aa8",
   "metadata": {},
   "source": [
    "## Chargement des données"
   ]
  },
  {
   "cell_type": "code",
   "execution_count": 2,
   "id": "cfff27f4-b9b8-4adf-b237-8b2a282ad2a3",
   "metadata": {},
   "outputs": [
    {
     "data": {
      "text/plain": [
       "['application_test.csv',\n",
       " 'application_train.csv',\n",
       " 'bureau.csv',\n",
       " 'bureau_balance.csv',\n",
       " 'credit_card_balance.csv',\n",
       " 'HomeCredit_columns_description.csv',\n",
       " 'installments_payments.csv',\n",
       " 'POS_CASH_balance.csv',\n",
       " 'previous_application.csv',\n",
       " 'Projet+Mise+en+prod+-+home-credit-default-risk.zip',\n",
       " 'sample_submission.csv']"
      ]
     },
     "execution_count": 2,
     "metadata": {},
     "output_type": "execute_result"
    }
   ],
   "source": [
    "os.listdir(\"data/sources/\")"
   ]
  },
  {
   "cell_type": "code",
   "execution_count": 3,
   "id": "1f96549a-d5bf-4ddc-ad7e-d2c0934de3f4",
   "metadata": {},
   "outputs": [],
   "source": [
    "PATH = \"./data/sources/\""
   ]
  },
  {
   "cell_type": "code",
   "execution_count": 4,
   "id": "7b5a8bd9-a476-4343-8105-4a611db9e1ad",
   "metadata": {},
   "outputs": [],
   "source": [
    "application_train = pd.read_csv(PATH+\"/application_train.csv\")\n",
    "application_test = pd.read_csv(PATH+\"/application_test.csv\")\n",
    "bureau = pd.read_csv(PATH+\"/bureau.csv\")\n",
    "bureau_balance = pd.read_csv(PATH+\"/bureau_balance.csv\")\n",
    "credit_card_balance = pd.read_csv(PATH+\"/credit_card_balance.csv\")\n",
    "installments_payments = pd.read_csv(PATH+\"/installments_payments.csv\")\n",
    "previous_application = pd.read_csv(PATH+\"/previous_application.csv\")\n",
    "POS_CASH_balance = pd.read_csv(PATH+\"/POS_CASH_balance.csv\")"
   ]
  },
  {
   "cell_type": "markdown",
   "id": "1bdcba79-4b09-4c55-96ca-909d5adac558",
   "metadata": {},
   "source": [
    "## Split du jeu de données"
   ]
  },
  {
   "cell_type": "code",
   "execution_count": 5,
   "id": "ac8bcf74-f9f0-40d5-ae20-7273db1517a5",
   "metadata": {},
   "outputs": [],
   "source": [
    "# Division des données en ensembles d'entraînement et de test\n",
    "train, test = train_test_split(application_train, test_size=0.2, random_state=42, stratify=application_train['TARGET'])"
   ]
  },
  {
   "cell_type": "markdown",
   "id": "3e888fb1-106c-46fe-89fd-62464d392c58",
   "metadata": {},
   "source": [
    "## Gestion des valeurs manquantes et abérrantes"
   ]
  },
  {
   "cell_type": "code",
   "execution_count": 6,
   "id": "d4a3c190-cff8-4141-935c-3e8faa098685",
   "metadata": {},
   "outputs": [],
   "source": [
    "# Supprimer les lignes où TARGET est manquant dans application_train\n",
    "train.dropna(subset=['TARGET'], inplace=True)\n",
    "test.dropna(subset=['TARGET'], inplace=True)"
   ]
  },
  {
   "cell_type": "code",
   "execution_count": 7,
   "id": "14874a5e-3ad9-4490-9732-6e88861d0a6e",
   "metadata": {},
   "outputs": [],
   "source": [
    "# Suppression des lignes où les clés sont absentes\n",
    "def drop_missing_keys(df, key, reference_df, reference_key):\n",
    "    valid_keys = reference_df[reference_key].unique()\n",
    "    return df[df[key].isin(valid_keys)]\n",
    "\n",
    "# Supprimer les lignes où les clés sont absentes\n",
    "bureau = drop_missing_keys(bureau, 'SK_ID_CURR', application_train, 'SK_ID_CURR')\n",
    "bureau_balance = drop_missing_keys(bureau_balance, 'SK_ID_BUREAU', bureau, 'SK_ID_BUREAU')\n",
    "previous_application = drop_missing_keys(previous_application, 'SK_ID_CURR', application_train, 'SK_ID_CURR')\n",
    "POS_CASH_balance = drop_missing_keys(POS_CASH_balance, 'SK_ID_PREV', previous_application, 'SK_ID_PREV')\n",
    "installments_payments = drop_missing_keys(installments_payments, 'SK_ID_PREV', previous_application, 'SK_ID_PREV')\n",
    "credit_card_balance = drop_missing_keys(credit_card_balance, 'SK_ID_PREV', previous_application, 'SK_ID_PREV')"
   ]
  },
  {
   "cell_type": "code",
   "execution_count": 8,
   "id": "36160507-f187-4e4e-a014-6d3df5d4ae7b",
   "metadata": {},
   "outputs": [],
   "source": [
    "# Fonction pour supprimer les colonnes avec plus de 80% de valeurs manquantes\n",
    "def drop_missing_columns(df, threshold=0.8):\n",
    "    initial_columns = df.shape[1]\n",
    "    missing_percentage = df.isnull().mean()\n",
    "    columns_to_drop = missing_percentage[missing_percentage > threshold].index\n",
    "    df = df.drop(columns=columns_to_drop)\n",
    "    final_columns = df.shape[1]\n",
    "    print(f\"Colonnes supprimées: {initial_columns - final_columns}\")\n",
    "    print(f\"Colonnes restantes: {final_columns}\")\n",
    "    return df"
   ]
  },
  {
   "cell_type": "code",
   "execution_count": 9,
   "id": "fb90e0a8-596e-4380-bf53-d2be719d0a80",
   "metadata": {},
   "outputs": [],
   "source": [
    "# Fonction pour gérer les valeurs aberrantes\n",
    "def cap_values(series, target, threshold=0.05):\n",
    "    lower_percentile = np.percentile(series, 1)\n",
    "    upper_percentile = np.percentile(series, 99)\n",
    "    outliers = (series < lower_percentile) | (series > upper_percentile)\n",
    "\n",
    "    if target is not None:\n",
    "        outlier_pct_target1 = (outliers & (target == 1)).sum() / (target == 1).sum()\n",
    "        outlier_pct_target0 = (outliers & (target == 0)).sum() / (target == 0).sum()\n",
    "\n",
    "        if outlier_pct_target1 > threshold or outlier_pct_target0 > threshold:\n",
    "            print(\"Significant outliers detected, not capping values.\")\n",
    "            return series  # Ne pas appliquer le cap si les valeurs aberrantes sont significatives\n",
    "        else:\n",
    "            return np.clip(series, lower_percentile, upper_percentile)\n",
    "    else:\n",
    "        return np.clip(series, lower_percentile, upper_percentile)"
   ]
  },
  {
   "cell_type": "code",
   "execution_count": 10,
   "id": "ef6566b3-8b6e-4f43-b1d8-2773c34cc3cc",
   "metadata": {},
   "outputs": [],
   "source": [
    "def cap_outliers(df, target=None):\n",
    "    numeric_cols = df.select_dtypes(include=[np.number]).columns\n",
    "    for col in numeric_cols:\n",
    "        df[col] = cap_values(df[col], target)\n",
    "    return df"
   ]
  },
  {
   "cell_type": "code",
   "execution_count": 11,
   "id": "b4629362-bab2-448a-9955-9cd0e8fa2644",
   "metadata": {},
   "outputs": [],
   "source": [
    "# Fonction pour imputer les valeurs manquantes\n",
    "def impute_missing_values(df, target=None):\n",
    "    # Imputation pour les colonnes numériques\n",
    "    numeric_cols = df.select_dtypes(include=[np.number]).columns\n",
    "    for col in numeric_cols:\n",
    "        if target is not None:\n",
    "            missing_pct_target1 = df[col][target == 1].isnull().mean()\n",
    "            missing_pct_target0 = df[col][target == 0].isnull().mean()\n",
    "            if abs(missing_pct_target1 - missing_pct_target0) < 0.05:  # Seuil de 5% de différence\n",
    "                df[col].fillna(df[col].median(), inplace=True)\n",
    "            else:\n",
    "                df.loc[target == 1, col] = df[col][target == 1].fillna(df[col][target == 1].median())\n",
    "                df.loc[target == 0, col] = df[col][target == 0].fillna(df[col][target == 0].median())\n",
    "        else:\n",
    "            df[col].fillna(df[col].median(), inplace=True)\n",
    "    \n",
    "    # Imputation pour les colonnes catégorielles\n",
    "    categorical_cols = df.select_dtypes(include=[object]).columns\n",
    "    for col in categorical_cols:\n",
    "        if target is not None:\n",
    "            mode_target1 = df[col][target == 1].mode()[0]\n",
    "            mode_target0 = df[col][target == 0].mode()[0]\n",
    "            df.loc[target == 1, col] = df[col][target == 1].fillna(mode_target1)\n",
    "            df.loc[target == 0, col] = df[col][target == 0].fillna(mode_target0)\n",
    "        else:\n",
    "            df[col].fillna(df[col].mode()[0], inplace=True)\n",
    "    \n",
    "    return df"
   ]
  },
  {
   "cell_type": "code",
   "execution_count": 12,
   "id": "1ceb9bd5-8890-4185-80a2-9f4068ee364a",
   "metadata": {},
   "outputs": [],
   "source": [
    "# Appliquer le filtre des colonnes manquantes et la gestion des valeurs aberrantes à chaque DataFrame\n",
    "dfs = {\n",
    "    \"Train\": train,\n",
    "    \"Test\": test,\n",
    "    \"Application Test\": application_test,\n",
    "    \"Bureau\": bureau,\n",
    "    \"Bureau Balance\": bureau_balance,\n",
    "    \"Credit Card Balance\": credit_card_balance,\n",
    "    \"Installments Payments\": installments_payments,\n",
    "    \"Previous Application\": previous_application,\n",
    "    \"POS CASH Balance\": POS_CASH_balance\n",
    "}"
   ]
  },
  {
   "cell_type": "code",
   "execution_count": 13,
   "id": "53e64267-8fb8-457c-b7bd-350efd8c50c4",
   "metadata": {},
   "outputs": [
    {
     "name": "stdout",
     "output_type": "stream",
     "text": [
      "\n",
      "Train:\n",
      "Colonnes supprimées: 0\n",
      "Colonnes restantes: 122\n",
      "\n",
      "Test:\n",
      "Colonnes supprimées: 0\n",
      "Colonnes restantes: 122\n",
      "\n",
      "Application Test:\n",
      "Colonnes supprimées: 0\n",
      "Colonnes restantes: 121\n",
      "\n",
      "Bureau:\n",
      "Colonnes supprimées: 0\n",
      "Colonnes restantes: 17\n",
      "\n",
      "Bureau Balance:\n",
      "Colonnes supprimées: 0\n",
      "Colonnes restantes: 3\n",
      "\n",
      "Credit Card Balance:\n",
      "Colonnes supprimées: 0\n",
      "Colonnes restantes: 23\n",
      "\n",
      "Installments Payments:\n",
      "Colonnes supprimées: 0\n",
      "Colonnes restantes: 8\n",
      "\n",
      "Previous Application:\n",
      "Colonnes supprimées: 2\n",
      "Colonnes restantes: 35\n",
      "\n",
      "POS CASH Balance:\n",
      "Colonnes supprimées: 0\n",
      "Colonnes restantes: 8\n"
     ]
    }
   ],
   "source": [
    "for name, df in dfs.items():\n",
    "    print(f\"\\n{name}:\")\n",
    "    df = drop_missing_columns(df)\n",
    "    if name in [\"Train\", \"Test\"]:\n",
    "        df = cap_outliers(df, df['TARGET'])\n",
    "        df = impute_missing_values(df, df['TARGET'])\n",
    "    else:\n",
    "        df = cap_outliers(df)\n",
    "        df = impute_missing_values(df)\n",
    "    dfs[name] = df"
   ]
  },
  {
   "cell_type": "code",
   "execution_count": 14,
   "id": "952aded6-025b-4e08-84a5-d86211484229",
   "metadata": {},
   "outputs": [
    {
     "name": "stdout",
     "output_type": "stream",
     "text": [
      "\n",
      "Train:\n",
      "Aucune valeur manquante détectée.\n",
      "\n",
      "Test:\n",
      "Aucune valeur manquante détectée.\n",
      "\n",
      "Application Test:\n",
      "Aucune valeur manquante détectée.\n",
      "\n",
      "Bureau:\n",
      "Aucune valeur manquante détectée.\n",
      "\n",
      "Bureau Balance:\n",
      "Aucune valeur manquante détectée.\n",
      "\n",
      "Credit Card Balance:\n",
      "Aucune valeur manquante détectée.\n",
      "\n",
      "Installments Payments:\n",
      "Aucune valeur manquante détectée.\n",
      "\n",
      "Previous Application:\n",
      "Aucune valeur manquante détectée.\n",
      "\n",
      "POS CASH Balance:\n",
      "Aucune valeur manquante détectée.\n"
     ]
    }
   ],
   "source": [
    "# Fonction pour vérifier les valeurs manquantes dans un DataFrame\n",
    "def check_missing_values(df):\n",
    "    missing_values = df.isnull().sum()\n",
    "    missing_values = missing_values[missing_values > 0]\n",
    "    if not missing_values.empty:\n",
    "        print(\"Colonnes avec des valeurs manquantes :\")\n",
    "        print(missing_values)\n",
    "    else:\n",
    "        print(\"Aucune valeur manquante détectée.\")\n",
    "\n",
    "# Vérification des valeurs manquantes dans chaque DataFrame\n",
    "for name, df in dfs.items():\n",
    "    print(f\"\\n{name}:\")\n",
    "    check_missing_values(df)\n"
   ]
  },
  {
   "cell_type": "markdown",
   "id": "3a9c253f-4378-465b-8fdd-d073453a807a",
   "metadata": {},
   "source": [
    "## Sauvegarde des données nettoyées"
   ]
  },
  {
   "cell_type": "code",
   "execution_count": 15,
   "id": "b3e31d74-8a7f-4cbe-96c6-3f0ea367f238",
   "metadata": {},
   "outputs": [],
   "source": [
    "# Chemin du dossier où sauvegarder les DataFrames nettoyés\n",
    "output_dir = \"data/Cleaned\""
   ]
  },
  {
   "cell_type": "code",
   "execution_count": 16,
   "id": "c430a269-a783-4654-87f5-4b971f807e65",
   "metadata": {},
   "outputs": [],
   "source": [
    "# Fonction pour sauvegarder un DataFrame\n",
    "def save_dataframe(df, filename, output_dir):\n",
    "    output_path = os.path.join(output_dir, filename)\n",
    "    df.to_csv(output_path, index=False)\n",
    "    print(f\"DataFrame sauvegardé sous : {output_path}\")"
   ]
  },
  {
   "cell_type": "code",
   "execution_count": 17,
   "id": "3425a43c-1539-40c3-9ae0-48650f3d0740",
   "metadata": {},
   "outputs": [],
   "source": [
    "# Dictionnaire contenant les noms des fichiers\n",
    "original_names = {\n",
    "    \"Train\": \"train.csv\",\n",
    "    \"Test\": \"test.csv\",\n",
    "    \"Application Test\": \"application_test.csv\",\n",
    "    \"Bureau\": \"bureau.csv\",\n",
    "    \"Bureau Balance\": \"bureau_balance.csv\",\n",
    "    \"Credit Card Balance\": \"credit_card_balance.csv\",\n",
    "    \"Installments Payments\": \"installments_payments.csv\",\n",
    "    \"Previous Application\": \"previous_application.csv\",\n",
    "    \"POS CASH Balance\": \"POS_CASH_balance.csv\"\n",
    "}"
   ]
  },
  {
   "cell_type": "code",
   "execution_count": 18,
   "id": "0f60c4e4-3bda-430e-bbd5-aa35edb5cc87",
   "metadata": {},
   "outputs": [
    {
     "name": "stdout",
     "output_type": "stream",
     "text": [
      "DataFrame sauvegardé sous : data/Cleaned\\train.csv\n",
      "DataFrame sauvegardé sous : data/Cleaned\\test.csv\n",
      "DataFrame sauvegardé sous : data/Cleaned\\application_test.csv\n",
      "DataFrame sauvegardé sous : data/Cleaned\\bureau.csv\n",
      "DataFrame sauvegardé sous : data/Cleaned\\bureau_balance.csv\n",
      "DataFrame sauvegardé sous : data/Cleaned\\credit_card_balance.csv\n",
      "DataFrame sauvegardé sous : data/Cleaned\\installments_payments.csv\n",
      "DataFrame sauvegardé sous : data/Cleaned\\previous_application.csv\n",
      "DataFrame sauvegardé sous : data/Cleaned\\POS_CASH_balance.csv\n"
     ]
    }
   ],
   "source": [
    "# Sauvegarder chaque DataFrame dans le dossier output_dir avec le nom d'origine\n",
    "for name, df in dfs.items():\n",
    "    save_dataframe(df, original_names[name], output_dir)"
   ]
  },
  {
   "cell_type": "markdown",
   "id": "9114cdc0-cd29-4a9b-b01a-7e47a6345d83",
   "metadata": {},
   "source": [
    "# Feature engineering"
   ]
  },
  {
   "cell_type": "markdown",
   "id": "2efdb655-64c4-430c-a251-91cdeb245ec6",
   "metadata": {},
   "source": [
    "## Sur le df train"
   ]
  },
  {
   "cell_type": "code",
   "execution_count": 19,
   "id": "7c394711-08d1-4b5c-8332-07a98493830e",
   "metadata": {},
   "outputs": [],
   "source": [
    "# Initialiser le pipeline\n",
    "pipeline = FeatureEngineeringPipeline()"
   ]
  },
  {
   "cell_type": "code",
   "execution_count": 20,
   "id": "5c328491-a060-4a04-998e-e1b6a130989c",
   "metadata": {},
   "outputs": [
    {
     "data": {
      "text/plain": [
       "(246008, 122)"
      ]
     },
     "execution_count": 20,
     "metadata": {},
     "output_type": "execute_result"
    }
   ],
   "source": [
    "train.shape"
   ]
  },
  {
   "cell_type": "code",
   "execution_count": 21,
   "id": "ffc1b03a-a608-4b97-8b2d-6c1af8f9c774",
   "metadata": {},
   "outputs": [
    {
     "name": "stdout",
     "output_type": "stream",
     "text": [
      "Bureau and bureau_balance data - done in 13s\n",
      "previous_application - done in 20s\n",
      "previous applications balances - done in 558s\n",
      "Colonnes supprimées: 40, Colonnes restantes: 734\n"
     ]
    },
    {
     "name": "stderr",
     "output_type": "stream",
     "text": [
      "C:\\Users\\estel\\anaconda3\\envs\\Projet7\\Lib\\site-packages\\numpy\\lib\\function_base.py:4655: RuntimeWarning: invalid value encountered in subtract\n",
      "  diff_b_a = subtract(b, a)\n"
     ]
    }
   ],
   "source": [
    "# Entraîner le pipeline\n",
    "train_transformed = pipeline.fit(train)"
   ]
  },
  {
   "cell_type": "code",
   "execution_count": 22,
   "id": "7b467426-e13b-4191-932d-33fe0edd6905",
   "metadata": {},
   "outputs": [],
   "source": [
    "# Sauvegarder les paramètres de transformation\n",
    "pipeline.save('param')"
   ]
  },
  {
   "cell_type": "code",
   "execution_count": 23,
   "id": "2c98ca2c-c248-4629-8633-9972c705a633",
   "metadata": {},
   "outputs": [
    {
     "data": {
      "text/plain": [
       "(246005, 694)"
      ]
     },
     "execution_count": 23,
     "metadata": {},
     "output_type": "execute_result"
    }
   ],
   "source": [
    "train_transformed.shape"
   ]
  },
  {
   "cell_type": "code",
   "execution_count": 24,
   "id": "7fa2b1b0-8b57-4713-9b9b-5057fad67db1",
   "metadata": {},
   "outputs": [
    {
     "data": {
      "text/html": [
       "<div>\n",
       "<style scoped>\n",
       "    .dataframe tbody tr th:only-of-type {\n",
       "        vertical-align: middle;\n",
       "    }\n",
       "\n",
       "    .dataframe tbody tr th {\n",
       "        vertical-align: top;\n",
       "    }\n",
       "\n",
       "    .dataframe thead th {\n",
       "        text-align: right;\n",
       "    }\n",
       "</style>\n",
       "<table border=\"1\" class=\"dataframe\">\n",
       "  <thead>\n",
       "    <tr style=\"text-align: right;\">\n",
       "      <th></th>\n",
       "      <th>SK_ID_CURR</th>\n",
       "      <th>TARGET</th>\n",
       "      <th>NAME_CONTRACT_TYPE</th>\n",
       "      <th>CODE_GENDER</th>\n",
       "      <th>FLAG_OWN_CAR</th>\n",
       "      <th>FLAG_OWN_REALTY</th>\n",
       "      <th>CNT_CHILDREN</th>\n",
       "      <th>AMT_INCOME_TOTAL</th>\n",
       "      <th>AMT_CREDIT</th>\n",
       "      <th>AMT_ANNUITY</th>\n",
       "      <th>...</th>\n",
       "      <th>CURRENT_TO_APPROVED_ANNUITY_MEAN_RATIO</th>\n",
       "      <th>PAYMENT_MIN_TO_ANNUITY_RATIO</th>\n",
       "      <th>PAYMENT_MAX_TO_ANNUITY_RATIO</th>\n",
       "      <th>PAYMENT_MEAN_TO_ANNUITY_RATIO</th>\n",
       "      <th>CTA_CREDIT_TO_ANNUITY_MAX_RATIO</th>\n",
       "      <th>CTA_CREDIT_TO_ANNUITY_MEAN_RATIO</th>\n",
       "      <th>DAYS_DECISION_MEAN_TO_BIRTH</th>\n",
       "      <th>DAYS_CREDIT_MEAN_TO_BIRTH</th>\n",
       "      <th>DAYS_DECISION_MEAN_TO_EMPLOYED</th>\n",
       "      <th>DAYS_CREDIT_MEAN_TO_EMPLOYED</th>\n",
       "    </tr>\n",
       "  </thead>\n",
       "  <tbody>\n",
       "    <tr>\n",
       "      <th>0</th>\n",
       "      <td>310536.00</td>\n",
       "      <td>0</td>\n",
       "      <td>Cash loans</td>\n",
       "      <td>F</td>\n",
       "      <td>N</td>\n",
       "      <td>N</td>\n",
       "      <td>2</td>\n",
       "      <td>90000.0</td>\n",
       "      <td>227520.0</td>\n",
       "      <td>13189.5</td>\n",
       "      <td>...</td>\n",
       "      <td>0.851831</td>\n",
       "      <td>0.005728</td>\n",
       "      <td>2.388263</td>\n",
       "      <td>0.732455</td>\n",
       "      <td>1.159415</td>\n",
       "      <td>0.546073</td>\n",
       "      <td>0.095804</td>\n",
       "      <td>0.095609</td>\n",
       "      <td>1.245455</td>\n",
       "      <td>1.242918</td>\n",
       "    </tr>\n",
       "    <tr>\n",
       "      <th>1</th>\n",
       "      <td>365516.00</td>\n",
       "      <td>0</td>\n",
       "      <td>Cash loans</td>\n",
       "      <td>M</td>\n",
       "      <td>Y</td>\n",
       "      <td>Y</td>\n",
       "      <td>0</td>\n",
       "      <td>90000.0</td>\n",
       "      <td>161730.0</td>\n",
       "      <td>13095.0</td>\n",
       "      <td>...</td>\n",
       "      <td>0.649658</td>\n",
       "      <td>0.292223</td>\n",
       "      <td>1.068567</td>\n",
       "      <td>0.744035</td>\n",
       "      <td>0.789781</td>\n",
       "      <td>0.608937</td>\n",
       "      <td>0.021545</td>\n",
       "      <td>0.065316</td>\n",
       "      <td>3.600543</td>\n",
       "      <td>0.514865</td>\n",
       "    </tr>\n",
       "    <tr>\n",
       "      <th>2</th>\n",
       "      <td>242055.00</td>\n",
       "      <td>1</td>\n",
       "      <td>Cash loans</td>\n",
       "      <td>M</td>\n",
       "      <td>N</td>\n",
       "      <td>Y</td>\n",
       "      <td>0</td>\n",
       "      <td>135000.0</td>\n",
       "      <td>728847.0</td>\n",
       "      <td>26307.0</td>\n",
       "      <td>...</td>\n",
       "      <td>0.493823</td>\n",
       "      <td>0.493613</td>\n",
       "      <td>0.493823</td>\n",
       "      <td>0.493771</td>\n",
       "      <td>0.126690</td>\n",
       "      <td>0.126690</td>\n",
       "      <td>0.130056</td>\n",
       "      <td>0.070700</td>\n",
       "      <td>1.525516</td>\n",
       "      <td>0.829283</td>\n",
       "    </tr>\n",
       "    <tr>\n",
       "      <th>3</th>\n",
       "      <td>452674.96</td>\n",
       "      <td>1</td>\n",
       "      <td>Cash loans</td>\n",
       "      <td>M</td>\n",
       "      <td>N</td>\n",
       "      <td>N</td>\n",
       "      <td>0</td>\n",
       "      <td>135000.0</td>\n",
       "      <td>474183.0</td>\n",
       "      <td>34636.5</td>\n",
       "      <td>...</td>\n",
       "      <td>0.490376</td>\n",
       "      <td>0.102360</td>\n",
       "      <td>1.550433</td>\n",
       "      <td>0.555726</td>\n",
       "      <td>0.745151</td>\n",
       "      <td>0.543613</td>\n",
       "      <td>0.060188</td>\n",
       "      <td>0.065316</td>\n",
       "      <td>0.601681</td>\n",
       "      <td>0.514865</td>\n",
       "    </tr>\n",
       "    <tr>\n",
       "      <th>4</th>\n",
       "      <td>448321.00</td>\n",
       "      <td>0</td>\n",
       "      <td>Cash loans</td>\n",
       "      <td>F</td>\n",
       "      <td>N</td>\n",
       "      <td>Y</td>\n",
       "      <td>0</td>\n",
       "      <td>180000.0</td>\n",
       "      <td>254700.0</td>\n",
       "      <td>27558.0</td>\n",
       "      <td>...</td>\n",
       "      <td>0.112585</td>\n",
       "      <td>0.112585</td>\n",
       "      <td>0.219177</td>\n",
       "      <td>0.122275</td>\n",
       "      <td>0.974059</td>\n",
       "      <td>0.974059</td>\n",
       "      <td>0.081900</td>\n",
       "      <td>0.065316</td>\n",
       "      <td>0.711361</td>\n",
       "      <td>0.514865</td>\n",
       "    </tr>\n",
       "  </tbody>\n",
       "</table>\n",
       "<p>5 rows × 694 columns</p>\n",
       "</div>"
      ],
      "text/plain": [
       "   SK_ID_CURR  TARGET NAME_CONTRACT_TYPE CODE_GENDER FLAG_OWN_CAR  \\\n",
       "0   310536.00       0         Cash loans           F            N   \n",
       "1   365516.00       0         Cash loans           M            Y   \n",
       "2   242055.00       1         Cash loans           M            N   \n",
       "3   452674.96       1         Cash loans           M            N   \n",
       "4   448321.00       0         Cash loans           F            N   \n",
       "\n",
       "  FLAG_OWN_REALTY  CNT_CHILDREN  AMT_INCOME_TOTAL  AMT_CREDIT  AMT_ANNUITY  \\\n",
       "0               N             2           90000.0    227520.0      13189.5   \n",
       "1               Y             0           90000.0    161730.0      13095.0   \n",
       "2               Y             0          135000.0    728847.0      26307.0   \n",
       "3               N             0          135000.0    474183.0      34636.5   \n",
       "4               Y             0          180000.0    254700.0      27558.0   \n",
       "\n",
       "   ...  CURRENT_TO_APPROVED_ANNUITY_MEAN_RATIO PAYMENT_MIN_TO_ANNUITY_RATIO  \\\n",
       "0  ...                                0.851831                     0.005728   \n",
       "1  ...                                0.649658                     0.292223   \n",
       "2  ...                                0.493823                     0.493613   \n",
       "3  ...                                0.490376                     0.102360   \n",
       "4  ...                                0.112585                     0.112585   \n",
       "\n",
       "  PAYMENT_MAX_TO_ANNUITY_RATIO PAYMENT_MEAN_TO_ANNUITY_RATIO  \\\n",
       "0                     2.388263                      0.732455   \n",
       "1                     1.068567                      0.744035   \n",
       "2                     0.493823                      0.493771   \n",
       "3                     1.550433                      0.555726   \n",
       "4                     0.219177                      0.122275   \n",
       "\n",
       "  CTA_CREDIT_TO_ANNUITY_MAX_RATIO CTA_CREDIT_TO_ANNUITY_MEAN_RATIO  \\\n",
       "0                        1.159415                         0.546073   \n",
       "1                        0.789781                         0.608937   \n",
       "2                        0.126690                         0.126690   \n",
       "3                        0.745151                         0.543613   \n",
       "4                        0.974059                         0.974059   \n",
       "\n",
       "   DAYS_DECISION_MEAN_TO_BIRTH  DAYS_CREDIT_MEAN_TO_BIRTH  \\\n",
       "0                     0.095804                   0.095609   \n",
       "1                     0.021545                   0.065316   \n",
       "2                     0.130056                   0.070700   \n",
       "3                     0.060188                   0.065316   \n",
       "4                     0.081900                   0.065316   \n",
       "\n",
       "   DAYS_DECISION_MEAN_TO_EMPLOYED  DAYS_CREDIT_MEAN_TO_EMPLOYED  \n",
       "0                        1.245455                      1.242918  \n",
       "1                        3.600543                      0.514865  \n",
       "2                        1.525516                      0.829283  \n",
       "3                        0.601681                      0.514865  \n",
       "4                        0.711361                      0.514865  \n",
       "\n",
       "[5 rows x 694 columns]"
      ]
     },
     "execution_count": 24,
     "metadata": {},
     "output_type": "execute_result"
    }
   ],
   "source": [
    "train_transformed.head(5)"
   ]
  },
  {
   "cell_type": "code",
   "execution_count": 25,
   "id": "e8513ae9-1be9-431a-bf18-9ce46cb744a5",
   "metadata": {},
   "outputs": [
    {
     "data": {
      "text/plain": [
       "float64    637\n",
       "int64       41\n",
       "object      16\n",
       "Name: count, dtype: int64"
      ]
     },
     "execution_count": 25,
     "metadata": {},
     "output_type": "execute_result"
    }
   ],
   "source": [
    "train_transformed.dtypes.value_counts()"
   ]
  },
  {
   "cell_type": "code",
   "execution_count": 26,
   "id": "9b254e77-892c-46fa-939d-311a00f9eb1f",
   "metadata": {},
   "outputs": [
    {
     "name": "stdout",
     "output_type": "stream",
     "text": [
      "NAME_CONTRACT_TYPE: 2 valeurs uniques\n",
      "CODE_GENDER: 2 valeurs uniques\n",
      "FLAG_OWN_CAR: 2 valeurs uniques\n",
      "FLAG_OWN_REALTY: 2 valeurs uniques\n",
      "NAME_TYPE_SUITE: 7 valeurs uniques\n",
      "NAME_INCOME_TYPE: 8 valeurs uniques\n",
      "NAME_EDUCATION_TYPE: 5 valeurs uniques\n",
      "NAME_FAMILY_STATUS: 6 valeurs uniques\n",
      "NAME_HOUSING_TYPE: 6 valeurs uniques\n",
      "OCCUPATION_TYPE: 18 valeurs uniques\n",
      "WEEKDAY_APPR_PROCESS_START: 7 valeurs uniques\n",
      "ORGANIZATION_TYPE: 58 valeurs uniques\n",
      "FONDKAPREMONT_MODE: 4 valeurs uniques\n",
      "HOUSETYPE_MODE: 3 valeurs uniques\n",
      "WALLSMATERIAL_MODE: 7 valeurs uniques\n",
      "EMERGENCYSTATE_MODE: 2 valeurs uniques\n"
     ]
    }
   ],
   "source": [
    "def unique_values_per_object_column(df):    # Sélectionner les colonnes de type object\n",
    "    object_columns = df.select_dtypes(include=['object']).columns\n",
    "    \n",
    "    # Créer un dictionnaire pour stocker le nombre de valeurs uniques par colonne\n",
    "    unique_values_counts = {}\n",
    "    \n",
    "    # Boucle sur les colonnes object et compter les valeurs uniques\n",
    "    for col in object_columns:\n",
    "        unique_values_counts[col] = df[col].nunique()\n",
    "    \n",
    "    # Afficher les résultats\n",
    "    for col, count in unique_values_counts.items():\n",
    "        print(f\"{col}: {count} valeurs uniques\")\n",
    "\n",
    "unique_values_per_object_column(train_transformed)"
   ]
  },
  {
   "cell_type": "code",
   "execution_count": 27,
   "id": "d70ab802-2279-4be8-a62e-67d5bc10264d",
   "metadata": {},
   "outputs": [],
   "source": [
    "def missing_data(data):\n",
    "    total = data.isnull().sum().sort_values(ascending = False)\n",
    "    percent = (data.isnull().sum()/data.isnull().count()*100).sort_values(ascending = False)\n",
    "    return pd.concat([total, percent], axis=1, keys=['Total', 'Percent'])"
   ]
  },
  {
   "cell_type": "code",
   "execution_count": 28,
   "id": "b1255cb1-5f1e-4cad-a7ee-d049f8c91acd",
   "metadata": {
    "scrolled": true
   },
   "outputs": [
    {
     "data": {
      "text/html": [
       "<div>\n",
       "<style scoped>\n",
       "    .dataframe tbody tr th:only-of-type {\n",
       "        vertical-align: middle;\n",
       "    }\n",
       "\n",
       "    .dataframe tbody tr th {\n",
       "        vertical-align: top;\n",
       "    }\n",
       "\n",
       "    .dataframe thead th {\n",
       "        text-align: right;\n",
       "    }\n",
       "</style>\n",
       "<table border=\"1\" class=\"dataframe\">\n",
       "  <thead>\n",
       "    <tr style=\"text-align: right;\">\n",
       "      <th></th>\n",
       "      <th>Total</th>\n",
       "      <th>Percent</th>\n",
       "    </tr>\n",
       "  </thead>\n",
       "  <tbody>\n",
       "    <tr>\n",
       "      <th>SK_ID_CURR</th>\n",
       "      <td>0</td>\n",
       "      <td>0.0</td>\n",
       "    </tr>\n",
       "    <tr>\n",
       "      <th>PREV_LAST12M_SIMPLE_INTERESTS_MEAN</th>\n",
       "      <td>0</td>\n",
       "      <td>0.0</td>\n",
       "    </tr>\n",
       "    <tr>\n",
       "      <th>PREV_Cash_APPLICATION_CREDIT_RATIO_MEAN</th>\n",
       "      <td>0</td>\n",
       "      <td>0.0</td>\n",
       "    </tr>\n",
       "    <tr>\n",
       "      <th>PREV_Cash_DAYS_DECISION_MAX</th>\n",
       "      <td>0</td>\n",
       "      <td>0.0</td>\n",
       "    </tr>\n",
       "    <tr>\n",
       "      <th>PREV_Cash_DAYS_LAST_DUE_1ST_VERSION_MAX</th>\n",
       "      <td>0</td>\n",
       "      <td>0.0</td>\n",
       "    </tr>\n",
       "    <tr>\n",
       "      <th>PREV_Cash_DAYS_LAST_DUE_1ST_VERSION_MEAN</th>\n",
       "      <td>0</td>\n",
       "      <td>0.0</td>\n",
       "    </tr>\n",
       "    <tr>\n",
       "      <th>PREV_Cash_CNT_PAYMENT_MEAN</th>\n",
       "      <td>0</td>\n",
       "      <td>0.0</td>\n",
       "    </tr>\n",
       "    <tr>\n",
       "      <th>PREV_LAST12M_AMT_CREDIT_SUM</th>\n",
       "      <td>0</td>\n",
       "      <td>0.0</td>\n",
       "    </tr>\n",
       "    <tr>\n",
       "      <th>PREV_LAST12M_AMT_ANNUITY_MEAN</th>\n",
       "      <td>0</td>\n",
       "      <td>0.0</td>\n",
       "    </tr>\n",
       "    <tr>\n",
       "      <th>PREV_LAST12M_AMT_ANNUITY_MAX</th>\n",
       "      <td>0</td>\n",
       "      <td>0.0</td>\n",
       "    </tr>\n",
       "  </tbody>\n",
       "</table>\n",
       "</div>"
      ],
      "text/plain": [
       "                                          Total  Percent\n",
       "SK_ID_CURR                                    0      0.0\n",
       "PREV_LAST12M_SIMPLE_INTERESTS_MEAN            0      0.0\n",
       "PREV_Cash_APPLICATION_CREDIT_RATIO_MEAN       0      0.0\n",
       "PREV_Cash_DAYS_DECISION_MAX                   0      0.0\n",
       "PREV_Cash_DAYS_LAST_DUE_1ST_VERSION_MAX       0      0.0\n",
       "PREV_Cash_DAYS_LAST_DUE_1ST_VERSION_MEAN      0      0.0\n",
       "PREV_Cash_CNT_PAYMENT_MEAN                    0      0.0\n",
       "PREV_LAST12M_AMT_CREDIT_SUM                   0      0.0\n",
       "PREV_LAST12M_AMT_ANNUITY_MEAN                 0      0.0\n",
       "PREV_LAST12M_AMT_ANNUITY_MAX                  0      0.0"
      ]
     },
     "execution_count": 28,
     "metadata": {},
     "output_type": "execute_result"
    }
   ],
   "source": [
    "missing_data(train_transformed).head(10)"
   ]
  },
  {
   "cell_type": "markdown",
   "id": "25569923-1d23-4c79-9680-8eff179a3de6",
   "metadata": {},
   "source": [
    "## Sur le df test"
   ]
  },
  {
   "cell_type": "code",
   "execution_count": 29,
   "id": "8ead627a-209f-42a4-b5bc-fa68bcb6a2a0",
   "metadata": {},
   "outputs": [
    {
     "name": "stdout",
     "output_type": "stream",
     "text": [
      "Bureau and bureau_balance data - done in 12s\n",
      "previous_application - done in 20s\n",
      "Colonnes supprimées: 40, Colonnes restantes: 734\n"
     ]
    },
    {
     "name": "stderr",
     "output_type": "stream",
     "text": [
      "C:\\Users\\estel\\anaconda3\\envs\\Projet7\\Lib\\site-packages\\numpy\\lib\\function_base.py:4655: RuntimeWarning: invalid value encountered in subtract\n",
      "  diff_b_a = subtract(b, a)\n"
     ]
    },
    {
     "name": "stdout",
     "output_type": "stream",
     "text": [
      "previous applications balances - done in 576s\n"
     ]
    }
   ],
   "source": [
    "# Charger les paramètres de transformation\n",
    "pipeline.load('param')\n",
    "\n",
    "# Transformer les données de test\n",
    "test_transformed = pipeline.transform(test)"
   ]
  },
  {
   "cell_type": "code",
   "execution_count": 30,
   "id": "194f8154-393c-49b0-86b2-0fce1d2d12c4",
   "metadata": {},
   "outputs": [
    {
     "data": {
      "text/plain": [
       "(61503, 122)"
      ]
     },
     "execution_count": 30,
     "metadata": {},
     "output_type": "execute_result"
    }
   ],
   "source": [
    "test.shape"
   ]
  },
  {
   "cell_type": "code",
   "execution_count": 31,
   "id": "a50eb6e1-d574-4a80-a990-fab0306cb933",
   "metadata": {},
   "outputs": [
    {
     "data": {
      "text/plain": [
       "(61501, 694)"
      ]
     },
     "execution_count": 31,
     "metadata": {},
     "output_type": "execute_result"
    }
   ],
   "source": [
    "test_transformed.shape"
   ]
  },
  {
   "cell_type": "markdown",
   "id": "f8aaaa03-251f-44c6-8d6f-e7e479993045",
   "metadata": {},
   "source": [
    "# Stratégie d'Évaluation et d'Optimisation"
   ]
  },
  {
   "cell_type": "markdown",
   "id": "1a58d4dc-c685-47ad-874f-80c57ce33089",
   "metadata": {},
   "source": [
    "## Définition du Score Métier"
   ]
  },
  {
   "cell_type": "code",
   "execution_count": null,
   "id": "23b119b8-fb14-4734-8831-33e031002665",
   "metadata": {},
   "outputs": [],
   "source": [
    "def cost_function(y_true, y_pred):\n",
    "    fp_cost = 1\n",
    "    fn_cost = 10\n",
    "    fp = np.sum((y_true == 0) & (y_pred == 1))\n",
    "    fn = np.sum((y_true == 1) & (y_pred == 0))\n",
    "    return fp_cost * fp + fn_cost * fn"
   ]
  },
  {
   "cell_type": "code",
   "execution_count": null,
   "id": "8932cbfa-1426-4fd0-8565-0fcb22bd3e77",
   "metadata": {},
   "outputs": [],
   "source": [
    "custom_scorer = make_scorer(cost_function, greater_is_better=False)"
   ]
  },
  {
   "cell_type": "markdown",
   "id": "a85abb72-cfe4-46e3-8324-7441dfe01bbf",
   "metadata": {},
   "source": [
    "## Stratégie d'évaluation"
   ]
  },
  {
   "cell_type": "raw",
   "id": "7dbe5368-3f3c-4486-97a1-67a1fdfb7a86",
   "metadata": {},
   "source": [
    "from sklearn.model_selection import StratifiedKFold, GridSearchCV\n",
    "import lightgbm as lgb\n",
    "\n",
    "skf = StratifiedKFold(n_splits=5, shuffle=True, random_state=42)\n",
    "\n",
    "model = lgb.LGBMClassifier()\n",
    "\n",
    "param_grid = {\n",
    "    'n_estimators': [100, 200],\n",
    "    'learning_rate': [0.01, 0.1]\n",
    "}\n",
    "\n",
    "grid_search = GridSearchCV(estimator=model, param_grid=param_grid, scoring=custom_scorer, cv=skf)\n",
    "grid_search.fit(X_train, y_train)\n",
    "\n",
    "\n",
    "from sklearn.metrics import roc_curve\n",
    "\n",
    "def optimize_threshold(y_true, y_proba):\n",
    "    fpr, tpr, thresholds = roc_curve(y_true, y_proba)\n",
    "    costs = [cost_function(y_true, (y_proba >= t).astype(int)) for t in thresholds]\n",
    "    optimal_threshold = thresholds[np.argmin(costs)]\n",
    "    return optimal_threshold\n",
    "\n",
    "best_threshold = optimize_threshold(y_test, grid_search.predict_proba(X_test)[:, 1])\n"
   ]
  },
  {
   "cell_type": "markdown",
   "id": "c8c2ee42-fbe8-4dcb-9b8d-3f427bf8d584",
   "metadata": {},
   "source": [
    "# Modèles de machine learning"
   ]
  },
  {
   "cell_type": "markdown",
   "id": "026d80d8-746f-435d-af80-5d2ccb44aa74",
   "metadata": {},
   "source": [
    "## Gestion du déséquilibre des classes"
   ]
  },
  {
   "cell_type": "raw",
   "id": "b7ad6164-99f0-4cf6-bba5-6b9ccbaa8704",
   "metadata": {},
   "source": [
    "# Application de SMOTE\n",
    "X = train_transformed.drop(columns=['TARGET'])\n",
    "y = train_transformed['TARGET']"
   ]
  },
  {
   "cell_type": "raw",
   "id": "63bd9894-b6b4-455d-97f0-3143604ec438",
   "metadata": {},
   "source": [
    "smote = SMOTE(random_state=42)\n",
    "X_res, y_res = smote.fit_resample(X, y)"
   ]
  },
  {
   "cell_type": "raw",
   "id": "3fd8ad7a-d739-4587-bfcc-697907a409ff",
   "metadata": {},
   "source": [
    "# Mettre à jour le DataFrame de avec les données rééquilibrées\n",
    "train_transformed = pd.concat([X_res, y_res], axis=1)"
   ]
  },
  {
   "cell_type": "raw",
   "id": "fbcba318-596e-4a0b-ac80-7dbdccc58615",
   "metadata": {},
   "source": [
    "# Vérification de la répartition des classes après SMOTE\n",
    "print(\"Répartition des classes après SMOTE :\")\n",
    "print(y_res.value_counts())"
   ]
  },
  {
   "cell_type": "markdown",
   "id": "3b39aa60-706c-4ea3-9737-95a47bdeee0a",
   "metadata": {},
   "source": [
    "## Régression logistique"
   ]
  },
  {
   "cell_type": "code",
   "execution_count": null,
   "id": "c347e306-c050-496b-8654-b3a4deb1098c",
   "metadata": {},
   "outputs": [],
   "source": []
  },
  {
   "cell_type": "code",
   "execution_count": null,
   "id": "55d18472-7064-4a14-a05e-fe6c79a67e0a",
   "metadata": {},
   "outputs": [],
   "source": []
  },
  {
   "cell_type": "markdown",
   "id": "6a955b7b-16f3-4a17-b1e3-bf65c83f058b",
   "metadata": {},
   "source": [
    "## Random forest"
   ]
  },
  {
   "cell_type": "code",
   "execution_count": null,
   "id": "1fa7dcfe-15e2-4045-8609-a77f42e5cad1",
   "metadata": {},
   "outputs": [],
   "source": []
  },
  {
   "cell_type": "markdown",
   "id": "22adfbbf-e7fb-4477-a587-221129536a82",
   "metadata": {},
   "source": [
    "## Lightgbm"
   ]
  },
  {
   "cell_type": "code",
   "execution_count": null,
   "id": "ce538687-d6b9-40cd-8da3-7c5396682161",
   "metadata": {},
   "outputs": [],
   "source": []
  },
  {
   "cell_type": "code",
   "execution_count": null,
   "id": "740ea3a8-a8b8-4fdd-9de8-6a8822106afc",
   "metadata": {},
   "outputs": [],
   "source": []
  },
  {
   "cell_type": "code",
   "execution_count": null,
   "id": "20ff2427-04df-43f2-83a6-db472c0fa81b",
   "metadata": {},
   "outputs": [],
   "source": []
  },
  {
   "cell_type": "markdown",
   "id": "62cdc31b-dae5-49cd-a026-793e9b17caec",
   "metadata": {},
   "source": [
    "## CatBoosting"
   ]
  },
  {
   "cell_type": "code",
   "execution_count": null,
   "id": "ec884fc6-7826-415b-86f9-2e93f882a9cf",
   "metadata": {},
   "outputs": [],
   "source": []
  },
  {
   "cell_type": "code",
   "execution_count": null,
   "id": "cda513d2-2338-449e-931c-2dbd06ca495d",
   "metadata": {},
   "outputs": [],
   "source": []
  },
  {
   "cell_type": "code",
   "execution_count": null,
   "id": "816c27ca-dfaa-490a-91fd-cad933e67483",
   "metadata": {},
   "outputs": [],
   "source": []
  },
  {
   "cell_type": "code",
   "execution_count": null,
   "id": "c40124dd-3c4c-4d4f-a5ca-2c1dd97dbb45",
   "metadata": {},
   "outputs": [],
   "source": []
  },
  {
   "cell_type": "code",
   "execution_count": null,
   "id": "fb325fee-4da6-4f3b-89f8-07cecf4812f9",
   "metadata": {},
   "outputs": [],
   "source": []
  },
  {
   "cell_type": "code",
   "execution_count": null,
   "id": "afa82cc2-5710-42e5-a25c-63af1cf53f38",
   "metadata": {},
   "outputs": [],
   "source": []
  },
  {
   "cell_type": "raw",
   "id": "efca5350-1e37-4880-b301-f01f204f007b",
   "metadata": {},
   "source": [
    "# Charger les paramètres de transformation\n",
    "pipeline.load('path/to/save/directory')\n",
    "\n",
    "# Charger les données de test\n",
    "test_df = pd.read_csv('path/to/test.csv')\n",
    "\n",
    "# Transformer les données de test\n",
    "test_df_transformed = pipeline.transform(test_df)\n",
    "\n",
    "# Maintenant, vous pouvez utiliser `test_df_transformed` pour la prédiction"
   ]
  }
 ],
 "metadata": {
  "kernelspec": {
   "display_name": "Python 3 (ipykernel)",
   "language": "python",
   "name": "python3"
  },
  "language_info": {
   "codemirror_mode": {
    "name": "ipython",
    "version": 3
   },
   "file_extension": ".py",
   "mimetype": "text/x-python",
   "name": "python",
   "nbconvert_exporter": "python",
   "pygments_lexer": "ipython3",
   "version": "3.12.0"
  },
  "toc": {
   "base_numbering": 1,
   "nav_menu": {},
   "number_sections": true,
   "sideBar": true,
   "skip_h1_title": false,
   "title_cell": "Table of Contents",
   "title_sidebar": "Contents",
   "toc_cell": false,
   "toc_position": {},
   "toc_section_display": true,
   "toc_window_display": false
  }
 },
 "nbformat": 4,
 "nbformat_minor": 5
}
