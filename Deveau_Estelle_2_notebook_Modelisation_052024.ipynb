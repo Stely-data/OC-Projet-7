{
 "cells": [
  {
   "cell_type": "markdown",
   "id": "aa01c55d-21f2-48a5-a2c1-bf0fd402c191",
   "metadata": {},
   "source": [
    "<b><font color=\"SteelBlue\" size=\"+3\">Implémentez un modèle de scoring</font></b>"
   ]
  },
  {
   "cell_type": "markdown",
   "id": "8a4ac084-8062-4d7a-a5c5-adc368e767a6",
   "metadata": {},
   "source": [
    "# Introduction"
   ]
  },
  {
   "cell_type": "markdown",
   "id": "ac7258d0-59a3-4263-a49e-dca4206dfcb2",
   "metadata": {},
   "source": [
    "Ce note book est la suite de l'EDA, il va permettre de présenter le prétraitement des données, le feature engineering et la modélisation."
   ]
  },
  {
   "cell_type": "code",
   "execution_count": 1,
   "id": "786a8563-5f1e-4e13-b28f-b1806e6de372",
   "metadata": {},
   "outputs": [],
   "source": [
    "# Chargement des librairies\n",
    "\n",
    "# Built-in\n",
    "import os\n",
    "\n",
    "# Data Manipulation and Analysis\n",
    "import numpy as np\n",
    "import pandas as pd\n",
    "import seaborn as sns\n",
    "import matplotlib.pyplot as plt\n",
    "\n",
    "# Machine Learning\n",
    "import mlflow\n",
    "import mlflow.sklearn\n",
    "\n",
    "from imblearn.over_sampling import SMOTE\n",
    "from imblearn.under_sampling import RandomUnderSampler\n",
    "from sklearn.model_selection import train_test_split\n",
    "from sklearn.metrics import make_scorer\n",
    "from sklearn.preprocessing import StandardScaler\n",
    "from sklearn.ensemble import RandomForestClassifier\n",
    "from boruta import BorutaPy\n",
    "from sklearn.feature_selection import RFE\n",
    "from sklearn.dummy import DummyClassifier\n",
    "from sklearn.linear_model import LogisticRegression\n",
    "from xgboost import XGBClassifier\n",
    "from sklearn.metrics import classification_report, confusion_matrix, roc_auc_score, accuracy_score\n",
    "import lightgbm as lgb\n",
    "from lightgbm import LGBMClassifier\n",
    "import re\n",
    "from catboost import CatBoostClassifier, Pool\n",
    "from sklearn.model_selection import cross_val_score, GridSearchCV, StratifiedKFold\n",
    "from sklearn.metrics import make_scorer, roc_auc_score, accuracy_score\n",
    "from sklearn.utils.class_weight import compute_class_weight\n",
    "from sklearn.model_selection import RandomizedSearchCV\n",
    "\n",
    "\n",
    "# Custom Feature Engineering Pipeline\n",
    "from feature_pipeline import FeatureEngineeringPipeline, remove_highly_correlated_features, remove_low_correlation_features"
   ]
  },
  {
   "cell_type": "code",
   "execution_count": 2,
   "id": "5ea0d6ba-b28e-4111-a192-46924f7e23b2",
   "metadata": {},
   "outputs": [
    {
     "data": {
      "text/plain": [
       "<Experiment: artifact_location='mlflow-artifacts:/185199612184583695', creation_time=1715766694823, experiment_id='185199612184583695', last_update_time=1715766694823, lifecycle_stage='active', name='Credit_Scoring_Experiment', tags={}>"
      ]
     },
     "execution_count": 2,
     "metadata": {},
     "output_type": "execute_result"
    }
   ],
   "source": [
    "mlflow.set_tracking_uri(uri=\"http://127.0.0.1:5000\")\n",
    "mlflow.set_experiment(\"Credit_Scoring_Experiment\")"
   ]
  },
  {
   "cell_type": "markdown",
   "id": "9ff1e3f7-1f86-4f53-a771-7ed8c87f080b",
   "metadata": {},
   "source": [
    "# Data préparation"
   ]
  },
  {
   "cell_type": "markdown",
   "id": "a70daaf5-d4cf-4661-9bdf-fb2eb9ac5aa8",
   "metadata": {},
   "source": [
    "## Chargement des données"
   ]
  },
  {
   "cell_type": "code",
   "execution_count": 3,
   "id": "cfff27f4-b9b8-4adf-b237-8b2a282ad2a3",
   "metadata": {},
   "outputs": [
    {
     "data": {
      "text/plain": [
       "['application_test.csv',\n",
       " 'application_train.csv',\n",
       " 'bureau.csv',\n",
       " 'bureau_balance.csv',\n",
       " 'credit_card_balance.csv',\n",
       " 'HomeCredit_columns_description.csv',\n",
       " 'installments_payments.csv',\n",
       " 'POS_CASH_balance.csv',\n",
       " 'previous_application.csv',\n",
       " 'Projet+Mise+en+prod+-+home-credit-default-risk.zip',\n",
       " 'sample_submission.csv']"
      ]
     },
     "execution_count": 3,
     "metadata": {},
     "output_type": "execute_result"
    }
   ],
   "source": [
    "os.listdir(\"data/sources/\")"
   ]
  },
  {
   "cell_type": "code",
   "execution_count": 4,
   "id": "1f96549a-d5bf-4ddc-ad7e-d2c0934de3f4",
   "metadata": {},
   "outputs": [],
   "source": [
    "PATH = \"./data/sources/\""
   ]
  },
  {
   "cell_type": "code",
   "execution_count": 5,
   "id": "7b5a8bd9-a476-4343-8105-4a611db9e1ad",
   "metadata": {},
   "outputs": [],
   "source": [
    "application_train = pd.read_csv(PATH+\"/application_train.csv\")\n",
    "application_test = pd.read_csv(PATH+\"/application_test.csv\")\n",
    "bureau = pd.read_csv(PATH+\"/bureau.csv\")\n",
    "bureau_balance = pd.read_csv(PATH+\"/bureau_balance.csv\")\n",
    "credit_card_balance = pd.read_csv(PATH+\"/credit_card_balance.csv\")\n",
    "installments_payments = pd.read_csv(PATH+\"/installments_payments.csv\")\n",
    "previous_application = pd.read_csv(PATH+\"/previous_application.csv\")\n",
    "POS_CASH_balance = pd.read_csv(PATH+\"/POS_CASH_balance.csv\")"
   ]
  },
  {
   "cell_type": "markdown",
   "id": "1bdcba79-4b09-4c55-96ca-909d5adac558",
   "metadata": {},
   "source": [
    "## Split du jeu de données"
   ]
  },
  {
   "cell_type": "code",
   "execution_count": 6,
   "id": "ac8bcf74-f9f0-40d5-ae20-7273db1517a5",
   "metadata": {},
   "outputs": [],
   "source": [
    "# Division des données en ensembles d'entraînement et de test\n",
    "train, test = train_test_split(application_train, test_size=0.2, random_state=21, stratify=application_train['TARGET'])"
   ]
  },
  {
   "cell_type": "code",
   "execution_count": 7,
   "id": "a3d41cd1-7650-4a9e-b126-9ab0bf51bec7",
   "metadata": {},
   "outputs": [
    {
     "data": {
      "text/plain": [
       "(246008, 122)"
      ]
     },
     "execution_count": 7,
     "metadata": {},
     "output_type": "execute_result"
    }
   ],
   "source": [
    "train.shape"
   ]
  },
  {
   "cell_type": "markdown",
   "id": "3e888fb1-106c-46fe-89fd-62464d392c58",
   "metadata": {},
   "source": [
    "## Gestion des valeurs manquantes et abérrantes"
   ]
  },
  {
   "cell_type": "code",
   "execution_count": 8,
   "id": "d4a3c190-cff8-4141-935c-3e8faa098685",
   "metadata": {},
   "outputs": [],
   "source": [
    "# Supprimer les lignes où TARGET est manquant dans application_train\n",
    "train.dropna(subset=['TARGET'], inplace=True)\n",
    "test.dropna(subset=['TARGET'], inplace=True)"
   ]
  },
  {
   "cell_type": "code",
   "execution_count": 9,
   "id": "14874a5e-3ad9-4490-9732-6e88861d0a6e",
   "metadata": {},
   "outputs": [],
   "source": [
    "# Suppression des lignes où les clés sont absentes\n",
    "def drop_missing_keys(df, key, reference_df, reference_key):\n",
    "    valid_keys = reference_df[reference_key].unique()\n",
    "    return df[df[key].isin(valid_keys)]\n",
    "\n",
    "# Supprimer les lignes où les clés sont absentes\n",
    "bureau = drop_missing_keys(bureau, 'SK_ID_CURR', application_train, 'SK_ID_CURR')\n",
    "bureau_balance = drop_missing_keys(bureau_balance, 'SK_ID_BUREAU', bureau, 'SK_ID_BUREAU')\n",
    "previous_application = drop_missing_keys(previous_application, 'SK_ID_CURR', application_train, 'SK_ID_CURR')\n",
    "POS_CASH_balance = drop_missing_keys(POS_CASH_balance, 'SK_ID_PREV', previous_application, 'SK_ID_PREV')\n",
    "installments_payments = drop_missing_keys(installments_payments, 'SK_ID_PREV', previous_application, 'SK_ID_PREV')\n",
    "credit_card_balance = drop_missing_keys(credit_card_balance, 'SK_ID_PREV', previous_application, 'SK_ID_PREV')"
   ]
  },
  {
   "cell_type": "code",
   "execution_count": 10,
   "id": "36160507-f187-4e4e-a014-6d3df5d4ae7b",
   "metadata": {},
   "outputs": [],
   "source": [
    "# Fonction pour supprimer les colonnes avec plus de 80% de valeurs manquantes\n",
    "def drop_missing_columns(df, threshold=0.8):\n",
    "    initial_columns = df.shape[1]\n",
    "    missing_percentage = df.isnull().mean()\n",
    "    columns_to_drop = missing_percentage[missing_percentage > threshold].index\n",
    "    df = df.drop(columns=columns_to_drop)\n",
    "    final_columns = df.shape[1]\n",
    "    print(f\"Colonnes supprimées: {initial_columns - final_columns}\")\n",
    "    print(f\"Colonnes restantes: {final_columns}\")\n",
    "    return df"
   ]
  },
  {
   "cell_type": "code",
   "execution_count": 11,
   "id": "fb90e0a8-596e-4380-bf53-d2be719d0a80",
   "metadata": {},
   "outputs": [],
   "source": [
    "# Fonction pour gérer les valeurs aberrantes\n",
    "def cap_values(series, threshold=0.2):\n",
    "    lower_percentile = np.percentile(series, 1)\n",
    "    upper_percentile = np.percentile(series, 99)\n",
    "    outliers = (series < lower_percentile) | (series > upper_percentile)\n",
    "\n",
    "    outlier_pct = outliers.sum() / len(series)\n",
    "\n",
    "    if outlier_pct > threshold:\n",
    "        print(\"Significant outliers detected, not capping values.\")\n",
    "        return series  # Ne pas appliquer le cap si les valeurs aberrantes sont significatives\n",
    "    else:\n",
    "        return np.clip(series, lower_percentile, upper_percentile)\n"
   ]
  },
  {
   "cell_type": "code",
   "execution_count": 12,
   "id": "ef6566b3-8b6e-4f43-b1d8-2773c34cc3cc",
   "metadata": {},
   "outputs": [],
   "source": [
    "def cap_outliers(df):\n",
    "    numeric_cols = df.select_dtypes(include=[np.number]).columns\n",
    "    for col in numeric_cols:\n",
    "        if col != 'SK_ID_CURR':  # Exclure la colonne avec la clé\n",
    "            df[col] = cap_values(df[col])\n",
    "    return df"
   ]
  },
  {
   "cell_type": "code",
   "execution_count": 13,
   "id": "1ceb9bd5-8890-4185-80a2-9f4068ee364a",
   "metadata": {},
   "outputs": [],
   "source": [
    "# Appliquer le filtre des colonnes manquantes et la gestion des valeurs aberrantes à chaque DataFrame\n",
    "dfs = {\n",
    "    \"Train\": train,\n",
    "    \"Test\": test,\n",
    "    \"Application Test\": application_test,\n",
    "    \"Bureau\": bureau,\n",
    "    \"Bureau Balance\": bureau_balance,\n",
    "    \"Credit Card Balance\": credit_card_balance,\n",
    "    \"Installments Payments\": installments_payments,\n",
    "    \"Previous Application\": previous_application,\n",
    "    \"POS CASH Balance\": POS_CASH_balance\n",
    "}"
   ]
  },
  {
   "cell_type": "code",
   "execution_count": 14,
   "id": "53e64267-8fb8-457c-b7bd-350efd8c50c4",
   "metadata": {},
   "outputs": [
    {
     "name": "stdout",
     "output_type": "stream",
     "text": [
      "\n",
      "Train:\n",
      "Colonnes supprimées: 0\n",
      "Colonnes restantes: 122\n",
      "\n",
      "Test:\n",
      "Colonnes supprimées: 0\n",
      "Colonnes restantes: 122\n",
      "\n",
      "Application Test:\n",
      "Colonnes supprimées: 0\n",
      "Colonnes restantes: 121\n",
      "\n",
      "Bureau:\n",
      "Colonnes supprimées: 0\n",
      "Colonnes restantes: 17\n",
      "\n",
      "Bureau Balance:\n",
      "Colonnes supprimées: 0\n",
      "Colonnes restantes: 3\n",
      "\n",
      "Credit Card Balance:\n",
      "Colonnes supprimées: 0\n",
      "Colonnes restantes: 23\n",
      "\n",
      "Installments Payments:\n",
      "Colonnes supprimées: 0\n",
      "Colonnes restantes: 8\n",
      "\n",
      "Previous Application:\n",
      "Colonnes supprimées: 2\n",
      "Colonnes restantes: 35\n",
      "\n",
      "POS CASH Balance:\n",
      "Colonnes supprimées: 0\n",
      "Colonnes restantes: 8\n"
     ]
    }
   ],
   "source": [
    "for name, df in dfs.items():\n",
    "    print(f\"\\n{name}:\")\n",
    "    df = drop_missing_columns(df)\n",
    "    df = cap_outliers(df)\n",
    "    dfs[name] = df"
   ]
  },
  {
   "cell_type": "code",
   "execution_count": 15,
   "id": "1bce8176-201a-46e8-b6f8-3b60a429df44",
   "metadata": {},
   "outputs": [
    {
     "data": {
      "text/plain": [
       "(246008, 122)"
      ]
     },
     "execution_count": 15,
     "metadata": {},
     "output_type": "execute_result"
    }
   ],
   "source": [
    "dfs['Train'].shape"
   ]
  },
  {
   "cell_type": "markdown",
   "id": "aaf929ea-d28d-489b-a3c2-e8525bbbaee6",
   "metadata": {},
   "source": [
    "## Imputation"
   ]
  },
  {
   "cell_type": "code",
   "execution_count": 16,
   "id": "ea5ed28f-f01e-4d11-8ec4-df0c5a640cc7",
   "metadata": {},
   "outputs": [],
   "source": [
    "dfs_imputed = dfs"
   ]
  },
  {
   "cell_type": "code",
   "execution_count": 17,
   "id": "b4629362-bab2-448a-9955-9cd0e8fa2644",
   "metadata": {},
   "outputs": [],
   "source": [
    "# Fonction pour imputer les valeurs manquantes\n",
    "def impute_missing_values(df):\n",
    "    # Imputation pour les colonnes numériques\n",
    "    numeric_cols = df.select_dtypes(include=[np.number]).columns\n",
    "    for col in numeric_cols:\n",
    "        df[col].fillna(df[col].median(), inplace=True)\n",
    "    \n",
    "    # Imputation pour les colonnes catégorielles\n",
    "    categorical_cols = df.select_dtypes(include=[object]).columns\n",
    "    for col in categorical_cols:\n",
    "        df[col].fillna(df[col].mode()[0], inplace=True)\n",
    "    \n",
    "    return df"
   ]
  },
  {
   "cell_type": "code",
   "execution_count": 18,
   "id": "f0057006-283f-43bb-9f55-1582c363bec9",
   "metadata": {},
   "outputs": [],
   "source": [
    "for name, df in dfs_imputed.items():\n",
    "    df = impute_missing_values(df)\n",
    "    dfs_imputed[name] = df"
   ]
  },
  {
   "cell_type": "code",
   "execution_count": 19,
   "id": "f032112f-85fa-4669-bb9b-54fdd81a3e4d",
   "metadata": {},
   "outputs": [
    {
     "name": "stdout",
     "output_type": "stream",
     "text": [
      "\n",
      "Train:\n",
      "Aucune valeur manquante détectée.\n",
      "\n",
      "Test:\n",
      "Aucune valeur manquante détectée.\n",
      "\n",
      "Application Test:\n",
      "Aucune valeur manquante détectée.\n",
      "\n",
      "Bureau:\n",
      "Aucune valeur manquante détectée.\n",
      "\n",
      "Bureau Balance:\n",
      "Aucune valeur manquante détectée.\n",
      "\n",
      "Credit Card Balance:\n",
      "Aucune valeur manquante détectée.\n",
      "\n",
      "Installments Payments:\n",
      "Aucune valeur manquante détectée.\n",
      "\n",
      "Previous Application:\n",
      "Aucune valeur manquante détectée.\n",
      "\n",
      "POS CASH Balance:\n",
      "Aucune valeur manquante détectée.\n"
     ]
    }
   ],
   "source": [
    "# Fonction pour vérifier les valeurs manquantes dans un DataFrame\n",
    "def check_missing_values(df):\n",
    "    missing_values = df.isnull().sum()\n",
    "    missing_values = missing_values[missing_values > 0]\n",
    "    if not missing_values.empty:\n",
    "        print(\"Colonnes avec des valeurs manquantes :\")\n",
    "        print(missing_values)\n",
    "    else:\n",
    "        print(\"Aucune valeur manquante détectée.\")\n",
    "\n",
    "# Vérification des valeurs manquantes dans chaque DataFrame\n",
    "for name, df in dfs_imputed.items():\n",
    "    print(f\"\\n{name}:\")\n",
    "    check_missing_values(df)"
   ]
  },
  {
   "cell_type": "code",
   "execution_count": 20,
   "id": "13b3418e-3a2a-4d87-aa27-737385215a66",
   "metadata": {},
   "outputs": [
    {
     "data": {
      "text/plain": [
       "(246008, 122)"
      ]
     },
     "execution_count": 20,
     "metadata": {},
     "output_type": "execute_result"
    }
   ],
   "source": [
    "dfs_imputed['Train'].shape"
   ]
  },
  {
   "cell_type": "markdown",
   "id": "3a9c253f-4378-465b-8fdd-d073453a807a",
   "metadata": {},
   "source": [
    "## Sauvegarde des données nettoyées"
   ]
  },
  {
   "cell_type": "code",
   "execution_count": 21,
   "id": "c430a269-a783-4654-87f5-4b971f807e65",
   "metadata": {},
   "outputs": [],
   "source": [
    "# Fonction pour sauvegarder un DataFrame\n",
    "def save_dataframe(df, filename, output_dir):\n",
    "    output_path = os.path.join(output_dir, filename)\n",
    "    df.to_csv(output_path, index=False)\n",
    "    print(f\"DataFrame sauvegardé sous : {output_path}\")"
   ]
  },
  {
   "cell_type": "code",
   "execution_count": 22,
   "id": "3425a43c-1539-40c3-9ae0-48650f3d0740",
   "metadata": {},
   "outputs": [],
   "source": [
    "# Dictionnaire contenant les noms des fichiers\n",
    "original_names = {\n",
    "    \"Train\": \"train.csv\",\n",
    "    \"Test\": \"test.csv\",\n",
    "    \"Application Test\": \"application_test.csv\",\n",
    "    \"Bureau\": \"bureau.csv\",\n",
    "    \"Bureau Balance\": \"bureau_balance.csv\",\n",
    "    \"Credit Card Balance\": \"credit_card_balance.csv\",\n",
    "    \"Installments Payments\": \"installments_payments.csv\",\n",
    "    \"Previous Application\": \"previous_application.csv\",\n",
    "    \"POS CASH Balance\": \"POS_CASH_balance.csv\"\n",
    "}"
   ]
  },
  {
   "cell_type": "markdown",
   "id": "b01677f9-0d19-4fd0-9d9b-fc3ee2e92cd8",
   "metadata": {},
   "source": [
    "### Sans l'imputation"
   ]
  },
  {
   "cell_type": "code",
   "execution_count": 23,
   "id": "b3e31d74-8a7f-4cbe-96c6-3f0ea367f238",
   "metadata": {},
   "outputs": [],
   "source": [
    "# Chemin du dossier où sauvegarder les DataFrames nettoyés\n",
    "output_dir = \"data/Cleaned\""
   ]
  },
  {
   "cell_type": "code",
   "execution_count": 24,
   "id": "0f60c4e4-3bda-430e-bbd5-aa35edb5cc87",
   "metadata": {},
   "outputs": [
    {
     "name": "stdout",
     "output_type": "stream",
     "text": [
      "DataFrame sauvegardé sous : data/Cleaned\\train.csv\n",
      "DataFrame sauvegardé sous : data/Cleaned\\test.csv\n",
      "DataFrame sauvegardé sous : data/Cleaned\\application_test.csv\n",
      "DataFrame sauvegardé sous : data/Cleaned\\bureau.csv\n",
      "DataFrame sauvegardé sous : data/Cleaned\\bureau_balance.csv\n",
      "DataFrame sauvegardé sous : data/Cleaned\\credit_card_balance.csv\n",
      "DataFrame sauvegardé sous : data/Cleaned\\installments_payments.csv\n",
      "DataFrame sauvegardé sous : data/Cleaned\\previous_application.csv\n",
      "DataFrame sauvegardé sous : data/Cleaned\\POS_CASH_balance.csv\n"
     ]
    }
   ],
   "source": [
    "# Sauvegarder chaque DataFrame dans le dossier output_dir avec le nom d'origine\n",
    "for name, df in dfs.items():\n",
    "    save_dataframe(df, original_names[name], output_dir)"
   ]
  },
  {
   "cell_type": "markdown",
   "id": "8faae4d8-6a4b-412e-afb0-610f049916d9",
   "metadata": {},
   "source": [
    "### Avec l'imputation"
   ]
  },
  {
   "cell_type": "code",
   "execution_count": 25,
   "id": "3a5a4511-c77c-4ef4-88d4-19106cb57d4f",
   "metadata": {},
   "outputs": [],
   "source": [
    "# Chemin du dossier où sauvegarder les DataFrames nettoyés\n",
    "output_dir_imputed = \"data/Cleaned/Imputed\""
   ]
  },
  {
   "cell_type": "code",
   "execution_count": 26,
   "id": "6b0e16b1-6e62-4ad7-9547-092fc4f58ee6",
   "metadata": {},
   "outputs": [
    {
     "name": "stdout",
     "output_type": "stream",
     "text": [
      "DataFrame sauvegardé sous : data/Cleaned/Imputed\\train.csv\n",
      "DataFrame sauvegardé sous : data/Cleaned/Imputed\\test.csv\n",
      "DataFrame sauvegardé sous : data/Cleaned/Imputed\\application_test.csv\n",
      "DataFrame sauvegardé sous : data/Cleaned/Imputed\\bureau.csv\n",
      "DataFrame sauvegardé sous : data/Cleaned/Imputed\\bureau_balance.csv\n",
      "DataFrame sauvegardé sous : data/Cleaned/Imputed\\credit_card_balance.csv\n",
      "DataFrame sauvegardé sous : data/Cleaned/Imputed\\installments_payments.csv\n",
      "DataFrame sauvegardé sous : data/Cleaned/Imputed\\previous_application.csv\n",
      "DataFrame sauvegardé sous : data/Cleaned/Imputed\\POS_CASH_balance.csv\n"
     ]
    }
   ],
   "source": [
    "# Sauvegarder chaque DataFrame dans le dossier output_dir avec le nom d'origine\n",
    "for name, df in dfs_imputed.items():\n",
    "    save_dataframe(df, original_names[name], output_dir_imputed)"
   ]
  },
  {
   "cell_type": "markdown",
   "id": "9114cdc0-cd29-4a9b-b01a-7e47a6345d83",
   "metadata": {},
   "source": [
    "# Feature engineering"
   ]
  },
  {
   "cell_type": "markdown",
   "id": "11055631-7c5c-4116-acff-3f0eed052972",
   "metadata": {},
   "source": [
    "## Sur jeu non imputé"
   ]
  },
  {
   "cell_type": "markdown",
   "id": "2efdb655-64c4-430c-a251-91cdeb245ec6",
   "metadata": {},
   "source": [
    "### Sur le df train"
   ]
  },
  {
   "cell_type": "code",
   "execution_count": 27,
   "id": "7c394711-08d1-4b5c-8332-07a98493830e",
   "metadata": {},
   "outputs": [],
   "source": [
    "# Initialiser le pipeline\n",
    "pipeline = FeatureEngineeringPipeline(data_directory=output_dir + '/')"
   ]
  },
  {
   "cell_type": "code",
   "execution_count": 28,
   "id": "ffc1b03a-a608-4b97-8b2d-6c1af8f9c774",
   "metadata": {},
   "outputs": [
    {
     "name": "stdout",
     "output_type": "stream",
     "text": [
      "feature_engineering - done\n",
      "Bureau and bureau_balance data - done in 36s\n",
      "previous_application - done in 39s\n",
      "previous applications balances - done in 488s\n",
      "Colonnes supprimées: 50, Colonnes restantes: 684\n",
      "Gestion des outliers - done\n",
      "Colonnes supprimées (constantes): 29, Colonnes restantes: 655\n",
      "Initial df memory usage is 1234.27 MB for 773 columns\n",
      "Final memory usage is: 453.26 MB - decreased by 63.3%\n"
     ]
    }
   ],
   "source": [
    "# Entraîner le pipeline\n",
    "train_transformed = pipeline.fit()"
   ]
  },
  {
   "cell_type": "code",
   "execution_count": 29,
   "id": "7b467426-e13b-4191-932d-33fe0edd6905",
   "metadata": {},
   "outputs": [],
   "source": [
    "# Sauvegarder les paramètres de transformation\n",
    "pipeline.save(os.path.join(output_dir, \"param\"))"
   ]
  },
  {
   "cell_type": "code",
   "execution_count": 30,
   "id": "2c98ca2c-c248-4629-8633-9972c705a633",
   "metadata": {},
   "outputs": [
    {
     "data": {
      "text/plain": [
       "(246004, 773)"
      ]
     },
     "execution_count": 30,
     "metadata": {},
     "output_type": "execute_result"
    }
   ],
   "source": [
    "train_transformed.shape"
   ]
  },
  {
   "cell_type": "code",
   "execution_count": 31,
   "id": "7fa2b1b0-8b57-4713-9b9b-5057fad67db1",
   "metadata": {},
   "outputs": [
    {
     "data": {
      "text/html": [
       "<div>\n",
       "<style scoped>\n",
       "    .dataframe tbody tr th:only-of-type {\n",
       "        vertical-align: middle;\n",
       "    }\n",
       "\n",
       "    .dataframe tbody tr th {\n",
       "        vertical-align: top;\n",
       "    }\n",
       "\n",
       "    .dataframe thead th {\n",
       "        text-align: right;\n",
       "    }\n",
       "</style>\n",
       "<table border=\"1\" class=\"dataframe\">\n",
       "  <thead>\n",
       "    <tr style=\"text-align: right;\">\n",
       "      <th></th>\n",
       "      <th>SK_ID_CURR</th>\n",
       "      <th>TARGET</th>\n",
       "      <th>NAME_CONTRACT_TYPE</th>\n",
       "      <th>CODE_GENDER</th>\n",
       "      <th>FLAG_OWN_CAR</th>\n",
       "      <th>FLAG_OWN_REALTY</th>\n",
       "      <th>CNT_CHILDREN</th>\n",
       "      <th>AMT_INCOME_TOTAL</th>\n",
       "      <th>AMT_CREDIT</th>\n",
       "      <th>AMT_ANNUITY</th>\n",
       "      <th>...</th>\n",
       "      <th>HOUSETYPE_MODE_block of flats</th>\n",
       "      <th>HOUSETYPE_MODE_specific housing</th>\n",
       "      <th>HOUSETYPE_MODE_terraced house</th>\n",
       "      <th>WALLSMATERIAL_MODE_Block</th>\n",
       "      <th>WALLSMATERIAL_MODE_Mixed</th>\n",
       "      <th>WALLSMATERIAL_MODE_Monolithic</th>\n",
       "      <th>WALLSMATERIAL_MODE_Others</th>\n",
       "      <th>WALLSMATERIAL_MODE_Panel</th>\n",
       "      <th>WALLSMATERIAL_MODE_Stone, brick</th>\n",
       "      <th>WALLSMATERIAL_MODE_Wooden</th>\n",
       "    </tr>\n",
       "  </thead>\n",
       "  <tbody>\n",
       "    <tr>\n",
       "      <th>0</th>\n",
       "      <td>183096.0</td>\n",
       "      <td>1</td>\n",
       "      <td>0</td>\n",
       "      <td>0</td>\n",
       "      <td>0</td>\n",
       "      <td>1</td>\n",
       "      <td>0</td>\n",
       "      <td>135000.0</td>\n",
       "      <td>161730.0</td>\n",
       "      <td>8464.5</td>\n",
       "      <td>...</td>\n",
       "      <td>1.0</td>\n",
       "      <td>0.0</td>\n",
       "      <td>0.0</td>\n",
       "      <td>0.0</td>\n",
       "      <td>0.0</td>\n",
       "      <td>0.0</td>\n",
       "      <td>0.0</td>\n",
       "      <td>1.0</td>\n",
       "      <td>0.0</td>\n",
       "      <td>0.0</td>\n",
       "    </tr>\n",
       "    <tr>\n",
       "      <th>1</th>\n",
       "      <td>433941.0</td>\n",
       "      <td>0</td>\n",
       "      <td>0</td>\n",
       "      <td>0</td>\n",
       "      <td>1</td>\n",
       "      <td>0</td>\n",
       "      <td>0</td>\n",
       "      <td>225000.0</td>\n",
       "      <td>729792.0</td>\n",
       "      <td>22126.5</td>\n",
       "      <td>...</td>\n",
       "      <td>1.0</td>\n",
       "      <td>0.0</td>\n",
       "      <td>0.0</td>\n",
       "      <td>0.0</td>\n",
       "      <td>0.0</td>\n",
       "      <td>0.0</td>\n",
       "      <td>0.0</td>\n",
       "      <td>0.0</td>\n",
       "      <td>1.0</td>\n",
       "      <td>0.0</td>\n",
       "    </tr>\n",
       "    <tr>\n",
       "      <th>2</th>\n",
       "      <td>378379.0</td>\n",
       "      <td>0</td>\n",
       "      <td>0</td>\n",
       "      <td>1</td>\n",
       "      <td>0</td>\n",
       "      <td>1</td>\n",
       "      <td>0</td>\n",
       "      <td>121500.0</td>\n",
       "      <td>911263.5</td>\n",
       "      <td>36270.0</td>\n",
       "      <td>...</td>\n",
       "      <td>1.0</td>\n",
       "      <td>0.0</td>\n",
       "      <td>0.0</td>\n",
       "      <td>0.0</td>\n",
       "      <td>0.0</td>\n",
       "      <td>0.0</td>\n",
       "      <td>0.0</td>\n",
       "      <td>1.0</td>\n",
       "      <td>0.0</td>\n",
       "      <td>0.0</td>\n",
       "    </tr>\n",
       "    <tr>\n",
       "      <th>3</th>\n",
       "      <td>301108.0</td>\n",
       "      <td>0</td>\n",
       "      <td>0</td>\n",
       "      <td>0</td>\n",
       "      <td>0</td>\n",
       "      <td>1</td>\n",
       "      <td>0</td>\n",
       "      <td>180000.0</td>\n",
       "      <td>808650.0</td>\n",
       "      <td>23773.5</td>\n",
       "      <td>...</td>\n",
       "      <td>1.0</td>\n",
       "      <td>0.0</td>\n",
       "      <td>0.0</td>\n",
       "      <td>0.0</td>\n",
       "      <td>0.0</td>\n",
       "      <td>0.0</td>\n",
       "      <td>0.0</td>\n",
       "      <td>1.0</td>\n",
       "      <td>0.0</td>\n",
       "      <td>0.0</td>\n",
       "    </tr>\n",
       "    <tr>\n",
       "      <th>4</th>\n",
       "      <td>194730.0</td>\n",
       "      <td>0</td>\n",
       "      <td>0</td>\n",
       "      <td>1</td>\n",
       "      <td>1</td>\n",
       "      <td>1</td>\n",
       "      <td>0</td>\n",
       "      <td>180000.0</td>\n",
       "      <td>355536.0</td>\n",
       "      <td>15192.0</td>\n",
       "      <td>...</td>\n",
       "      <td>1.0</td>\n",
       "      <td>0.0</td>\n",
       "      <td>0.0</td>\n",
       "      <td>0.0</td>\n",
       "      <td>0.0</td>\n",
       "      <td>0.0</td>\n",
       "      <td>0.0</td>\n",
       "      <td>1.0</td>\n",
       "      <td>0.0</td>\n",
       "      <td>0.0</td>\n",
       "    </tr>\n",
       "  </tbody>\n",
       "</table>\n",
       "<p>5 rows × 773 columns</p>\n",
       "</div>"
      ],
      "text/plain": [
       "   SK_ID_CURR  TARGET  NAME_CONTRACT_TYPE  CODE_GENDER  FLAG_OWN_CAR  \\\n",
       "0    183096.0       1                   0            0             0   \n",
       "1    433941.0       0                   0            0             1   \n",
       "2    378379.0       0                   0            1             0   \n",
       "3    301108.0       0                   0            0             0   \n",
       "4    194730.0       0                   0            1             1   \n",
       "\n",
       "   FLAG_OWN_REALTY  CNT_CHILDREN  AMT_INCOME_TOTAL  AMT_CREDIT  AMT_ANNUITY  \\\n",
       "0                1             0          135000.0    161730.0       8464.5   \n",
       "1                0             0          225000.0    729792.0      22126.5   \n",
       "2                1             0          121500.0    911263.5      36270.0   \n",
       "3                1             0          180000.0    808650.0      23773.5   \n",
       "4                1             0          180000.0    355536.0      15192.0   \n",
       "\n",
       "   ...  HOUSETYPE_MODE_block of flats  HOUSETYPE_MODE_specific housing  \\\n",
       "0  ...                            1.0                              0.0   \n",
       "1  ...                            1.0                              0.0   \n",
       "2  ...                            1.0                              0.0   \n",
       "3  ...                            1.0                              0.0   \n",
       "4  ...                            1.0                              0.0   \n",
       "\n",
       "   HOUSETYPE_MODE_terraced house  WALLSMATERIAL_MODE_Block  \\\n",
       "0                            0.0                       0.0   \n",
       "1                            0.0                       0.0   \n",
       "2                            0.0                       0.0   \n",
       "3                            0.0                       0.0   \n",
       "4                            0.0                       0.0   \n",
       "\n",
       "   WALLSMATERIAL_MODE_Mixed  WALLSMATERIAL_MODE_Monolithic  \\\n",
       "0                       0.0                            0.0   \n",
       "1                       0.0                            0.0   \n",
       "2                       0.0                            0.0   \n",
       "3                       0.0                            0.0   \n",
       "4                       0.0                            0.0   \n",
       "\n",
       "   WALLSMATERIAL_MODE_Others  WALLSMATERIAL_MODE_Panel  \\\n",
       "0                        0.0                       1.0   \n",
       "1                        0.0                       0.0   \n",
       "2                        0.0                       1.0   \n",
       "3                        0.0                       1.0   \n",
       "4                        0.0                       1.0   \n",
       "\n",
       "   WALLSMATERIAL_MODE_Stone, brick  WALLSMATERIAL_MODE_Wooden  \n",
       "0                              0.0                        0.0  \n",
       "1                              1.0                        0.0  \n",
       "2                              0.0                        0.0  \n",
       "3                              0.0                        0.0  \n",
       "4                              0.0                        0.0  \n",
       "\n",
       "[5 rows x 773 columns]"
      ]
     },
     "execution_count": 31,
     "metadata": {},
     "output_type": "execute_result"
    }
   ],
   "source": [
    "train_transformed.head(5)"
   ]
  },
  {
   "cell_type": "code",
   "execution_count": 32,
   "id": "1a3e687e-778a-4884-9e37-b51a1bb90a40",
   "metadata": {},
   "outputs": [
    {
     "name": "stdout",
     "output_type": "stream",
     "text": [
      "Colonnes avec des valeurs manquantes :\n",
      "DAYS_EMPLOYED                       44589\n",
      "DAYS_LAST_PHONE_CHANGE              30095\n",
      "INCOME_TO_EMPLOYED_RATIO            44591\n",
      "EMPLOYED_TO_BIRTH_RATIO             44589\n",
      "CAR_TO_EMPLOYED_RATIO               44591\n",
      "                                    ...  \n",
      "CTA_CREDIT_TO_ANNUITY_MEAN_RATIO    13990\n",
      "DAYS_DECISION_MEAN_TO_BIRTH         13977\n",
      "DAYS_CREDIT_MEAN_TO_BIRTH           35323\n",
      "DAYS_DECISION_MEAN_TO_EMPLOYED      56182\n",
      "DAYS_CREDIT_MEAN_TO_EMPLOYED        73145\n",
      "Length: 528, dtype: int64\n"
     ]
    }
   ],
   "source": [
    "check_missing_values(train_transformed)"
   ]
  },
  {
   "cell_type": "markdown",
   "id": "25569923-1d23-4c79-9680-8eff179a3de6",
   "metadata": {},
   "source": [
    "### Sur le df test"
   ]
  },
  {
   "cell_type": "code",
   "execution_count": 33,
   "id": "cc708ed9-6477-4927-908a-81f71c276ebf",
   "metadata": {},
   "outputs": [],
   "source": [
    "test = dfs[\"Test\"]"
   ]
  },
  {
   "cell_type": "code",
   "execution_count": 34,
   "id": "8ead627a-209f-42a4-b5bc-fa68bcb6a2a0",
   "metadata": {},
   "outputs": [
    {
     "name": "stdout",
     "output_type": "stream",
     "text": [
      "Bureau and bureau_balance data - done in 35s\n",
      "previous_application - done in 37s\n",
      "Colonnes supprimées: 50, Colonnes restantes: 684\n",
      "Initial df memory usage is 361.54 MB for 773 columns\n",
      "Final memory usage is: 105.87 MB - decreased by 70.7%\n",
      "previous applications balances - done in 492s\n"
     ]
    }
   ],
   "source": [
    "# Charger les paramètres de transformation\n",
    "pipeline.load(os.path.join(output_dir, \"param\"))\n",
    "\n",
    "# Transformer les données de test\n",
    "test_transformed = pipeline.transform(test)"
   ]
  },
  {
   "cell_type": "code",
   "execution_count": 35,
   "id": "a50eb6e1-d574-4a80-a990-fab0306cb933",
   "metadata": {},
   "outputs": [
    {
     "data": {
      "text/plain": [
       "(61503, 773)"
      ]
     },
     "execution_count": 35,
     "metadata": {},
     "output_type": "execute_result"
    }
   ],
   "source": [
    "test_transformed.shape"
   ]
  },
  {
   "cell_type": "markdown",
   "id": "30d8ad61-64d8-4859-b628-6f5151d48584",
   "metadata": {},
   "source": [
    "## Sur jeu imputé"
   ]
  },
  {
   "cell_type": "markdown",
   "id": "47073fa8-59eb-4c45-8169-5325d92d2567",
   "metadata": {},
   "source": [
    "### Sur le df train"
   ]
  },
  {
   "cell_type": "code",
   "execution_count": 36,
   "id": "64faec9c-992c-4364-8fb3-65c388e2eead",
   "metadata": {},
   "outputs": [],
   "source": [
    "# Initialiser le pipeline\n",
    "pipeline_imp = FeatureEngineeringPipeline(data_directory=output_dir_imputed + '/')"
   ]
  },
  {
   "cell_type": "code",
   "execution_count": 37,
   "id": "3b20a5c2-9773-4a7c-8082-ba68f1ec254b",
   "metadata": {},
   "outputs": [
    {
     "name": "stdout",
     "output_type": "stream",
     "text": [
      "feature_engineering - done\n",
      "Bureau and bureau_balance data - done in 36s\n",
      "previous_application - done in 37s\n",
      "previous applications balances - done in 491s\n",
      "Colonnes supprimées: 50, Colonnes restantes: 684\n",
      "Gestion des outliers - done\n",
      "Gestion des valeurs manquantes - done\n",
      "Colonnes supprimées (constantes): 29, Colonnes restantes: 655\n",
      "Initial df memory usage is 1234.27 MB for 773 columns\n",
      "Final memory usage is: 453.26 MB - decreased by 63.3%\n"
     ]
    }
   ],
   "source": [
    "# Entraîner le pipeline\n",
    "train_imputed_transformed = pipeline_imp.fit()"
   ]
  },
  {
   "cell_type": "code",
   "execution_count": 38,
   "id": "23927442-d9d4-4ebb-9654-99539d189ac6",
   "metadata": {},
   "outputs": [],
   "source": [
    "# Sauvegarder les paramètres de transformation\n",
    "pipeline_imp.save(os.path.join(output_dir_imputed, \"param\"))"
   ]
  },
  {
   "cell_type": "code",
   "execution_count": 39,
   "id": "6a5617e2-7a38-4a4f-9050-b35c068931e0",
   "metadata": {},
   "outputs": [
    {
     "data": {
      "text/plain": [
       "(246004, 773)"
      ]
     },
     "execution_count": 39,
     "metadata": {},
     "output_type": "execute_result"
    }
   ],
   "source": [
    "train_imputed_transformed.shape"
   ]
  },
  {
   "cell_type": "code",
   "execution_count": 40,
   "id": "844d2d1f-1629-433b-aef7-2175e520c4b8",
   "metadata": {},
   "outputs": [
    {
     "data": {
      "text/html": [
       "<div>\n",
       "<style scoped>\n",
       "    .dataframe tbody tr th:only-of-type {\n",
       "        vertical-align: middle;\n",
       "    }\n",
       "\n",
       "    .dataframe tbody tr th {\n",
       "        vertical-align: top;\n",
       "    }\n",
       "\n",
       "    .dataframe thead th {\n",
       "        text-align: right;\n",
       "    }\n",
       "</style>\n",
       "<table border=\"1\" class=\"dataframe\">\n",
       "  <thead>\n",
       "    <tr style=\"text-align: right;\">\n",
       "      <th></th>\n",
       "      <th>SK_ID_CURR</th>\n",
       "      <th>TARGET</th>\n",
       "      <th>NAME_CONTRACT_TYPE</th>\n",
       "      <th>CODE_GENDER</th>\n",
       "      <th>FLAG_OWN_CAR</th>\n",
       "      <th>FLAG_OWN_REALTY</th>\n",
       "      <th>CNT_CHILDREN</th>\n",
       "      <th>AMT_INCOME_TOTAL</th>\n",
       "      <th>AMT_CREDIT</th>\n",
       "      <th>AMT_ANNUITY</th>\n",
       "      <th>...</th>\n",
       "      <th>HOUSETYPE_MODE_block of flats</th>\n",
       "      <th>HOUSETYPE_MODE_specific housing</th>\n",
       "      <th>HOUSETYPE_MODE_terraced house</th>\n",
       "      <th>WALLSMATERIAL_MODE_Block</th>\n",
       "      <th>WALLSMATERIAL_MODE_Mixed</th>\n",
       "      <th>WALLSMATERIAL_MODE_Monolithic</th>\n",
       "      <th>WALLSMATERIAL_MODE_Others</th>\n",
       "      <th>WALLSMATERIAL_MODE_Panel</th>\n",
       "      <th>WALLSMATERIAL_MODE_Stone, brick</th>\n",
       "      <th>WALLSMATERIAL_MODE_Wooden</th>\n",
       "    </tr>\n",
       "  </thead>\n",
       "  <tbody>\n",
       "    <tr>\n",
       "      <th>0</th>\n",
       "      <td>183096.0</td>\n",
       "      <td>1</td>\n",
       "      <td>0</td>\n",
       "      <td>0</td>\n",
       "      <td>0</td>\n",
       "      <td>1</td>\n",
       "      <td>0</td>\n",
       "      <td>135000.0</td>\n",
       "      <td>161730.0</td>\n",
       "      <td>8464.5</td>\n",
       "      <td>...</td>\n",
       "      <td>1.0</td>\n",
       "      <td>0.0</td>\n",
       "      <td>0.0</td>\n",
       "      <td>0.0</td>\n",
       "      <td>0.0</td>\n",
       "      <td>0.0</td>\n",
       "      <td>0.0</td>\n",
       "      <td>1.0</td>\n",
       "      <td>0.0</td>\n",
       "      <td>0.0</td>\n",
       "    </tr>\n",
       "    <tr>\n",
       "      <th>1</th>\n",
       "      <td>433941.0</td>\n",
       "      <td>0</td>\n",
       "      <td>0</td>\n",
       "      <td>0</td>\n",
       "      <td>1</td>\n",
       "      <td>0</td>\n",
       "      <td>0</td>\n",
       "      <td>225000.0</td>\n",
       "      <td>729792.0</td>\n",
       "      <td>22126.5</td>\n",
       "      <td>...</td>\n",
       "      <td>1.0</td>\n",
       "      <td>0.0</td>\n",
       "      <td>0.0</td>\n",
       "      <td>0.0</td>\n",
       "      <td>0.0</td>\n",
       "      <td>0.0</td>\n",
       "      <td>0.0</td>\n",
       "      <td>0.0</td>\n",
       "      <td>1.0</td>\n",
       "      <td>0.0</td>\n",
       "    </tr>\n",
       "    <tr>\n",
       "      <th>2</th>\n",
       "      <td>378379.0</td>\n",
       "      <td>0</td>\n",
       "      <td>0</td>\n",
       "      <td>1</td>\n",
       "      <td>0</td>\n",
       "      <td>1</td>\n",
       "      <td>0</td>\n",
       "      <td>121500.0</td>\n",
       "      <td>911263.5</td>\n",
       "      <td>36270.0</td>\n",
       "      <td>...</td>\n",
       "      <td>1.0</td>\n",
       "      <td>0.0</td>\n",
       "      <td>0.0</td>\n",
       "      <td>0.0</td>\n",
       "      <td>0.0</td>\n",
       "      <td>0.0</td>\n",
       "      <td>0.0</td>\n",
       "      <td>1.0</td>\n",
       "      <td>0.0</td>\n",
       "      <td>0.0</td>\n",
       "    </tr>\n",
       "    <tr>\n",
       "      <th>3</th>\n",
       "      <td>301108.0</td>\n",
       "      <td>0</td>\n",
       "      <td>0</td>\n",
       "      <td>0</td>\n",
       "      <td>0</td>\n",
       "      <td>1</td>\n",
       "      <td>0</td>\n",
       "      <td>180000.0</td>\n",
       "      <td>808650.0</td>\n",
       "      <td>23773.5</td>\n",
       "      <td>...</td>\n",
       "      <td>1.0</td>\n",
       "      <td>0.0</td>\n",
       "      <td>0.0</td>\n",
       "      <td>0.0</td>\n",
       "      <td>0.0</td>\n",
       "      <td>0.0</td>\n",
       "      <td>0.0</td>\n",
       "      <td>1.0</td>\n",
       "      <td>0.0</td>\n",
       "      <td>0.0</td>\n",
       "    </tr>\n",
       "    <tr>\n",
       "      <th>4</th>\n",
       "      <td>194730.0</td>\n",
       "      <td>0</td>\n",
       "      <td>0</td>\n",
       "      <td>1</td>\n",
       "      <td>1</td>\n",
       "      <td>1</td>\n",
       "      <td>0</td>\n",
       "      <td>180000.0</td>\n",
       "      <td>355536.0</td>\n",
       "      <td>15192.0</td>\n",
       "      <td>...</td>\n",
       "      <td>1.0</td>\n",
       "      <td>0.0</td>\n",
       "      <td>0.0</td>\n",
       "      <td>0.0</td>\n",
       "      <td>0.0</td>\n",
       "      <td>0.0</td>\n",
       "      <td>0.0</td>\n",
       "      <td>1.0</td>\n",
       "      <td>0.0</td>\n",
       "      <td>0.0</td>\n",
       "    </tr>\n",
       "  </tbody>\n",
       "</table>\n",
       "<p>5 rows × 773 columns</p>\n",
       "</div>"
      ],
      "text/plain": [
       "   SK_ID_CURR  TARGET  NAME_CONTRACT_TYPE  CODE_GENDER  FLAG_OWN_CAR  \\\n",
       "0    183096.0       1                   0            0             0   \n",
       "1    433941.0       0                   0            0             1   \n",
       "2    378379.0       0                   0            1             0   \n",
       "3    301108.0       0                   0            0             0   \n",
       "4    194730.0       0                   0            1             1   \n",
       "\n",
       "   FLAG_OWN_REALTY  CNT_CHILDREN  AMT_INCOME_TOTAL  AMT_CREDIT  AMT_ANNUITY  \\\n",
       "0                1             0          135000.0    161730.0       8464.5   \n",
       "1                0             0          225000.0    729792.0      22126.5   \n",
       "2                1             0          121500.0    911263.5      36270.0   \n",
       "3                1             0          180000.0    808650.0      23773.5   \n",
       "4                1             0          180000.0    355536.0      15192.0   \n",
       "\n",
       "   ...  HOUSETYPE_MODE_block of flats  HOUSETYPE_MODE_specific housing  \\\n",
       "0  ...                            1.0                              0.0   \n",
       "1  ...                            1.0                              0.0   \n",
       "2  ...                            1.0                              0.0   \n",
       "3  ...                            1.0                              0.0   \n",
       "4  ...                            1.0                              0.0   \n",
       "\n",
       "   HOUSETYPE_MODE_terraced house  WALLSMATERIAL_MODE_Block  \\\n",
       "0                            0.0                       0.0   \n",
       "1                            0.0                       0.0   \n",
       "2                            0.0                       0.0   \n",
       "3                            0.0                       0.0   \n",
       "4                            0.0                       0.0   \n",
       "\n",
       "   WALLSMATERIAL_MODE_Mixed  WALLSMATERIAL_MODE_Monolithic  \\\n",
       "0                       0.0                            0.0   \n",
       "1                       0.0                            0.0   \n",
       "2                       0.0                            0.0   \n",
       "3                       0.0                            0.0   \n",
       "4                       0.0                            0.0   \n",
       "\n",
       "   WALLSMATERIAL_MODE_Others  WALLSMATERIAL_MODE_Panel  \\\n",
       "0                        0.0                       1.0   \n",
       "1                        0.0                       0.0   \n",
       "2                        0.0                       1.0   \n",
       "3                        0.0                       1.0   \n",
       "4                        0.0                       1.0   \n",
       "\n",
       "   WALLSMATERIAL_MODE_Stone, brick  WALLSMATERIAL_MODE_Wooden  \n",
       "0                              0.0                        0.0  \n",
       "1                              1.0                        0.0  \n",
       "2                              0.0                        0.0  \n",
       "3                              0.0                        0.0  \n",
       "4                              0.0                        0.0  \n",
       "\n",
       "[5 rows x 773 columns]"
      ]
     },
     "execution_count": 40,
     "metadata": {},
     "output_type": "execute_result"
    }
   ],
   "source": [
    "train_imputed_transformed.head(5)"
   ]
  },
  {
   "cell_type": "code",
   "execution_count": 41,
   "id": "8a30f56a-70f2-4c3b-9020-3666caf296fa",
   "metadata": {},
   "outputs": [
    {
     "name": "stdout",
     "output_type": "stream",
     "text": [
      "Aucune valeur manquante détectée.\n"
     ]
    }
   ],
   "source": [
    "check_missing_values(train_imputed_transformed)"
   ]
  },
  {
   "cell_type": "markdown",
   "id": "880f4a7e-2f04-4d7c-be47-44b8b46b9bd5",
   "metadata": {},
   "source": [
    "### Sur le df test"
   ]
  },
  {
   "cell_type": "code",
   "execution_count": 42,
   "id": "1c02646a-8bbe-440f-8bf7-f19a7d5fbcb8",
   "metadata": {},
   "outputs": [],
   "source": [
    "test_imputed = dfs_imputed[\"Test\"]"
   ]
  },
  {
   "cell_type": "code",
   "execution_count": 43,
   "id": "33da269f-fe4f-4ef9-bcd8-6aa8442f742d",
   "metadata": {},
   "outputs": [
    {
     "name": "stdout",
     "output_type": "stream",
     "text": [
      "Bureau and bureau_balance data - done in 35s\n",
      "previous_application - done in 38s\n",
      "Colonnes supprimées: 50, Colonnes restantes: 684\n",
      "Gestion des valeurs manquantes - done\n",
      "Initial df memory usage is 361.54 MB for 773 columns\n",
      "Final memory usage is: 105.87 MB - decreased by 70.7%\n",
      "previous applications balances - done in 493s\n"
     ]
    }
   ],
   "source": [
    "# Charger les paramètres de transformation\n",
    "pipeline_imp.load(os.path.join(output_dir_imputed, \"param\"))\n",
    "\n",
    "# Transformer les données de test\n",
    "test_imputed_transformed = pipeline_imp.transform(test_imputed)"
   ]
  },
  {
   "cell_type": "code",
   "execution_count": 44,
   "id": "c3dc932e-1b12-4464-aff0-55393252a7e8",
   "metadata": {},
   "outputs": [
    {
     "data": {
      "text/plain": [
       "(61503, 122)"
      ]
     },
     "execution_count": 44,
     "metadata": {},
     "output_type": "execute_result"
    }
   ],
   "source": [
    "test_imputed.shape"
   ]
  },
  {
   "cell_type": "code",
   "execution_count": 45,
   "id": "9ccb4b00-9139-4451-80f4-a5047935cb05",
   "metadata": {},
   "outputs": [
    {
     "data": {
      "text/plain": [
       "(61503, 773)"
      ]
     },
     "execution_count": 45,
     "metadata": {},
     "output_type": "execute_result"
    }
   ],
   "source": [
    "test_imputed_transformed.shape"
   ]
  },
  {
   "cell_type": "code",
   "execution_count": 46,
   "id": "8160f7dd-cc1e-4563-a515-1163a1ab543f",
   "metadata": {},
   "outputs": [
    {
     "name": "stdout",
     "output_type": "stream",
     "text": [
      "Colonnes avec des valeurs manquantes : []\n"
     ]
    }
   ],
   "source": [
    "# Vérification des colonnes avec des valeurs manquantes\n",
    "missing_values = test_imputed_transformed.isnull().sum()\n",
    "missing_columns = missing_values[missing_values > 0].index.tolist()\n",
    "print(f\"Colonnes avec des valeurs manquantes : {missing_columns}\")"
   ]
  },
  {
   "cell_type": "markdown",
   "id": "6ea96fc7-7587-4949-be53-61f0bc654846",
   "metadata": {},
   "source": [
    "## Sauvegarde / Chargement des données"
   ]
  },
  {
   "cell_type": "code",
   "execution_count": 47,
   "id": "3b79b771-d1c3-47fe-9c6d-ed0c82d742da",
   "metadata": {},
   "outputs": [
    {
     "name": "stdout",
     "output_type": "stream",
     "text": [
      "DataFrames enregistrés avec succès.\n"
     ]
    }
   ],
   "source": [
    "output_feat_dir = \"data/Featured\"\n",
    "\n",
    "# Enregistrer les DataFrames dans des fichiers CSV\n",
    "train_transformed.to_csv(os.path.join(output_feat_dir, \"train_transformed.csv\"), index=False)\n",
    "test_transformed.to_csv(os.path.join(output_feat_dir, \"test_transformed.csv\"), index=False)\n",
    "train_imputed_transformed.to_csv(os.path.join(output_feat_dir, \"train_imputed_transformed.csv\"), index=False)\n",
    "test_imputed_transformed.to_csv(os.path.join(output_feat_dir, \"test_imputed_transformed.csv\"), index=False)\n",
    "\n",
    "print(\"DataFrames enregistrés avec succès.\")"
   ]
  },
  {
   "cell_type": "code",
   "execution_count": 2,
   "id": "377c9e6e-5aca-426b-9967-d0a968dc271e",
   "metadata": {},
   "outputs": [
    {
     "name": "stdout",
     "output_type": "stream",
     "text": [
      "DataFrames chargés avec succès.\n"
     ]
    }
   ],
   "source": [
    "# Vérification de l'existence de la variable output_feat_dir\n",
    "try:\n",
    "    output_feat_dir\n",
    "except NameError:\n",
    "    output_feat_dir = None\n",
    "\n",
    "if output_feat_dir is None:\n",
    "    output_feat_dir = \"data/Featured\"\n",
    "\n",
    "    # Charger les DataFrames à partir des fichiers CSV\n",
    "    train_transformed = pd.read_csv(os.path.join(output_feat_dir, \"train_transformed.csv\"))\n",
    "    test_transformed = pd.read_csv(os.path.join(output_feat_dir, \"test_transformed.csv\"))\n",
    "    train_imputed_transformed = pd.read_csv(os.path.join(output_feat_dir, \"train_imputed_transformed.csv\"))\n",
    "    test_imputed_transformed = pd.read_csv(os.path.join(output_feat_dir, \"test_imputed_transformed.csv\"))\n",
    "\n",
    "    print(\"DataFrames chargés avec succès.\")"
   ]
  },
  {
   "cell_type": "code",
   "execution_count": 3,
   "id": "23cbad9d-9a56-4c61-8640-dfd8684773cd",
   "metadata": {},
   "outputs": [
    {
     "name": "stdout",
     "output_type": "stream",
     "text": [
      "train_transformed : (246004, 773),\n",
      "test_transformed : (61503, 773),\n",
      "train_imputed_transformed : (246004, 773),\n",
      "test_imputed_transformed : (61503, 773)\n"
     ]
    }
   ],
   "source": [
    "print(f\"train_transformed : {train_transformed.shape},\\n\"\n",
    "      f\"test_transformed : {test_transformed.shape},\\n\"\n",
    "      f\"train_imputed_transformed : {train_imputed_transformed.shape},\\n\"\n",
    "      f\"test_imputed_transformed : {test_imputed_transformed.shape}\")"
   ]
  },
  {
   "cell_type": "code",
   "execution_count": 4,
   "id": "159a03ad-a5ba-4566-a53b-5e4f4afd7114",
   "metadata": {},
   "outputs": [],
   "source": [
    "# nettoyage des noms de colonnes\n",
    "def clean_column_names(df):\n",
    "    df.columns = [re.sub(r'[^A-Za-z0-9_]+', '', col) for col in df.columns]\n",
    "    return df\n",
    "\n",
    "train_transformed = clean_column_names(train_transformed)\n",
    "test_transformed = clean_column_names(test_transformed)\n",
    "train_imputed_transformed = clean_column_names(train_imputed_transformed)\n",
    "test_imputed_transformed = clean_column_names(test_imputed_transformed)"
   ]
  },
  {
   "cell_type": "markdown",
   "id": "1a58d4dc-c685-47ad-874f-80c57ce33089",
   "metadata": {},
   "source": [
    "# Définition du Score Métier"
   ]
  },
  {
   "cell_type": "code",
   "execution_count": 51,
   "id": "23b119b8-fb14-4734-8831-33e031002665",
   "metadata": {},
   "outputs": [],
   "source": [
    "def normalized_cost_function(y_true, y_pred):\n",
    "    fp_cost = 1\n",
    "    fn_cost = 10\n",
    "    fp = np.sum((y_true == 0) & (y_pred == 1))\n",
    "    fn = np.sum((y_true == 1) & (y_pred == 0))\n",
    "    cost = (fp_cost * fp + fn_cost * fn) / len(y_true)\n",
    "    return cost"
   ]
  },
  {
   "cell_type": "code",
   "execution_count": 52,
   "id": "55fdab66-4096-4c62-9817-d92af1c8f324",
   "metadata": {},
   "outputs": [],
   "source": [
    "# Création du custom score avec la fonction cost\n",
    "custom_scorer = make_scorer(normalized_cost_function, greater_is_better=False)"
   ]
  },
  {
   "cell_type": "markdown",
   "id": "c8c2ee42-fbe8-4dcb-9b8d-3f427bf8d584",
   "metadata": {},
   "source": [
    "# Modèles de machine learning"
   ]
  },
  {
   "cell_type": "markdown",
   "id": "4a69a0a0-259d-4680-b473-c59d3974f06c",
   "metadata": {},
   "source": [
    "## Préparation"
   ]
  },
  {
   "cell_type": "code",
   "execution_count": 5,
   "id": "65f1587d-ee07-4c1b-b715-3e2e11ad9a8c",
   "metadata": {},
   "outputs": [],
   "source": [
    "# Séparer les features et la cible sur le jeu sans imputation\n",
    "X_train = train_transformed.drop(columns=['TARGET'])\n",
    "y_train = train_transformed['TARGET']\n",
    "X_test = test_transformed.drop(columns=['TARGET'])\n",
    "y_test = test_transformed['TARGET']"
   ]
  },
  {
   "cell_type": "code",
   "execution_count": 6,
   "id": "54befda8-74b0-4132-93fc-cec05eb3d6ef",
   "metadata": {},
   "outputs": [],
   "source": [
    "# Séparer les features et la cible sur le jeu imputé\n",
    "X_train_imputed = train_imputed_transformed.drop(columns=['TARGET'])\n",
    "y_train_imputed = train_imputed_transformed['TARGET']\n",
    "X_test_imputed = test_imputed_transformed.drop(columns=['TARGET'])\n",
    "y_test_imputed = test_imputed_transformed['TARGET']"
   ]
  },
  {
   "cell_type": "markdown",
   "id": "3b39aa60-706c-4ea3-9737-95a47bdeee0a",
   "metadata": {},
   "source": [
    "### Séléction des variables"
   ]
  },
  {
   "cell_type": "markdown",
   "id": "94f9a8fb-4921-434a-a3c5-47ab920e27ef",
   "metadata": {},
   "source": [
    "#### Suppression des variables hautement ou trop peu corrélées"
   ]
  },
  {
   "cell_type": "code",
   "execution_count": 7,
   "id": "5c6d736b-493e-4fee-acec-26215de0b5c3",
   "metadata": {},
   "outputs": [
    {
     "name": "stdout",
     "output_type": "stream",
     "text": [
      "Variables très peu corrélées supprimées: 267\n"
     ]
    }
   ],
   "source": [
    "train_imputed_cleaned, low_corr_features = remove_low_correlation_features(train_imputed_transformed, 'TARGET', threshold=0.01)\n",
    "print(f\"Variables très peu corrélées supprimées: {len(low_corr_features)}\")"
   ]
  },
  {
   "cell_type": "code",
   "execution_count": 8,
   "id": "3e14cb4e-ba65-434c-a70f-ca7db4deb3ae",
   "metadata": {},
   "outputs": [
    {
     "name": "stdout",
     "output_type": "stream",
     "text": [
      "Variables très corrélées supprimées: 192\n"
     ]
    }
   ],
   "source": [
    "train_imputed_cleaned, high_corr_features = remove_highly_correlated_features(train_imputed_transformed, threshold=0.9)\n",
    "print(f\"Variables très corrélées supprimées: {len(high_corr_features)}\")"
   ]
  },
  {
   "cell_type": "code",
   "execution_count": 9,
   "id": "53e7a8f5-78f9-42e1-84d7-81220d359864",
   "metadata": {},
   "outputs": [
    {
     "data": {
      "text/plain": [
       "(246004, 581)"
      ]
     },
     "execution_count": 9,
     "metadata": {},
     "output_type": "execute_result"
    }
   ],
   "source": [
    "train_imputed_cleaned.shape"
   ]
  },
  {
   "cell_type": "code",
   "execution_count": 10,
   "id": "0d30dba4-f2a7-4450-9c0b-e9c241fd21a2",
   "metadata": {},
   "outputs": [
    {
     "data": {
      "text/plain": [
       "(61503, 581)"
      ]
     },
     "execution_count": 10,
     "metadata": {},
     "output_type": "execute_result"
    }
   ],
   "source": [
    "# Aligner les colones du jeu de test\n",
    "\n",
    "train_imputed_cleaned_columns = list(train_imputed_cleaned.columns)\n",
    "test_imputed_cleaned = test_imputed_transformed.copy()\n",
    "\n",
    "# Supprimer les colonnes en trop\n",
    "extra_cols = set(test_imputed_cleaned.columns) - set(train_imputed_cleaned_columns)\n",
    "if extra_cols:\n",
    "    test_imputed_cleaned.drop(columns=list(extra_cols), inplace=True)\n",
    "\n",
    "# Réordonner les colonnes pour correspondre à celles du train\n",
    "test_imputed_cleaned = test_imputed_cleaned[train_imputed_cleaned_columns]\n",
    "\n",
    "test_imputed_cleaned.shape"
   ]
  },
  {
   "cell_type": "code",
   "execution_count": 11,
   "id": "0f794f0c-d0fa-486f-8e68-54234a9399a7",
   "metadata": {},
   "outputs": [],
   "source": [
    "# Séparer les features et la cible sur le jeu imputé\n",
    "X_train_imputed = train_imputed_cleaned.drop(columns=['TARGET'])\n",
    "y_train_imputed = train_imputed_cleaned['TARGET']\n",
    "X_test_imputed = test_imputed_cleaned.drop(columns=['TARGET'])\n",
    "y_test_imputed = test_imputed_cleaned['TARGET']"
   ]
  },
  {
   "cell_type": "markdown",
   "id": "d52c35d2-dd52-48ce-96eb-914519dd05b3",
   "metadata": {},
   "source": [
    "#### Recherche de la feature importance avec random forest"
   ]
  },
  {
   "cell_type": "markdown",
   "id": "af5e2537-aed3-4abd-922e-ca4f4341c8f5",
   "metadata": {},
   "source": [
    "<b>Random Forest et Boruta"
   ]
  },
  {
   "cell_type": "code",
   "execution_count": 12,
   "id": "f3862170-e953-46ad-8048-ecdd0d5c44d4",
   "metadata": {},
   "outputs": [],
   "source": [
    "# Normalisation des données\n",
    "scaler = StandardScaler()\n",
    "X_train_fi_scaled = scaler.fit_transform(X_train_imputed)\n",
    "X_test_fi_scaled = scaler.transform(X_test_imputed)"
   ]
  },
  {
   "cell_type": "code",
   "execution_count": 13,
   "id": "abe182c6-f208-49da-8334-992415f1b97f",
   "metadata": {},
   "outputs": [],
   "source": [
    "# Rééquilibrage des classes avec Undersampling\n",
    "undersample = RandomUnderSampler(random_state=42)\n",
    "X_train_res, y_train_res = undersample.fit_resample(X_train_fi_scaled, y_train_imputed)"
   ]
  },
  {
   "cell_type": "code",
   "execution_count": 14,
   "id": "c4db8383-b5ab-4bcf-bc85-bb3a4e11c47e",
   "metadata": {},
   "outputs": [],
   "source": [
    "# Création du modèle de base\n",
    "rf = RandomForestClassifier(n_jobs=-1, random_state=42)"
   ]
  },
  {
   "cell_type": "code",
   "execution_count": 64,
   "id": "e0cfbf76-09c9-4f34-9d86-eb0b74234a4f",
   "metadata": {},
   "outputs": [
    {
     "data": {
      "text/html": [
       "<style>#sk-container-id-1 {\n",
       "  /* Definition of color scheme common for light and dark mode */\n",
       "  --sklearn-color-text: black;\n",
       "  --sklearn-color-line: gray;\n",
       "  /* Definition of color scheme for unfitted estimators */\n",
       "  --sklearn-color-unfitted-level-0: #fff5e6;\n",
       "  --sklearn-color-unfitted-level-1: #f6e4d2;\n",
       "  --sklearn-color-unfitted-level-2: #ffe0b3;\n",
       "  --sklearn-color-unfitted-level-3: chocolate;\n",
       "  /* Definition of color scheme for fitted estimators */\n",
       "  --sklearn-color-fitted-level-0: #f0f8ff;\n",
       "  --sklearn-color-fitted-level-1: #d4ebff;\n",
       "  --sklearn-color-fitted-level-2: #b3dbfd;\n",
       "  --sklearn-color-fitted-level-3: cornflowerblue;\n",
       "\n",
       "  /* Specific color for light theme */\n",
       "  --sklearn-color-text-on-default-background: var(--sg-text-color, var(--theme-code-foreground, var(--jp-content-font-color1, black)));\n",
       "  --sklearn-color-background: var(--sg-background-color, var(--theme-background, var(--jp-layout-color0, white)));\n",
       "  --sklearn-color-border-box: var(--sg-text-color, var(--theme-code-foreground, var(--jp-content-font-color1, black)));\n",
       "  --sklearn-color-icon: #696969;\n",
       "\n",
       "  @media (prefers-color-scheme: dark) {\n",
       "    /* Redefinition of color scheme for dark theme */\n",
       "    --sklearn-color-text-on-default-background: var(--sg-text-color, var(--theme-code-foreground, var(--jp-content-font-color1, white)));\n",
       "    --sklearn-color-background: var(--sg-background-color, var(--theme-background, var(--jp-layout-color0, #111)));\n",
       "    --sklearn-color-border-box: var(--sg-text-color, var(--theme-code-foreground, var(--jp-content-font-color1, white)));\n",
       "    --sklearn-color-icon: #878787;\n",
       "  }\n",
       "}\n",
       "\n",
       "#sk-container-id-1 {\n",
       "  color: var(--sklearn-color-text);\n",
       "}\n",
       "\n",
       "#sk-container-id-1 pre {\n",
       "  padding: 0;\n",
       "}\n",
       "\n",
       "#sk-container-id-1 input.sk-hidden--visually {\n",
       "  border: 0;\n",
       "  clip: rect(1px 1px 1px 1px);\n",
       "  clip: rect(1px, 1px, 1px, 1px);\n",
       "  height: 1px;\n",
       "  margin: -1px;\n",
       "  overflow: hidden;\n",
       "  padding: 0;\n",
       "  position: absolute;\n",
       "  width: 1px;\n",
       "}\n",
       "\n",
       "#sk-container-id-1 div.sk-dashed-wrapped {\n",
       "  border: 1px dashed var(--sklearn-color-line);\n",
       "  margin: 0 0.4em 0.5em 0.4em;\n",
       "  box-sizing: border-box;\n",
       "  padding-bottom: 0.4em;\n",
       "  background-color: var(--sklearn-color-background);\n",
       "}\n",
       "\n",
       "#sk-container-id-1 div.sk-container {\n",
       "  /* jupyter's `normalize.less` sets `[hidden] { display: none; }`\n",
       "     but bootstrap.min.css set `[hidden] { display: none !important; }`\n",
       "     so we also need the `!important` here to be able to override the\n",
       "     default hidden behavior on the sphinx rendered scikit-learn.org.\n",
       "     See: https://github.com/scikit-learn/scikit-learn/issues/21755 */\n",
       "  display: inline-block !important;\n",
       "  position: relative;\n",
       "}\n",
       "\n",
       "#sk-container-id-1 div.sk-text-repr-fallback {\n",
       "  display: none;\n",
       "}\n",
       "\n",
       "div.sk-parallel-item,\n",
       "div.sk-serial,\n",
       "div.sk-item {\n",
       "  /* draw centered vertical line to link estimators */\n",
       "  background-image: linear-gradient(var(--sklearn-color-text-on-default-background), var(--sklearn-color-text-on-default-background));\n",
       "  background-size: 2px 100%;\n",
       "  background-repeat: no-repeat;\n",
       "  background-position: center center;\n",
       "}\n",
       "\n",
       "/* Parallel-specific style estimator block */\n",
       "\n",
       "#sk-container-id-1 div.sk-parallel-item::after {\n",
       "  content: \"\";\n",
       "  width: 100%;\n",
       "  border-bottom: 2px solid var(--sklearn-color-text-on-default-background);\n",
       "  flex-grow: 1;\n",
       "}\n",
       "\n",
       "#sk-container-id-1 div.sk-parallel {\n",
       "  display: flex;\n",
       "  align-items: stretch;\n",
       "  justify-content: center;\n",
       "  background-color: var(--sklearn-color-background);\n",
       "  position: relative;\n",
       "}\n",
       "\n",
       "#sk-container-id-1 div.sk-parallel-item {\n",
       "  display: flex;\n",
       "  flex-direction: column;\n",
       "}\n",
       "\n",
       "#sk-container-id-1 div.sk-parallel-item:first-child::after {\n",
       "  align-self: flex-end;\n",
       "  width: 50%;\n",
       "}\n",
       "\n",
       "#sk-container-id-1 div.sk-parallel-item:last-child::after {\n",
       "  align-self: flex-start;\n",
       "  width: 50%;\n",
       "}\n",
       "\n",
       "#sk-container-id-1 div.sk-parallel-item:only-child::after {\n",
       "  width: 0;\n",
       "}\n",
       "\n",
       "/* Serial-specific style estimator block */\n",
       "\n",
       "#sk-container-id-1 div.sk-serial {\n",
       "  display: flex;\n",
       "  flex-direction: column;\n",
       "  align-items: center;\n",
       "  background-color: var(--sklearn-color-background);\n",
       "  padding-right: 1em;\n",
       "  padding-left: 1em;\n",
       "}\n",
       "\n",
       "\n",
       "/* Toggleable style: style used for estimator/Pipeline/ColumnTransformer box that is\n",
       "clickable and can be expanded/collapsed.\n",
       "- Pipeline and ColumnTransformer use this feature and define the default style\n",
       "- Estimators will overwrite some part of the style using the `sk-estimator` class\n",
       "*/\n",
       "\n",
       "/* Pipeline and ColumnTransformer style (default) */\n",
       "\n",
       "#sk-container-id-1 div.sk-toggleable {\n",
       "  /* Default theme specific background. It is overwritten whether we have a\n",
       "  specific estimator or a Pipeline/ColumnTransformer */\n",
       "  background-color: var(--sklearn-color-background);\n",
       "}\n",
       "\n",
       "/* Toggleable label */\n",
       "#sk-container-id-1 label.sk-toggleable__label {\n",
       "  cursor: pointer;\n",
       "  display: block;\n",
       "  width: 100%;\n",
       "  margin-bottom: 0;\n",
       "  padding: 0.5em;\n",
       "  box-sizing: border-box;\n",
       "  text-align: center;\n",
       "}\n",
       "\n",
       "#sk-container-id-1 label.sk-toggleable__label-arrow:before {\n",
       "  /* Arrow on the left of the label */\n",
       "  content: \"▸\";\n",
       "  float: left;\n",
       "  margin-right: 0.25em;\n",
       "  color: var(--sklearn-color-icon);\n",
       "}\n",
       "\n",
       "#sk-container-id-1 label.sk-toggleable__label-arrow:hover:before {\n",
       "  color: var(--sklearn-color-text);\n",
       "}\n",
       "\n",
       "/* Toggleable content - dropdown */\n",
       "\n",
       "#sk-container-id-1 div.sk-toggleable__content {\n",
       "  max-height: 0;\n",
       "  max-width: 0;\n",
       "  overflow: hidden;\n",
       "  text-align: left;\n",
       "  /* unfitted */\n",
       "  background-color: var(--sklearn-color-unfitted-level-0);\n",
       "}\n",
       "\n",
       "#sk-container-id-1 div.sk-toggleable__content.fitted {\n",
       "  /* fitted */\n",
       "  background-color: var(--sklearn-color-fitted-level-0);\n",
       "}\n",
       "\n",
       "#sk-container-id-1 div.sk-toggleable__content pre {\n",
       "  margin: 0.2em;\n",
       "  border-radius: 0.25em;\n",
       "  color: var(--sklearn-color-text);\n",
       "  /* unfitted */\n",
       "  background-color: var(--sklearn-color-unfitted-level-0);\n",
       "}\n",
       "\n",
       "#sk-container-id-1 div.sk-toggleable__content.fitted pre {\n",
       "  /* unfitted */\n",
       "  background-color: var(--sklearn-color-fitted-level-0);\n",
       "}\n",
       "\n",
       "#sk-container-id-1 input.sk-toggleable__control:checked~div.sk-toggleable__content {\n",
       "  /* Expand drop-down */\n",
       "  max-height: 200px;\n",
       "  max-width: 100%;\n",
       "  overflow: auto;\n",
       "}\n",
       "\n",
       "#sk-container-id-1 input.sk-toggleable__control:checked~label.sk-toggleable__label-arrow:before {\n",
       "  content: \"▾\";\n",
       "}\n",
       "\n",
       "/* Pipeline/ColumnTransformer-specific style */\n",
       "\n",
       "#sk-container-id-1 div.sk-label input.sk-toggleable__control:checked~label.sk-toggleable__label {\n",
       "  color: var(--sklearn-color-text);\n",
       "  background-color: var(--sklearn-color-unfitted-level-2);\n",
       "}\n",
       "\n",
       "#sk-container-id-1 div.sk-label.fitted input.sk-toggleable__control:checked~label.sk-toggleable__label {\n",
       "  background-color: var(--sklearn-color-fitted-level-2);\n",
       "}\n",
       "\n",
       "/* Estimator-specific style */\n",
       "\n",
       "/* Colorize estimator box */\n",
       "#sk-container-id-1 div.sk-estimator input.sk-toggleable__control:checked~label.sk-toggleable__label {\n",
       "  /* unfitted */\n",
       "  background-color: var(--sklearn-color-unfitted-level-2);\n",
       "}\n",
       "\n",
       "#sk-container-id-1 div.sk-estimator.fitted input.sk-toggleable__control:checked~label.sk-toggleable__label {\n",
       "  /* fitted */\n",
       "  background-color: var(--sklearn-color-fitted-level-2);\n",
       "}\n",
       "\n",
       "#sk-container-id-1 div.sk-label label.sk-toggleable__label,\n",
       "#sk-container-id-1 div.sk-label label {\n",
       "  /* The background is the default theme color */\n",
       "  color: var(--sklearn-color-text-on-default-background);\n",
       "}\n",
       "\n",
       "/* On hover, darken the color of the background */\n",
       "#sk-container-id-1 div.sk-label:hover label.sk-toggleable__label {\n",
       "  color: var(--sklearn-color-text);\n",
       "  background-color: var(--sklearn-color-unfitted-level-2);\n",
       "}\n",
       "\n",
       "/* Label box, darken color on hover, fitted */\n",
       "#sk-container-id-1 div.sk-label.fitted:hover label.sk-toggleable__label.fitted {\n",
       "  color: var(--sklearn-color-text);\n",
       "  background-color: var(--sklearn-color-fitted-level-2);\n",
       "}\n",
       "\n",
       "/* Estimator label */\n",
       "\n",
       "#sk-container-id-1 div.sk-label label {\n",
       "  font-family: monospace;\n",
       "  font-weight: bold;\n",
       "  display: inline-block;\n",
       "  line-height: 1.2em;\n",
       "}\n",
       "\n",
       "#sk-container-id-1 div.sk-label-container {\n",
       "  text-align: center;\n",
       "}\n",
       "\n",
       "/* Estimator-specific */\n",
       "#sk-container-id-1 div.sk-estimator {\n",
       "  font-family: monospace;\n",
       "  border: 1px dotted var(--sklearn-color-border-box);\n",
       "  border-radius: 0.25em;\n",
       "  box-sizing: border-box;\n",
       "  margin-bottom: 0.5em;\n",
       "  /* unfitted */\n",
       "  background-color: var(--sklearn-color-unfitted-level-0);\n",
       "}\n",
       "\n",
       "#sk-container-id-1 div.sk-estimator.fitted {\n",
       "  /* fitted */\n",
       "  background-color: var(--sklearn-color-fitted-level-0);\n",
       "}\n",
       "\n",
       "/* on hover */\n",
       "#sk-container-id-1 div.sk-estimator:hover {\n",
       "  /* unfitted */\n",
       "  background-color: var(--sklearn-color-unfitted-level-2);\n",
       "}\n",
       "\n",
       "#sk-container-id-1 div.sk-estimator.fitted:hover {\n",
       "  /* fitted */\n",
       "  background-color: var(--sklearn-color-fitted-level-2);\n",
       "}\n",
       "\n",
       "/* Specification for estimator info (e.g. \"i\" and \"?\") */\n",
       "\n",
       "/* Common style for \"i\" and \"?\" */\n",
       "\n",
       ".sk-estimator-doc-link,\n",
       "a:link.sk-estimator-doc-link,\n",
       "a:visited.sk-estimator-doc-link {\n",
       "  float: right;\n",
       "  font-size: smaller;\n",
       "  line-height: 1em;\n",
       "  font-family: monospace;\n",
       "  background-color: var(--sklearn-color-background);\n",
       "  border-radius: 1em;\n",
       "  height: 1em;\n",
       "  width: 1em;\n",
       "  text-decoration: none !important;\n",
       "  margin-left: 1ex;\n",
       "  /* unfitted */\n",
       "  border: var(--sklearn-color-unfitted-level-1) 1pt solid;\n",
       "  color: var(--sklearn-color-unfitted-level-1);\n",
       "}\n",
       "\n",
       ".sk-estimator-doc-link.fitted,\n",
       "a:link.sk-estimator-doc-link.fitted,\n",
       "a:visited.sk-estimator-doc-link.fitted {\n",
       "  /* fitted */\n",
       "  border: var(--sklearn-color-fitted-level-1) 1pt solid;\n",
       "  color: var(--sklearn-color-fitted-level-1);\n",
       "}\n",
       "\n",
       "/* On hover */\n",
       "div.sk-estimator:hover .sk-estimator-doc-link:hover,\n",
       ".sk-estimator-doc-link:hover,\n",
       "div.sk-label-container:hover .sk-estimator-doc-link:hover,\n",
       ".sk-estimator-doc-link:hover {\n",
       "  /* unfitted */\n",
       "  background-color: var(--sklearn-color-unfitted-level-3);\n",
       "  color: var(--sklearn-color-background);\n",
       "  text-decoration: none;\n",
       "}\n",
       "\n",
       "div.sk-estimator.fitted:hover .sk-estimator-doc-link.fitted:hover,\n",
       ".sk-estimator-doc-link.fitted:hover,\n",
       "div.sk-label-container:hover .sk-estimator-doc-link.fitted:hover,\n",
       ".sk-estimator-doc-link.fitted:hover {\n",
       "  /* fitted */\n",
       "  background-color: var(--sklearn-color-fitted-level-3);\n",
       "  color: var(--sklearn-color-background);\n",
       "  text-decoration: none;\n",
       "}\n",
       "\n",
       "/* Span, style for the box shown on hovering the info icon */\n",
       ".sk-estimator-doc-link span {\n",
       "  display: none;\n",
       "  z-index: 9999;\n",
       "  position: relative;\n",
       "  font-weight: normal;\n",
       "  right: .2ex;\n",
       "  padding: .5ex;\n",
       "  margin: .5ex;\n",
       "  width: min-content;\n",
       "  min-width: 20ex;\n",
       "  max-width: 50ex;\n",
       "  color: var(--sklearn-color-text);\n",
       "  box-shadow: 2pt 2pt 4pt #999;\n",
       "  /* unfitted */\n",
       "  background: var(--sklearn-color-unfitted-level-0);\n",
       "  border: .5pt solid var(--sklearn-color-unfitted-level-3);\n",
       "}\n",
       "\n",
       ".sk-estimator-doc-link.fitted span {\n",
       "  /* fitted */\n",
       "  background: var(--sklearn-color-fitted-level-0);\n",
       "  border: var(--sklearn-color-fitted-level-3);\n",
       "}\n",
       "\n",
       ".sk-estimator-doc-link:hover span {\n",
       "  display: block;\n",
       "}\n",
       "\n",
       "/* \"?\"-specific style due to the `<a>` HTML tag */\n",
       "\n",
       "#sk-container-id-1 a.estimator_doc_link {\n",
       "  float: right;\n",
       "  font-size: 1rem;\n",
       "  line-height: 1em;\n",
       "  font-family: monospace;\n",
       "  background-color: var(--sklearn-color-background);\n",
       "  border-radius: 1rem;\n",
       "  height: 1rem;\n",
       "  width: 1rem;\n",
       "  text-decoration: none;\n",
       "  /* unfitted */\n",
       "  color: var(--sklearn-color-unfitted-level-1);\n",
       "  border: var(--sklearn-color-unfitted-level-1) 1pt solid;\n",
       "}\n",
       "\n",
       "#sk-container-id-1 a.estimator_doc_link.fitted {\n",
       "  /* fitted */\n",
       "  border: var(--sklearn-color-fitted-level-1) 1pt solid;\n",
       "  color: var(--sklearn-color-fitted-level-1);\n",
       "}\n",
       "\n",
       "/* On hover */\n",
       "#sk-container-id-1 a.estimator_doc_link:hover {\n",
       "  /* unfitted */\n",
       "  background-color: var(--sklearn-color-unfitted-level-3);\n",
       "  color: var(--sklearn-color-background);\n",
       "  text-decoration: none;\n",
       "}\n",
       "\n",
       "#sk-container-id-1 a.estimator_doc_link.fitted:hover {\n",
       "  /* fitted */\n",
       "  background-color: var(--sklearn-color-fitted-level-3);\n",
       "}\n",
       "</style><div id=\"sk-container-id-1\" class=\"sk-top-container\"><div class=\"sk-text-repr-fallback\"><pre>BorutaPy(estimator=RandomForestClassifier(n_estimators=110, n_jobs=-1,\n",
       "                                          random_state=RandomState(MT19937) at 0x26A5E2FFD40),\n",
       "         n_estimators=&#x27;auto&#x27;,\n",
       "         random_state=RandomState(MT19937) at 0x26A5E2FFD40)</pre><b>In a Jupyter environment, please rerun this cell to show the HTML representation or trust the notebook. <br />On GitHub, the HTML representation is unable to render, please try loading this page with nbviewer.org.</b></div><div class=\"sk-container\" hidden><div class=\"sk-item sk-dashed-wrapped\"><div class=\"sk-label-container\"><div class=\"sk-label fitted sk-toggleable\"><input class=\"sk-toggleable__control sk-hidden--visually\" id=\"sk-estimator-id-1\" type=\"checkbox\" ><label for=\"sk-estimator-id-1\" class=\"sk-toggleable__label fitted sk-toggleable__label-arrow fitted\">&nbsp;BorutaPy<span class=\"sk-estimator-doc-link fitted\">i<span>Fitted</span></span></label><div class=\"sk-toggleable__content fitted\"><pre>BorutaPy(estimator=RandomForestClassifier(n_estimators=110, n_jobs=-1,\n",
       "                                          random_state=RandomState(MT19937) at 0x26A5E2FFD40),\n",
       "         n_estimators=&#x27;auto&#x27;,\n",
       "         random_state=RandomState(MT19937) at 0x26A5E2FFD40)</pre></div> </div></div><div class=\"sk-parallel\"><div class=\"sk-parallel-item\"><div class=\"sk-item\"><div class=\"sk-label-container\"><div class=\"sk-label fitted sk-toggleable\"><input class=\"sk-toggleable__control sk-hidden--visually\" id=\"sk-estimator-id-2\" type=\"checkbox\" ><label for=\"sk-estimator-id-2\" class=\"sk-toggleable__label fitted sk-toggleable__label-arrow fitted\">estimator: RandomForestClassifier</label><div class=\"sk-toggleable__content fitted\"><pre>RandomForestClassifier(n_estimators=110, n_jobs=-1,\n",
       "                       random_state=RandomState(MT19937) at 0x26A5E2FFD40)</pre></div> </div></div><div class=\"sk-serial\"><div class=\"sk-item\"><div class=\"sk-estimator fitted sk-toggleable\"><input class=\"sk-toggleable__control sk-hidden--visually\" id=\"sk-estimator-id-3\" type=\"checkbox\" ><label for=\"sk-estimator-id-3\" class=\"sk-toggleable__label fitted sk-toggleable__label-arrow fitted\">&nbsp;RandomForestClassifier<a class=\"sk-estimator-doc-link fitted\" rel=\"noreferrer\" target=\"_blank\" href=\"https://scikit-learn.org/1.5/modules/generated/sklearn.ensemble.RandomForestClassifier.html\">?<span>Documentation for RandomForestClassifier</span></a></label><div class=\"sk-toggleable__content fitted\"><pre>RandomForestClassifier(n_estimators=110, n_jobs=-1,\n",
       "                       random_state=RandomState(MT19937) at 0x26A5E2FFD40)</pre></div> </div></div></div></div></div></div></div></div></div>"
      ],
      "text/plain": [
       "BorutaPy(estimator=RandomForestClassifier(n_estimators=110, n_jobs=-1,\n",
       "                                          random_state=RandomState(MT19937) at 0x26A5E2FFD40),\n",
       "         n_estimators='auto',\n",
       "         random_state=RandomState(MT19937) at 0x26A5E2FFD40)"
      ]
     },
     "execution_count": 64,
     "metadata": {},
     "output_type": "execute_result"
    }
   ],
   "source": [
    "# Initialisation de Boruta\n",
    "boruta_selector = BorutaPy(rf, n_estimators='auto', random_state=42, alpha=0.05)\n",
    "boruta_selector.fit(X_train_res, y_train_res)"
   ]
  },
  {
   "cell_type": "code",
   "execution_count": 65,
   "id": "49f1f06b-b171-4251-8b75-24323453d0b3",
   "metadata": {},
   "outputs": [
    {
     "name": "stdout",
     "output_type": "stream",
     "text": [
      "Nombre de caractéristiques sélectionnées : 58\n"
     ]
    }
   ],
   "source": [
    "# Sélection des caractéristiques importantes\n",
    "selected_features_boruta = X_train_imputed.columns[boruta_selector.support_]\n",
    "\n",
    "# Nombre de caractéristiques sélectionnées\n",
    "print(\"Nombre de caractéristiques sélectionnées :\", len(selected_features_boruta))"
   ]
  },
  {
   "cell_type": "code",
   "execution_count": 66,
   "id": "fc3bf5b8-4c9e-421d-93bd-2ffd5fceb45a",
   "metadata": {},
   "outputs": [],
   "source": [
    "# Créer un DataFrame avec les noms des caractéristiques sélectionnées\n",
    "selected_features_boruta = pd.DataFrame(selected_features_boruta, columns=[\"Selected Features\"])"
   ]
  },
  {
   "cell_type": "code",
   "execution_count": 67,
   "id": "0207f10e-a0a5-4a33-a9a6-ae1f258705d9",
   "metadata": {},
   "outputs": [
    {
     "data": {
      "text/plain": [
       "(58, 1)"
      ]
     },
     "execution_count": 67,
     "metadata": {},
     "output_type": "execute_result"
    }
   ],
   "source": [
    "selected_features_boruta.shape"
   ]
  },
  {
   "cell_type": "code",
   "execution_count": 68,
   "id": "e805efad-ae7f-490b-ac0d-7fe4b0f21bbb",
   "metadata": {},
   "outputs": [],
   "source": [
    "selected_features_boruta_list = selected_features_boruta.squeeze().tolist()"
   ]
  },
  {
   "cell_type": "markdown",
   "id": "cb66acd6-22bf-40fe-9168-f077d713b44f",
   "metadata": {},
   "source": [
    "<b>CatBoost et RFE"
   ]
  },
  {
   "cell_type": "code",
   "execution_count": null,
   "id": "d67dea3c-c4d6-4ebc-8f2f-8a9e6544a72b",
   "metadata": {},
   "outputs": [],
   "source": [
    "# Modèle CatBoost\n",
    "class_weights = compute_class_weight(class_weight='balanced', classes=np.unique(y_train), y=y_train)\n",
    "class_weights_catboost = class_weights.tolist()\n",
    "catboost_model = CatBoostClassifier(verbose=0, class_weights=class_weights_catboost, thread_count=-1, task_type=\"GPU\")\n",
    "\n",
    "# Sélection Récursive par Élimination avec CatBoost\n",
    "rfe = RFE(estimator=catboost_model, n_features_to_select=150, step=1)\n",
    "rfe.fit(X_train, y_train)"
   ]
  },
  {
   "cell_type": "code",
   "execution_count": null,
   "id": "bdfc0711-ada6-453c-a557-113b54a876c2",
   "metadata": {},
   "outputs": [],
   "source": []
  },
  {
   "cell_type": "raw",
   "id": "92dcfc13-3b2a-4804-aea9-1e8bb04fb555",
   "metadata": {},
   "source": [
    "# Liste pour stocker les scores de validation croisée\n",
    "mean_scores = []\n",
    "std_scores = []\n",
    "n_features_list = range(50, 301, 50)  # Vérifier de 50 à 300 caractéristiques par pas de 50\n",
    "\n",
    "# Effectuer la validation croisée pour chaque nombre de caractéristiques\n",
    "for n_features in n_features_list:\n",
    "    rfe = RFE(estimator=catboost_model, n_features_to_select=n_features, step=1)\n",
    "    cv = StratifiedKFold(n_splits=5, shuffle=True, random_state=42)\n",
    "    scores = cross_val_score(rfe, X_train_res, y_train_res, cv=cv, scoring='roc_auc') \n",
    "    mean_scores.append(np.mean(scores))\n",
    "    std_scores.append(np.std(scores))\n",
    "\n",
    "# Trouver le nombre optimal de caractéristiques\n",
    "optimal_n_features = n_features_list[np.argmax(mean_scores)]\n",
    "print(\"Nombre optimal de caractéristiques:\", optimal_n_features)\n",
    "\n",
    "# Tracer les scores de validation croisée\n",
    "plt.errorbar(n_features_list, mean_scores, yerr=std_scores, fmt='-o')\n",
    "plt.xlabel('Nombre de caractéristiques sélectionnées')\n",
    "plt.ylabel('Score AUC-ROC moyen')\n",
    "plt.title('Validation croisée pour RFE')\n",
    "plt.show()"
   ]
  },
  {
   "cell_type": "raw",
   "id": "67a6ee66-86f2-4598-9765-42a286331c88",
   "metadata": {},
   "source": [
    "# Sélection Récursive par Élimination\n",
    "rfe = RFE(estimator=rf, n_features_to_select=70, step=1)\n",
    "rfe.fit(X_train_res, y_train_res)"
   ]
  },
  {
   "cell_type": "code",
   "execution_count": null,
   "id": "93af49fe-37e1-4bc8-a846-3d588b73bd0e",
   "metadata": {},
   "outputs": [],
   "source": []
  },
  {
   "cell_type": "code",
   "execution_count": null,
   "id": "dd738790-745d-437d-afe9-df4ab3f8e336",
   "metadata": {},
   "outputs": [],
   "source": [
    "# Récupérer les indices des caractéristiques sélectionnées\n",
    "selected_features = rfe.support_\n",
    "selected_feature_indices = np.where(selected_features)[0]\n",
    "\n",
    "# Récupérer les noms des caractéristiques sélectionnées \n",
    "selected_feature_list = X_train_res.columns[selected_feature_indices].tolist()\n",
    "\n",
    "# Transformer en DataFrame\n",
    "selected_features =  pd.DataFrame(selected_feature_list, columns=[\"Selected Features\"])"
   ]
  },
  {
   "cell_type": "code",
   "execution_count": null,
   "id": "8ce6351e-92e1-4463-a61c-ade7f21977de",
   "metadata": {},
   "outputs": [],
   "source": [
    "selected_features.shape"
   ]
  },
  {
   "cell_type": "markdown",
   "id": "92a98b1b-63a8-408b-ac09-65931f47b3b6",
   "metadata": {},
   "source": [
    "#### Sauvegarde / Chargement des features"
   ]
  },
  {
   "cell_type": "code",
   "execution_count": 69,
   "id": "9f0873e1-e70b-47c6-bd20-d94214abded8",
   "metadata": {},
   "outputs": [
    {
     "name": "stdout",
     "output_type": "stream",
     "text": [
      "DataFrame sauvegardé sous : data/Featured\\features.csv\n"
     ]
    }
   ],
   "source": [
    "# Sauvegarde des features selectionnées\n",
    "save_dataframe(selected_features, \"features.csv\", output_feat_dir)"
   ]
  },
  {
   "cell_type": "code",
   "execution_count": 70,
   "id": "521c3447-d342-4024-86f4-3f74f0be6c8c",
   "metadata": {},
   "outputs": [],
   "source": [
    "# Charger la liste des features selectionnées\n",
    "# Vérification de l'existence de la variable selected_features\n",
    "try:\n",
    "    selected_features\n",
    "except NameError:\n",
    "    selected_features = None\n",
    "\n",
    "if selected_features is None:\n",
    "    # Définir la variable selected_features ici\n",
    "    selected_features = pd.read_csv(os.path.join(output_feat_dir, \"features.csv\"))\n",
    "    print(\"Features chargés avec succès.\")\n",
    "\n",
    "    # Séparer les features et la cible sur le jeu imputé\n",
    "    X_train_imputed = train_imputed_transformed.drop(columns=['TARGET'])\n",
    "    y_train_imputed = train_imputed_transformed['TARGET']\n",
    "    X_test_imputed = test_imputed_transformed.drop(columns=['TARGET'])\n",
    "    y_test_imputed = test_imputed_transformed['TARGET']\n",
    "\n",
    "    selected_features_list = selected_features.iloc[:, 0].tolist()"
   ]
  },
  {
   "cell_type": "code",
   "execution_count": 71,
   "id": "5b730e14-c3ad-4d56-8d86-a4080a163d1b",
   "metadata": {},
   "outputs": [],
   "source": [
    "# Filtrer les jeux de données pour ne garder que les features sélectionnées\n",
    "X_train_imp_selected = X_train_imputed[selected_features_list]\n",
    "X_test_imp_selected = X_test_imputed[selected_features_list]\n",
    "\n",
    "# idem sur jeu non imputé\n",
    "X_train_selected = X_train[selected_features_list]\n",
    "X_test_selected = X_test[selected_features_list]"
   ]
  },
  {
   "cell_type": "code",
   "execution_count": 72,
   "id": "019a910c-70ae-402e-9b62-9fcf09d053d7",
   "metadata": {},
   "outputs": [
    {
     "data": {
      "text/plain": [
       "(246004, 58)"
      ]
     },
     "execution_count": 72,
     "metadata": {},
     "output_type": "execute_result"
    }
   ],
   "source": [
    "X_train_imp_selected.shape"
   ]
  },
  {
   "cell_type": "code",
   "execution_count": 73,
   "id": "a7cf231d-33a5-435a-91c8-f9e8ac03b565",
   "metadata": {},
   "outputs": [
    {
     "data": {
      "text/plain": [
       "(61503, 58)"
      ]
     },
     "execution_count": 73,
     "metadata": {},
     "output_type": "execute_result"
    }
   ],
   "source": [
    "X_test_imp_selected.shape"
   ]
  },
  {
   "cell_type": "code",
   "execution_count": 74,
   "id": "23d07fa6-f9e1-4db0-aed0-c4fed32f0558",
   "metadata": {},
   "outputs": [
    {
     "data": {
      "text/plain": [
       "(246004, 58)"
      ]
     },
     "execution_count": 74,
     "metadata": {},
     "output_type": "execute_result"
    }
   ],
   "source": [
    "X_train_selected.shape"
   ]
  },
  {
   "cell_type": "code",
   "execution_count": 75,
   "id": "e75bec15-6542-4859-83e6-53ff2a6b8195",
   "metadata": {},
   "outputs": [
    {
     "data": {
      "text/plain": [
       "(61503, 58)"
      ]
     },
     "execution_count": 75,
     "metadata": {},
     "output_type": "execute_result"
    }
   ],
   "source": [
    "X_test_selected.shape"
   ]
  },
  {
   "cell_type": "markdown",
   "id": "c32b714b-3163-4818-b963-070f3e4d3dc4",
   "metadata": {},
   "source": [
    "### Standardisation"
   ]
  },
  {
   "cell_type": "code",
   "execution_count": 76,
   "id": "3e488bf9-48bb-4f25-8c08-ed0e676e58fe",
   "metadata": {},
   "outputs": [],
   "source": [
    "# Normaliser les données\n",
    "scaler = StandardScaler()\n",
    "X_train_scaled = scaler.fit_transform(X_train_imp_selected)\n",
    "X_test_scaled = scaler.transform(X_test_imp_selected)"
   ]
  },
  {
   "cell_type": "code",
   "execution_count": 77,
   "id": "12d79ec9-5a67-40ce-96f1-fc70a5524652",
   "metadata": {},
   "outputs": [
    {
     "data": {
      "text/plain": [
       "(246004, 58)"
      ]
     },
     "execution_count": 77,
     "metadata": {},
     "output_type": "execute_result"
    }
   ],
   "source": [
    "X_train_scaled.shape"
   ]
  },
  {
   "cell_type": "markdown",
   "id": "98e54929-847f-4d1c-915e-83c915ac8368",
   "metadata": {},
   "source": [
    "### Ensemble de validation"
   ]
  },
  {
   "cell_type": "code",
   "execution_count": 78,
   "id": "94e0eb0b-f6b3-4243-bfa9-0c0d6e158b79",
   "metadata": {},
   "outputs": [],
   "source": [
    "# Division des données d'entraînement en sous-ensembles d'entraînement et de validation sur jeu non imputé\n",
    "X_train_part, X_val_part, y_train_part, y_val_part = train_test_split(X_train_selected, y_train,\n",
    "                                                                      test_size=0.2, random_state=42,\n",
    "                                                                      stratify=y_train)"
   ]
  },
  {
   "cell_type": "code",
   "execution_count": 79,
   "id": "816e2ab4-0aa6-46a4-87f0-b69ecc01eaaf",
   "metadata": {},
   "outputs": [],
   "source": [
    "# Division des données d'entraînement en sous-ensembles d'entraînement et de validation sur jeu imputé\n",
    "X_train_imp_part, X_val_imp_part, y_train_imp_part, y_val_imp_part = train_test_split(X_train_imp_selected, y_train_imputed,\n",
    "                                                                                      test_size=0.2, random_state=42,\n",
    "                                                                                      stratify=y_train_imputed)"
   ]
  },
  {
   "cell_type": "markdown",
   "id": "6e2918b3-8d28-4dee-a302-16ed521171f5",
   "metadata": {},
   "source": [
    "## Tests de différents modèles"
   ]
  },
  {
   "cell_type": "code",
   "execution_count": 80,
   "id": "5b602ca3-d125-41a3-a54e-c6aa5f4cb6b5",
   "metadata": {},
   "outputs": [],
   "source": [
    "# Liste des modèles à tester\n",
    "dummy_model = DummyClassifier(strategy='most_frequent')\n",
    "logistic_model = LogisticRegression(random_state=42, max_iter=5000, n_jobs=-1)\n",
    "\n",
    "# Calcul de scale_pos_weight pour XGBoost\n",
    "scale_pos_weight = sum(y_train == 0) / sum(y_train == 1)\n",
    "xgb_model_weight = XGBClassifier(scale_pos_weight=scale_pos_weight, n_jobs=-1, use_label_encoder=False, eval_metric='logloss')\n",
    "xgb_model = XGBClassifier(n_jobs=-1, use_label_encoder=False, eval_metric='logloss')\n",
    "\n",
    "lgbm_model_ub = LGBMClassifier(verbose=0, n_jobs=-1, is_unbalance=True, verbosity=-1)\n",
    "lgbm_model = LGBMClassifier(verbose=0, n_jobs=-1, is_unbalance=False)\n",
    "\n",
    "# Calcul des poids de classe pour catboost\n",
    "class_weights = compute_class_weight(class_weight='balanced', classes=np.unique(y_train), y=y_train)\n",
    "class_weights_catboost = class_weights.tolist()\n",
    "catboost_model_weight = CatBoostClassifier(verbose=0, class_weights=class_weights_catboost, thread_count=-1, task_type=\"GPU\")\n",
    "\n",
    "catboost_model = CatBoostClassifier(verbose=0, thread_count=-1, task_type=\"GPU\")"
   ]
  },
  {
   "cell_type": "code",
   "execution_count": 81,
   "id": "a77905a8-9eb7-4d05-bcff-547af91bf40b",
   "metadata": {},
   "outputs": [],
   "source": [
    "# Fonction pour préparer les données avec différentes techniques de rééquilibrage\n",
    "def prepare_data(need_imputation, need_scaling, need_validation, technique=None):\n",
    "\n",
    "    if need_imputation:\n",
    "        if need_validation:\n",
    "            #print(\"Avec imputation, sans scaling, avec validation\")\n",
    "            X_train_loc, y_train_loc = X_train_imp_part, y_train_imp_part\n",
    "            X_val, y_val = X_val_imp_part, y_val_imp_part\n",
    "            X_test_loc, y_test_loc = X_test_imp_selected, y_test_imputed\n",
    "        else:\n",
    "            if need_scaling:\n",
    "                #print(\"Avec Imputation, avec scaling, sans validation\")\n",
    "                X_train_loc, y_train_loc = X_train_scaled, y_train_imputed\n",
    "                X_test_loc, y_test_loc = X_test_scaled, y_test_imputed\n",
    "            else:\n",
    "                #print(\"Avec Imputation, sans scaling, sans validation\")\n",
    "                X_train_loc, y_train_loc = X_train_imp_selected, y_train_imputed\n",
    "                X_test_loc, y_test_loc = X_test_imp_selected, y_test_imputed\n",
    "            X_val, y_val = None, None\n",
    "    else:\n",
    "        if need_validation:\n",
    "            #print(\"Sans imputation, sans scaling, avec validation\")\n",
    "            X_train_loc, y_train_loc = X_train_part, y_train_part\n",
    "            X_val, y_val = X_val_part, y_val_part\n",
    "        else:\n",
    "            #print(\"Sans imputation, sans scaling, sans validation\")\n",
    "            X_train_loc, y_train_loc = X_train_selected, y_train\n",
    "            X_val, y_val = None, None\n",
    "        X_test_loc, y_test_loc = X_test_selected, y_test\n",
    "        \n",
    "    \n",
    "    if technique == \"SMOTE\":\n",
    "        smote = SMOTE(random_state=42)\n",
    "        X_res, y_res = smote.fit_resample(X_train_loc, y_train_loc)\n",
    "    elif technique == \"Undersampling\":\n",
    "        undersample = RandomUnderSampler(random_state=42)\n",
    "        X_res, y_res = undersample.fit_resample(X_train_loc, y_train_loc)\n",
    "    else:\n",
    "        X_res, y_res = X_train_loc, y_train_loc\n",
    "    #print(f\"X_res :{X_res.shape}\")\n",
    "    return X_res, y_res, X_val, y_val, X_test_loc, y_test_loc"
   ]
  },
  {
   "cell_type": "markdown",
   "id": "b824a049-20fc-4473-bfe5-e6027adb63d0",
   "metadata": {},
   "source": [
    "### Ensemble de validation fixe"
   ]
  },
  {
   "cell_type": "code",
   "execution_count": 82,
   "id": "4d0061c8-fe69-425e-bfef-f52d8bc73595",
   "metadata": {},
   "outputs": [],
   "source": [
    "results=[]\n",
    "\n",
    "# Fonction pour entraîner et enregistrer les modèles avec MLFlow\n",
    "def train_and_log_model(model, model_name, need_imputation=True, need_scaling=False, need_validation=False, technique=None, best_params=None):\n",
    "    # préparation des données\n",
    "    X_train_loc, y_train_loc, X_val, y_val, X_test_loc, y_test_loc = prepare_data(need_imputation, need_scaling,\n",
    "                                                                                  need_validation, technique)\n",
    "\n",
    "    # Appliquer les meilleurs hyperparamètres\n",
    "    if best_params:\n",
    "        model.set_params(**best_params)\n",
    "    \n",
    "    with mlflow.start_run(run_name=f\"{model_name}\"):\n",
    "        if \"LightGBM\" in model_name:\n",
    "            model.fit(X_train_loc, y_train_loc, eval_set=[(X_val, y_val)], callbacks=[lgb.early_stopping(stopping_rounds=50, verbose=False)])\n",
    "        elif \"CatBoost\" in model_name:\n",
    "            eval_dataset = Pool(X_val, y_val)\n",
    "            model.fit(X_train_loc, y_train_loc, eval_set=eval_dataset, early_stopping_rounds=50, verbose=False)\n",
    "        else:\n",
    "            # Entraînement des modèles qui n'utilisent pas d'ensemble de validation\n",
    "            model.fit(X_train_loc, y_train_loc)\n",
    "        \n",
    "        y_pred_proba = model.predict_proba(X_test_loc)[:, 1]\n",
    "        y_pred = (y_pred_proba >= 0.5).astype(int)\n",
    "        auc_score = roc_auc_score(y_test_loc, y_pred_proba)       \n",
    "        accuracy = accuracy_score(y_test_loc, y_pred)\n",
    "        custom_score = -normalized_cost_function(y_test_loc, y_pred)\n",
    "\n",
    "        mlflow.log_param(\"model\", model_name)\n",
    "        mlflow.log_param(\"balancing_technique\", technique)\n",
    "        mlflow.log_metric(\"ROC AUC\", auc_score)\n",
    "        mlflow.log_metric(\"Accuracy\", accuracy)\n",
    "        mlflow.log_metric(\"Custom Score\", custom_score)\n",
    "        \n",
    "        mlflow.sklearn.log_model(model, f\"{model_name}\")\n",
    "\n",
    "        print(f\"{model_name} - ROC AUC: {auc_score}, Accuracy: {accuracy}, Custom Score: {custom_score}\")\n",
    "\n",
    "            # Ajouter les résultats au DataFrame\n",
    "    results.append({\n",
    "        \"Model\": model_name,\n",
    "        \"ROC AUC\": auc_score,\n",
    "        \"Accuracy\": accuracy,\n",
    "        \"Custom Score\": custom_score\n",
    "    })"
   ]
  },
  {
   "cell_type": "code",
   "execution_count": 83,
   "id": "f24ec0fa-0d4a-4852-bf5f-91158d53b0a5",
   "metadata": {},
   "outputs": [],
   "source": [
    "# Liste des modèles à tester\n",
    "model_datasets = {\n",
    "    \"Dummy Classifier\": (dummy_model, True, False, False, None, None),\n",
    "    \"Logistic Regression\": (logistic_model, True, True, False, None, None),\n",
    "    \"Logistic Regression SMOTE\": (logistic_model, True, True, False, \"SMOTE\", None),\n",
    "    \"Logistic Regression Undersampling\": (logistic_model, True, True, False, \"Undersampling\", None),\n",
    "    \"XGBoost\": (xgb_model, True, False, False, None, None),\n",
    "    \"XGBoost with weight\": (xgb_model_weight, True, False, False, None, None),\n",
    "    \"LightGBM\": (lgbm_model, False, False, True, None, None),\n",
    "    \"LightGBM with unbalanced\": (lgbm_model_ub, False, False, True, None, None),\n",
    "    \"CatBoost\": (catboost_model, False, False, True, None, None),\n",
    "    \"CatBoost with weight\": (catboost_model_weight, False, False, True, None, None),\n",
    "}"
   ]
  },
  {
   "cell_type": "code",
   "execution_count": 84,
   "id": "21103517-e021-4286-876e-c3ecee597aca",
   "metadata": {},
   "outputs": [
    {
     "name": "stdout",
     "output_type": "stream",
     "text": [
      "Evaluating Dummy Classifier\n",
      "Dummy Classifier - ROC AUC: 0.5, Accuracy: 0.9192722306228964, Custom Score: -0.8072776937710355\n",
      "Evaluating Logistic Regression\n",
      "Logistic Regression - ROC AUC: 0.7497580484595607, Accuracy: 0.9191746744061265, Custom Score: -0.8009365396809912\n",
      "Evaluating Logistic Regression SMOTE\n",
      "Logistic Regression SMOTE - ROC AUC: 0.7461737023147315, Accuracy: 0.6792188998910622, Custom Score: -0.5455506235468188\n",
      "Evaluating Logistic Regression Undersampling\n",
      "Logistic Regression Undersampling - ROC AUC: 0.7497552698027656, Accuracy: 0.6859990569565713, Custom Score: -0.5425751589353365\n",
      "Evaluating XGBoost\n",
      "XGBoost - ROC AUC: 0.7529197680306059, Accuracy: 0.9193210087312814, Custom Score: -0.783083752012097\n",
      "Evaluating XGBoost with weight\n",
      "XGBoost with weight - ROC AUC: 0.734425484386674, Accuracy: 0.7924654081914704, Custom Score: -0.5689803749410598\n",
      "Evaluating LightGBM\n",
      "LightGBM - ROC AUC: 0.7663992458867954, Accuracy: 0.9194185649480513, Custom Score: -0.7957172820838008\n",
      "Evaluating LightGBM with unbalanced\n",
      "LightGBM with unbalanced - ROC AUC: 0.721370898778271, Accuracy: 0.9192722306228964, Custom Score: -0.8072776937710355\n",
      "Evaluating CatBoost\n",
      "CatBoost - ROC AUC: 0.7676126496854401, Accuracy: 0.9195974180121295, Custom Score: -0.7920264052160058\n",
      "Evaluating CatBoost with weight\n",
      "CatBoost with weight - ROC AUC: 0.767541875871915, Accuracy: 0.744597824496366, Custom Score: -0.5182186234817814\n"
     ]
    },
    {
     "data": {
      "text/html": [
       "<div>\n",
       "<style scoped>\n",
       "    .dataframe tbody tr th:only-of-type {\n",
       "        vertical-align: middle;\n",
       "    }\n",
       "\n",
       "    .dataframe tbody tr th {\n",
       "        vertical-align: top;\n",
       "    }\n",
       "\n",
       "    .dataframe thead th {\n",
       "        text-align: right;\n",
       "    }\n",
       "</style>\n",
       "<table border=\"1\" class=\"dataframe\">\n",
       "  <thead>\n",
       "    <tr style=\"text-align: right;\">\n",
       "      <th></th>\n",
       "      <th>Model</th>\n",
       "      <th>ROC AUC</th>\n",
       "      <th>Accuracy</th>\n",
       "      <th>Custom Score</th>\n",
       "    </tr>\n",
       "  </thead>\n",
       "  <tbody>\n",
       "    <tr>\n",
       "      <th>8</th>\n",
       "      <td>CatBoost</td>\n",
       "      <td>0.767613</td>\n",
       "      <td>0.919597</td>\n",
       "      <td>-0.792026</td>\n",
       "    </tr>\n",
       "    <tr>\n",
       "      <th>9</th>\n",
       "      <td>CatBoost with weight</td>\n",
       "      <td>0.767542</td>\n",
       "      <td>0.744598</td>\n",
       "      <td>-0.518219</td>\n",
       "    </tr>\n",
       "    <tr>\n",
       "      <th>6</th>\n",
       "      <td>LightGBM</td>\n",
       "      <td>0.766399</td>\n",
       "      <td>0.919419</td>\n",
       "      <td>-0.795717</td>\n",
       "    </tr>\n",
       "    <tr>\n",
       "      <th>4</th>\n",
       "      <td>XGBoost</td>\n",
       "      <td>0.752920</td>\n",
       "      <td>0.919321</td>\n",
       "      <td>-0.783084</td>\n",
       "    </tr>\n",
       "    <tr>\n",
       "      <th>1</th>\n",
       "      <td>Logistic Regression</td>\n",
       "      <td>0.749758</td>\n",
       "      <td>0.919175</td>\n",
       "      <td>-0.800937</td>\n",
       "    </tr>\n",
       "    <tr>\n",
       "      <th>3</th>\n",
       "      <td>Logistic Regression Undersampling</td>\n",
       "      <td>0.749755</td>\n",
       "      <td>0.685999</td>\n",
       "      <td>-0.542575</td>\n",
       "    </tr>\n",
       "    <tr>\n",
       "      <th>2</th>\n",
       "      <td>Logistic Regression SMOTE</td>\n",
       "      <td>0.746174</td>\n",
       "      <td>0.679219</td>\n",
       "      <td>-0.545551</td>\n",
       "    </tr>\n",
       "    <tr>\n",
       "      <th>5</th>\n",
       "      <td>XGBoost with weight</td>\n",
       "      <td>0.734425</td>\n",
       "      <td>0.792465</td>\n",
       "      <td>-0.568980</td>\n",
       "    </tr>\n",
       "    <tr>\n",
       "      <th>7</th>\n",
       "      <td>LightGBM with unbalanced</td>\n",
       "      <td>0.721371</td>\n",
       "      <td>0.919272</td>\n",
       "      <td>-0.807278</td>\n",
       "    </tr>\n",
       "    <tr>\n",
       "      <th>0</th>\n",
       "      <td>Dummy Classifier</td>\n",
       "      <td>0.500000</td>\n",
       "      <td>0.919272</td>\n",
       "      <td>-0.807278</td>\n",
       "    </tr>\n",
       "  </tbody>\n",
       "</table>\n",
       "</div>"
      ],
      "text/plain": [
       "                               Model   ROC AUC  Accuracy  Custom Score\n",
       "8                           CatBoost  0.767613  0.919597     -0.792026\n",
       "9               CatBoost with weight  0.767542  0.744598     -0.518219\n",
       "6                           LightGBM  0.766399  0.919419     -0.795717\n",
       "4                            XGBoost  0.752920  0.919321     -0.783084\n",
       "1                Logistic Regression  0.749758  0.919175     -0.800937\n",
       "3  Logistic Regression Undersampling  0.749755  0.685999     -0.542575\n",
       "2          Logistic Regression SMOTE  0.746174  0.679219     -0.545551\n",
       "5                XGBoost with weight  0.734425  0.792465     -0.568980\n",
       "7           LightGBM with unbalanced  0.721371  0.919272     -0.807278\n",
       "0                   Dummy Classifier  0.500000  0.919272     -0.807278"
      ]
     },
     "execution_count": 84,
     "metadata": {},
     "output_type": "execute_result"
    }
   ],
   "source": [
    "# Entraîner et évaluer chaque modèle\n",
    "for model_name, dfs in model_datasets.items():\n",
    "    print(f\"Evaluating {model_name}\")\n",
    "    train_and_log_model(dfs[0], model_name, dfs[1], dfs[2], dfs[3], dfs[4], dfs[5])\n",
    "    \n",
    "\n",
    "# Afficher les résultats\n",
    "results_df = pd.DataFrame(results)\n",
    "results_df.sort_values(by=\"ROC AUC\", ascending=False)"
   ]
  },
  {
   "cell_type": "markdown",
   "id": "114e5ca7-c1f0-4d4f-bed5-17c12fccc146",
   "metadata": {},
   "source": [
    "### Validation croisée"
   ]
  },
  {
   "cell_type": "code",
   "execution_count": 85,
   "id": "68ca355c-a5e8-45c0-871d-43a8e1443575",
   "metadata": {},
   "outputs": [],
   "source": [
    "# selection des modèles prometteurs\n",
    "model_datasets_cv = {\n",
    "    \"Logistic Regression\": (logistic_model, True, True, False, None),\n",
    "    \"Logistic Regression SMOTE\": (logistic_model, True, True, False, \"SMOTE\"),\n",
    "    \"Logistic Regression Undersampling\": (logistic_model, True, True, False, \"Undersampling\"),\n",
    "    \"XGBoost\": (xgb_model, True, False, False, None),\n",
    "    \"XGBoost with weight\": (xgb_model_weight, True, False, False, None),\n",
    "    \"LightGBM\": (lgbm_model, False, False, False, None),\n",
    "    \"LightGBM with unbalanced\": (lgbm_model_ub, False, False, False, None),\n",
    "    \"CatBoost\": (catboost_model, False, False, False, None),\n",
    "    \"CatBoost with weight\": (catboost_model_weight, False, False, False, None),\n",
    "}"
   ]
  },
  {
   "cell_type": "code",
   "execution_count": 86,
   "id": "878d1d2f-8fe8-4aae-b8d1-26a0778420b9",
   "metadata": {},
   "outputs": [],
   "source": [
    "# Fonction pour effectuer une validation croisée et évaluer les modèles\n",
    "def cross_validate_model(model, X, y, scoring=custom_scorer):\n",
    "    skf = StratifiedKFold(n_splits=5, shuffle=True, random_state=42)\n",
    "    auc_scores = cross_val_score(model, X, y, cv=skf, scoring=make_scorer(roc_auc_score))\n",
    "    accuracy_scores = cross_val_score(model, X, y, cv=skf, scoring=make_scorer(accuracy_score))\n",
    "    scores = cross_val_score(model, X, y, cv=skf, scoring=scoring)\n",
    "    return np.mean(auc_scores), np.mean(accuracy_scores), np.mean(scores)"
   ]
  },
  {
   "cell_type": "code",
   "execution_count": 87,
   "id": "d9653007-885c-4ca5-ab66-5faec9c125b9",
   "metadata": {},
   "outputs": [
    {
     "name": "stdout",
     "output_type": "stream",
     "text": [
      "Evaluating Logistic Regression\n",
      "Logistic Regression - ROC AUC: 0.5048351136983508, Accuracy: 0.9193346456042353, Custom Score: -0.799592685091502\n",
      "Evaluating Logistic Regression SMOTE\n",
      "Logistic Regression SMOTE - ROC AUC: 0.6944203639698354, Accuracy: 0.6944203658424422, Custom Score: -1.617489346016113\n",
      "Evaluating Logistic Regression Undersampling\n",
      "Logistic Regression Undersampling - ROC AUC: 0.6850956696878148, Accuracy: 0.6850956696878148, Custom Score: -1.7306143001007048\n",
      "Evaluating XGBoost\n",
      "XGBoost - ROC AUC: 0.5225334661566252, Accuracy: 0.9181801903358762, Custom Score: -0.771552500998476\n",
      "Evaluating XGBoost with weight\n",
      "XGBoost with weight - ROC AUC: 0.6840698518467668, Accuracy: 0.7667680227597993, Custom Score: -0.5344344282611745\n",
      "Evaluating LightGBM\n",
      "LightGBM - ROC AUC: 0.5141577947478874, Accuracy: 0.9195013077267417, Custom Score: -0.7847189483061271\n",
      "Evaluating LightGBM with unbalanced\n",
      "LightGBM with unbalanced - ROC AUC: 0.7059788669439007, Accuracy: 0.7186346552874281, Custom Score: -0.5059592695336519\n",
      "Evaluating CatBoost\n",
      "CatBoost - ROC AUC: 0.5149899660698093, Accuracy: 0.9196679724931232, Custom Score: -0.7834384752078045\n",
      "Evaluating CatBoost with weight\n",
      "CatBoost with weight - ROC AUC: 0.7077578530854177, Accuracy: 0.7290531898105713, Custom Score: -0.5017560816977248\n"
     ]
    }
   ],
   "source": [
    "# Liste pour stocker les résultats\n",
    "results = []\n",
    "\n",
    "# Entraîner et évaluer chaque modèle\n",
    "for model_name, dfs in model_datasets_cv.items():\n",
    "    print(f\"Evaluating {model_name}\")\n",
    "    # préparation des données\n",
    "    X_train_loc, y_train_loc, X_val, y_val, X_test_loc, y_test_loc = prepare_data(dfs[1], dfs[2], dfs[3], dfs[4])\n",
    "\n",
    "    # CV\n",
    "    auc, accuracy, custom_score = cross_validate_model(dfs[0], X_train_loc, y_train_loc)\n",
    "    \n",
    "    # Enregistrer les résultats dans MLflow\n",
    "    with mlflow.start_run(run_name=f\"{model_name}_CV\"):\n",
    "        mlflow.log_param(\"model\", model_name)\n",
    "        mlflow.log_metric(\"ROC AUC\", auc)\n",
    "        mlflow.log_metric(\"Accuracy\", accuracy)\n",
    "        mlflow.log_metric(\"Custom Score\", custom_score)\n",
    "        mlflow.sklearn.log_model(dfs[0], f\"{model_name}\")\n",
    "\n",
    "    print(f\"{model_name} - ROC AUC: {auc}, Accuracy: {accuracy}, Custom Score: {custom_score}\")\n",
    "\n",
    "    # Ajouter les résultats au DataFrame\n",
    "    results.append({\n",
    "        \"Model\": model_name,\n",
    "        \"ROC AUC\": auc,\n",
    "        \"Accuracy\": accuracy,\n",
    "        \"Custom Score\": custom_score\n",
    "    })"
   ]
  },
  {
   "cell_type": "code",
   "execution_count": 88,
   "id": "bf2d4b36-3673-4eb1-bf4f-077268bc4f51",
   "metadata": {},
   "outputs": [
    {
     "data": {
      "text/html": [
       "<div>\n",
       "<style scoped>\n",
       "    .dataframe tbody tr th:only-of-type {\n",
       "        vertical-align: middle;\n",
       "    }\n",
       "\n",
       "    .dataframe tbody tr th {\n",
       "        vertical-align: top;\n",
       "    }\n",
       "\n",
       "    .dataframe thead th {\n",
       "        text-align: right;\n",
       "    }\n",
       "</style>\n",
       "<table border=\"1\" class=\"dataframe\">\n",
       "  <thead>\n",
       "    <tr style=\"text-align: right;\">\n",
       "      <th></th>\n",
       "      <th>Model</th>\n",
       "      <th>ROC AUC</th>\n",
       "      <th>Accuracy</th>\n",
       "      <th>Custom Score</th>\n",
       "    </tr>\n",
       "  </thead>\n",
       "  <tbody>\n",
       "    <tr>\n",
       "      <th>8</th>\n",
       "      <td>CatBoost with weight</td>\n",
       "      <td>0.707758</td>\n",
       "      <td>0.729053</td>\n",
       "      <td>-0.501756</td>\n",
       "    </tr>\n",
       "    <tr>\n",
       "      <th>6</th>\n",
       "      <td>LightGBM with unbalanced</td>\n",
       "      <td>0.705979</td>\n",
       "      <td>0.718635</td>\n",
       "      <td>-0.505959</td>\n",
       "    </tr>\n",
       "    <tr>\n",
       "      <th>1</th>\n",
       "      <td>Logistic Regression SMOTE</td>\n",
       "      <td>0.694420</td>\n",
       "      <td>0.694420</td>\n",
       "      <td>-1.617489</td>\n",
       "    </tr>\n",
       "    <tr>\n",
       "      <th>2</th>\n",
       "      <td>Logistic Regression Undersampling</td>\n",
       "      <td>0.685096</td>\n",
       "      <td>0.685096</td>\n",
       "      <td>-1.730614</td>\n",
       "    </tr>\n",
       "    <tr>\n",
       "      <th>4</th>\n",
       "      <td>XGBoost with weight</td>\n",
       "      <td>0.684070</td>\n",
       "      <td>0.766768</td>\n",
       "      <td>-0.534434</td>\n",
       "    </tr>\n",
       "    <tr>\n",
       "      <th>3</th>\n",
       "      <td>XGBoost</td>\n",
       "      <td>0.522533</td>\n",
       "      <td>0.918180</td>\n",
       "      <td>-0.771553</td>\n",
       "    </tr>\n",
       "    <tr>\n",
       "      <th>7</th>\n",
       "      <td>CatBoost</td>\n",
       "      <td>0.514990</td>\n",
       "      <td>0.919668</td>\n",
       "      <td>-0.783438</td>\n",
       "    </tr>\n",
       "    <tr>\n",
       "      <th>5</th>\n",
       "      <td>LightGBM</td>\n",
       "      <td>0.514158</td>\n",
       "      <td>0.919501</td>\n",
       "      <td>-0.784719</td>\n",
       "    </tr>\n",
       "    <tr>\n",
       "      <th>0</th>\n",
       "      <td>Logistic Regression</td>\n",
       "      <td>0.504835</td>\n",
       "      <td>0.919335</td>\n",
       "      <td>-0.799593</td>\n",
       "    </tr>\n",
       "  </tbody>\n",
       "</table>\n",
       "</div>"
      ],
      "text/plain": [
       "                               Model   ROC AUC  Accuracy  Custom Score\n",
       "8               CatBoost with weight  0.707758  0.729053     -0.501756\n",
       "6           LightGBM with unbalanced  0.705979  0.718635     -0.505959\n",
       "1          Logistic Regression SMOTE  0.694420  0.694420     -1.617489\n",
       "2  Logistic Regression Undersampling  0.685096  0.685096     -1.730614\n",
       "4                XGBoost with weight  0.684070  0.766768     -0.534434\n",
       "3                            XGBoost  0.522533  0.918180     -0.771553\n",
       "7                           CatBoost  0.514990  0.919668     -0.783438\n",
       "5                           LightGBM  0.514158  0.919501     -0.784719\n",
       "0                Logistic Regression  0.504835  0.919335     -0.799593"
      ]
     },
     "execution_count": 88,
     "metadata": {},
     "output_type": "execute_result"
    }
   ],
   "source": [
    "# Afficher les résultats\n",
    "results_df = pd.DataFrame(results)\n",
    "results_df.sort_values(by=\"ROC AUC\", ascending=False)"
   ]
  },
  {
   "cell_type": "markdown",
   "id": "5850bdf1-070b-43b1-a3f0-caf428b4b254",
   "metadata": {},
   "source": [
    "## Recherche des hyperparamètres"
   ]
  },
  {
   "cell_type": "code",
   "execution_count": 89,
   "id": "652da0d0-b064-48e2-a559-a5d829ec78cf",
   "metadata": {},
   "outputs": [],
   "source": [
    "# Sélection des modèles les plus prometteurs\n",
    "model_datasets_hp = {\n",
    "    \"LightGBM\": (lgbm_model_ub, False, False, False, None),\n",
    "    \"CatBoost\": (catboost_model_weight, False, False, False, None),\n",
    "}"
   ]
  },
  {
   "cell_type": "markdown",
   "id": "f796c1a5-0006-4a05-86ae-d3aaf6da2273",
   "metadata": {},
   "source": [
    "### RandomizedSearchCV"
   ]
  },
  {
   "cell_type": "code",
   "execution_count": 90,
   "id": "0bb623fb-e84c-40bb-9e91-b588158abd9b",
   "metadata": {},
   "outputs": [],
   "source": [
    "# Grilles d'hyperparamètres pour chaque modèle\n",
    "param_grids = {\n",
    "    \"LightGBM\": {\n",
    "        'n_estimators': [200, 400, 600],\n",
    "        'max_depth': [3, 4, 5],\n",
    "        'learning_rate': [0.1, 0.14, 0.16],\n",
    "        'num_leaves': [50, 100, 150],\n",
    "        'reg_alpha': [0, 0.01, 0.1],\n",
    "        'reg_lambda': [0, 0.05, 0.1],\n",
    "        'min_child_samples': [50, 75, 100]\n",
    "    },\n",
    "    \"CatBoost\": {\n",
    "        'iterations': [500, 1000, 2000],\n",
    "        'depth': [3, 5, 7],\n",
    "        'learning_rate': [0.01, 0.05, 0.1, 0.12],\n",
    "        'l2_leaf_reg': [3, 4, 5]\n",
    "    }\n",
    "}"
   ]
  },
  {
   "cell_type": "code",
   "execution_count": 91,
   "id": "d5ccd2b0-08cb-4188-bc80-12592027bd6e",
   "metadata": {},
   "outputs": [
    {
     "name": "stdout",
     "output_type": "stream",
     "text": [
      "Processing LightGBM...\n",
      "Processing CatBoost...\n",
      "LightGBM - Best Parameters: {'reg_lambda': 0.1, 'reg_alpha': 0.01, 'num_leaves': 150, 'n_estimators': 400, 'min_child_samples': 75, 'max_depth': 3, 'learning_rate': 0.14}, Best ROC AUC Score: 0.7083\n",
      "CatBoost - Best Parameters: {'learning_rate': 0.05, 'l2_leaf_reg': 5, 'iterations': 500, 'depth': 5}, Best ROC AUC Score: 0.7076\n"
     ]
    }
   ],
   "source": [
    "# Recherche des hyperparamètres pour chaque modèle\n",
    "best_params = {}\n",
    "best_scores = {}\n",
    "\n",
    "for model_name, dfs in model_datasets_hp.items(): \n",
    "    print(f\"Processing {model_name}...\")\n",
    "    X_train_loc, y_train_loc, X_val, y_val, X_test_loc, y_test_loc = prepare_data(dfs[1], dfs[2], dfs[3], dfs[4])\n",
    "        \n",
    "    # Utiliser RandomizedSearchCV\n",
    "    random_search = RandomizedSearchCV(dfs[0], param_grids[model_name], n_iter=10, cv=5, scoring=make_scorer(roc_auc_score),\n",
    "                                       random_state=42)\n",
    "    random_search.fit(X_train_loc, y_train_loc)\n",
    "    \n",
    "    best_params[model_name] = random_search.best_params_\n",
    "    best_scores[model_name] = random_search.best_score_\n",
    "\n",
    "    # Enregistrer les résultats dans MLflow\n",
    "    with mlflow.start_run(run_name=f\"{model_name}_HP_Rand\"):\n",
    "        mlflow.log_param(\"model\", model_name)\n",
    "        mlflow.log_metric(\"ROC AUC\", best_scores[model_name])\n",
    "        mlflow.log_params(best_params[model_name])\n",
    "        # Enregistrer le modèle dans MLflow\n",
    "        mlflow.sklearn.log_model(random_search.best_estimator_, model_name)\n",
    "\n",
    "\n",
    "# Afficher les meilleurs hyperparamètres et scores pour chaque modèle\n",
    "for model_name in best_params:\n",
    "    print(f\"{model_name} - Best Parameters: {best_params[model_name]}, Best ROC AUC Score: {best_scores[model_name]:.4f}\")\n"
   ]
  },
  {
   "cell_type": "markdown",
   "id": "3e27d5f2-61b4-46a3-a9c2-1166d5d50eea",
   "metadata": {},
   "source": [
    "### GridSearchCV"
   ]
  },
  {
   "cell_type": "code",
   "execution_count": 92,
   "id": "f93d48fc-8563-452d-84ff-cf5e30a8ccfc",
   "metadata": {},
   "outputs": [],
   "source": [
    "# Grilles d'hyperparamètres pour chaque modèle\n",
    "param_grids = {\n",
    "    \"LightGBM\": {\n",
    "        'n_estimators': [200, 400, 600],\n",
    "        'max_depth': [3, 4],\n",
    "        'learning_rate': [0.12, 0.14],\n",
    "        'num_leaves': [50, 100],\n",
    "        'reg_alpha': [0, 0.01],\n",
    "        'reg_lambda': [0, 0.1],\n",
    "        'min_child_samples': [50, 75, 100]\n",
    "    },\n",
    "    \"CatBoost\": {\n",
    "        'iterations': [500, 1000],\n",
    "        'depth': [3, 5],\n",
    "        'learning_rate': [0.01, 0.1],\n",
    "        'l2_leaf_reg': [3, 4]\n",
    "    }\n",
    "}"
   ]
  },
  {
   "cell_type": "code",
   "execution_count": 93,
   "id": "4dd113a5-695c-4c92-9892-68ec522a0b19",
   "metadata": {},
   "outputs": [
    {
     "name": "stdout",
     "output_type": "stream",
     "text": [
      "Processing LightGBM...\n"
     ]
    },
    {
     "ename": "KeyboardInterrupt",
     "evalue": "",
     "output_type": "error",
     "traceback": [
      "\u001b[1;31m---------------------------------------------------------------------------\u001b[0m",
      "\u001b[1;31mKeyboardInterrupt\u001b[0m                         Traceback (most recent call last)",
      "Cell \u001b[1;32mIn[93], line 11\u001b[0m\n\u001b[0;32m      7\u001b[0m X_train_loc, y_train_loc, X_val, y_val, X_test_loc, y_test_loc \u001b[38;5;241m=\u001b[39m prepare_data(need_imputation, need_scaling,\n\u001b[0;32m      8\u001b[0m                                                                               need_validation, technique)\n\u001b[0;32m     10\u001b[0m grid_search \u001b[38;5;241m=\u001b[39m GridSearchCV(model, param_grids[model_name], cv\u001b[38;5;241m=\u001b[39m\u001b[38;5;241m5\u001b[39m, scoring\u001b[38;5;241m=\u001b[39mmake_scorer(roc_auc_score))\n\u001b[1;32m---> 11\u001b[0m grid_search\u001b[38;5;241m.\u001b[39mfit(X_train_loc, y_train_loc)\n\u001b[0;32m     13\u001b[0m best_params[model_name] \u001b[38;5;241m=\u001b[39m grid_search\u001b[38;5;241m.\u001b[39mbest_params_\n\u001b[0;32m     14\u001b[0m best_scores[model_name] \u001b[38;5;241m=\u001b[39m grid_search\u001b[38;5;241m.\u001b[39mbest_score_\n",
      "File \u001b[1;32m~\\anaconda3\\envs\\Projet-7\\Lib\\site-packages\\sklearn\\base.py:1473\u001b[0m, in \u001b[0;36m_fit_context.<locals>.decorator.<locals>.wrapper\u001b[1;34m(estimator, *args, **kwargs)\u001b[0m\n\u001b[0;32m   1466\u001b[0m     estimator\u001b[38;5;241m.\u001b[39m_validate_params()\n\u001b[0;32m   1468\u001b[0m \u001b[38;5;28;01mwith\u001b[39;00m config_context(\n\u001b[0;32m   1469\u001b[0m     skip_parameter_validation\u001b[38;5;241m=\u001b[39m(\n\u001b[0;32m   1470\u001b[0m         prefer_skip_nested_validation \u001b[38;5;129;01mor\u001b[39;00m global_skip_validation\n\u001b[0;32m   1471\u001b[0m     )\n\u001b[0;32m   1472\u001b[0m ):\n\u001b[1;32m-> 1473\u001b[0m     \u001b[38;5;28;01mreturn\u001b[39;00m fit_method(estimator, \u001b[38;5;241m*\u001b[39margs, \u001b[38;5;241m*\u001b[39m\u001b[38;5;241m*\u001b[39mkwargs)\n",
      "File \u001b[1;32m~\\anaconda3\\envs\\Projet-7\\Lib\\site-packages\\sklearn\\model_selection\\_search.py:968\u001b[0m, in \u001b[0;36mBaseSearchCV.fit\u001b[1;34m(self, X, y, **params)\u001b[0m\n\u001b[0;32m    962\u001b[0m     results \u001b[38;5;241m=\u001b[39m \u001b[38;5;28mself\u001b[39m\u001b[38;5;241m.\u001b[39m_format_results(\n\u001b[0;32m    963\u001b[0m         all_candidate_params, n_splits, all_out, all_more_results\n\u001b[0;32m    964\u001b[0m     )\n\u001b[0;32m    966\u001b[0m     \u001b[38;5;28;01mreturn\u001b[39;00m results\n\u001b[1;32m--> 968\u001b[0m \u001b[38;5;28mself\u001b[39m\u001b[38;5;241m.\u001b[39m_run_search(evaluate_candidates)\n\u001b[0;32m    970\u001b[0m \u001b[38;5;66;03m# multimetric is determined here because in the case of a callable\u001b[39;00m\n\u001b[0;32m    971\u001b[0m \u001b[38;5;66;03m# self.scoring the return type is only known after calling\u001b[39;00m\n\u001b[0;32m    972\u001b[0m first_test_score \u001b[38;5;241m=\u001b[39m all_out[\u001b[38;5;241m0\u001b[39m][\u001b[38;5;124m\"\u001b[39m\u001b[38;5;124mtest_scores\u001b[39m\u001b[38;5;124m\"\u001b[39m]\n",
      "File \u001b[1;32m~\\anaconda3\\envs\\Projet-7\\Lib\\site-packages\\sklearn\\model_selection\\_search.py:1543\u001b[0m, in \u001b[0;36mGridSearchCV._run_search\u001b[1;34m(self, evaluate_candidates)\u001b[0m\n\u001b[0;32m   1541\u001b[0m \u001b[38;5;28;01mdef\u001b[39;00m \u001b[38;5;21m_run_search\u001b[39m(\u001b[38;5;28mself\u001b[39m, evaluate_candidates):\n\u001b[0;32m   1542\u001b[0m \u001b[38;5;250m    \u001b[39m\u001b[38;5;124;03m\"\"\"Search all candidates in param_grid\"\"\"\u001b[39;00m\n\u001b[1;32m-> 1543\u001b[0m     evaluate_candidates(ParameterGrid(\u001b[38;5;28mself\u001b[39m\u001b[38;5;241m.\u001b[39mparam_grid))\n",
      "File \u001b[1;32m~\\anaconda3\\envs\\Projet-7\\Lib\\site-packages\\sklearn\\model_selection\\_search.py:914\u001b[0m, in \u001b[0;36mBaseSearchCV.fit.<locals>.evaluate_candidates\u001b[1;34m(candidate_params, cv, more_results)\u001b[0m\n\u001b[0;32m    906\u001b[0m \u001b[38;5;28;01mif\u001b[39;00m \u001b[38;5;28mself\u001b[39m\u001b[38;5;241m.\u001b[39mverbose \u001b[38;5;241m>\u001b[39m \u001b[38;5;241m0\u001b[39m:\n\u001b[0;32m    907\u001b[0m     \u001b[38;5;28mprint\u001b[39m(\n\u001b[0;32m    908\u001b[0m         \u001b[38;5;124m\"\u001b[39m\u001b[38;5;124mFitting \u001b[39m\u001b[38;5;132;01m{0}\u001b[39;00m\u001b[38;5;124m folds for each of \u001b[39m\u001b[38;5;132;01m{1}\u001b[39;00m\u001b[38;5;124m candidates,\u001b[39m\u001b[38;5;124m\"\u001b[39m\n\u001b[0;32m    909\u001b[0m         \u001b[38;5;124m\"\u001b[39m\u001b[38;5;124m totalling \u001b[39m\u001b[38;5;132;01m{2}\u001b[39;00m\u001b[38;5;124m fits\u001b[39m\u001b[38;5;124m\"\u001b[39m\u001b[38;5;241m.\u001b[39mformat(\n\u001b[0;32m    910\u001b[0m             n_splits, n_candidates, n_candidates \u001b[38;5;241m*\u001b[39m n_splits\n\u001b[0;32m    911\u001b[0m         )\n\u001b[0;32m    912\u001b[0m     )\n\u001b[1;32m--> 914\u001b[0m out \u001b[38;5;241m=\u001b[39m parallel(\n\u001b[0;32m    915\u001b[0m     delayed(_fit_and_score)(\n\u001b[0;32m    916\u001b[0m         clone(base_estimator),\n\u001b[0;32m    917\u001b[0m         X,\n\u001b[0;32m    918\u001b[0m         y,\n\u001b[0;32m    919\u001b[0m         train\u001b[38;5;241m=\u001b[39mtrain,\n\u001b[0;32m    920\u001b[0m         test\u001b[38;5;241m=\u001b[39mtest,\n\u001b[0;32m    921\u001b[0m         parameters\u001b[38;5;241m=\u001b[39mparameters,\n\u001b[0;32m    922\u001b[0m         split_progress\u001b[38;5;241m=\u001b[39m(split_idx, n_splits),\n\u001b[0;32m    923\u001b[0m         candidate_progress\u001b[38;5;241m=\u001b[39m(cand_idx, n_candidates),\n\u001b[0;32m    924\u001b[0m         \u001b[38;5;241m*\u001b[39m\u001b[38;5;241m*\u001b[39mfit_and_score_kwargs,\n\u001b[0;32m    925\u001b[0m     )\n\u001b[0;32m    926\u001b[0m     \u001b[38;5;28;01mfor\u001b[39;00m (cand_idx, parameters), (split_idx, (train, test)) \u001b[38;5;129;01min\u001b[39;00m product(\n\u001b[0;32m    927\u001b[0m         \u001b[38;5;28menumerate\u001b[39m(candidate_params),\n\u001b[0;32m    928\u001b[0m         \u001b[38;5;28menumerate\u001b[39m(cv\u001b[38;5;241m.\u001b[39msplit(X, y, \u001b[38;5;241m*\u001b[39m\u001b[38;5;241m*\u001b[39mrouted_params\u001b[38;5;241m.\u001b[39msplitter\u001b[38;5;241m.\u001b[39msplit)),\n\u001b[0;32m    929\u001b[0m     )\n\u001b[0;32m    930\u001b[0m )\n\u001b[0;32m    932\u001b[0m \u001b[38;5;28;01mif\u001b[39;00m \u001b[38;5;28mlen\u001b[39m(out) \u001b[38;5;241m<\u001b[39m \u001b[38;5;241m1\u001b[39m:\n\u001b[0;32m    933\u001b[0m     \u001b[38;5;28;01mraise\u001b[39;00m \u001b[38;5;167;01mValueError\u001b[39;00m(\n\u001b[0;32m    934\u001b[0m         \u001b[38;5;124m\"\u001b[39m\u001b[38;5;124mNo fits were performed. \u001b[39m\u001b[38;5;124m\"\u001b[39m\n\u001b[0;32m    935\u001b[0m         \u001b[38;5;124m\"\u001b[39m\u001b[38;5;124mWas the CV iterator empty? \u001b[39m\u001b[38;5;124m\"\u001b[39m\n\u001b[0;32m    936\u001b[0m         \u001b[38;5;124m\"\u001b[39m\u001b[38;5;124mWere there no candidates?\u001b[39m\u001b[38;5;124m\"\u001b[39m\n\u001b[0;32m    937\u001b[0m     )\n",
      "File \u001b[1;32m~\\anaconda3\\envs\\Projet-7\\Lib\\site-packages\\sklearn\\utils\\parallel.py:67\u001b[0m, in \u001b[0;36mParallel.__call__\u001b[1;34m(self, iterable)\u001b[0m\n\u001b[0;32m     62\u001b[0m config \u001b[38;5;241m=\u001b[39m get_config()\n\u001b[0;32m     63\u001b[0m iterable_with_config \u001b[38;5;241m=\u001b[39m (\n\u001b[0;32m     64\u001b[0m     (_with_config(delayed_func, config), args, kwargs)\n\u001b[0;32m     65\u001b[0m     \u001b[38;5;28;01mfor\u001b[39;00m delayed_func, args, kwargs \u001b[38;5;129;01min\u001b[39;00m iterable\n\u001b[0;32m     66\u001b[0m )\n\u001b[1;32m---> 67\u001b[0m \u001b[38;5;28;01mreturn\u001b[39;00m \u001b[38;5;28msuper\u001b[39m()\u001b[38;5;241m.\u001b[39m\u001b[38;5;21m__call__\u001b[39m(iterable_with_config)\n",
      "File \u001b[1;32m~\\anaconda3\\envs\\Projet-7\\Lib\\site-packages\\joblib\\parallel.py:1918\u001b[0m, in \u001b[0;36mParallel.__call__\u001b[1;34m(self, iterable)\u001b[0m\n\u001b[0;32m   1916\u001b[0m     output \u001b[38;5;241m=\u001b[39m \u001b[38;5;28mself\u001b[39m\u001b[38;5;241m.\u001b[39m_get_sequential_output(iterable)\n\u001b[0;32m   1917\u001b[0m     \u001b[38;5;28mnext\u001b[39m(output)\n\u001b[1;32m-> 1918\u001b[0m     \u001b[38;5;28;01mreturn\u001b[39;00m output \u001b[38;5;28;01mif\u001b[39;00m \u001b[38;5;28mself\u001b[39m\u001b[38;5;241m.\u001b[39mreturn_generator \u001b[38;5;28;01melse\u001b[39;00m \u001b[38;5;28mlist\u001b[39m(output)\n\u001b[0;32m   1920\u001b[0m \u001b[38;5;66;03m# Let's create an ID that uniquely identifies the current call. If the\u001b[39;00m\n\u001b[0;32m   1921\u001b[0m \u001b[38;5;66;03m# call is interrupted early and that the same instance is immediately\u001b[39;00m\n\u001b[0;32m   1922\u001b[0m \u001b[38;5;66;03m# re-used, this id will be used to prevent workers that were\u001b[39;00m\n\u001b[0;32m   1923\u001b[0m \u001b[38;5;66;03m# concurrently finalizing a task from the previous call to run the\u001b[39;00m\n\u001b[0;32m   1924\u001b[0m \u001b[38;5;66;03m# callback.\u001b[39;00m\n\u001b[0;32m   1925\u001b[0m \u001b[38;5;28;01mwith\u001b[39;00m \u001b[38;5;28mself\u001b[39m\u001b[38;5;241m.\u001b[39m_lock:\n",
      "File \u001b[1;32m~\\anaconda3\\envs\\Projet-7\\Lib\\site-packages\\joblib\\parallel.py:1847\u001b[0m, in \u001b[0;36mParallel._get_sequential_output\u001b[1;34m(self, iterable)\u001b[0m\n\u001b[0;32m   1845\u001b[0m \u001b[38;5;28mself\u001b[39m\u001b[38;5;241m.\u001b[39mn_dispatched_batches \u001b[38;5;241m+\u001b[39m\u001b[38;5;241m=\u001b[39m \u001b[38;5;241m1\u001b[39m\n\u001b[0;32m   1846\u001b[0m \u001b[38;5;28mself\u001b[39m\u001b[38;5;241m.\u001b[39mn_dispatched_tasks \u001b[38;5;241m+\u001b[39m\u001b[38;5;241m=\u001b[39m \u001b[38;5;241m1\u001b[39m\n\u001b[1;32m-> 1847\u001b[0m res \u001b[38;5;241m=\u001b[39m func(\u001b[38;5;241m*\u001b[39margs, \u001b[38;5;241m*\u001b[39m\u001b[38;5;241m*\u001b[39mkwargs)\n\u001b[0;32m   1848\u001b[0m \u001b[38;5;28mself\u001b[39m\u001b[38;5;241m.\u001b[39mn_completed_tasks \u001b[38;5;241m+\u001b[39m\u001b[38;5;241m=\u001b[39m \u001b[38;5;241m1\u001b[39m\n\u001b[0;32m   1849\u001b[0m \u001b[38;5;28mself\u001b[39m\u001b[38;5;241m.\u001b[39mprint_progress()\n",
      "File \u001b[1;32m~\\anaconda3\\envs\\Projet-7\\Lib\\site-packages\\sklearn\\utils\\parallel.py:129\u001b[0m, in \u001b[0;36m_FuncWrapper.__call__\u001b[1;34m(self, *args, **kwargs)\u001b[0m\n\u001b[0;32m    127\u001b[0m     config \u001b[38;5;241m=\u001b[39m {}\n\u001b[0;32m    128\u001b[0m \u001b[38;5;28;01mwith\u001b[39;00m config_context(\u001b[38;5;241m*\u001b[39m\u001b[38;5;241m*\u001b[39mconfig):\n\u001b[1;32m--> 129\u001b[0m     \u001b[38;5;28;01mreturn\u001b[39;00m \u001b[38;5;28mself\u001b[39m\u001b[38;5;241m.\u001b[39mfunction(\u001b[38;5;241m*\u001b[39margs, \u001b[38;5;241m*\u001b[39m\u001b[38;5;241m*\u001b[39mkwargs)\n",
      "File \u001b[1;32m~\\anaconda3\\envs\\Projet-7\\Lib\\site-packages\\sklearn\\model_selection\\_validation.py:888\u001b[0m, in \u001b[0;36m_fit_and_score\u001b[1;34m(estimator, X, y, scorer, train, test, verbose, parameters, fit_params, score_params, return_train_score, return_parameters, return_n_test_samples, return_times, return_estimator, split_progress, candidate_progress, error_score)\u001b[0m\n\u001b[0;32m    886\u001b[0m         estimator\u001b[38;5;241m.\u001b[39mfit(X_train, \u001b[38;5;241m*\u001b[39m\u001b[38;5;241m*\u001b[39mfit_params)\n\u001b[0;32m    887\u001b[0m     \u001b[38;5;28;01melse\u001b[39;00m:\n\u001b[1;32m--> 888\u001b[0m         estimator\u001b[38;5;241m.\u001b[39mfit(X_train, y_train, \u001b[38;5;241m*\u001b[39m\u001b[38;5;241m*\u001b[39mfit_params)\n\u001b[0;32m    890\u001b[0m \u001b[38;5;28;01mexcept\u001b[39;00m \u001b[38;5;167;01mException\u001b[39;00m:\n\u001b[0;32m    891\u001b[0m     \u001b[38;5;66;03m# Note fit time as time until error\u001b[39;00m\n\u001b[0;32m    892\u001b[0m     fit_time \u001b[38;5;241m=\u001b[39m time\u001b[38;5;241m.\u001b[39mtime() \u001b[38;5;241m-\u001b[39m start_time\n",
      "File \u001b[1;32m~\\anaconda3\\envs\\Projet-7\\Lib\\site-packages\\lightgbm\\sklearn.py:1187\u001b[0m, in \u001b[0;36mLGBMClassifier.fit\u001b[1;34m(self, X, y, sample_weight, init_score, eval_set, eval_names, eval_sample_weight, eval_class_weight, eval_init_score, eval_metric, feature_name, categorical_feature, callbacks, init_model)\u001b[0m\n\u001b[0;32m   1184\u001b[0m         \u001b[38;5;28;01melse\u001b[39;00m:\n\u001b[0;32m   1185\u001b[0m             valid_sets\u001b[38;5;241m.\u001b[39mappend((valid_x, \u001b[38;5;28mself\u001b[39m\u001b[38;5;241m.\u001b[39m_le\u001b[38;5;241m.\u001b[39mtransform(valid_y)))\n\u001b[1;32m-> 1187\u001b[0m \u001b[38;5;28msuper\u001b[39m()\u001b[38;5;241m.\u001b[39mfit(\n\u001b[0;32m   1188\u001b[0m     X,\n\u001b[0;32m   1189\u001b[0m     _y,\n\u001b[0;32m   1190\u001b[0m     sample_weight\u001b[38;5;241m=\u001b[39msample_weight,\n\u001b[0;32m   1191\u001b[0m     init_score\u001b[38;5;241m=\u001b[39minit_score,\n\u001b[0;32m   1192\u001b[0m     eval_set\u001b[38;5;241m=\u001b[39mvalid_sets,\n\u001b[0;32m   1193\u001b[0m     eval_names\u001b[38;5;241m=\u001b[39meval_names,\n\u001b[0;32m   1194\u001b[0m     eval_sample_weight\u001b[38;5;241m=\u001b[39meval_sample_weight,\n\u001b[0;32m   1195\u001b[0m     eval_class_weight\u001b[38;5;241m=\u001b[39meval_class_weight,\n\u001b[0;32m   1196\u001b[0m     eval_init_score\u001b[38;5;241m=\u001b[39meval_init_score,\n\u001b[0;32m   1197\u001b[0m     eval_metric\u001b[38;5;241m=\u001b[39meval_metric,\n\u001b[0;32m   1198\u001b[0m     feature_name\u001b[38;5;241m=\u001b[39mfeature_name,\n\u001b[0;32m   1199\u001b[0m     categorical_feature\u001b[38;5;241m=\u001b[39mcategorical_feature,\n\u001b[0;32m   1200\u001b[0m     callbacks\u001b[38;5;241m=\u001b[39mcallbacks,\n\u001b[0;32m   1201\u001b[0m     init_model\u001b[38;5;241m=\u001b[39minit_model\n\u001b[0;32m   1202\u001b[0m )\n\u001b[0;32m   1203\u001b[0m \u001b[38;5;28;01mreturn\u001b[39;00m \u001b[38;5;28mself\u001b[39m\n",
      "File \u001b[1;32m~\\anaconda3\\envs\\Projet-7\\Lib\\site-packages\\lightgbm\\sklearn.py:885\u001b[0m, in \u001b[0;36mLGBMModel.fit\u001b[1;34m(self, X, y, sample_weight, init_score, group, eval_set, eval_names, eval_sample_weight, eval_class_weight, eval_init_score, eval_group, eval_metric, feature_name, categorical_feature, callbacks, init_model)\u001b[0m\n\u001b[0;32m    882\u001b[0m evals_result: _EvalResultDict \u001b[38;5;241m=\u001b[39m {}\n\u001b[0;32m    883\u001b[0m callbacks\u001b[38;5;241m.\u001b[39mappend(record_evaluation(evals_result))\n\u001b[1;32m--> 885\u001b[0m \u001b[38;5;28mself\u001b[39m\u001b[38;5;241m.\u001b[39m_Booster \u001b[38;5;241m=\u001b[39m train(\n\u001b[0;32m    886\u001b[0m     params\u001b[38;5;241m=\u001b[39mparams,\n\u001b[0;32m    887\u001b[0m     train_set\u001b[38;5;241m=\u001b[39mtrain_set,\n\u001b[0;32m    888\u001b[0m     num_boost_round\u001b[38;5;241m=\u001b[39m\u001b[38;5;28mself\u001b[39m\u001b[38;5;241m.\u001b[39mn_estimators,\n\u001b[0;32m    889\u001b[0m     valid_sets\u001b[38;5;241m=\u001b[39mvalid_sets,\n\u001b[0;32m    890\u001b[0m     valid_names\u001b[38;5;241m=\u001b[39meval_names,\n\u001b[0;32m    891\u001b[0m     feval\u001b[38;5;241m=\u001b[39meval_metrics_callable,  \u001b[38;5;66;03m# type: ignore[arg-type]\u001b[39;00m\n\u001b[0;32m    892\u001b[0m     init_model\u001b[38;5;241m=\u001b[39minit_model,\n\u001b[0;32m    893\u001b[0m     feature_name\u001b[38;5;241m=\u001b[39mfeature_name,\n\u001b[0;32m    894\u001b[0m     callbacks\u001b[38;5;241m=\u001b[39mcallbacks\n\u001b[0;32m    895\u001b[0m )\n\u001b[0;32m    897\u001b[0m \u001b[38;5;28mself\u001b[39m\u001b[38;5;241m.\u001b[39m_evals_result \u001b[38;5;241m=\u001b[39m evals_result\n\u001b[0;32m    898\u001b[0m \u001b[38;5;28mself\u001b[39m\u001b[38;5;241m.\u001b[39m_best_iteration \u001b[38;5;241m=\u001b[39m \u001b[38;5;28mself\u001b[39m\u001b[38;5;241m.\u001b[39m_Booster\u001b[38;5;241m.\u001b[39mbest_iteration\n",
      "File \u001b[1;32m~\\anaconda3\\envs\\Projet-7\\Lib\\site-packages\\lightgbm\\engine.py:276\u001b[0m, in \u001b[0;36mtrain\u001b[1;34m(params, train_set, num_boost_round, valid_sets, valid_names, feval, init_model, feature_name, categorical_feature, keep_training_booster, callbacks)\u001b[0m\n\u001b[0;32m    268\u001b[0m \u001b[38;5;28;01mfor\u001b[39;00m cb \u001b[38;5;129;01min\u001b[39;00m callbacks_before_iter:\n\u001b[0;32m    269\u001b[0m     cb(callback\u001b[38;5;241m.\u001b[39mCallbackEnv(model\u001b[38;5;241m=\u001b[39mbooster,\n\u001b[0;32m    270\u001b[0m                             params\u001b[38;5;241m=\u001b[39mparams,\n\u001b[0;32m    271\u001b[0m                             iteration\u001b[38;5;241m=\u001b[39mi,\n\u001b[0;32m    272\u001b[0m                             begin_iteration\u001b[38;5;241m=\u001b[39minit_iteration,\n\u001b[0;32m    273\u001b[0m                             end_iteration\u001b[38;5;241m=\u001b[39minit_iteration \u001b[38;5;241m+\u001b[39m num_boost_round,\n\u001b[0;32m    274\u001b[0m                             evaluation_result_list\u001b[38;5;241m=\u001b[39m\u001b[38;5;28;01mNone\u001b[39;00m))\n\u001b[1;32m--> 276\u001b[0m booster\u001b[38;5;241m.\u001b[39mupdate(fobj\u001b[38;5;241m=\u001b[39mfobj)\n\u001b[0;32m    278\u001b[0m evaluation_result_list: List[_LGBM_BoosterEvalMethodResultType] \u001b[38;5;241m=\u001b[39m []\n\u001b[0;32m    279\u001b[0m \u001b[38;5;66;03m# check evaluation result.\u001b[39;00m\n",
      "File \u001b[1;32m~\\anaconda3\\envs\\Projet-7\\Lib\\site-packages\\lightgbm\\basic.py:3891\u001b[0m, in \u001b[0;36mBooster.update\u001b[1;34m(self, train_set, fobj)\u001b[0m\n\u001b[0;32m   3889\u001b[0m \u001b[38;5;28;01mif\u001b[39;00m \u001b[38;5;28mself\u001b[39m\u001b[38;5;241m.\u001b[39m__set_objective_to_none:\n\u001b[0;32m   3890\u001b[0m     \u001b[38;5;28;01mraise\u001b[39;00m LightGBMError(\u001b[38;5;124m'\u001b[39m\u001b[38;5;124mCannot update due to null objective function.\u001b[39m\u001b[38;5;124m'\u001b[39m)\n\u001b[1;32m-> 3891\u001b[0m _safe_call(_LIB\u001b[38;5;241m.\u001b[39mLGBM_BoosterUpdateOneIter(\n\u001b[0;32m   3892\u001b[0m     \u001b[38;5;28mself\u001b[39m\u001b[38;5;241m.\u001b[39m_handle,\n\u001b[0;32m   3893\u001b[0m     ctypes\u001b[38;5;241m.\u001b[39mbyref(is_finished)))\n\u001b[0;32m   3894\u001b[0m \u001b[38;5;28mself\u001b[39m\u001b[38;5;241m.\u001b[39m__is_predicted_cur_iter \u001b[38;5;241m=\u001b[39m [\u001b[38;5;28;01mFalse\u001b[39;00m \u001b[38;5;28;01mfor\u001b[39;00m _ \u001b[38;5;129;01min\u001b[39;00m \u001b[38;5;28mrange\u001b[39m(\u001b[38;5;28mself\u001b[39m\u001b[38;5;241m.\u001b[39m__num_dataset)]\n\u001b[0;32m   3895\u001b[0m \u001b[38;5;28;01mreturn\u001b[39;00m is_finished\u001b[38;5;241m.\u001b[39mvalue \u001b[38;5;241m==\u001b[39m \u001b[38;5;241m1\u001b[39m\n",
      "\u001b[1;31mKeyboardInterrupt\u001b[0m: "
     ]
    }
   ],
   "source": [
    "# Recherche des hyperparamètres pour chaque modèle\n",
    "best_params = {}\n",
    "best_scores = {}\n",
    "\n",
    "for model_name, (model, need_imputation, need_scaling, need_validation, technique) in model_datasets_hp.items():\n",
    "    print(f\"Processing {model_name}...\")\n",
    "    X_train_loc, y_train_loc, X_val, y_val, X_test_loc, y_test_loc = prepare_data(need_imputation, need_scaling,\n",
    "                                                                                  need_validation, technique)\n",
    "    \n",
    "    grid_search = GridSearchCV(model, param_grids[model_name], cv=5, scoring=make_scorer(roc_auc_score))\n",
    "    grid_search.fit(X_train_loc, y_train_loc)\n",
    "    \n",
    "    best_params[model_name] = grid_search.best_params_\n",
    "    best_scores[model_name] = grid_search.best_score_\n",
    "\n",
    "    # Enregistrer les résultats dans MLflow\n",
    "    with mlflow.start_run(run_name=f\"{model_name}_HP_Grid\"):\n",
    "        mlflow.log_param(\"model\", model_name)\n",
    "        mlflow.log_metric(\"ROC AUC\", best_scores[model_name])\n",
    "        mlflow.log_params(best_params[model_name])\n",
    "        # Enregistrer le modèle dans MLflow\n",
    "        mlflow.sklearn.log_model(random_search.best_estimator_, model_name)"
   ]
  },
  {
   "cell_type": "code",
   "execution_count": null,
   "id": "0a311c32-a1b5-4843-ba39-a666d03398c5",
   "metadata": {},
   "outputs": [],
   "source": [
    "# Afficher les meilleurs hyperparamètres et scores pour chaque modèle\n",
    "for model_name in best_params:\n",
    "    print(f\"{model_name} - Best Parameters: {best_params[model_name]}, Best roc_auc_score: {best_scores[model_name]:.4f}\")"
   ]
  },
  {
   "cell_type": "markdown",
   "id": "1c873d99-843c-4ddd-b448-5775749a92b0",
   "metadata": {},
   "source": [
    "Resultats sur jeu de test"
   ]
  },
  {
   "cell_type": "code",
   "execution_count": null,
   "id": "a33cd61b-11f4-4962-984c-2256d4f11fe8",
   "metadata": {},
   "outputs": [],
   "source": [
    "#  nouvelles instance des modeles\n",
    "lgbm_model_ub = LGBMClassifier(verbose=0, n_jobs=-1, is_unbalance=True, verbosity=-1)\n",
    "catboost_model_weight = CatBoostClassifier(verbose=0, class_weights=class_weights_catboost, thread_count=-1, task_type=\"GPU\")\n",
    "\n",
    "# modèles choisis\n",
    "model_datasets_hp = {\n",
    "    \"LightGBM unbalance\": (lgbm_model_ub, False, False, True, None),\n",
    "    \"CatBoost weight\": (catboost_model_weight, False, False, True, None),\n",
    "}\n",
    "\n",
    "# Meilleurs paramètres trouvés pour chaque modèle\n",
    "best_params = {\n",
    "    \"LightGBM unbalance\": {'learning_rate': 0.14, 'max_depth': 3, 'min_child_samples': 100, 'n_estimators': 400, 'num_leaves': 100},\n",
    "    \"CatBoost weight\": {'depth': 3, 'iterations': 1000, 'l2_leaf_reg': 5, 'learning_rate': 0.1}\n",
    "}"
   ]
  },
  {
   "cell_type": "code",
   "execution_count": null,
   "id": "ad43356e-d51b-4119-aa43-fa64de82dc1a",
   "metadata": {},
   "outputs": [],
   "source": [
    "results=[]\n",
    "\n",
    "# Entraîner et évaluer chaque modèle\n",
    "for model_name, dfs in model_datasets_hp.items():\n",
    "    print(f\"Evaluating {model_name}\")\n",
    "    train_and_log_model(dfs[0], model_name, dfs[1], dfs[2], dfs[3], dfs[4], best_params=best_params[model_name])\n",
    "\n",
    "# Afficher les résultats\n",
    "results_df = pd.DataFrame(results)\n",
    "results_df.sort_values(by=\"ROC AUC\", ascending=False)"
   ]
  },
  {
   "cell_type": "markdown",
   "id": "3b952532-6912-41af-b837-90edf816c756",
   "metadata": {},
   "source": [
    "## Optimisation du seuil"
   ]
  },
  {
   "cell_type": "markdown",
   "id": "ebb6e937-0d1d-4bb4-9e84-370b5592abd2",
   "metadata": {},
   "source": [
    "Calculez les probabilités de prédiction pour l'ensemble de validation ou de test.\n",
    "Évaluez le coût de différentes valeurs de seuil (par exemple, de 0 à 1 avec des pas de 0.01) et sélectionnez le seuil qui minimise votre fonction de coût."
   ]
  },
  {
   "cell_type": "raw",
   "id": "4ed35a28-78a1-481a-89c5-3fb4aa640d43",
   "metadata": {},
   "source": [
    "from sklearn.metrics import precision_recall_curve\n",
    "\n",
    "# Entraînez le modèle avec les meilleurs hyperparamètres\n",
    "best_model.fit(X_train, y_train)\n",
    "\n",
    "# Obtenez les probabilités de prédiction\n",
    "y_proba = best_model.predict_proba(X_val)[:, 1]\n",
    "\n",
    "# Fonction pour trouver le seuil optimal\n",
    "def find_best_threshold(y_true, y_proba, cost_function):\n",
    "    thresholds = np.arange(0.0, 1.0, 0.01)\n",
    "    best_threshold = 0.5\n",
    "    best_cost = float('inf')\n",
    "    for threshold in thresholds:\n",
    "        y_pred = (y_proba >= threshold).astype(int)\n",
    "        cost = cost_function(y_true, y_pred)\n",
    "        if cost < best_cost:\n",
    "            best_cost = cost\n",
    "            best_threshold = threshold\n",
    "    return best_threshold, best_cost\n",
    "\n",
    "# Trouver le seuil optimal\n",
    "best_threshold, best_cost = find_best_threshold(y_val, y_proba, cost_function)\n",
    "print(f\"Optimal threshold: {best_threshold}, with cost: {best_cost}\")"
   ]
  },
  {
   "cell_type": "code",
   "execution_count": null,
   "id": "e4298d65-c1a7-4144-8711-6ec154a165db",
   "metadata": {},
   "outputs": [],
   "source": []
  },
  {
   "cell_type": "raw",
   "id": "28f65c3c-6f74-4049-824f-aa54ffddeed3",
   "metadata": {},
   "source": [
    "# Créer les ensembles de données LightGBM\n",
    "train_data = lgb.Dataset(X_train_split, label=y_train_split)\n",
    "val_data = lgb.Dataset(X_val, label=y_val, reference=train_data)"
   ]
  },
  {
   "cell_type": "raw",
   "id": "8946ee5c-3271-49b4-894c-7c51a7cbe6c6",
   "metadata": {},
   "source": [
    "# Définir les paramètres du modèle\n",
    "params = {\n",
    "    'boosting_type': 'gbdt',\n",
    "    'objective': 'binary',\n",
    "    'metric': 'auc',\n",
    "    'is_unbalance': True,  # Paramètre pour gérer le déséquilibre des classes\n",
    "    'lambda_l1': 0.1,  # L1 regularization\n",
    "    'lambda_l2': 0.1,  # L2 regularization\n",
    "    'feature_fraction': 0.8,  # Utilise 80% des caractéristiques à chaque itération\n",
    "    'bagging_fraction': 0.8,  # Utilise 80% des données à chaque itération\n",
    "    'bagging_freq': 5,  # Effectue le bagging toutes les 5 itérations\n",
    "    'max_depth': 10,  # Profondeur maximale des arbres\n",
    "    'num_leaves': 31,  # Nombre maximum de feuilles\n",
    "    'min_data_in_leaf': 20,  # Nombre minimal de données dans une feuille\n",
    "    'min_gain_to_split': 0.01,  # Gain minimal pour effectuer une division\n",
    "    'learning_rate': 0.01,\n",
    "    'verbose': -1\n",
    "}"
   ]
  },
  {
   "cell_type": "raw",
   "id": "10cad9b9-5630-47ef-a6a3-5f05cb2bfe25",
   "metadata": {},
   "source": [
    "# Entraîner le modèle\n",
    "print(\"Training LightGBM model...\")\n",
    "callbacks = [lgb.early_stopping(stopping_rounds=50, verbose=True)]\n",
    "gbm = lgb.train(params,\n",
    "                train_data,\n",
    "                num_boost_round=1000,\n",
    "                valid_sets=[train_data, val_data],\n",
    "                callbacks=callbacks)"
   ]
  },
  {
   "cell_type": "raw",
   "id": "6f298f3f-de9c-4da8-a7e2-d5c0e0887865",
   "metadata": {},
   "source": [
    "# Prédire sur l'ensemble de test\n",
    "y_pred = gbm.predict(X_test, num_iteration=gbm.best_iteration)\n",
    "y_pred_class = (y_pred > 0.5).astype(int)"
   ]
  },
  {
   "cell_type": "code",
   "execution_count": null,
   "id": "2591f7bb-33ad-49fd-a123-18a947cb890b",
   "metadata": {},
   "outputs": [],
   "source": []
  },
  {
   "cell_type": "code",
   "execution_count": null,
   "id": "afa82cc2-5710-42e5-a25c-63af1cf53f38",
   "metadata": {},
   "outputs": [],
   "source": []
  },
  {
   "cell_type": "raw",
   "id": "7dbe5368-3f3c-4486-97a1-67a1fdfb7a86",
   "metadata": {},
   "source": [
    "from sklearn.model_selection import StratifiedKFold, GridSearchCV\n",
    "import lightgbm as lgb\n",
    "\n",
    "skf = StratifiedKFold(n_splits=5, shuffle=True, random_state=42)\n",
    "\n",
    "model = lgb.LGBMClassifier()\n",
    "\n",
    "param_grid = {\n",
    "    'n_estimators': [100, 200],\n",
    "    'learning_rate': [0.01, 0.1]\n",
    "}\n",
    "\n",
    "grid_search = GridSearchCV(estimator=model, param_grid=param_grid, scoring=custom_scorer, cv=skf)\n",
    "grid_search.fit(X_train, y_train)\n",
    "\n",
    "\n",
    "from sklearn.metrics import roc_curve\n",
    "\n",
    "def optimize_threshold(y_true, y_proba):\n",
    "    fpr, tpr, thresholds = roc_curve(y_true, y_proba)\n",
    "    costs = [cost_function(y_true, (y_proba >= t).astype(int)) for t in thresholds]\n",
    "    optimal_threshold = thresholds[np.argmin(costs)]\n",
    "    return optimal_threshold\n",
    "\n",
    "best_threshold = optimize_threshold(y_test, grid_search.predict_proba(X_test)[:, 1])\n"
   ]
  }
 ],
 "metadata": {
  "kernelspec": {
   "display_name": "Python 3 (ipykernel)",
   "language": "python",
   "name": "python3"
  },
  "language_info": {
   "codemirror_mode": {
    "name": "ipython",
    "version": 3
   },
   "file_extension": ".py",
   "mimetype": "text/x-python",
   "name": "python",
   "nbconvert_exporter": "python",
   "pygments_lexer": "ipython3",
   "version": "3.12.3"
  },
  "toc": {
   "base_numbering": 1,
   "nav_menu": {},
   "number_sections": true,
   "sideBar": true,
   "skip_h1_title": false,
   "title_cell": "Table of Contents",
   "title_sidebar": "Contents",
   "toc_cell": false,
   "toc_position": {},
   "toc_section_display": true,
   "toc_window_display": false
  }
 },
 "nbformat": 4,
 "nbformat_minor": 5
}
