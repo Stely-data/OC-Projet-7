{
 "cells": [
  {
   "cell_type": "markdown",
   "id": "aa01c55d-21f2-48a5-a2c1-bf0fd402c191",
   "metadata": {},
   "source": [
    "<b><font color=\"SteelBlue\" size=\"+3\">Implémentez un modèle de scoring</font></b>"
   ]
  },
  {
   "cell_type": "markdown",
   "id": "8a4ac084-8062-4d7a-a5c5-adc368e767a6",
   "metadata": {},
   "source": [
    "# Introduction"
   ]
  },
  {
   "cell_type": "markdown",
   "id": "ac7258d0-59a3-4263-a49e-dca4206dfcb2",
   "metadata": {},
   "source": [
    "Ce note book est la suite de l'EDA, il va permettre de présenter le prétraitement des données, le feature engineering et la modélisation."
   ]
  },
  {
   "cell_type": "code",
   "execution_count": 3,
   "id": "786a8563-5f1e-4e13-b28f-b1806e6de372",
   "metadata": {},
   "outputs": [],
   "source": [
    "# Chargement des librairies\n",
    "\n",
    "# Built-in\n",
    "import os\n",
    "import re\n",
    "import time\n",
    "# Affichage\n",
    "from IPython.display import Image\n",
    "\n",
    "# Manipulation et analyse des données\n",
    "import numpy as np\n",
    "import pandas as pd\n",
    "import seaborn as sns\n",
    "import matplotlib.pyplot as plt\n",
    "\n",
    "# Machine Learning - Suivi et Enregistrement\n",
    "import mlflow\n",
    "import mlflow.sklearn\n",
    "\n",
    "# Machine Learning - Prétraitement\n",
    "from sklearn.preprocessing import StandardScaler\n",
    "from sklearn.model_selection import train_test_split, cross_val_score, GridSearchCV, StratifiedKFold, RandomizedSearchCV\n",
    "from sklearn.utils.class_weight import compute_class_weight\n",
    "\n",
    "# Machine Learning - Algorithmes\n",
    "from sklearn.linear_model import LogisticRegression\n",
    "from sklearn.dummy import DummyClassifier\n",
    "from xgboost import XGBClassifier\n",
    "import lightgbm as lgb\n",
    "from lightgbm import LGBMClassifier\n",
    "from catboost import CatBoostClassifier, Pool\n",
    "\n",
    "# Machine Learning - Équilibrage des données\n",
    "from imblearn.over_sampling import SMOTE\n",
    "from imblearn.under_sampling import RandomUnderSampler\n",
    "\n",
    "# Machine Learning - Sélection de caractéristiques\n",
    "from sklearn.feature_selection import RFECV\n",
    "\n",
    "# Machine Learning - Évaluation des performances\n",
    "from sklearn.metrics import classification_report, confusion_matrix, roc_auc_score, accuracy_score, make_scorer\n",
    "from sklearn.metrics import f1_score\n",
    "\n",
    "# Features importance\n",
    "import shap\n",
    "\n",
    "# Transformateur\n",
    "from sklearn.base import BaseEstimator, ClassifierMixin, TransformerMixin\n",
    "\n",
    "# Data drift\n",
    "from evidently.report import Report\n",
    "from evidently.metric_preset import DataDriftPreset\n",
    "\n",
    "# Pipeline\n",
    "from sklearn.pipeline import Pipeline\n",
    "from sklearn.preprocessing import FunctionTransformer\n",
    "import joblib\n",
    "\n",
    "# Custom Feature Engineering Pipeline\n",
    "from feature_pipeline import FeatureEngineeringPipeline, remove_highly_correlated_features"
   ]
  },
  {
   "cell_type": "code",
   "execution_count": 2,
   "id": "5ea0d6ba-b28e-4111-a192-46924f7e23b2",
   "metadata": {},
   "outputs": [
    {
     "data": {
      "text/plain": [
       "<Experiment: artifact_location='mlflow-artifacts:/185199612184583695', creation_time=1715766694823, experiment_id='185199612184583695', last_update_time=1715766694823, lifecycle_stage='active', name='Credit_Scoring_Experiment', tags={}>"
      ]
     },
     "execution_count": 2,
     "metadata": {},
     "output_type": "execute_result"
    }
   ],
   "source": [
    "mlflow.set_tracking_uri(uri=\"http://127.0.0.1:5000\")\n",
    "mlflow.set_experiment(\"Credit_Scoring_Experiment\")"
   ]
  },
  {
   "cell_type": "markdown",
   "id": "9ff1e3f7-1f86-4f53-a771-7ed8c87f080b",
   "metadata": {},
   "source": [
    "# Data préparation"
   ]
  },
  {
   "cell_type": "markdown",
   "id": "a70daaf5-d4cf-4661-9bdf-fb2eb9ac5aa8",
   "metadata": {},
   "source": [
    "## Chargement des données"
   ]
  },
  {
   "cell_type": "code",
   "execution_count": 4,
   "id": "cfff27f4-b9b8-4adf-b237-8b2a282ad2a3",
   "metadata": {},
   "outputs": [
    {
     "data": {
      "text/plain": [
       "['application_test.csv',\n",
       " 'application_train.csv',\n",
       " 'bureau.csv',\n",
       " 'bureau_balance.csv',\n",
       " 'credit_card_balance.csv',\n",
       " 'HomeCredit_columns_description.csv',\n",
       " 'installments_payments.csv',\n",
       " 'POS_CASH_balance.csv',\n",
       " 'previous_application.csv',\n",
       " 'Projet+Mise+en+prod+-+home-credit-default-risk.zip',\n",
       " 'sample_submission.csv']"
      ]
     },
     "execution_count": 4,
     "metadata": {},
     "output_type": "execute_result"
    }
   ],
   "source": [
    "os.listdir(\"data/sources/\")"
   ]
  },
  {
   "cell_type": "code",
   "execution_count": 5,
   "id": "1f96549a-d5bf-4ddc-ad7e-d2c0934de3f4",
   "metadata": {},
   "outputs": [],
   "source": [
    "PATH = \"./data/sources/\""
   ]
  },
  {
   "cell_type": "code",
   "execution_count": 6,
   "id": "7b5a8bd9-a476-4343-8105-4a611db9e1ad",
   "metadata": {},
   "outputs": [],
   "source": [
    "application_train = pd.read_csv(PATH+\"/application_train.csv\")\n",
    "application_test = pd.read_csv(PATH+\"/application_test.csv\")\n",
    "bureau = pd.read_csv(PATH+\"/bureau.csv\")\n",
    "bureau_balance = pd.read_csv(PATH+\"/bureau_balance.csv\")\n",
    "credit_card_balance = pd.read_csv(PATH+\"/credit_card_balance.csv\")\n",
    "installments_payments = pd.read_csv(PATH+\"/installments_payments.csv\")\n",
    "previous_application = pd.read_csv(PATH+\"/previous_application.csv\")\n",
    "POS_CASH_balance = pd.read_csv(PATH+\"/POS_CASH_balance.csv\")"
   ]
  },
  {
   "cell_type": "code",
   "execution_count": 7,
   "id": "90e112aa-67b5-4e88-8bec-26793308ad1b",
   "metadata": {},
   "outputs": [
    {
     "data": {
      "text/plain": [
       "(307511, 122)"
      ]
     },
     "execution_count": 7,
     "metadata": {},
     "output_type": "execute_result"
    }
   ],
   "source": [
    "application_train.shape"
   ]
  },
  {
   "cell_type": "markdown",
   "id": "1bdcba79-4b09-4c55-96ca-909d5adac558",
   "metadata": {},
   "source": [
    "## Split du jeu de données"
   ]
  },
  {
   "cell_type": "code",
   "execution_count": 147,
   "id": "ac8bcf74-f9f0-40d5-ae20-7273db1517a5",
   "metadata": {},
   "outputs": [],
   "source": [
    "# Division des données en ensembles d'entraînement et de test\n",
    "train, test = train_test_split(application_train, test_size=0.2, random_state=21, stratify=application_train['TARGET'])"
   ]
  },
  {
   "cell_type": "markdown",
   "id": "3e888fb1-106c-46fe-89fd-62464d392c58",
   "metadata": {},
   "source": [
    "## Gestion des valeurs manquantes et infinies"
   ]
  },
  {
   "cell_type": "code",
   "execution_count": 149,
   "id": "d4a3c190-cff8-4141-935c-3e8faa098685",
   "metadata": {},
   "outputs": [],
   "source": [
    "# Supprimer les lignes où TARGET est manquant dans application_train\n",
    "train.dropna(subset=['TARGET'], inplace=True)\n",
    "test.dropna(subset=['TARGET'], inplace=True)"
   ]
  },
  {
   "cell_type": "code",
   "execution_count": 10,
   "id": "14874a5e-3ad9-4490-9732-6e88861d0a6e",
   "metadata": {},
   "outputs": [],
   "source": [
    "# Suppression des lignes où les clés sont absentes\n",
    "def drop_missing_keys(df, key, reference_df, reference_key):\n",
    "    valid_keys = reference_df[reference_key].unique()\n",
    "    return df[df[key].isin(valid_keys)]\n",
    "\n",
    "# Supprimer les lignes où les clés sont absentes\n",
    "bureau = drop_missing_keys(bureau, 'SK_ID_CURR', application_train, 'SK_ID_CURR')\n",
    "bureau_balance = drop_missing_keys(bureau_balance, 'SK_ID_BUREAU', bureau, 'SK_ID_BUREAU')\n",
    "previous_application = drop_missing_keys(previous_application, 'SK_ID_CURR', application_train, 'SK_ID_CURR')\n",
    "POS_CASH_balance = drop_missing_keys(POS_CASH_balance, 'SK_ID_PREV', previous_application, 'SK_ID_PREV')\n",
    "installments_payments = drop_missing_keys(installments_payments, 'SK_ID_PREV', previous_application, 'SK_ID_PREV')\n",
    "credit_card_balance = drop_missing_keys(credit_card_balance, 'SK_ID_PREV', previous_application, 'SK_ID_PREV')"
   ]
  },
  {
   "cell_type": "code",
   "execution_count": 8,
   "id": "75862028-7541-4c38-87cf-b5b59f89a5c8",
   "metadata": {},
   "outputs": [],
   "source": [
    "# Remplacement des valeurs infinie par nan\n",
    "def replace_infinite_values(df):\n",
    "    return df.replace([np.inf, -np.inf], np.nan)"
   ]
  },
  {
   "cell_type": "code",
   "execution_count": 17,
   "id": "1ceb9bd5-8890-4185-80a2-9f4068ee364a",
   "metadata": {},
   "outputs": [],
   "source": [
    "# Appliquer le filtre des colonnes manquantes et la gestion des valeurs infinies à chaque DataFrame\n",
    "dfs = {\n",
    "    \"Train\": train,\n",
    "    \"Test\": test,\n",
    "    \"Application Test\": application_test,\n",
    "    \"Bureau\": bureau,\n",
    "    \"Bureau Balance\": bureau_balance,\n",
    "    \"Credit Card Balance\": credit_card_balance,\n",
    "    \"Installments Payments\": installments_payments,\n",
    "    \"Previous Application\": previous_application,\n",
    "    \"POS CASH Balance\": POS_CASH_balance\n",
    "}"
   ]
  },
  {
   "cell_type": "code",
   "execution_count": 18,
   "id": "53e64267-8fb8-457c-b7bd-350efd8c50c4",
   "metadata": {},
   "outputs": [],
   "source": [
    "for name, df in dfs.items():\n",
    "    df = replace_infinite_values(df)\n",
    "    dfs[name] = df"
   ]
  },
  {
   "cell_type": "code",
   "execution_count": 19,
   "id": "1bce8176-201a-46e8-b6f8-3b60a429df44",
   "metadata": {},
   "outputs": [
    {
     "data": {
      "text/plain": [
       "(246008, 122)"
      ]
     },
     "execution_count": 19,
     "metadata": {},
     "output_type": "execute_result"
    }
   ],
   "source": [
    "dfs['Train'].shape"
   ]
  },
  {
   "cell_type": "markdown",
   "id": "aaf929ea-d28d-489b-a3c2-e8525bbbaee6",
   "metadata": {},
   "source": [
    "## Imputation"
   ]
  },
  {
   "cell_type": "code",
   "execution_count": 20,
   "id": "ea5ed28f-f01e-4d11-8ec4-df0c5a640cc7",
   "metadata": {},
   "outputs": [],
   "source": [
    "dfs_imputed = dfs"
   ]
  },
  {
   "cell_type": "code",
   "execution_count": 21,
   "id": "b4629362-bab2-448a-9955-9cd0e8fa2644",
   "metadata": {},
   "outputs": [],
   "source": [
    "# Fonction pour imputer les valeurs manquantes\n",
    "def impute_missing_values(df):\n",
    "    # Imputation pour les colonnes numériques\n",
    "    numeric_cols = df.select_dtypes(include=[np.number]).columns\n",
    "    for col in numeric_cols:\n",
    "        df[col].fillna(df[col].median(), inplace=True)\n",
    "    \n",
    "    # Imputation pour les colonnes catégorielles\n",
    "    categorical_cols = df.select_dtypes(include=[object]).columns\n",
    "    for col in categorical_cols:\n",
    "        df[col].fillna(df[col].mode()[0], inplace=True)\n",
    "    \n",
    "    return df"
   ]
  },
  {
   "cell_type": "code",
   "execution_count": 22,
   "id": "f0057006-283f-43bb-9f55-1582c363bec9",
   "metadata": {},
   "outputs": [],
   "source": [
    "for name, df in dfs_imputed.items():\n",
    "    df = impute_missing_values(df)\n",
    "    dfs_imputed[name] = df"
   ]
  },
  {
   "cell_type": "code",
   "execution_count": 23,
   "id": "f032112f-85fa-4669-bb9b-54fdd81a3e4d",
   "metadata": {},
   "outputs": [],
   "source": [
    "# Fonction pour vérifier les valeurs manquantes dans un DataFrame\n",
    "def check_missing_values(df):\n",
    "    missing_values = df.isnull().sum()\n",
    "    missing_values = missing_values[missing_values > 0]\n",
    "    if not missing_values.empty:\n",
    "        print(\"Colonnes avec des valeurs manquantes :\")\n",
    "        print(missing_values)\n",
    "    else:\n",
    "        print(\"Aucune valeur manquante détectée.\")\n"
   ]
  },
  {
   "cell_type": "code",
   "execution_count": 24,
   "id": "7de871af-afb0-48ef-8ab1-7b715044bbbb",
   "metadata": {},
   "outputs": [
    {
     "name": "stdout",
     "output_type": "stream",
     "text": [
      "\n",
      "Train:\n",
      "Aucune valeur manquante détectée.\n",
      "\n",
      "Test:\n",
      "Aucune valeur manquante détectée.\n",
      "\n",
      "Application Test:\n",
      "Aucune valeur manquante détectée.\n",
      "\n",
      "Bureau:\n",
      "Aucune valeur manquante détectée.\n",
      "\n",
      "Bureau Balance:\n",
      "Aucune valeur manquante détectée.\n",
      "\n",
      "Credit Card Balance:\n",
      "Aucune valeur manquante détectée.\n",
      "\n",
      "Installments Payments:\n",
      "Aucune valeur manquante détectée.\n",
      "\n",
      "Previous Application:\n",
      "Aucune valeur manquante détectée.\n",
      "\n",
      "POS CASH Balance:\n",
      "Aucune valeur manquante détectée.\n"
     ]
    }
   ],
   "source": [
    "# Vérification des valeurs manquantes dans chaque DataFrame\n",
    "for name, df in dfs_imputed.items():\n",
    "    print(f\"\\n{name}:\")\n",
    "    check_missing_values(df)"
   ]
  },
  {
   "cell_type": "code",
   "execution_count": 25,
   "id": "13b3418e-3a2a-4d87-aa27-737385215a66",
   "metadata": {},
   "outputs": [
    {
     "data": {
      "text/plain": [
       "(246008, 122)"
      ]
     },
     "execution_count": 25,
     "metadata": {},
     "output_type": "execute_result"
    }
   ],
   "source": [
    "dfs_imputed['Train'].shape"
   ]
  },
  {
   "cell_type": "markdown",
   "id": "3a9c253f-4378-465b-8fdd-d073453a807a",
   "metadata": {},
   "source": [
    "## Sauvegarde des données nettoyées"
   ]
  },
  {
   "cell_type": "code",
   "execution_count": 9,
   "id": "c430a269-a783-4654-87f5-4b971f807e65",
   "metadata": {},
   "outputs": [],
   "source": [
    "# Fonction pour sauvegarder un DataFrame\n",
    "def save_dataframe(df, filename, output_dir):\n",
    "    output_path = os.path.join(output_dir, filename)\n",
    "    df.to_csv(output_path, index=False)\n",
    "    print(f\"DataFrame sauvegardé sous : {output_path}\")"
   ]
  },
  {
   "cell_type": "code",
   "execution_count": 27,
   "id": "3425a43c-1539-40c3-9ae0-48650f3d0740",
   "metadata": {},
   "outputs": [],
   "source": [
    "# Dictionnaire contenant les noms des fichiers\n",
    "original_names = {\n",
    "    \"Train\": \"train.csv\",\n",
    "    \"Test\": \"test.csv\",\n",
    "    \"Application Test\": \"application_test.csv\",\n",
    "    \"Bureau\": \"bureau.csv\",\n",
    "    \"Bureau Balance\": \"bureau_balance.csv\",\n",
    "    \"Credit Card Balance\": \"credit_card_balance.csv\",\n",
    "    \"Installments Payments\": \"installments_payments.csv\",\n",
    "    \"Previous Application\": \"previous_application.csv\",\n",
    "    \"POS CASH Balance\": \"POS_CASH_balance.csv\"\n",
    "}"
   ]
  },
  {
   "cell_type": "markdown",
   "id": "b01677f9-0d19-4fd0-9d9b-fc3ee2e92cd8",
   "metadata": {},
   "source": [
    "### Sans l'imputation"
   ]
  },
  {
   "cell_type": "code",
   "execution_count": 28,
   "id": "b3e31d74-8a7f-4cbe-96c6-3f0ea367f238",
   "metadata": {},
   "outputs": [],
   "source": [
    "# Chemin du dossier où sauvegarder les DataFrames nettoyés\n",
    "output_dir = \"data/Cleaned\""
   ]
  },
  {
   "cell_type": "code",
   "execution_count": 29,
   "id": "0f60c4e4-3bda-430e-bbd5-aa35edb5cc87",
   "metadata": {},
   "outputs": [
    {
     "name": "stdout",
     "output_type": "stream",
     "text": [
      "DataFrame sauvegardé sous : data/Cleaned\\train.csv\n",
      "DataFrame sauvegardé sous : data/Cleaned\\test.csv\n",
      "DataFrame sauvegardé sous : data/Cleaned\\application_test.csv\n",
      "DataFrame sauvegardé sous : data/Cleaned\\bureau.csv\n",
      "DataFrame sauvegardé sous : data/Cleaned\\bureau_balance.csv\n",
      "DataFrame sauvegardé sous : data/Cleaned\\credit_card_balance.csv\n",
      "DataFrame sauvegardé sous : data/Cleaned\\installments_payments.csv\n",
      "DataFrame sauvegardé sous : data/Cleaned\\previous_application.csv\n",
      "DataFrame sauvegardé sous : data/Cleaned\\POS_CASH_balance.csv\n"
     ]
    }
   ],
   "source": [
    "# Sauvegarder chaque DataFrame dans le dossier output_dir avec le nom d'origine\n",
    "for name, df in dfs.items():\n",
    "    save_dataframe(df, original_names[name], output_dir)"
   ]
  },
  {
   "cell_type": "markdown",
   "id": "8faae4d8-6a4b-412e-afb0-610f049916d9",
   "metadata": {},
   "source": [
    "### Avec l'imputation"
   ]
  },
  {
   "cell_type": "code",
   "execution_count": 30,
   "id": "3a5a4511-c77c-4ef4-88d4-19106cb57d4f",
   "metadata": {},
   "outputs": [],
   "source": [
    "# Chemin du dossier où sauvegarder les DataFrames nettoyés\n",
    "output_dir_imputed = \"data/Cleaned/Imputed\""
   ]
  },
  {
   "cell_type": "code",
   "execution_count": 31,
   "id": "6b0e16b1-6e62-4ad7-9547-092fc4f58ee6",
   "metadata": {},
   "outputs": [
    {
     "name": "stdout",
     "output_type": "stream",
     "text": [
      "DataFrame sauvegardé sous : data/Cleaned/Imputed\\train.csv\n",
      "DataFrame sauvegardé sous : data/Cleaned/Imputed\\test.csv\n",
      "DataFrame sauvegardé sous : data/Cleaned/Imputed\\application_test.csv\n",
      "DataFrame sauvegardé sous : data/Cleaned/Imputed\\bureau.csv\n",
      "DataFrame sauvegardé sous : data/Cleaned/Imputed\\bureau_balance.csv\n",
      "DataFrame sauvegardé sous : data/Cleaned/Imputed\\credit_card_balance.csv\n",
      "DataFrame sauvegardé sous : data/Cleaned/Imputed\\installments_payments.csv\n",
      "DataFrame sauvegardé sous : data/Cleaned/Imputed\\previous_application.csv\n",
      "DataFrame sauvegardé sous : data/Cleaned/Imputed\\POS_CASH_balance.csv\n"
     ]
    }
   ],
   "source": [
    "# Sauvegarder chaque DataFrame dans le dossier output_dir avec le nom d'origine\n",
    "for name, df in dfs_imputed.items():\n",
    "    save_dataframe(df, original_names[name], output_dir_imputed)"
   ]
  },
  {
   "cell_type": "markdown",
   "id": "9114cdc0-cd29-4a9b-b01a-7e47a6345d83",
   "metadata": {},
   "source": [
    "# Feature engineering"
   ]
  },
  {
   "cell_type": "markdown",
   "id": "11055631-7c5c-4116-acff-3f0eed052972",
   "metadata": {},
   "source": [
    "## Sur jeu non imputé"
   ]
  },
  {
   "cell_type": "markdown",
   "id": "2efdb655-64c4-430c-a251-91cdeb245ec6",
   "metadata": {},
   "source": [
    "### Sur le df train"
   ]
  },
  {
   "cell_type": "code",
   "execution_count": 32,
   "id": "7c394711-08d1-4b5c-8332-07a98493830e",
   "metadata": {},
   "outputs": [],
   "source": [
    "# Initialiser le pipeline\n",
    "pipeline = FeatureEngineeringPipeline(data_directory=output_dir + '/')"
   ]
  },
  {
   "cell_type": "code",
   "execution_count": 33,
   "id": "ffc1b03a-a608-4b97-8b2d-6c1af8f9c774",
   "metadata": {},
   "outputs": [
    {
     "name": "stdout",
     "output_type": "stream",
     "text": [
      "feature_engineering - done\n",
      "Bureau and bureau_balance data - done in 38s\n",
      "previous_application - done in 41s\n",
      "previous applications balances - done in 515s\n",
      "Gestion des valeurs infinies\n",
      "Colonnes supprimées (constantes): 0, Colonnes restantes: 733\n",
      "Initial df memory usage is 1382.54 MB for 851 columns\n",
      "Final memory usage is: 505.34 MB - decreased by 63.4%\n"
     ]
    }
   ],
   "source": [
    "# Entraîner le pipeline\n",
    "train_transformed = pipeline.fit(dfs['Train'])"
   ]
  },
  {
   "cell_type": "code",
   "execution_count": 34,
   "id": "7b467426-e13b-4191-932d-33fe0edd6905",
   "metadata": {},
   "outputs": [],
   "source": [
    "# Sauvegarder les paramètres de transformation\n",
    "pipeline.save(os.path.join(output_dir, \"param\"))"
   ]
  },
  {
   "cell_type": "code",
   "execution_count": 35,
   "id": "2c98ca2c-c248-4629-8633-9972c705a633",
   "metadata": {},
   "outputs": [
    {
     "data": {
      "text/plain": [
       "(246003, 851)"
      ]
     },
     "execution_count": 35,
     "metadata": {},
     "output_type": "execute_result"
    }
   ],
   "source": [
    "train_transformed.shape"
   ]
  },
  {
   "cell_type": "code",
   "execution_count": 36,
   "id": "7fa2b1b0-8b57-4713-9b9b-5057fad67db1",
   "metadata": {},
   "outputs": [
    {
     "data": {
      "text/html": [
       "<div>\n",
       "<style scoped>\n",
       "    .dataframe tbody tr th:only-of-type {\n",
       "        vertical-align: middle;\n",
       "    }\n",
       "\n",
       "    .dataframe tbody tr th {\n",
       "        vertical-align: top;\n",
       "    }\n",
       "\n",
       "    .dataframe thead th {\n",
       "        text-align: right;\n",
       "    }\n",
       "</style>\n",
       "<table border=\"1\" class=\"dataframe\">\n",
       "  <thead>\n",
       "    <tr style=\"text-align: right;\">\n",
       "      <th></th>\n",
       "      <th>TARGET</th>\n",
       "      <th>NAME_CONTRACT_TYPE</th>\n",
       "      <th>CODE_GENDER</th>\n",
       "      <th>FLAG_OWN_CAR</th>\n",
       "      <th>FLAG_OWN_REALTY</th>\n",
       "      <th>CNT_CHILDREN</th>\n",
       "      <th>AMT_INCOME_TOTAL</th>\n",
       "      <th>AMT_CREDIT</th>\n",
       "      <th>AMT_ANNUITY</th>\n",
       "      <th>AMT_GOODS_PRICE</th>\n",
       "      <th>...</th>\n",
       "      <th>HOUSETYPE_MODE_block of flats</th>\n",
       "      <th>HOUSETYPE_MODE_specific housing</th>\n",
       "      <th>HOUSETYPE_MODE_terraced house</th>\n",
       "      <th>WALLSMATERIAL_MODE_Block</th>\n",
       "      <th>WALLSMATERIAL_MODE_Mixed</th>\n",
       "      <th>WALLSMATERIAL_MODE_Monolithic</th>\n",
       "      <th>WALLSMATERIAL_MODE_Others</th>\n",
       "      <th>WALLSMATERIAL_MODE_Panel</th>\n",
       "      <th>WALLSMATERIAL_MODE_Stone, brick</th>\n",
       "      <th>WALLSMATERIAL_MODE_Wooden</th>\n",
       "    </tr>\n",
       "    <tr>\n",
       "      <th>SK_ID_CURR</th>\n",
       "      <th></th>\n",
       "      <th></th>\n",
       "      <th></th>\n",
       "      <th></th>\n",
       "      <th></th>\n",
       "      <th></th>\n",
       "      <th></th>\n",
       "      <th></th>\n",
       "      <th></th>\n",
       "      <th></th>\n",
       "      <th></th>\n",
       "      <th></th>\n",
       "      <th></th>\n",
       "      <th></th>\n",
       "      <th></th>\n",
       "      <th></th>\n",
       "      <th></th>\n",
       "      <th></th>\n",
       "      <th></th>\n",
       "      <th></th>\n",
       "      <th></th>\n",
       "    </tr>\n",
       "  </thead>\n",
       "  <tbody>\n",
       "    <tr>\n",
       "      <th>183096</th>\n",
       "      <td>1</td>\n",
       "      <td>0</td>\n",
       "      <td>0</td>\n",
       "      <td>0</td>\n",
       "      <td>1</td>\n",
       "      <td>0</td>\n",
       "      <td>135000.0</td>\n",
       "      <td>161730.0</td>\n",
       "      <td>8464.5</td>\n",
       "      <td>135000.0</td>\n",
       "      <td>...</td>\n",
       "      <td>1.0</td>\n",
       "      <td>0.0</td>\n",
       "      <td>0.0</td>\n",
       "      <td>0.0</td>\n",
       "      <td>0.0</td>\n",
       "      <td>0.0</td>\n",
       "      <td>0.0</td>\n",
       "      <td>1.0</td>\n",
       "      <td>0.0</td>\n",
       "      <td>0.0</td>\n",
       "    </tr>\n",
       "    <tr>\n",
       "      <th>433941</th>\n",
       "      <td>0</td>\n",
       "      <td>0</td>\n",
       "      <td>0</td>\n",
       "      <td>1</td>\n",
       "      <td>0</td>\n",
       "      <td>0</td>\n",
       "      <td>225000.0</td>\n",
       "      <td>729792.0</td>\n",
       "      <td>22126.5</td>\n",
       "      <td>630000.0</td>\n",
       "      <td>...</td>\n",
       "      <td>1.0</td>\n",
       "      <td>0.0</td>\n",
       "      <td>0.0</td>\n",
       "      <td>0.0</td>\n",
       "      <td>0.0</td>\n",
       "      <td>0.0</td>\n",
       "      <td>0.0</td>\n",
       "      <td>0.0</td>\n",
       "      <td>1.0</td>\n",
       "      <td>0.0</td>\n",
       "    </tr>\n",
       "    <tr>\n",
       "      <th>378379</th>\n",
       "      <td>0</td>\n",
       "      <td>0</td>\n",
       "      <td>1</td>\n",
       "      <td>0</td>\n",
       "      <td>1</td>\n",
       "      <td>0</td>\n",
       "      <td>121500.0</td>\n",
       "      <td>911263.5</td>\n",
       "      <td>36270.0</td>\n",
       "      <td>814500.0</td>\n",
       "      <td>...</td>\n",
       "      <td>1.0</td>\n",
       "      <td>0.0</td>\n",
       "      <td>0.0</td>\n",
       "      <td>0.0</td>\n",
       "      <td>0.0</td>\n",
       "      <td>0.0</td>\n",
       "      <td>0.0</td>\n",
       "      <td>1.0</td>\n",
       "      <td>0.0</td>\n",
       "      <td>0.0</td>\n",
       "    </tr>\n",
       "    <tr>\n",
       "      <th>301108</th>\n",
       "      <td>0</td>\n",
       "      <td>0</td>\n",
       "      <td>0</td>\n",
       "      <td>0</td>\n",
       "      <td>1</td>\n",
       "      <td>0</td>\n",
       "      <td>180000.0</td>\n",
       "      <td>808650.0</td>\n",
       "      <td>23773.5</td>\n",
       "      <td>675000.0</td>\n",
       "      <td>...</td>\n",
       "      <td>1.0</td>\n",
       "      <td>0.0</td>\n",
       "      <td>0.0</td>\n",
       "      <td>0.0</td>\n",
       "      <td>0.0</td>\n",
       "      <td>0.0</td>\n",
       "      <td>0.0</td>\n",
       "      <td>1.0</td>\n",
       "      <td>0.0</td>\n",
       "      <td>0.0</td>\n",
       "    </tr>\n",
       "    <tr>\n",
       "      <th>194730</th>\n",
       "      <td>0</td>\n",
       "      <td>0</td>\n",
       "      <td>1</td>\n",
       "      <td>1</td>\n",
       "      <td>1</td>\n",
       "      <td>0</td>\n",
       "      <td>180000.0</td>\n",
       "      <td>355536.0</td>\n",
       "      <td>15192.0</td>\n",
       "      <td>270000.0</td>\n",
       "      <td>...</td>\n",
       "      <td>1.0</td>\n",
       "      <td>0.0</td>\n",
       "      <td>0.0</td>\n",
       "      <td>0.0</td>\n",
       "      <td>0.0</td>\n",
       "      <td>0.0</td>\n",
       "      <td>0.0</td>\n",
       "      <td>1.0</td>\n",
       "      <td>0.0</td>\n",
       "      <td>0.0</td>\n",
       "    </tr>\n",
       "  </tbody>\n",
       "</table>\n",
       "<p>5 rows × 851 columns</p>\n",
       "</div>"
      ],
      "text/plain": [
       "            TARGET  NAME_CONTRACT_TYPE  CODE_GENDER  FLAG_OWN_CAR  \\\n",
       "SK_ID_CURR                                                          \n",
       "183096           1                   0            0             0   \n",
       "433941           0                   0            0             1   \n",
       "378379           0                   0            1             0   \n",
       "301108           0                   0            0             0   \n",
       "194730           0                   0            1             1   \n",
       "\n",
       "            FLAG_OWN_REALTY  CNT_CHILDREN  AMT_INCOME_TOTAL  AMT_CREDIT  \\\n",
       "SK_ID_CURR                                                                \n",
       "183096                    1             0          135000.0    161730.0   \n",
       "433941                    0             0          225000.0    729792.0   \n",
       "378379                    1             0          121500.0    911263.5   \n",
       "301108                    1             0          180000.0    808650.0   \n",
       "194730                    1             0          180000.0    355536.0   \n",
       "\n",
       "            AMT_ANNUITY  AMT_GOODS_PRICE  ...  HOUSETYPE_MODE_block of flats  \\\n",
       "SK_ID_CURR                                ...                                  \n",
       "183096           8464.5         135000.0  ...                            1.0   \n",
       "433941          22126.5         630000.0  ...                            1.0   \n",
       "378379          36270.0         814500.0  ...                            1.0   \n",
       "301108          23773.5         675000.0  ...                            1.0   \n",
       "194730          15192.0         270000.0  ...                            1.0   \n",
       "\n",
       "            HOUSETYPE_MODE_specific housing  HOUSETYPE_MODE_terraced house  \\\n",
       "SK_ID_CURR                                                                   \n",
       "183096                                  0.0                            0.0   \n",
       "433941                                  0.0                            0.0   \n",
       "378379                                  0.0                            0.0   \n",
       "301108                                  0.0                            0.0   \n",
       "194730                                  0.0                            0.0   \n",
       "\n",
       "            WALLSMATERIAL_MODE_Block  WALLSMATERIAL_MODE_Mixed  \\\n",
       "SK_ID_CURR                                                       \n",
       "183096                           0.0                       0.0   \n",
       "433941                           0.0                       0.0   \n",
       "378379                           0.0                       0.0   \n",
       "301108                           0.0                       0.0   \n",
       "194730                           0.0                       0.0   \n",
       "\n",
       "            WALLSMATERIAL_MODE_Monolithic  WALLSMATERIAL_MODE_Others  \\\n",
       "SK_ID_CURR                                                             \n",
       "183096                                0.0                        0.0   \n",
       "433941                                0.0                        0.0   \n",
       "378379                                0.0                        0.0   \n",
       "301108                                0.0                        0.0   \n",
       "194730                                0.0                        0.0   \n",
       "\n",
       "            WALLSMATERIAL_MODE_Panel  WALLSMATERIAL_MODE_Stone, brick  \\\n",
       "SK_ID_CURR                                                              \n",
       "183096                           1.0                              0.0   \n",
       "433941                           0.0                              1.0   \n",
       "378379                           1.0                              0.0   \n",
       "301108                           1.0                              0.0   \n",
       "194730                           1.0                              0.0   \n",
       "\n",
       "            WALLSMATERIAL_MODE_Wooden  \n",
       "SK_ID_CURR                             \n",
       "183096                            0.0  \n",
       "433941                            0.0  \n",
       "378379                            0.0  \n",
       "301108                            0.0  \n",
       "194730                            0.0  \n",
       "\n",
       "[5 rows x 851 columns]"
      ]
     },
     "execution_count": 36,
     "metadata": {},
     "output_type": "execute_result"
    }
   ],
   "source": [
    "train_transformed.head(5)"
   ]
  },
  {
   "cell_type": "code",
   "execution_count": 37,
   "id": "1a3e687e-778a-4884-9e37-b51a1bb90a40",
   "metadata": {},
   "outputs": [
    {
     "name": "stdout",
     "output_type": "stream",
     "text": [
      "Colonnes avec des valeurs manquantes :\n",
      "DAYS_EMPLOYED                       44589\n",
      "DAYS_LAST_PHONE_CHANGE              30094\n",
      "INCOME_TO_EMPLOYED_RATIO            44591\n",
      "EMPLOYED_TO_BIRTH_RATIO             44589\n",
      "CAR_TO_EMPLOYED_RATIO               44591\n",
      "                                    ...  \n",
      "CTA_CREDIT_TO_ANNUITY_MEAN_RATIO    13990\n",
      "DAYS_DECISION_MEAN_TO_BIRTH         13977\n",
      "DAYS_CREDIT_MEAN_TO_BIRTH           35323\n",
      "DAYS_DECISION_MEAN_TO_EMPLOYED      56182\n",
      "DAYS_CREDIT_MEAN_TO_EMPLOYED        73145\n",
      "Length: 587, dtype: int64\n"
     ]
    }
   ],
   "source": [
    "check_missing_values(train_transformed)"
   ]
  },
  {
   "cell_type": "markdown",
   "id": "25569923-1d23-4c79-9680-8eff179a3de6",
   "metadata": {},
   "source": [
    "### Sur le df test"
   ]
  },
  {
   "cell_type": "code",
   "execution_count": 38,
   "id": "8ead627a-209f-42a4-b5bc-fa68bcb6a2a0",
   "metadata": {},
   "outputs": [
    {
     "name": "stdout",
     "output_type": "stream",
     "text": [
      "Bureau and bureau_balance data - done in 36s\n",
      "previous_application - done in 38s\n",
      "Gestion des valeurs infinies\n",
      "Initial df memory usage is 398.61 MB for 851 columns\n",
      "Final memory usage is: 118.54 MB - decreased by 70.3%\n",
      "previous applications balances - done in 502s\n"
     ]
    }
   ],
   "source": [
    "# Charger les paramètres de transformation\n",
    "pipeline.load(os.path.join(output_dir, \"param\"))\n",
    "\n",
    "# Transformer les données de test\n",
    "test_transformed = pipeline.transform(dfs['Test'])"
   ]
  },
  {
   "cell_type": "code",
   "execution_count": 39,
   "id": "a50eb6e1-d574-4a80-a990-fab0306cb933",
   "metadata": {},
   "outputs": [
    {
     "data": {
      "text/plain": [
       "(61503, 851)"
      ]
     },
     "execution_count": 39,
     "metadata": {},
     "output_type": "execute_result"
    }
   ],
   "source": [
    "test_transformed.shape"
   ]
  },
  {
   "cell_type": "markdown",
   "id": "30d8ad61-64d8-4859-b628-6f5151d48584",
   "metadata": {},
   "source": [
    "## Sur jeu imputé"
   ]
  },
  {
   "cell_type": "markdown",
   "id": "47073fa8-59eb-4c45-8169-5325d92d2567",
   "metadata": {},
   "source": [
    "### Sur le df train"
   ]
  },
  {
   "cell_type": "code",
   "execution_count": 40,
   "id": "64faec9c-992c-4364-8fb3-65c388e2eead",
   "metadata": {},
   "outputs": [],
   "source": [
    "# Initialiser le pipeline\n",
    "pipeline_imp = FeatureEngineeringPipeline(data_directory=output_dir_imputed + '/')"
   ]
  },
  {
   "cell_type": "code",
   "execution_count": 41,
   "id": "3b20a5c2-9773-4a7c-8082-ba68f1ec254b",
   "metadata": {},
   "outputs": [
    {
     "name": "stdout",
     "output_type": "stream",
     "text": [
      "feature_engineering - done\n",
      "Bureau and bureau_balance data - done in 36s\n",
      "previous_application - done in 39s\n",
      "previous applications balances - done in 495s\n",
      "Gestion des valeurs infinies\n",
      "Gestion des valeurs manquantes - done\n",
      "Colonnes supprimées (constantes): 0, Colonnes restantes: 733\n",
      "Initial df memory usage is 1382.54 MB for 851 columns\n",
      "Final memory usage is: 505.34 MB - decreased by 63.4%\n"
     ]
    }
   ],
   "source": [
    "# Entraîner le pipeline\n",
    "train_imputed_transformed = pipeline_imp.fit(dfs_imputed['Train'])"
   ]
  },
  {
   "cell_type": "code",
   "execution_count": 42,
   "id": "23927442-d9d4-4ebb-9654-99539d189ac6",
   "metadata": {},
   "outputs": [],
   "source": [
    "# Sauvegarder les paramètres de transformation\n",
    "pipeline_imp.save(os.path.join(output_dir_imputed, \"param\"))"
   ]
  },
  {
   "cell_type": "code",
   "execution_count": 43,
   "id": "6a5617e2-7a38-4a4f-9050-b35c068931e0",
   "metadata": {},
   "outputs": [
    {
     "data": {
      "text/plain": [
       "(246003, 851)"
      ]
     },
     "execution_count": 43,
     "metadata": {},
     "output_type": "execute_result"
    }
   ],
   "source": [
    "train_imputed_transformed.shape"
   ]
  },
  {
   "cell_type": "code",
   "execution_count": 44,
   "id": "844d2d1f-1629-433b-aef7-2175e520c4b8",
   "metadata": {},
   "outputs": [
    {
     "data": {
      "text/html": [
       "<div>\n",
       "<style scoped>\n",
       "    .dataframe tbody tr th:only-of-type {\n",
       "        vertical-align: middle;\n",
       "    }\n",
       "\n",
       "    .dataframe tbody tr th {\n",
       "        vertical-align: top;\n",
       "    }\n",
       "\n",
       "    .dataframe thead th {\n",
       "        text-align: right;\n",
       "    }\n",
       "</style>\n",
       "<table border=\"1\" class=\"dataframe\">\n",
       "  <thead>\n",
       "    <tr style=\"text-align: right;\">\n",
       "      <th></th>\n",
       "      <th>TARGET</th>\n",
       "      <th>NAME_CONTRACT_TYPE</th>\n",
       "      <th>CODE_GENDER</th>\n",
       "      <th>FLAG_OWN_CAR</th>\n",
       "      <th>FLAG_OWN_REALTY</th>\n",
       "      <th>CNT_CHILDREN</th>\n",
       "      <th>AMT_INCOME_TOTAL</th>\n",
       "      <th>AMT_CREDIT</th>\n",
       "      <th>AMT_ANNUITY</th>\n",
       "      <th>AMT_GOODS_PRICE</th>\n",
       "      <th>...</th>\n",
       "      <th>HOUSETYPE_MODE_block of flats</th>\n",
       "      <th>HOUSETYPE_MODE_specific housing</th>\n",
       "      <th>HOUSETYPE_MODE_terraced house</th>\n",
       "      <th>WALLSMATERIAL_MODE_Block</th>\n",
       "      <th>WALLSMATERIAL_MODE_Mixed</th>\n",
       "      <th>WALLSMATERIAL_MODE_Monolithic</th>\n",
       "      <th>WALLSMATERIAL_MODE_Others</th>\n",
       "      <th>WALLSMATERIAL_MODE_Panel</th>\n",
       "      <th>WALLSMATERIAL_MODE_Stone, brick</th>\n",
       "      <th>WALLSMATERIAL_MODE_Wooden</th>\n",
       "    </tr>\n",
       "    <tr>\n",
       "      <th>SK_ID_CURR</th>\n",
       "      <th></th>\n",
       "      <th></th>\n",
       "      <th></th>\n",
       "      <th></th>\n",
       "      <th></th>\n",
       "      <th></th>\n",
       "      <th></th>\n",
       "      <th></th>\n",
       "      <th></th>\n",
       "      <th></th>\n",
       "      <th></th>\n",
       "      <th></th>\n",
       "      <th></th>\n",
       "      <th></th>\n",
       "      <th></th>\n",
       "      <th></th>\n",
       "      <th></th>\n",
       "      <th></th>\n",
       "      <th></th>\n",
       "      <th></th>\n",
       "      <th></th>\n",
       "    </tr>\n",
       "  </thead>\n",
       "  <tbody>\n",
       "    <tr>\n",
       "      <th>183096</th>\n",
       "      <td>1</td>\n",
       "      <td>0</td>\n",
       "      <td>0</td>\n",
       "      <td>0</td>\n",
       "      <td>1</td>\n",
       "      <td>0</td>\n",
       "      <td>135000.0</td>\n",
       "      <td>161730.0</td>\n",
       "      <td>8464.5</td>\n",
       "      <td>135000.0</td>\n",
       "      <td>...</td>\n",
       "      <td>1.0</td>\n",
       "      <td>0.0</td>\n",
       "      <td>0.0</td>\n",
       "      <td>0.0</td>\n",
       "      <td>0.0</td>\n",
       "      <td>0.0</td>\n",
       "      <td>0.0</td>\n",
       "      <td>1.0</td>\n",
       "      <td>0.0</td>\n",
       "      <td>0.0</td>\n",
       "    </tr>\n",
       "    <tr>\n",
       "      <th>433941</th>\n",
       "      <td>0</td>\n",
       "      <td>0</td>\n",
       "      <td>0</td>\n",
       "      <td>1</td>\n",
       "      <td>0</td>\n",
       "      <td>0</td>\n",
       "      <td>225000.0</td>\n",
       "      <td>729792.0</td>\n",
       "      <td>22126.5</td>\n",
       "      <td>630000.0</td>\n",
       "      <td>...</td>\n",
       "      <td>1.0</td>\n",
       "      <td>0.0</td>\n",
       "      <td>0.0</td>\n",
       "      <td>0.0</td>\n",
       "      <td>0.0</td>\n",
       "      <td>0.0</td>\n",
       "      <td>0.0</td>\n",
       "      <td>0.0</td>\n",
       "      <td>1.0</td>\n",
       "      <td>0.0</td>\n",
       "    </tr>\n",
       "    <tr>\n",
       "      <th>378379</th>\n",
       "      <td>0</td>\n",
       "      <td>0</td>\n",
       "      <td>1</td>\n",
       "      <td>0</td>\n",
       "      <td>1</td>\n",
       "      <td>0</td>\n",
       "      <td>121500.0</td>\n",
       "      <td>911263.5</td>\n",
       "      <td>36270.0</td>\n",
       "      <td>814500.0</td>\n",
       "      <td>...</td>\n",
       "      <td>1.0</td>\n",
       "      <td>0.0</td>\n",
       "      <td>0.0</td>\n",
       "      <td>0.0</td>\n",
       "      <td>0.0</td>\n",
       "      <td>0.0</td>\n",
       "      <td>0.0</td>\n",
       "      <td>1.0</td>\n",
       "      <td>0.0</td>\n",
       "      <td>0.0</td>\n",
       "    </tr>\n",
       "    <tr>\n",
       "      <th>301108</th>\n",
       "      <td>0</td>\n",
       "      <td>0</td>\n",
       "      <td>0</td>\n",
       "      <td>0</td>\n",
       "      <td>1</td>\n",
       "      <td>0</td>\n",
       "      <td>180000.0</td>\n",
       "      <td>808650.0</td>\n",
       "      <td>23773.5</td>\n",
       "      <td>675000.0</td>\n",
       "      <td>...</td>\n",
       "      <td>1.0</td>\n",
       "      <td>0.0</td>\n",
       "      <td>0.0</td>\n",
       "      <td>0.0</td>\n",
       "      <td>0.0</td>\n",
       "      <td>0.0</td>\n",
       "      <td>0.0</td>\n",
       "      <td>1.0</td>\n",
       "      <td>0.0</td>\n",
       "      <td>0.0</td>\n",
       "    </tr>\n",
       "    <tr>\n",
       "      <th>194730</th>\n",
       "      <td>0</td>\n",
       "      <td>0</td>\n",
       "      <td>1</td>\n",
       "      <td>1</td>\n",
       "      <td>1</td>\n",
       "      <td>0</td>\n",
       "      <td>180000.0</td>\n",
       "      <td>355536.0</td>\n",
       "      <td>15192.0</td>\n",
       "      <td>270000.0</td>\n",
       "      <td>...</td>\n",
       "      <td>1.0</td>\n",
       "      <td>0.0</td>\n",
       "      <td>0.0</td>\n",
       "      <td>0.0</td>\n",
       "      <td>0.0</td>\n",
       "      <td>0.0</td>\n",
       "      <td>0.0</td>\n",
       "      <td>1.0</td>\n",
       "      <td>0.0</td>\n",
       "      <td>0.0</td>\n",
       "    </tr>\n",
       "  </tbody>\n",
       "</table>\n",
       "<p>5 rows × 851 columns</p>\n",
       "</div>"
      ],
      "text/plain": [
       "            TARGET  NAME_CONTRACT_TYPE  CODE_GENDER  FLAG_OWN_CAR  \\\n",
       "SK_ID_CURR                                                          \n",
       "183096           1                   0            0             0   \n",
       "433941           0                   0            0             1   \n",
       "378379           0                   0            1             0   \n",
       "301108           0                   0            0             0   \n",
       "194730           0                   0            1             1   \n",
       "\n",
       "            FLAG_OWN_REALTY  CNT_CHILDREN  AMT_INCOME_TOTAL  AMT_CREDIT  \\\n",
       "SK_ID_CURR                                                                \n",
       "183096                    1             0          135000.0    161730.0   \n",
       "433941                    0             0          225000.0    729792.0   \n",
       "378379                    1             0          121500.0    911263.5   \n",
       "301108                    1             0          180000.0    808650.0   \n",
       "194730                    1             0          180000.0    355536.0   \n",
       "\n",
       "            AMT_ANNUITY  AMT_GOODS_PRICE  ...  HOUSETYPE_MODE_block of flats  \\\n",
       "SK_ID_CURR                                ...                                  \n",
       "183096           8464.5         135000.0  ...                            1.0   \n",
       "433941          22126.5         630000.0  ...                            1.0   \n",
       "378379          36270.0         814500.0  ...                            1.0   \n",
       "301108          23773.5         675000.0  ...                            1.0   \n",
       "194730          15192.0         270000.0  ...                            1.0   \n",
       "\n",
       "            HOUSETYPE_MODE_specific housing  HOUSETYPE_MODE_terraced house  \\\n",
       "SK_ID_CURR                                                                   \n",
       "183096                                  0.0                            0.0   \n",
       "433941                                  0.0                            0.0   \n",
       "378379                                  0.0                            0.0   \n",
       "301108                                  0.0                            0.0   \n",
       "194730                                  0.0                            0.0   \n",
       "\n",
       "            WALLSMATERIAL_MODE_Block  WALLSMATERIAL_MODE_Mixed  \\\n",
       "SK_ID_CURR                                                       \n",
       "183096                           0.0                       0.0   \n",
       "433941                           0.0                       0.0   \n",
       "378379                           0.0                       0.0   \n",
       "301108                           0.0                       0.0   \n",
       "194730                           0.0                       0.0   \n",
       "\n",
       "            WALLSMATERIAL_MODE_Monolithic  WALLSMATERIAL_MODE_Others  \\\n",
       "SK_ID_CURR                                                             \n",
       "183096                                0.0                        0.0   \n",
       "433941                                0.0                        0.0   \n",
       "378379                                0.0                        0.0   \n",
       "301108                                0.0                        0.0   \n",
       "194730                                0.0                        0.0   \n",
       "\n",
       "            WALLSMATERIAL_MODE_Panel  WALLSMATERIAL_MODE_Stone, brick  \\\n",
       "SK_ID_CURR                                                              \n",
       "183096                           1.0                              0.0   \n",
       "433941                           0.0                              1.0   \n",
       "378379                           1.0                              0.0   \n",
       "301108                           1.0                              0.0   \n",
       "194730                           1.0                              0.0   \n",
       "\n",
       "            WALLSMATERIAL_MODE_Wooden  \n",
       "SK_ID_CURR                             \n",
       "183096                            0.0  \n",
       "433941                            0.0  \n",
       "378379                            0.0  \n",
       "301108                            0.0  \n",
       "194730                            0.0  \n",
       "\n",
       "[5 rows x 851 columns]"
      ]
     },
     "execution_count": 44,
     "metadata": {},
     "output_type": "execute_result"
    }
   ],
   "source": [
    "train_imputed_transformed.head(5)"
   ]
  },
  {
   "cell_type": "code",
   "execution_count": 45,
   "id": "8a30f56a-70f2-4c3b-9020-3666caf296fa",
   "metadata": {},
   "outputs": [
    {
     "name": "stdout",
     "output_type": "stream",
     "text": [
      "Aucune valeur manquante détectée.\n"
     ]
    }
   ],
   "source": [
    "check_missing_values(train_imputed_transformed)"
   ]
  },
  {
   "cell_type": "markdown",
   "id": "880f4a7e-2f04-4d7c-be47-44b8b46b9bd5",
   "metadata": {},
   "source": [
    "### Sur le df test"
   ]
  },
  {
   "cell_type": "code",
   "execution_count": 46,
   "id": "33da269f-fe4f-4ef9-bcd8-6aa8442f742d",
   "metadata": {},
   "outputs": [
    {
     "name": "stdout",
     "output_type": "stream",
     "text": [
      "Bureau and bureau_balance data - done in 36s\n",
      "previous_application - done in 39s\n",
      "Gestion des valeurs infinies\n",
      "Gestion des valeurs manquantes - done\n",
      "Initial df memory usage is 398.61 MB for 851 columns\n",
      "Final memory usage is: 118.54 MB - decreased by 70.3%\n",
      "previous applications balances - done in 498s\n"
     ]
    }
   ],
   "source": [
    "# Charger les paramètres de transformation\n",
    "pipeline_imp.load(os.path.join(output_dir_imputed, \"param\"))\n",
    "\n",
    "# Transformer les données de test\n",
    "test_imputed_transformed = pipeline_imp.transform(dfs_imputed['Test'])"
   ]
  },
  {
   "cell_type": "code",
   "execution_count": 47,
   "id": "9ccb4b00-9139-4451-80f4-a5047935cb05",
   "metadata": {},
   "outputs": [
    {
     "data": {
      "text/plain": [
       "(61503, 851)"
      ]
     },
     "execution_count": 47,
     "metadata": {},
     "output_type": "execute_result"
    }
   ],
   "source": [
    "test_imputed_transformed.shape"
   ]
  },
  {
   "cell_type": "code",
   "execution_count": 48,
   "id": "8160f7dd-cc1e-4563-a515-1163a1ab543f",
   "metadata": {},
   "outputs": [
    {
     "name": "stdout",
     "output_type": "stream",
     "text": [
      "Colonnes avec des valeurs manquantes : []\n"
     ]
    }
   ],
   "source": [
    "# Vérification des colonnes avec des valeurs manquantes\n",
    "missing_values = test_imputed_transformed.isnull().sum()\n",
    "missing_columns = missing_values[missing_values > 0].index.tolist()\n",
    "print(f\"Colonnes avec des valeurs manquantes : {missing_columns}\")"
   ]
  },
  {
   "cell_type": "markdown",
   "id": "6ea96fc7-7587-4949-be53-61f0bc654846",
   "metadata": {},
   "source": [
    "## Sauvegarde / Chargement des données"
   ]
  },
  {
   "cell_type": "code",
   "execution_count": 49,
   "id": "3b79b771-d1c3-47fe-9c6d-ed0c82d742da",
   "metadata": {},
   "outputs": [
    {
     "name": "stdout",
     "output_type": "stream",
     "text": [
      "DataFrames enregistrés avec succès.\n"
     ]
    }
   ],
   "source": [
    "output_feat_dir = \"data/Featured\"\n",
    "\n",
    "# Enregistrer les DataFrames dans des fichiers CSV\n",
    "train_transformed.to_csv(os.path.join(output_feat_dir, \"train_transformed.csv\"), index=False)\n",
    "test_transformed.to_csv(os.path.join(output_feat_dir, \"test_transformed.csv\"), index=False)\n",
    "train_imputed_transformed.to_csv(os.path.join(output_feat_dir, \"train_imputed_transformed.csv\"), index=False)\n",
    "test_imputed_transformed.to_csv(os.path.join(output_feat_dir, \"test_imputed_transformed.csv\"), index=False)\n",
    "\n",
    "print(\"DataFrames enregistrés avec succès.\")"
   ]
  },
  {
   "cell_type": "code",
   "execution_count": 10,
   "id": "377c9e6e-5aca-426b-9967-d0a968dc271e",
   "metadata": {},
   "outputs": [
    {
     "name": "stdout",
     "output_type": "stream",
     "text": [
      "DataFrames chargés avec succès.\n"
     ]
    }
   ],
   "source": [
    "# Vérification de l'existence de la variable output_feat_dir\n",
    "try:\n",
    "    output_feat_dir\n",
    "except NameError:\n",
    "    output_feat_dir = None\n",
    "\n",
    "if output_feat_dir is None:\n",
    "    output_feat_dir = \"data/Featured\"\n",
    "\n",
    "    # Charger les DataFrames à partir des fichiers CSV\n",
    "    train_transformed = pd.read_csv(os.path.join(output_feat_dir, \"train_transformed.csv\"))\n",
    "    test_transformed = pd.read_csv(os.path.join(output_feat_dir, \"test_transformed.csv\"))\n",
    "    train_imputed_transformed = pd.read_csv(os.path.join(output_feat_dir, \"train_imputed_transformed.csv\"))\n",
    "    test_imputed_transformed = pd.read_csv(os.path.join(output_feat_dir, \"test_imputed_transformed.csv\"))\n",
    "\n",
    "    print(\"DataFrames chargés avec succès.\")"
   ]
  },
  {
   "cell_type": "code",
   "execution_count": 11,
   "id": "23cbad9d-9a56-4c61-8640-dfd8684773cd",
   "metadata": {},
   "outputs": [
    {
     "name": "stdout",
     "output_type": "stream",
     "text": [
      "train_transformed : (246003, 851),\n",
      "test_transformed : (61503, 851),\n",
      "train_imputed_transformed : (246003, 851),\n",
      "test_imputed_transformed : (61503, 851)\n"
     ]
    }
   ],
   "source": [
    "print(f\"train_transformed : {train_transformed.shape},\\n\"\n",
    "      f\"test_transformed : {test_transformed.shape},\\n\"\n",
    "      f\"train_imputed_transformed : {train_imputed_transformed.shape},\\n\"\n",
    "      f\"test_imputed_transformed : {test_imputed_transformed.shape}\")"
   ]
  },
  {
   "cell_type": "code",
   "execution_count": 12,
   "id": "159a03ad-a5ba-4566-a53b-5e4f4afd7114",
   "metadata": {},
   "outputs": [],
   "source": [
    "# nettoyage des noms de colonnes\n",
    "def clean_column_names(df):\n",
    "    df.columns = [re.sub(r'[^A-Za-z0-9_]+', '', col) for col in df.columns]\n",
    "    return df\n",
    "\n",
    "train_transformed = clean_column_names(train_transformed)\n",
    "test_transformed = clean_column_names(test_transformed)\n",
    "train_imputed_transformed = clean_column_names(train_imputed_transformed)\n",
    "test_imputed_transformed = clean_column_names(test_imputed_transformed)"
   ]
  },
  {
   "cell_type": "markdown",
   "id": "1a58d4dc-c685-47ad-874f-80c57ce33089",
   "metadata": {},
   "source": [
    "# Définition du Score Métier"
   ]
  },
  {
   "cell_type": "code",
   "execution_count": 13,
   "id": "23b119b8-fb14-4734-8831-33e031002665",
   "metadata": {},
   "outputs": [],
   "source": [
    "def normalized_cost_function(y_true, y_pred):\n",
    "    fp_cost = 1\n",
    "    fn_cost = 10\n",
    "    fp = np.sum((y_true == 0) & (y_pred == 1))\n",
    "    fn = np.sum((y_true == 1) & (y_pred == 0))\n",
    "    cost = (fp_cost * fp + fn_cost * fn) / len(y_true)\n",
    "    return cost"
   ]
  },
  {
   "cell_type": "code",
   "execution_count": 14,
   "id": "55fdab66-4096-4c62-9817-d92af1c8f324",
   "metadata": {},
   "outputs": [],
   "source": [
    "# Création du custom score avec la fonction cost\n",
    "custom_scorer = make_scorer(normalized_cost_function, greater_is_better=False)"
   ]
  },
  {
   "cell_type": "markdown",
   "id": "c8c2ee42-fbe8-4dcb-9b8d-3f427bf8d584",
   "metadata": {},
   "source": [
    "# Modèles de machine learning"
   ]
  },
  {
   "cell_type": "markdown",
   "id": "4a69a0a0-259d-4680-b473-c59d3974f06c",
   "metadata": {},
   "source": [
    "## Préparation"
   ]
  },
  {
   "cell_type": "code",
   "execution_count": 15,
   "id": "159f2aca-813a-4975-919d-66e878de6f13",
   "metadata": {},
   "outputs": [],
   "source": [
    "# Séparer les features et la cible sur le jeu sans imputation\n",
    "X_train = train_transformed.drop(columns=['TARGET'])\n",
    "y_train = train_transformed['TARGET']\n",
    "X_test = test_transformed.drop(columns=['TARGET'])\n",
    "y_test = test_transformed['TARGET']"
   ]
  },
  {
   "cell_type": "code",
   "execution_count": 16,
   "id": "21ff71b8-2b72-4784-a7c7-3a4ba13271aa",
   "metadata": {},
   "outputs": [],
   "source": [
    "# Séparer les features et la cible sur le jeu imputé\n",
    "X_train_imputed = train_imputed_transformed.drop(columns=['TARGET'])\n",
    "y_train_imputed = train_imputed_transformed['TARGET']\n",
    "X_test_imputed = test_imputed_transformed.drop(columns=['TARGET'])\n",
    "y_test_imputed = test_imputed_transformed['TARGET']"
   ]
  },
  {
   "cell_type": "markdown",
   "id": "3b39aa60-706c-4ea3-9737-95a47bdeee0a",
   "metadata": {},
   "source": [
    "### Séléction des variables"
   ]
  },
  {
   "cell_type": "markdown",
   "id": "94f9a8fb-4921-434a-a3c5-47ab920e27ef",
   "metadata": {},
   "source": [
    "#### Suppression des variables hautement corrélées et des variables trop peu renseignées"
   ]
  },
  {
   "cell_type": "code",
   "execution_count": 10,
   "id": "ee6b9bd8-3d87-4c8a-89ab-5d425f836dcd",
   "metadata": {},
   "outputs": [],
   "source": [
    "# Fonction pour supprimer les colonnes avec plus de 50% de valeurs manquantes\n",
    "def drop_high_missing_columns(df, threshold=0.5):\n",
    "    missing_percentage = df.isnull().mean()\n",
    "    columns_to_drop = missing_percentage[missing_percentage > threshold].index\n",
    "    print(f\"Variables avec + de 50% de valeurs manquantes: {len(columns_to_drop)}\")\n",
    "    return df.drop(columns=columns_to_drop)"
   ]
  },
  {
   "cell_type": "code",
   "execution_count": 11,
   "id": "edbb8ede-e040-4afb-b1e5-d81965726d1b",
   "metadata": {},
   "outputs": [
    {
     "data": {
      "text/plain": [
       "(246003, 661)"
      ]
     },
     "execution_count": 11,
     "metadata": {},
     "output_type": "execute_result"
    }
   ],
   "source": [
    "train_clean = drop_high_missing_columns(train_transformed, 0.5)\n",
    "train_clean.shape"
   ]
  },
  {
   "cell_type": "code",
   "execution_count": 12,
   "id": "3e14cb4e-ba65-434c-a70f-ca7db4deb3ae",
   "metadata": {},
   "outputs": [
    {
     "name": "stdout",
     "output_type": "stream",
     "text": [
      "Variables très corrélées supprimées: 151\n"
     ]
    }
   ],
   "source": [
    "train_cleaned, high_corr_features = remove_highly_correlated_features(train_clean, threshold=0.9)\n",
    "print(f\"Variables très corrélées supprimées: {len(high_corr_features)}\")"
   ]
  },
  {
   "cell_type": "code",
   "execution_count": 13,
   "id": "53e7a8f5-78f9-42e1-84d7-81220d359864",
   "metadata": {},
   "outputs": [
    {
     "data": {
      "text/plain": [
       "(246003, 510)"
      ]
     },
     "execution_count": 13,
     "metadata": {},
     "output_type": "execute_result"
    }
   ],
   "source": [
    "train_cleaned.shape"
   ]
  },
  {
   "cell_type": "code",
   "execution_count": 14,
   "id": "0d30dba4-f2a7-4450-9c0b-e9c241fd21a2",
   "metadata": {},
   "outputs": [
    {
     "data": {
      "text/plain": [
       "(61503, 510)"
      ]
     },
     "execution_count": 14,
     "metadata": {},
     "output_type": "execute_result"
    }
   ],
   "source": [
    "# Aligner les colones du jeu de test\n",
    "\n",
    "train_cleaned_columns = list(train_cleaned.columns)\n",
    "test_cleaned = test_transformed.copy()\n",
    "\n",
    "# Supprimer les colonnes en trop\n",
    "extra_cols = set(test_cleaned.columns) - set(train_cleaned_columns)\n",
    "if extra_cols:\n",
    "    test_cleaned.drop(columns=list(extra_cols), inplace=True)\n",
    "\n",
    "# Réordonner les colonnes pour correspondre à celles du train\n",
    "test_cleaned = test_cleaned[train_cleaned_columns]\n",
    "\n",
    "test_cleaned.shape"
   ]
  },
  {
   "cell_type": "code",
   "execution_count": 15,
   "id": "6d69ce40-c180-419f-8916-c13516d0ef53",
   "metadata": {},
   "outputs": [],
   "source": [
    "# Séparer les features et la cible\n",
    "X_train = train_cleaned.drop(columns=['TARGET'])\n",
    "y_train = train_cleaned['TARGET']\n",
    "X_test = test_cleaned.drop(columns=['TARGET'])\n",
    "y_test = test_cleaned['TARGET']"
   ]
  },
  {
   "cell_type": "markdown",
   "id": "d52c35d2-dd52-48ce-96eb-914519dd05b3",
   "metadata": {},
   "source": [
    "#### Recherche de la feature importance (CatBoost + RFECV)"
   ]
  },
  {
   "cell_type": "code",
   "execution_count": 16,
   "id": "98937648-a023-4e1e-ab4f-fb0185072ee9",
   "metadata": {
    "scrolled": true
   },
   "outputs": [],
   "source": [
    "# Modèle CatBoost\n",
    "class_weights = compute_class_weight(class_weight='balanced', classes=np.unique(y_train), y=y_train)\n",
    "class_weights_catboost = class_weights.tolist()\n",
    "catboost_model = CatBoostClassifier(verbose=0, class_weights=class_weights_catboost, thread_count=-1, task_type=\"GPU\", random_seed=42)"
   ]
  },
  {
   "cell_type": "code",
   "execution_count": 17,
   "id": "2571c061-66cf-41a3-9d23-b6ea39984647",
   "metadata": {},
   "outputs": [],
   "source": [
    "# Entrainer le modèle\n",
    "catboost_model.fit(X_train, y_train)\n",
    "\n",
    "# Obtenir l'importance des caractéristiques\n",
    "feature_importances = catboost_model.get_feature_importance()\n",
    "sorted_idx = np.argsort(feature_importances)[::-1]\n",
    "\n",
    "# Fonction pour évaluer le modèle avec un sous-ensemble de caractéristiques\n",
    "def evaluate_model_with_features(n_features, X_train, y_train, X_test, y_test):\n",
    "    selected_features = sorted_idx[:n_features]\n",
    "    X_train_selected = X_train.iloc[:, selected_features]\n",
    "    X_test_selected = X_test.iloc[:, selected_features]\n",
    "    \n",
    "    catboost_model.fit(X_train_selected, y_train)\n",
    "    y_pred_proba = catboost_model.predict_proba(X_test_selected)[:, 1]\n",
    "    score = roc_auc_score(y_test, y_pred_proba)\n",
    "    return score"
   ]
  },
  {
   "cell_type": "code",
   "execution_count": 18,
   "id": "86c14527-b3bc-4f70-8455-64db0ec0b689",
   "metadata": {},
   "outputs": [],
   "source": [
    "# Créer une instance de RFECV avec CatBoostClassifier\n",
    "rfecv = RFECV(\n",
    "    estimator=catboost_model,\n",
    "    step=1, \n",
    "    cv=StratifiedKFold(5), \n",
    "    scoring=make_scorer(roc_auc_score),\n",
    "    verbose=0\n",
    ")"
   ]
  },
  {
   "cell_type": "code",
   "execution_count": 19,
   "id": "7f9bfd8c-dd97-43ca-801e-124ec1dad12f",
   "metadata": {},
   "outputs": [
    {
     "data": {
      "text/html": [
       "<style>#sk-container-id-1 {\n",
       "  /* Definition of color scheme common for light and dark mode */\n",
       "  --sklearn-color-text: black;\n",
       "  --sklearn-color-line: gray;\n",
       "  /* Definition of color scheme for unfitted estimators */\n",
       "  --sklearn-color-unfitted-level-0: #fff5e6;\n",
       "  --sklearn-color-unfitted-level-1: #f6e4d2;\n",
       "  --sklearn-color-unfitted-level-2: #ffe0b3;\n",
       "  --sklearn-color-unfitted-level-3: chocolate;\n",
       "  /* Definition of color scheme for fitted estimators */\n",
       "  --sklearn-color-fitted-level-0: #f0f8ff;\n",
       "  --sklearn-color-fitted-level-1: #d4ebff;\n",
       "  --sklearn-color-fitted-level-2: #b3dbfd;\n",
       "  --sklearn-color-fitted-level-3: cornflowerblue;\n",
       "\n",
       "  /* Specific color for light theme */\n",
       "  --sklearn-color-text-on-default-background: var(--sg-text-color, var(--theme-code-foreground, var(--jp-content-font-color1, black)));\n",
       "  --sklearn-color-background: var(--sg-background-color, var(--theme-background, var(--jp-layout-color0, white)));\n",
       "  --sklearn-color-border-box: var(--sg-text-color, var(--theme-code-foreground, var(--jp-content-font-color1, black)));\n",
       "  --sklearn-color-icon: #696969;\n",
       "\n",
       "  @media (prefers-color-scheme: dark) {\n",
       "    /* Redefinition of color scheme for dark theme */\n",
       "    --sklearn-color-text-on-default-background: var(--sg-text-color, var(--theme-code-foreground, var(--jp-content-font-color1, white)));\n",
       "    --sklearn-color-background: var(--sg-background-color, var(--theme-background, var(--jp-layout-color0, #111)));\n",
       "    --sklearn-color-border-box: var(--sg-text-color, var(--theme-code-foreground, var(--jp-content-font-color1, white)));\n",
       "    --sklearn-color-icon: #878787;\n",
       "  }\n",
       "}\n",
       "\n",
       "#sk-container-id-1 {\n",
       "  color: var(--sklearn-color-text);\n",
       "}\n",
       "\n",
       "#sk-container-id-1 pre {\n",
       "  padding: 0;\n",
       "}\n",
       "\n",
       "#sk-container-id-1 input.sk-hidden--visually {\n",
       "  border: 0;\n",
       "  clip: rect(1px 1px 1px 1px);\n",
       "  clip: rect(1px, 1px, 1px, 1px);\n",
       "  height: 1px;\n",
       "  margin: -1px;\n",
       "  overflow: hidden;\n",
       "  padding: 0;\n",
       "  position: absolute;\n",
       "  width: 1px;\n",
       "}\n",
       "\n",
       "#sk-container-id-1 div.sk-dashed-wrapped {\n",
       "  border: 1px dashed var(--sklearn-color-line);\n",
       "  margin: 0 0.4em 0.5em 0.4em;\n",
       "  box-sizing: border-box;\n",
       "  padding-bottom: 0.4em;\n",
       "  background-color: var(--sklearn-color-background);\n",
       "}\n",
       "\n",
       "#sk-container-id-1 div.sk-container {\n",
       "  /* jupyter's `normalize.less` sets `[hidden] { display: none; }`\n",
       "     but bootstrap.min.css set `[hidden] { display: none !important; }`\n",
       "     so we also need the `!important` here to be able to override the\n",
       "     default hidden behavior on the sphinx rendered scikit-learn.org.\n",
       "     See: https://github.com/scikit-learn/scikit-learn/issues/21755 */\n",
       "  display: inline-block !important;\n",
       "  position: relative;\n",
       "}\n",
       "\n",
       "#sk-container-id-1 div.sk-text-repr-fallback {\n",
       "  display: none;\n",
       "}\n",
       "\n",
       "div.sk-parallel-item,\n",
       "div.sk-serial,\n",
       "div.sk-item {\n",
       "  /* draw centered vertical line to link estimators */\n",
       "  background-image: linear-gradient(var(--sklearn-color-text-on-default-background), var(--sklearn-color-text-on-default-background));\n",
       "  background-size: 2px 100%;\n",
       "  background-repeat: no-repeat;\n",
       "  background-position: center center;\n",
       "}\n",
       "\n",
       "/* Parallel-specific style estimator block */\n",
       "\n",
       "#sk-container-id-1 div.sk-parallel-item::after {\n",
       "  content: \"\";\n",
       "  width: 100%;\n",
       "  border-bottom: 2px solid var(--sklearn-color-text-on-default-background);\n",
       "  flex-grow: 1;\n",
       "}\n",
       "\n",
       "#sk-container-id-1 div.sk-parallel {\n",
       "  display: flex;\n",
       "  align-items: stretch;\n",
       "  justify-content: center;\n",
       "  background-color: var(--sklearn-color-background);\n",
       "  position: relative;\n",
       "}\n",
       "\n",
       "#sk-container-id-1 div.sk-parallel-item {\n",
       "  display: flex;\n",
       "  flex-direction: column;\n",
       "}\n",
       "\n",
       "#sk-container-id-1 div.sk-parallel-item:first-child::after {\n",
       "  align-self: flex-end;\n",
       "  width: 50%;\n",
       "}\n",
       "\n",
       "#sk-container-id-1 div.sk-parallel-item:last-child::after {\n",
       "  align-self: flex-start;\n",
       "  width: 50%;\n",
       "}\n",
       "\n",
       "#sk-container-id-1 div.sk-parallel-item:only-child::after {\n",
       "  width: 0;\n",
       "}\n",
       "\n",
       "/* Serial-specific style estimator block */\n",
       "\n",
       "#sk-container-id-1 div.sk-serial {\n",
       "  display: flex;\n",
       "  flex-direction: column;\n",
       "  align-items: center;\n",
       "  background-color: var(--sklearn-color-background);\n",
       "  padding-right: 1em;\n",
       "  padding-left: 1em;\n",
       "}\n",
       "\n",
       "\n",
       "/* Toggleable style: style used for estimator/Pipeline/ColumnTransformer box that is\n",
       "clickable and can be expanded/collapsed.\n",
       "- Pipeline and ColumnTransformer use this feature and define the default style\n",
       "- Estimators will overwrite some part of the style using the `sk-estimator` class\n",
       "*/\n",
       "\n",
       "/* Pipeline and ColumnTransformer style (default) */\n",
       "\n",
       "#sk-container-id-1 div.sk-toggleable {\n",
       "  /* Default theme specific background. It is overwritten whether we have a\n",
       "  specific estimator or a Pipeline/ColumnTransformer */\n",
       "  background-color: var(--sklearn-color-background);\n",
       "}\n",
       "\n",
       "/* Toggleable label */\n",
       "#sk-container-id-1 label.sk-toggleable__label {\n",
       "  cursor: pointer;\n",
       "  display: block;\n",
       "  width: 100%;\n",
       "  margin-bottom: 0;\n",
       "  padding: 0.5em;\n",
       "  box-sizing: border-box;\n",
       "  text-align: center;\n",
       "}\n",
       "\n",
       "#sk-container-id-1 label.sk-toggleable__label-arrow:before {\n",
       "  /* Arrow on the left of the label */\n",
       "  content: \"▸\";\n",
       "  float: left;\n",
       "  margin-right: 0.25em;\n",
       "  color: var(--sklearn-color-icon);\n",
       "}\n",
       "\n",
       "#sk-container-id-1 label.sk-toggleable__label-arrow:hover:before {\n",
       "  color: var(--sklearn-color-text);\n",
       "}\n",
       "\n",
       "/* Toggleable content - dropdown */\n",
       "\n",
       "#sk-container-id-1 div.sk-toggleable__content {\n",
       "  max-height: 0;\n",
       "  max-width: 0;\n",
       "  overflow: hidden;\n",
       "  text-align: left;\n",
       "  /* unfitted */\n",
       "  background-color: var(--sklearn-color-unfitted-level-0);\n",
       "}\n",
       "\n",
       "#sk-container-id-1 div.sk-toggleable__content.fitted {\n",
       "  /* fitted */\n",
       "  background-color: var(--sklearn-color-fitted-level-0);\n",
       "}\n",
       "\n",
       "#sk-container-id-1 div.sk-toggleable__content pre {\n",
       "  margin: 0.2em;\n",
       "  border-radius: 0.25em;\n",
       "  color: var(--sklearn-color-text);\n",
       "  /* unfitted */\n",
       "  background-color: var(--sklearn-color-unfitted-level-0);\n",
       "}\n",
       "\n",
       "#sk-container-id-1 div.sk-toggleable__content.fitted pre {\n",
       "  /* unfitted */\n",
       "  background-color: var(--sklearn-color-fitted-level-0);\n",
       "}\n",
       "\n",
       "#sk-container-id-1 input.sk-toggleable__control:checked~div.sk-toggleable__content {\n",
       "  /* Expand drop-down */\n",
       "  max-height: 200px;\n",
       "  max-width: 100%;\n",
       "  overflow: auto;\n",
       "}\n",
       "\n",
       "#sk-container-id-1 input.sk-toggleable__control:checked~label.sk-toggleable__label-arrow:before {\n",
       "  content: \"▾\";\n",
       "}\n",
       "\n",
       "/* Pipeline/ColumnTransformer-specific style */\n",
       "\n",
       "#sk-container-id-1 div.sk-label input.sk-toggleable__control:checked~label.sk-toggleable__label {\n",
       "  color: var(--sklearn-color-text);\n",
       "  background-color: var(--sklearn-color-unfitted-level-2);\n",
       "}\n",
       "\n",
       "#sk-container-id-1 div.sk-label.fitted input.sk-toggleable__control:checked~label.sk-toggleable__label {\n",
       "  background-color: var(--sklearn-color-fitted-level-2);\n",
       "}\n",
       "\n",
       "/* Estimator-specific style */\n",
       "\n",
       "/* Colorize estimator box */\n",
       "#sk-container-id-1 div.sk-estimator input.sk-toggleable__control:checked~label.sk-toggleable__label {\n",
       "  /* unfitted */\n",
       "  background-color: var(--sklearn-color-unfitted-level-2);\n",
       "}\n",
       "\n",
       "#sk-container-id-1 div.sk-estimator.fitted input.sk-toggleable__control:checked~label.sk-toggleable__label {\n",
       "  /* fitted */\n",
       "  background-color: var(--sklearn-color-fitted-level-2);\n",
       "}\n",
       "\n",
       "#sk-container-id-1 div.sk-label label.sk-toggleable__label,\n",
       "#sk-container-id-1 div.sk-label label {\n",
       "  /* The background is the default theme color */\n",
       "  color: var(--sklearn-color-text-on-default-background);\n",
       "}\n",
       "\n",
       "/* On hover, darken the color of the background */\n",
       "#sk-container-id-1 div.sk-label:hover label.sk-toggleable__label {\n",
       "  color: var(--sklearn-color-text);\n",
       "  background-color: var(--sklearn-color-unfitted-level-2);\n",
       "}\n",
       "\n",
       "/* Label box, darken color on hover, fitted */\n",
       "#sk-container-id-1 div.sk-label.fitted:hover label.sk-toggleable__label.fitted {\n",
       "  color: var(--sklearn-color-text);\n",
       "  background-color: var(--sklearn-color-fitted-level-2);\n",
       "}\n",
       "\n",
       "/* Estimator label */\n",
       "\n",
       "#sk-container-id-1 div.sk-label label {\n",
       "  font-family: monospace;\n",
       "  font-weight: bold;\n",
       "  display: inline-block;\n",
       "  line-height: 1.2em;\n",
       "}\n",
       "\n",
       "#sk-container-id-1 div.sk-label-container {\n",
       "  text-align: center;\n",
       "}\n",
       "\n",
       "/* Estimator-specific */\n",
       "#sk-container-id-1 div.sk-estimator {\n",
       "  font-family: monospace;\n",
       "  border: 1px dotted var(--sklearn-color-border-box);\n",
       "  border-radius: 0.25em;\n",
       "  box-sizing: border-box;\n",
       "  margin-bottom: 0.5em;\n",
       "  /* unfitted */\n",
       "  background-color: var(--sklearn-color-unfitted-level-0);\n",
       "}\n",
       "\n",
       "#sk-container-id-1 div.sk-estimator.fitted {\n",
       "  /* fitted */\n",
       "  background-color: var(--sklearn-color-fitted-level-0);\n",
       "}\n",
       "\n",
       "/* on hover */\n",
       "#sk-container-id-1 div.sk-estimator:hover {\n",
       "  /* unfitted */\n",
       "  background-color: var(--sklearn-color-unfitted-level-2);\n",
       "}\n",
       "\n",
       "#sk-container-id-1 div.sk-estimator.fitted:hover {\n",
       "  /* fitted */\n",
       "  background-color: var(--sklearn-color-fitted-level-2);\n",
       "}\n",
       "\n",
       "/* Specification for estimator info (e.g. \"i\" and \"?\") */\n",
       "\n",
       "/* Common style for \"i\" and \"?\" */\n",
       "\n",
       ".sk-estimator-doc-link,\n",
       "a:link.sk-estimator-doc-link,\n",
       "a:visited.sk-estimator-doc-link {\n",
       "  float: right;\n",
       "  font-size: smaller;\n",
       "  line-height: 1em;\n",
       "  font-family: monospace;\n",
       "  background-color: var(--sklearn-color-background);\n",
       "  border-radius: 1em;\n",
       "  height: 1em;\n",
       "  width: 1em;\n",
       "  text-decoration: none !important;\n",
       "  margin-left: 1ex;\n",
       "  /* unfitted */\n",
       "  border: var(--sklearn-color-unfitted-level-1) 1pt solid;\n",
       "  color: var(--sklearn-color-unfitted-level-1);\n",
       "}\n",
       "\n",
       ".sk-estimator-doc-link.fitted,\n",
       "a:link.sk-estimator-doc-link.fitted,\n",
       "a:visited.sk-estimator-doc-link.fitted {\n",
       "  /* fitted */\n",
       "  border: var(--sklearn-color-fitted-level-1) 1pt solid;\n",
       "  color: var(--sklearn-color-fitted-level-1);\n",
       "}\n",
       "\n",
       "/* On hover */\n",
       "div.sk-estimator:hover .sk-estimator-doc-link:hover,\n",
       ".sk-estimator-doc-link:hover,\n",
       "div.sk-label-container:hover .sk-estimator-doc-link:hover,\n",
       ".sk-estimator-doc-link:hover {\n",
       "  /* unfitted */\n",
       "  background-color: var(--sklearn-color-unfitted-level-3);\n",
       "  color: var(--sklearn-color-background);\n",
       "  text-decoration: none;\n",
       "}\n",
       "\n",
       "div.sk-estimator.fitted:hover .sk-estimator-doc-link.fitted:hover,\n",
       ".sk-estimator-doc-link.fitted:hover,\n",
       "div.sk-label-container:hover .sk-estimator-doc-link.fitted:hover,\n",
       ".sk-estimator-doc-link.fitted:hover {\n",
       "  /* fitted */\n",
       "  background-color: var(--sklearn-color-fitted-level-3);\n",
       "  color: var(--sklearn-color-background);\n",
       "  text-decoration: none;\n",
       "}\n",
       "\n",
       "/* Span, style for the box shown on hovering the info icon */\n",
       ".sk-estimator-doc-link span {\n",
       "  display: none;\n",
       "  z-index: 9999;\n",
       "  position: relative;\n",
       "  font-weight: normal;\n",
       "  right: .2ex;\n",
       "  padding: .5ex;\n",
       "  margin: .5ex;\n",
       "  width: min-content;\n",
       "  min-width: 20ex;\n",
       "  max-width: 50ex;\n",
       "  color: var(--sklearn-color-text);\n",
       "  box-shadow: 2pt 2pt 4pt #999;\n",
       "  /* unfitted */\n",
       "  background: var(--sklearn-color-unfitted-level-0);\n",
       "  border: .5pt solid var(--sklearn-color-unfitted-level-3);\n",
       "}\n",
       "\n",
       ".sk-estimator-doc-link.fitted span {\n",
       "  /* fitted */\n",
       "  background: var(--sklearn-color-fitted-level-0);\n",
       "  border: var(--sklearn-color-fitted-level-3);\n",
       "}\n",
       "\n",
       ".sk-estimator-doc-link:hover span {\n",
       "  display: block;\n",
       "}\n",
       "\n",
       "/* \"?\"-specific style due to the `<a>` HTML tag */\n",
       "\n",
       "#sk-container-id-1 a.estimator_doc_link {\n",
       "  float: right;\n",
       "  font-size: 1rem;\n",
       "  line-height: 1em;\n",
       "  font-family: monospace;\n",
       "  background-color: var(--sklearn-color-background);\n",
       "  border-radius: 1rem;\n",
       "  height: 1rem;\n",
       "  width: 1rem;\n",
       "  text-decoration: none;\n",
       "  /* unfitted */\n",
       "  color: var(--sklearn-color-unfitted-level-1);\n",
       "  border: var(--sklearn-color-unfitted-level-1) 1pt solid;\n",
       "}\n",
       "\n",
       "#sk-container-id-1 a.estimator_doc_link.fitted {\n",
       "  /* fitted */\n",
       "  border: var(--sklearn-color-fitted-level-1) 1pt solid;\n",
       "  color: var(--sklearn-color-fitted-level-1);\n",
       "}\n",
       "\n",
       "/* On hover */\n",
       "#sk-container-id-1 a.estimator_doc_link:hover {\n",
       "  /* unfitted */\n",
       "  background-color: var(--sklearn-color-unfitted-level-3);\n",
       "  color: var(--sklearn-color-background);\n",
       "  text-decoration: none;\n",
       "}\n",
       "\n",
       "#sk-container-id-1 a.estimator_doc_link.fitted:hover {\n",
       "  /* fitted */\n",
       "  background-color: var(--sklearn-color-fitted-level-3);\n",
       "}\n",
       "</style><div id=\"sk-container-id-1\" class=\"sk-top-container\"><div class=\"sk-text-repr-fallback\"><pre>RFECV(cv=StratifiedKFold(n_splits=5, random_state=None, shuffle=False),\n",
       "      estimator=&lt;catboost.core.CatBoostClassifier object at 0x0000017D5EE26360&gt;,\n",
       "      scoring=make_scorer(roc_auc_score, response_method=&#x27;predict&#x27;))</pre><b>In a Jupyter environment, please rerun this cell to show the HTML representation or trust the notebook. <br />On GitHub, the HTML representation is unable to render, please try loading this page with nbviewer.org.</b></div><div class=\"sk-container\" hidden><div class=\"sk-item sk-dashed-wrapped\"><div class=\"sk-label-container\"><div class=\"sk-label fitted sk-toggleable\"><input class=\"sk-toggleable__control sk-hidden--visually\" id=\"sk-estimator-id-1\" type=\"checkbox\" ><label for=\"sk-estimator-id-1\" class=\"sk-toggleable__label fitted sk-toggleable__label-arrow fitted\">&nbsp;&nbsp;RFECV<a class=\"sk-estimator-doc-link fitted\" rel=\"noreferrer\" target=\"_blank\" href=\"https://scikit-learn.org/1.5/modules/generated/sklearn.feature_selection.RFECV.html\">?<span>Documentation for RFECV</span></a><span class=\"sk-estimator-doc-link fitted\">i<span>Fitted</span></span></label><div class=\"sk-toggleable__content fitted\"><pre>RFECV(cv=StratifiedKFold(n_splits=5, random_state=None, shuffle=False),\n",
       "      estimator=&lt;catboost.core.CatBoostClassifier object at 0x0000017D5EE26360&gt;,\n",
       "      scoring=make_scorer(roc_auc_score, response_method=&#x27;predict&#x27;))</pre></div> </div></div><div class=\"sk-parallel\"><div class=\"sk-parallel-item\"><div class=\"sk-item\"><div class=\"sk-label-container\"><div class=\"sk-label fitted sk-toggleable\"><input class=\"sk-toggleable__control sk-hidden--visually\" id=\"sk-estimator-id-2\" type=\"checkbox\" ><label for=\"sk-estimator-id-2\" class=\"sk-toggleable__label fitted sk-toggleable__label-arrow fitted\">estimator: CatBoostClassifier</label><div class=\"sk-toggleable__content fitted\"><pre>&lt;catboost.core.CatBoostClassifier object at 0x0000017D5EE26360&gt;</pre></div> </div></div><div class=\"sk-serial\"><div class=\"sk-item\"><div class=\"sk-estimator fitted sk-toggleable\"><input class=\"sk-toggleable__control sk-hidden--visually\" id=\"sk-estimator-id-3\" type=\"checkbox\" ><label for=\"sk-estimator-id-3\" class=\"sk-toggleable__label fitted sk-toggleable__label-arrow fitted\">CatBoostClassifier</label><div class=\"sk-toggleable__content fitted\"><pre>&lt;catboost.core.CatBoostClassifier object at 0x0000017D5EE26360&gt;</pre></div> </div></div></div></div></div></div></div></div></div>"
      ],
      "text/plain": [
       "RFECV(cv=StratifiedKFold(n_splits=5, random_state=None, shuffle=False),\n",
       "      estimator=<catboost.core.CatBoostClassifier object at 0x0000017D5EE26360>,\n",
       "      scoring=make_scorer(roc_auc_score, response_method='predict'))"
      ]
     },
     "execution_count": 19,
     "metadata": {},
     "output_type": "execute_result"
    }
   ],
   "source": [
    "# Entraîner le RFECV sur les données d'entraînement\n",
    "rfecv.fit(X_train, y_train)"
   ]
  },
  {
   "cell_type": "code",
   "execution_count": 20,
   "id": "6e999258-7e2a-4cf5-87f0-ec3def62b966",
   "metadata": {},
   "outputs": [
    {
     "name": "stdout",
     "output_type": "stream",
     "text": [
      "Nombre optimal de caractéristiques: 349\n"
     ]
    }
   ],
   "source": [
    "# Obtenir le nombre optimal de caractéristiques\n",
    "optimal_n_features = rfecv.n_features_\n",
    "print(f\"Nombre optimal de caractéristiques: {optimal_n_features}\")"
   ]
  },
  {
   "cell_type": "code",
   "execution_count": 21,
   "id": "224716aa-4314-4e50-b846-21f4729244d6",
   "metadata": {},
   "outputs": [],
   "source": [
    "# Obtenir la liste des caractéristiques sélectionnées\n",
    "selected_features_mask = rfecv.support_\n",
    "selected_features_list = X_train.columns[selected_features_mask].tolist()\n",
    "\n",
    "# Créer un DataFrame avec les caractéristiques sélectionnées\n",
    "selected_features = pd.DataFrame(selected_features_list, columns=[\"Selected Features\"])"
   ]
  },
  {
   "cell_type": "code",
   "execution_count": 22,
   "id": "8ce6351e-92e1-4463-a61c-ade7f21977de",
   "metadata": {},
   "outputs": [
    {
     "data": {
      "text/plain": [
       "(349, 1)"
      ]
     },
     "execution_count": 22,
     "metadata": {},
     "output_type": "execute_result"
    }
   ],
   "source": [
    "selected_features.shape"
   ]
  },
  {
   "cell_type": "markdown",
   "id": "92a98b1b-63a8-408b-ac09-65931f47b3b6",
   "metadata": {},
   "source": [
    "#### Sauvegarde / Chargement des features"
   ]
  },
  {
   "cell_type": "code",
   "execution_count": 25,
   "id": "9f0873e1-e70b-47c6-bd20-d94214abded8",
   "metadata": {},
   "outputs": [
    {
     "name": "stdout",
     "output_type": "stream",
     "text": [
      "DataFrame sauvegardé sous : data/Featured\\features.csv\n"
     ]
    }
   ],
   "source": [
    "# Sauvegarde des features selectionnées\n",
    "save_dataframe(selected_features, \"features.csv\", output_feat_dir)"
   ]
  },
  {
   "cell_type": "code",
   "execution_count": 17,
   "id": "521c3447-d342-4024-86f4-3f74f0be6c8c",
   "metadata": {},
   "outputs": [
    {
     "name": "stdout",
     "output_type": "stream",
     "text": [
      "Features chargés avec succès.\n"
     ]
    }
   ],
   "source": [
    "# Charger la liste des features selectionnées\n",
    "# Vérification de l'existence de la variable selected_features\n",
    "try:\n",
    "    selected_features\n",
    "except NameError:\n",
    "    selected_features = None\n",
    "\n",
    "if selected_features is None:\n",
    "    # Définir la variable selected_features ici\n",
    "    selected_features = pd.read_csv(os.path.join(output_feat_dir, \"features.csv\"))\n",
    "    print(\"Features chargés avec succès.\")\n",
    "\n",
    "    # Séparer les features et la cible sur le jeu imputé\n",
    "    X_train_imputed = train_imputed_transformed.drop(columns=['TARGET'])\n",
    "    y_train_imputed = train_imputed_transformed['TARGET']\n",
    "    X_test_imputed = test_imputed_transformed.drop(columns=['TARGET'])\n",
    "    y_test_imputed = test_imputed_transformed['TARGET']\n",
    "\n",
    "    selected_features_list = selected_features.iloc[:, 0].tolist()"
   ]
  },
  {
   "cell_type": "code",
   "execution_count": 18,
   "id": "0936fc79-383d-497c-92e4-ca9f63501140",
   "metadata": {},
   "outputs": [
    {
     "data": {
      "text/plain": [
       "(246003, 850)"
      ]
     },
     "execution_count": 18,
     "metadata": {},
     "output_type": "execute_result"
    }
   ],
   "source": [
    "X_train_imputed.shape"
   ]
  },
  {
   "cell_type": "code",
   "execution_count": 19,
   "id": "5b730e14-c3ad-4d56-8d86-a4080a163d1b",
   "metadata": {},
   "outputs": [],
   "source": [
    "# Filtrer les jeux de données pour ne garder que les features sélectionnées\n",
    "X_train_imp_selected = train_imputed_transformed[selected_features_list]\n",
    "X_test_imp_selected = test_imputed_transformed[selected_features_list]\n",
    "\n",
    "# idem sur jeu non imputé\n",
    "X_train_selected = X_train[selected_features_list]\n",
    "X_test_selected = X_test[selected_features_list]  "
   ]
  },
  {
   "cell_type": "code",
   "execution_count": 20,
   "id": "019a910c-70ae-402e-9b62-9fcf09d053d7",
   "metadata": {},
   "outputs": [
    {
     "data": {
      "text/plain": [
       "(246003, 349)"
      ]
     },
     "execution_count": 20,
     "metadata": {},
     "output_type": "execute_result"
    }
   ],
   "source": [
    "X_train_imp_selected.shape"
   ]
  },
  {
   "cell_type": "code",
   "execution_count": 21,
   "id": "a7cf231d-33a5-435a-91c8-f9e8ac03b565",
   "metadata": {},
   "outputs": [
    {
     "data": {
      "text/plain": [
       "(61503, 349)"
      ]
     },
     "execution_count": 21,
     "metadata": {},
     "output_type": "execute_result"
    }
   ],
   "source": [
    "X_test_imp_selected.shape"
   ]
  },
  {
   "cell_type": "code",
   "execution_count": 22,
   "id": "23d07fa6-f9e1-4db0-aed0-c4fed32f0558",
   "metadata": {},
   "outputs": [
    {
     "data": {
      "text/plain": [
       "(246003, 349)"
      ]
     },
     "execution_count": 22,
     "metadata": {},
     "output_type": "execute_result"
    }
   ],
   "source": [
    "X_train_selected.shape"
   ]
  },
  {
   "cell_type": "markdown",
   "id": "c32b714b-3163-4818-b963-070f3e4d3dc4",
   "metadata": {},
   "source": [
    "### Standardisation"
   ]
  },
  {
   "cell_type": "code",
   "execution_count": 23,
   "id": "3e488bf9-48bb-4f25-8c08-ed0e676e58fe",
   "metadata": {},
   "outputs": [],
   "source": [
    "# Normaliser les données\n",
    "scaler = StandardScaler()\n",
    "X_train_scaled = scaler.fit_transform(X_train_imp_selected)\n",
    "X_test_scaled = scaler.transform(X_test_imp_selected)"
   ]
  },
  {
   "cell_type": "code",
   "execution_count": 24,
   "id": "12d79ec9-5a67-40ce-96f1-fc70a5524652",
   "metadata": {},
   "outputs": [
    {
     "data": {
      "text/plain": [
       "(246003, 349)"
      ]
     },
     "execution_count": 24,
     "metadata": {},
     "output_type": "execute_result"
    }
   ],
   "source": [
    "X_train_scaled.shape"
   ]
  },
  {
   "cell_type": "markdown",
   "id": "98e54929-847f-4d1c-915e-83c915ac8368",
   "metadata": {},
   "source": [
    "### Ensemble de validation"
   ]
  },
  {
   "cell_type": "code",
   "execution_count": 25,
   "id": "94e0eb0b-f6b3-4243-bfa9-0c0d6e158b79",
   "metadata": {},
   "outputs": [],
   "source": [
    "# Division des données d'entraînement en sous-ensembles d'entraînement et de validation sur jeu non imputé\n",
    "X_train_part, X_val_part, y_train_part, y_val_part = train_test_split(X_train_selected, y_train,\n",
    "                                                                      test_size=0.2, random_state=42,\n",
    "                                                                      stratify=y_train)"
   ]
  },
  {
   "cell_type": "code",
   "execution_count": 26,
   "id": "816e2ab4-0aa6-46a4-87f0-b69ecc01eaaf",
   "metadata": {},
   "outputs": [],
   "source": [
    "# Division des données d'entraînement en sous-ensembles d'entraînement et de validation sur jeu imputé\n",
    "X_train_imp_part, X_val_imp_part, y_train_imp_part, y_val_imp_part = train_test_split(X_train_imp_selected, y_train_imputed,\n",
    "                                                                                      test_size=0.2, random_state=42,\n",
    "                                                                                      stratify=y_train_imputed)"
   ]
  },
  {
   "cell_type": "markdown",
   "id": "6e2918b3-8d28-4dee-a302-16ed521171f5",
   "metadata": {},
   "source": [
    "## Tests de différents modèles"
   ]
  },
  {
   "cell_type": "code",
   "execution_count": 27,
   "id": "5b602ca3-d125-41a3-a54e-c6aa5f4cb6b5",
   "metadata": {},
   "outputs": [],
   "source": [
    "# Liste des modèles à tester\n",
    "dummy_model = DummyClassifier(strategy='most_frequent')\n",
    "logistic_model = LogisticRegression(random_state=42, max_iter=2000, n_jobs=-1)\n",
    "\n",
    "# Calcul de scale_pos_weight pour XGBoost\n",
    "scale_pos_weight = sum(y_train == 0) / sum(y_train == 1)\n",
    "xgb_model_weight = XGBClassifier(scale_pos_weight=scale_pos_weight, n_jobs=-1, use_label_encoder=False,\n",
    "                                 eval_metric='logloss', random_state=42)\n",
    "xgb_model = XGBClassifier(n_jobs=-1, use_label_encoder=False, eval_metric='logloss', random_state=42)\n",
    "\n",
    "\n",
    "lgbm_model = LGBMClassifier(verbose=0, n_jobs=-1, is_unbalance=False, random_state=42)\n",
    "lgbm_model_ub = LGBMClassifier(verbose=0, n_jobs=-1, is_unbalance=True, verbosity=-1, random_state=42)\n",
    "lgbm_model_weight = LGBMClassifier(verbose=0, n_jobs=-1, is_unbalance=False, scale_pos_weight=scale_pos_weight, random_state=42)\n",
    "\n",
    "# Calcul des poids de classe pour catboost\n",
    "class_weights = compute_class_weight(class_weight='balanced', classes=np.unique(y_train), y=y_train)\n",
    "class_weights_catboost = class_weights.tolist()\n",
    "catboost_model_weight = CatBoostClassifier(verbose=0, class_weights=class_weights_catboost, thread_count=-1, task_type=\"GPU\", random_seed=42)\n",
    "\n",
    "catboost_model = CatBoostClassifier(verbose=0, thread_count=-1, task_type=\"GPU\", random_seed=42)"
   ]
  },
  {
   "cell_type": "code",
   "execution_count": 28,
   "id": "a77905a8-9eb7-4d05-bcff-547af91bf40b",
   "metadata": {},
   "outputs": [],
   "source": [
    "# Fonction pour préparer les données avec différentes techniques de rééquilibrage\n",
    "def prepare_data(need_imputation, need_scaling, need_validation, technique=None):\n",
    "\n",
    "    if need_imputation:\n",
    "        if need_validation:\n",
    "            #print(\"Avec imputation, sans scaling, avec validation\")\n",
    "            X_train_loc, y_train_loc = X_train_imp_part, y_train_imp_part\n",
    "            X_val, y_val = X_val_imp_part, y_val_imp_part\n",
    "            X_test_loc, y_test_loc = X_test_imp_selected, y_test_imputed\n",
    "        else:\n",
    "            if need_scaling:\n",
    "                #print(\"Avec Imputation, avec scaling, sans validation\")\n",
    "                X_train_loc, y_train_loc = X_train_scaled, y_train_imputed\n",
    "                X_test_loc, y_test_loc = X_test_scaled, y_test_imputed\n",
    "            else:\n",
    "                #print(\"Avec Imputation, sans scaling, sans validation\")\n",
    "                X_train_loc, y_train_loc = X_train_imp_selected, y_train_imputed\n",
    "                X_test_loc, y_test_loc = X_test_imp_selected, y_test_imputed\n",
    "            X_val, y_val = None, None\n",
    "    else:\n",
    "        if need_validation:\n",
    "            #print(\"Sans imputation, sans scaling, avec validation\")\n",
    "            X_train_loc, y_train_loc = X_train_part, y_train_part\n",
    "            X_val, y_val = X_val_part, y_val_part\n",
    "        else:\n",
    "            #print(\"Sans imputation, sans scaling, sans validation\")\n",
    "            X_train_loc, y_train_loc = X_train_selected, y_train\n",
    "            X_val, y_val = None, None\n",
    "        X_test_loc, y_test_loc = X_test_selected, y_test\n",
    "        \n",
    "    \n",
    "    if technique == \"SMOTE\":\n",
    "        smote = SMOTE(random_state=42)\n",
    "        X_res, y_res = smote.fit_resample(X_train_loc, y_train_loc)\n",
    "    elif technique == \"Undersampling\":\n",
    "        undersample = RandomUnderSampler(random_state=42)\n",
    "        X_res, y_res = undersample.fit_resample(X_train_loc, y_train_loc)\n",
    "    else:\n",
    "        X_res, y_res = X_train_loc, y_train_loc\n",
    "    #print(f\"X_res :{X_res.shape}\")\n",
    "    return X_res, y_res, X_val, y_val, X_test_loc, y_test_loc"
   ]
  },
  {
   "cell_type": "markdown",
   "id": "b824a049-20fc-4473-bfe5-e6027adb63d0",
   "metadata": {},
   "source": [
    "### Ensemble de validation fixe"
   ]
  },
  {
   "cell_type": "code",
   "execution_count": 29,
   "id": "28b02e9d-00f4-40b6-8067-23cba3232fe8",
   "metadata": {},
   "outputs": [],
   "source": [
    "# Fonction pour calculer le taux de FN et FP\n",
    "def calculate_fn_fp_rates(y_true, y_pred):\n",
    "    tn, fp, fn, tp = confusion_matrix(y_true, y_pred).ravel()\n",
    "    fn_rate = fn / (fn + tp) if (fn + tp) > 0 else 0\n",
    "    fp_rate = fp / (fp + tn) if (fp + tn) > 0 else 0\n",
    "    return fn_rate, fp_rate"
   ]
  },
  {
   "cell_type": "code",
   "execution_count": 30,
   "id": "4d0061c8-fe69-425e-bfef-f52d8bc73595",
   "metadata": {},
   "outputs": [],
   "source": [
    "results=[]\n",
    "\n",
    "# Fonction pour entraîner et enregistrer les modèles avec MLFlow\n",
    "def train_and_log_model(model, model_name, need_imputation=True, need_scaling=False, need_validation=False, technique=None, best_params=None):\n",
    "    with mlflow.start_run(run_name=f\"{model_name}\"):\n",
    "        # lancement du timer\n",
    "        start_time = time.time()\n",
    "    \n",
    "        # préparation des données\n",
    "        X_train_loc, y_train_loc, X_val, y_val, X_test_loc, y_test_loc = prepare_data(need_imputation, need_scaling,\n",
    "                                                                                      need_validation, technique)\n",
    "\n",
    "        # Appliquer les meilleurs hyperparamètres\n",
    "        if best_params:\n",
    "            model.set_params(**best_params)\n",
    "    \n",
    "        # entrainement du modèle\n",
    "        if \"LightGBM\" in model_name:\n",
    "            model.fit(X_train_loc, y_train_loc, eval_set=[(X_val, y_val)], callbacks=[lgb.early_stopping(stopping_rounds=50, verbose=False)])\n",
    "        elif \"CatBoost\" in model_name:\n",
    "            eval_dataset = Pool(X_val, y_val)\n",
    "            model.fit(X_train_loc, y_train_loc, eval_set=eval_dataset, early_stopping_rounds=50, verbose=False)\n",
    "        else:\n",
    "            # Entraînement des modèles qui n'utilisent pas d'ensemble de validation\n",
    "            model.fit(X_train_loc, y_train_loc)\n",
    "\n",
    "        # timer d'entrainement\n",
    "        training_time = time.time() - start_time\n",
    "\n",
    "        # lancement du timer\n",
    "        start_time = time.time()\n",
    "        \n",
    "        y_pred_proba = model.predict_proba(X_test_loc)[:, 1]\n",
    "        y_pred = (y_pred_proba >= 0.5).astype(int)\n",
    "\n",
    "        # timer de prediction\n",
    "        prediction_time = time.time() - start_time\n",
    "        \n",
    "        auc_score = roc_auc_score(y_test_loc, y_pred_proba)       \n",
    "        accuracy = accuracy_score(y_test_loc, y_pred)\n",
    "        custom_score = -normalized_cost_function(y_test_loc, y_pred)\n",
    "\n",
    "        # Calculer les taux de FN et FP\n",
    "        fn_rate, fp_rate = calculate_fn_fp_rates(y_test, y_pred)\n",
    "        \n",
    "        mlflow.log_param(\"model\", model_name)\n",
    "        mlflow.log_param(\"balancing_technique\", technique)\n",
    "        mlflow.log_metric(\"ROC AUC\", auc_score)\n",
    "        mlflow.log_metric(\"Accuracy\", accuracy)\n",
    "        mlflow.log_metric(\"Custom Score\", custom_score)\n",
    "        mlflow.log_metric(\"FN Rate\", fn_rate)\n",
    "        mlflow.log_metric(\"FP Rate\", fp_rate)\n",
    "        mlflow.log_metric(\"Training Time\", training_time)\n",
    "        mlflow.log_metric(\"Prediction Time\", prediction_time)\n",
    "        \n",
    "        mlflow.sklearn.log_model(model, f\"{model_name}\")\n",
    "\n",
    "        print(f\"{model_name} - ROC AUC: {auc_score}, Accuracy: {accuracy}, Custom Score: {custom_score}\")\n",
    "\n",
    "            # Ajouter les résultats au DataFrame\n",
    "    results.append({\n",
    "        \"Model\": model_name,\n",
    "        \"ROC AUC\": auc_score,\n",
    "        \"Accuracy\": accuracy,\n",
    "        \"Custom Score\": custom_score,\n",
    "        \"FN Rate\": fn_rate,\n",
    "        \"FP Rate\": fp_rate,\n",
    "        \"Training Time\": training_time,\n",
    "        \"Prediction Time\": prediction_time\n",
    "    })"
   ]
  },
  {
   "cell_type": "code",
   "execution_count": 31,
   "id": "f24ec0fa-0d4a-4852-bf5f-91158d53b0a5",
   "metadata": {},
   "outputs": [],
   "source": [
    "# Liste des modèles à tester\n",
    "model_datasets = {\n",
    "    \"Dummy Classifier\": (dummy_model, True, False, False, None, None),\n",
    "    \"Logistic Regression\": (logistic_model, True, True, False, None, None),\n",
    "    \"Logistic Regression SMOTE\": (logistic_model, True, True, False, \"SMOTE\", None),\n",
    "    \"Logistic Regression Undersampling\": (logistic_model, True, True, False, \"Undersampling\", None),\n",
    "    \"XGBoost\": (xgb_model, True, False, False, None, None),\n",
    "    \"XGBoost with weight\": (xgb_model_weight, True, False, False, None, None),\n",
    "    \"LightGBM\": (lgbm_model, False, False, True, None, None),\n",
    "    \"LightGBM with weight\": (lgbm_model_weight, False, False, True, None, None),\n",
    "    \"LightGBM with unbalanced\": (lgbm_model_ub, False, False, True, None, None),\n",
    "    \"CatBoost\": (catboost_model, False, False, True, None, None),\n",
    "    \"CatBoost with weight\": (catboost_model_weight, False, False, True, None, None),\n",
    "}"
   ]
  },
  {
   "cell_type": "code",
   "execution_count": 64,
   "id": "21103517-e021-4286-876e-c3ecee597aca",
   "metadata": {},
   "outputs": [
    {
     "name": "stdout",
     "output_type": "stream",
     "text": [
      "Evaluating Dummy Classifier\n",
      "Dummy Classifier - ROC AUC: 0.5, Accuracy: 0.9192722306228964, Custom Score: -0.8072776937710355\n",
      "Evaluating Logistic Regression\n",
      "Logistic Regression - ROC AUC: 0.7704477417125939, Accuracy: 0.9194998617953596, Custom Score: -0.7919776271076208\n",
      "Evaluating Logistic Regression SMOTE\n",
      "Logistic Regression SMOTE - ROC AUC: 0.7592687565656898, Accuracy: 0.7387607108596329, Custom Score: -0.5304944474253288\n",
      "Evaluating Logistic Regression Undersampling\n",
      "Logistic Regression Undersampling - ROC AUC: 0.7693334290901215, Accuracy: 0.7374762206721623, Custom Score: -0.5161211648212283\n",
      "Evaluating XGBoost\n",
      "XGBoost - ROC AUC: 0.7627106520200104, Accuracy: 0.9188494870168935, Custom Score: -0.76658049200852\n",
      "Evaluating XGBoost with weight\n",
      "XGBoost with weight - ROC AUC: 0.7591983585833082, Accuracy: 0.7776693819813668, Custom Score: -0.5363640798009853\n",
      "Evaluating LightGBM\n",
      "LightGBM - ROC AUC: 0.7741599345690447, Accuracy: 0.9196136773815912, Custom Score: -0.7914248085459246\n",
      "Evaluating LightGBM with weight\n",
      "LightGBM with weight - ROC AUC: 0.7235377398768992, Accuracy: 0.9192722306228964, Custom Score: -0.8072776937710355\n",
      "Evaluating LightGBM with unbalanced\n",
      "LightGBM with unbalanced - ROC AUC: 0.7235377398768992, Accuracy: 0.9192722306228964, Custom Score: -0.8072776937710355\n",
      "Evaluating CatBoost\n",
      "CatBoost - ROC AUC: 0.7814149290888569, Accuracy: 0.9198250491845926, Custom Score: -0.7824333772336309\n",
      "Evaluating CatBoost with weight\n",
      "CatBoost with weight - ROC AUC: 0.7815935967207861, Accuracy: 0.7412971724956506, Custom Score: -0.49649610588101395\n"
     ]
    }
   ],
   "source": [
    "# Entraîner et évaluer chaque modèle\n",
    "for model_name, dfs in model_datasets.items():\n",
    "    print(f\"Evaluating {model_name}\")\n",
    "    train_and_log_model(dfs[0], model_name, dfs[1], dfs[2], dfs[3], dfs[4], dfs[5])"
   ]
  },
  {
   "cell_type": "code",
   "execution_count": 65,
   "id": "40464f84-6ba1-4e83-a492-41458a7d55e7",
   "metadata": {},
   "outputs": [
    {
     "data": {
      "text/html": [
       "<div>\n",
       "<style scoped>\n",
       "    .dataframe tbody tr th:only-of-type {\n",
       "        vertical-align: middle;\n",
       "    }\n",
       "\n",
       "    .dataframe tbody tr th {\n",
       "        vertical-align: top;\n",
       "    }\n",
       "\n",
       "    .dataframe thead th {\n",
       "        text-align: right;\n",
       "    }\n",
       "</style>\n",
       "<table border=\"1\" class=\"dataframe\">\n",
       "  <thead>\n",
       "    <tr style=\"text-align: right;\">\n",
       "      <th></th>\n",
       "      <th>Model</th>\n",
       "      <th>ROC AUC</th>\n",
       "      <th>Accuracy</th>\n",
       "      <th>Custom Score</th>\n",
       "      <th>FN Rate</th>\n",
       "      <th>FP Rate</th>\n",
       "      <th>Training Time</th>\n",
       "      <th>Prediction Time</th>\n",
       "    </tr>\n",
       "  </thead>\n",
       "  <tbody>\n",
       "    <tr>\n",
       "      <th>10</th>\n",
       "      <td>CatBoost with weight</td>\n",
       "      <td>0.781594</td>\n",
       "      <td>0.741297</td>\n",
       "      <td>-0.496496</td>\n",
       "      <td>0.327291</td>\n",
       "      <td>0.252680</td>\n",
       "      <td>8.659850</td>\n",
       "      <td>0.050516</td>\n",
       "    </tr>\n",
       "    <tr>\n",
       "      <th>3</th>\n",
       "      <td>Logistic Regression Undersampling</td>\n",
       "      <td>0.769333</td>\n",
       "      <td>0.737476</td>\n",
       "      <td>-0.516121</td>\n",
       "      <td>0.349043</td>\n",
       "      <td>0.254926</td>\n",
       "      <td>2.610650</td>\n",
       "      <td>0.025035</td>\n",
       "    </tr>\n",
       "    <tr>\n",
       "      <th>2</th>\n",
       "      <td>Logistic Regression SMOTE</td>\n",
       "      <td>0.759269</td>\n",
       "      <td>0.738761</td>\n",
       "      <td>-0.530494</td>\n",
       "      <td>0.370594</td>\n",
       "      <td>0.251636</td>\n",
       "      <td>40.684464</td>\n",
       "      <td>0.025007</td>\n",
       "    </tr>\n",
       "    <tr>\n",
       "      <th>5</th>\n",
       "      <td>XGBoost with weight</td>\n",
       "      <td>0.759198</td>\n",
       "      <td>0.777669</td>\n",
       "      <td>-0.536364</td>\n",
       "      <td>0.432226</td>\n",
       "      <td>0.203898</td>\n",
       "      <td>26.172276</td>\n",
       "      <td>0.293579</td>\n",
       "    </tr>\n",
       "    <tr>\n",
       "      <th>4</th>\n",
       "      <td>XGBoost</td>\n",
       "      <td>0.762711</td>\n",
       "      <td>0.918849</td>\n",
       "      <td>-0.766580</td>\n",
       "      <td>0.943404</td>\n",
       "      <td>0.005430</td>\n",
       "      <td>26.278697</td>\n",
       "      <td>0.300291</td>\n",
       "    </tr>\n",
       "    <tr>\n",
       "      <th>9</th>\n",
       "      <td>CatBoost</td>\n",
       "      <td>0.781415</td>\n",
       "      <td>0.919825</td>\n",
       "      <td>-0.782433</td>\n",
       "      <td>0.966566</td>\n",
       "      <td>0.002335</td>\n",
       "      <td>11.711651</td>\n",
       "      <td>0.241703</td>\n",
       "    </tr>\n",
       "    <tr>\n",
       "      <th>6</th>\n",
       "      <td>LightGBM</td>\n",
       "      <td>0.774160</td>\n",
       "      <td>0.919614</td>\n",
       "      <td>-0.791425</td>\n",
       "      <td>0.978651</td>\n",
       "      <td>0.001503</td>\n",
       "      <td>6.795495</td>\n",
       "      <td>0.168045</td>\n",
       "    </tr>\n",
       "    <tr>\n",
       "      <th>1</th>\n",
       "      <td>Logistic Regression</td>\n",
       "      <td>0.770448</td>\n",
       "      <td>0.919500</td>\n",
       "      <td>-0.791978</td>\n",
       "      <td>0.979255</td>\n",
       "      <td>0.001574</td>\n",
       "      <td>7.693324</td>\n",
       "      <td>0.026368</td>\n",
       "    </tr>\n",
       "    <tr>\n",
       "      <th>0</th>\n",
       "      <td>Dummy Classifier</td>\n",
       "      <td>0.500000</td>\n",
       "      <td>0.919272</td>\n",
       "      <td>-0.807278</td>\n",
       "      <td>1.000000</td>\n",
       "      <td>0.000000</td>\n",
       "      <td>0.006002</td>\n",
       "      <td>0.000000</td>\n",
       "    </tr>\n",
       "    <tr>\n",
       "      <th>7</th>\n",
       "      <td>LightGBM with weight</td>\n",
       "      <td>0.723538</td>\n",
       "      <td>0.919272</td>\n",
       "      <td>-0.807278</td>\n",
       "      <td>1.000000</td>\n",
       "      <td>0.000000</td>\n",
       "      <td>5.174566</td>\n",
       "      <td>0.124530</td>\n",
       "    </tr>\n",
       "    <tr>\n",
       "      <th>8</th>\n",
       "      <td>LightGBM with unbalanced</td>\n",
       "      <td>0.723538</td>\n",
       "      <td>0.919272</td>\n",
       "      <td>-0.807278</td>\n",
       "      <td>1.000000</td>\n",
       "      <td>0.000000</td>\n",
       "      <td>4.973444</td>\n",
       "      <td>0.131533</td>\n",
       "    </tr>\n",
       "  </tbody>\n",
       "</table>\n",
       "</div>"
      ],
      "text/plain": [
       "                                Model   ROC AUC  Accuracy  Custom Score  \\\n",
       "10               CatBoost with weight  0.781594  0.741297     -0.496496   \n",
       "3   Logistic Regression Undersampling  0.769333  0.737476     -0.516121   \n",
       "2           Logistic Regression SMOTE  0.759269  0.738761     -0.530494   \n",
       "5                 XGBoost with weight  0.759198  0.777669     -0.536364   \n",
       "4                             XGBoost  0.762711  0.918849     -0.766580   \n",
       "9                            CatBoost  0.781415  0.919825     -0.782433   \n",
       "6                            LightGBM  0.774160  0.919614     -0.791425   \n",
       "1                 Logistic Regression  0.770448  0.919500     -0.791978   \n",
       "0                    Dummy Classifier  0.500000  0.919272     -0.807278   \n",
       "7                LightGBM with weight  0.723538  0.919272     -0.807278   \n",
       "8            LightGBM with unbalanced  0.723538  0.919272     -0.807278   \n",
       "\n",
       "     FN Rate   FP Rate  Training Time  Prediction Time  \n",
       "10  0.327291  0.252680       8.659850         0.050516  \n",
       "3   0.349043  0.254926       2.610650         0.025035  \n",
       "2   0.370594  0.251636      40.684464         0.025007  \n",
       "5   0.432226  0.203898      26.172276         0.293579  \n",
       "4   0.943404  0.005430      26.278697         0.300291  \n",
       "9   0.966566  0.002335      11.711651         0.241703  \n",
       "6   0.978651  0.001503       6.795495         0.168045  \n",
       "1   0.979255  0.001574       7.693324         0.026368  \n",
       "0   1.000000  0.000000       0.006002         0.000000  \n",
       "7   1.000000  0.000000       5.174566         0.124530  \n",
       "8   1.000000  0.000000       4.973444         0.131533  "
      ]
     },
     "execution_count": 65,
     "metadata": {},
     "output_type": "execute_result"
    }
   ],
   "source": [
    "# Afficher les résultats\n",
    "results_df = pd.DataFrame(results)\n",
    "results_df.sort_values(by=\"ROC AUC\", ascending=False)"
   ]
  },
  {
   "cell_type": "markdown",
   "id": "114e5ca7-c1f0-4d4f-bed5-17c12fccc146",
   "metadata": {},
   "source": [
    "### Validation croisée"
   ]
  },
  {
   "cell_type": "code",
   "execution_count": 66,
   "id": "68ca355c-a5e8-45c0-871d-43a8e1443575",
   "metadata": {},
   "outputs": [],
   "source": [
    "# selection des modèles prometteurs\n",
    "model_datasets_cv = {\n",
    "    \"Dummy Classifier\": (dummy_model, True, False, False, None),\n",
    "    \"Logistic Regression\": (logistic_model, True, True, False, None),\n",
    "    \"Logistic Regression SMOTE\": (logistic_model, True, True, False, \"SMOTE\"),\n",
    "    \"Logistic Regression Undersampling\": (logistic_model, True, True, False, \"Undersampling\"),\n",
    "    \"XGBoost\": (xgb_model, True, False, False, None),\n",
    "    \"XGBoost with weight\": (xgb_model_weight, True, False, False, None),\n",
    "    \"LightGBM\": (lgbm_model, False, False, False, None),\n",
    "    \"LightGBM with weight\": (lgbm_model, False, False, False, None),\n",
    "    \"LightGBM with unbalanced\": (lgbm_model_ub, False, False, False, None),\n",
    "    \"CatBoost\": (catboost_model, False, False, False, None),\n",
    "    \"CatBoost with weight\": (catboost_model_weight, False, False, False, None),\n",
    "}"
   ]
  },
  {
   "cell_type": "code",
   "execution_count": 67,
   "id": "818649ca-b6ae-44a9-b4e6-db80b6d3c626",
   "metadata": {},
   "outputs": [],
   "source": [
    "# Fonction pour effectuer une validation croisée et évaluer les modèles\n",
    "def cross_validate_model(model, X, y, scoring=custom_scorer):\n",
    "    skf = StratifiedKFold(n_splits=5, shuffle=True, random_state=42)\n",
    "    \n",
    "    auc_scores = cross_val_score(model, X, y, cv=skf, scoring=make_scorer(roc_auc_score))\n",
    "    accuracy_scores = cross_val_score(model, X, y, cv=skf, scoring=make_scorer(accuracy_score))\n",
    "    scores = cross_val_score(model, X, y, cv=skf, scoring=scoring)\n",
    "    \n",
    "    return {\n",
    "        \"auc_mean\": np.mean(auc_scores),\n",
    "        \"auc_std\": np.std(auc_scores),\n",
    "        \"accuracy_mean\": np.mean(accuracy_scores),\n",
    "        \"accuracy_std\": np.std(accuracy_scores),\n",
    "        \"custom_mean\": np.mean(scores),\n",
    "        \"custom_std\": np.std(scores)\n",
    "    }"
   ]
  },
  {
   "cell_type": "code",
   "execution_count": 68,
   "id": "d9653007-885c-4ca5-ab66-5faec9c125b9",
   "metadata": {},
   "outputs": [
    {
     "name": "stdout",
     "output_type": "stream",
     "text": [
      "Evaluating Dummy Classifier\n",
      "Dummy Classifier - ROC AUC: 0.5 (STD: 0.0), Accuracy: 0.9192733422365829 (STD: 7.664217404234489e-06), Custom Score: -0.8072665776341712 (STD: 7.664217404219637e-05)\n",
      "Evaluating Logistic Regression\n",
      "Logistic Regression - ROC AUC: 0.5155510243241214 (STD: 0.0013830211408889723), Accuracy: 0.9193627702391532 (STD: 0.0002487007087073705), Custom Score: -0.7824823437060818 (STD: 0.0022308726848882026)\n",
      "Evaluating Logistic Regression SMOTE\n",
      "Logistic Regression SMOTE - ROC AUC: 0.7408222104849986 (STD: 0.0012999650177792004), Accuracy: 0.7408222146040624 (STD: 0.001299975496037591), Custom Score: -1.3339332885001396 (STD: 0.008690861421977196)\n",
      "Evaluating Logistic Regression Undersampling\n",
      "Logistic Regression Undersampling - ROC AUC: 0.706077882624861 (STD: 0.0039925508756532965), Accuracy: 0.7060779795722265 (STD: 0.00399232357618069), Custom Score: -1.6029746910229847 (STD: 0.023797406401908392)\n",
      "Evaluating XGBoost\n",
      "XGBoost - ROC AUC: 0.5299696675454504 (STD: 0.0018645947053484262), Accuracy: 0.9182570905013334 (STD: 0.0005942773780614423), Custom Score: -0.7596614953295119 (STD: 0.002995454598609859)\n",
      "Evaluating XGBoost with weight\n",
      "XGBoost with weight - ROC AUC: 0.6879795789614092 (STD: 0.005912801619218434), Accuracy: 0.7817018563143091 (STD: 0.0012390960787312746), Custom Score: -0.5261968253504002 (STD: 0.00954649053431613)\n",
      "Evaluating LightGBM\n",
      "LightGBM - ROC AUC: 0.5185582425015287 (STD: 0.0013775176061352056), Accuracy: 0.9198668297441902 (STD: 0.0002225422538716888), Custom Score: -0.7776246777157514 (STD: 0.0021979521856559945)\n",
      "Evaluating LightGBM with weight\n",
      "LightGBM with weight - ROC AUC: 0.5185582425015287 (STD: 0.0013775176061352056), Accuracy: 0.9198668297441902 (STD: 0.0002225422538716888), Custom Score: -0.7776246777157514 (STD: 0.0021979521856559945)\n",
      "Evaluating LightGBM with unbalanced\n",
      "LightGBM with unbalanced - ROC AUC: 0.7130895820286616 (STD: 0.001584370509159543), Accuracy: 0.7283854299015339 (STD: 0.001269374853839092), Custom Score: -0.4933191797608714 (STD: 0.002632211016622108)\n",
      "Evaluating CatBoost\n",
      "CatBoost - ROC AUC: 0.5175275719176543 (STD: 0.0005030316559037158), Accuracy: 0.9202651990185273 (STD: 0.00013356512475034174), Custom Score: -0.7792466020007855 (STD: 0.0011964215379645976)\n",
      "Evaluating CatBoost with weight\n",
      "CatBoost with weight - ROC AUC: 0.717266591370464 (STD: 0.005182262326331043), Accuracy: 0.738340587135267 (STD: 0.001631835246801288), Custom Score: -0.4848274366655579 (STD: 0.008161447116700065)\n"
     ]
    }
   ],
   "source": [
    "# Liste pour stocker les résultats\n",
    "results = []\n",
    "\n",
    "# Entraîner et évaluer chaque modèle\n",
    "for model_name, dfs in model_datasets_cv.items():\n",
    "    print(f\"Evaluating {model_name}\")\n",
    "    # préparation des données\n",
    "    X_train_loc, y_train_loc, X_val_loc, y_val_loc, X_test_loc, y_test_loc = prepare_data(dfs[1], dfs[2], dfs[3], dfs[4])\n",
    "\n",
    "    # CV\n",
    "    scores = cross_validate_model(dfs[0], X_train_loc, y_train_loc, custom_scorer)\n",
    "    \n",
    "    # Enregistrer les résultats dans MLflow\n",
    "    with mlflow.start_run(run_name=f\"{model_name}_CV\"):\n",
    "        mlflow.log_param(\"model\", model_name)\n",
    "        mlflow.log_metric(\"ROC AUC\", scores[\"auc_mean\"])\n",
    "        mlflow.log_metric(\"Accuracy\", scores[\"accuracy_mean\"])\n",
    "        mlflow.log_metric(\"Custom Score\", scores[\"custom_mean\"])\n",
    "        mlflow.log_metric(\"ROC AUC STD\", scores[\"auc_std\"])\n",
    "        mlflow.log_metric(\"Accuracy STD\", scores[\"accuracy_std\"])\n",
    "        mlflow.log_metric(\"Custom Score STD\", scores[\"custom_std\"])\n",
    "        mlflow.sklearn.log_model(dfs[0], f\"{model_name}\")\n",
    "\n",
    "    print(f\"{model_name} - ROC AUC: {scores['auc_mean']} (STD: {scores['auc_std']}), \"\n",
    "          f\"Accuracy: {scores['accuracy_mean']} (STD: {scores['accuracy_std']}), \"\n",
    "          f\"Custom Score: {scores['custom_mean']} (STD: {scores['custom_std']})\")\n",
    "\n",
    "    # Ajouter les résultats au DataFrame\n",
    "    results.append({\n",
    "        \"Model\": model_name,\n",
    "        \"ROC AUC\": scores[\"auc_mean\"],\n",
    "        \"ROC AUC STD\": scores[\"auc_std\"],\n",
    "        \"Accuracy\": scores[\"accuracy_mean\"],\n",
    "        \"Accuracy STD\": scores[\"accuracy_std\"],\n",
    "        \"Custom Score\": scores[\"custom_mean\"],\n",
    "        \"Custom Score STD\": scores[\"custom_std\"]\n",
    "    })"
   ]
  },
  {
   "cell_type": "code",
   "execution_count": 71,
   "id": "bf2d4b36-3673-4eb1-bf4f-077268bc4f51",
   "metadata": {},
   "outputs": [
    {
     "data": {
      "text/html": [
       "<div>\n",
       "<style scoped>\n",
       "    .dataframe tbody tr th:only-of-type {\n",
       "        vertical-align: middle;\n",
       "    }\n",
       "\n",
       "    .dataframe tbody tr th {\n",
       "        vertical-align: top;\n",
       "    }\n",
       "\n",
       "    .dataframe thead th {\n",
       "        text-align: right;\n",
       "    }\n",
       "</style>\n",
       "<table border=\"1\" class=\"dataframe\">\n",
       "  <thead>\n",
       "    <tr style=\"text-align: right;\">\n",
       "      <th></th>\n",
       "      <th>Model</th>\n",
       "      <th>ROC AUC</th>\n",
       "      <th>ROC AUC STD</th>\n",
       "      <th>Accuracy</th>\n",
       "      <th>Accuracy STD</th>\n",
       "      <th>Custom Score</th>\n",
       "      <th>Custom Score STD</th>\n",
       "    </tr>\n",
       "  </thead>\n",
       "  <tbody>\n",
       "    <tr>\n",
       "      <th>10</th>\n",
       "      <td>CatBoost with weight</td>\n",
       "      <td>0.717267</td>\n",
       "      <td>0.005182</td>\n",
       "      <td>0.738341</td>\n",
       "      <td>0.001632</td>\n",
       "      <td>-0.484827</td>\n",
       "      <td>0.008161</td>\n",
       "    </tr>\n",
       "    <tr>\n",
       "      <th>8</th>\n",
       "      <td>LightGBM with unbalanced</td>\n",
       "      <td>0.713090</td>\n",
       "      <td>0.001584</td>\n",
       "      <td>0.728385</td>\n",
       "      <td>0.001269</td>\n",
       "      <td>-0.493319</td>\n",
       "      <td>0.002632</td>\n",
       "    </tr>\n",
       "    <tr>\n",
       "      <th>5</th>\n",
       "      <td>XGBoost with weight</td>\n",
       "      <td>0.687980</td>\n",
       "      <td>0.005913</td>\n",
       "      <td>0.781702</td>\n",
       "      <td>0.001239</td>\n",
       "      <td>-0.526197</td>\n",
       "      <td>0.009546</td>\n",
       "    </tr>\n",
       "    <tr>\n",
       "      <th>4</th>\n",
       "      <td>XGBoost</td>\n",
       "      <td>0.529970</td>\n",
       "      <td>0.001865</td>\n",
       "      <td>0.918257</td>\n",
       "      <td>0.000594</td>\n",
       "      <td>-0.759661</td>\n",
       "      <td>0.002995</td>\n",
       "    </tr>\n",
       "    <tr>\n",
       "      <th>6</th>\n",
       "      <td>LightGBM</td>\n",
       "      <td>0.518558</td>\n",
       "      <td>0.001378</td>\n",
       "      <td>0.919867</td>\n",
       "      <td>0.000223</td>\n",
       "      <td>-0.777625</td>\n",
       "      <td>0.002198</td>\n",
       "    </tr>\n",
       "    <tr>\n",
       "      <th>7</th>\n",
       "      <td>LightGBM with weight</td>\n",
       "      <td>0.518558</td>\n",
       "      <td>0.001378</td>\n",
       "      <td>0.919867</td>\n",
       "      <td>0.000223</td>\n",
       "      <td>-0.777625</td>\n",
       "      <td>0.002198</td>\n",
       "    </tr>\n",
       "    <tr>\n",
       "      <th>9</th>\n",
       "      <td>CatBoost</td>\n",
       "      <td>0.517528</td>\n",
       "      <td>0.000503</td>\n",
       "      <td>0.920265</td>\n",
       "      <td>0.000134</td>\n",
       "      <td>-0.779247</td>\n",
       "      <td>0.001196</td>\n",
       "    </tr>\n",
       "    <tr>\n",
       "      <th>1</th>\n",
       "      <td>Logistic Regression</td>\n",
       "      <td>0.515551</td>\n",
       "      <td>0.001383</td>\n",
       "      <td>0.919363</td>\n",
       "      <td>0.000249</td>\n",
       "      <td>-0.782482</td>\n",
       "      <td>0.002231</td>\n",
       "    </tr>\n",
       "    <tr>\n",
       "      <th>0</th>\n",
       "      <td>Dummy Classifier</td>\n",
       "      <td>0.500000</td>\n",
       "      <td>0.000000</td>\n",
       "      <td>0.919273</td>\n",
       "      <td>0.000008</td>\n",
       "      <td>-0.807267</td>\n",
       "      <td>0.000077</td>\n",
       "    </tr>\n",
       "    <tr>\n",
       "      <th>2</th>\n",
       "      <td>Logistic Regression SMOTE</td>\n",
       "      <td>0.740822</td>\n",
       "      <td>0.001300</td>\n",
       "      <td>0.740822</td>\n",
       "      <td>0.001300</td>\n",
       "      <td>-1.333933</td>\n",
       "      <td>0.008691</td>\n",
       "    </tr>\n",
       "    <tr>\n",
       "      <th>3</th>\n",
       "      <td>Logistic Regression Undersampling</td>\n",
       "      <td>0.706078</td>\n",
       "      <td>0.003993</td>\n",
       "      <td>0.706078</td>\n",
       "      <td>0.003992</td>\n",
       "      <td>-1.602975</td>\n",
       "      <td>0.023797</td>\n",
       "    </tr>\n",
       "  </tbody>\n",
       "</table>\n",
       "</div>"
      ],
      "text/plain": [
       "                                Model   ROC AUC  ROC AUC STD  Accuracy  \\\n",
       "10               CatBoost with weight  0.717267     0.005182  0.738341   \n",
       "8            LightGBM with unbalanced  0.713090     0.001584  0.728385   \n",
       "5                 XGBoost with weight  0.687980     0.005913  0.781702   \n",
       "4                             XGBoost  0.529970     0.001865  0.918257   \n",
       "6                            LightGBM  0.518558     0.001378  0.919867   \n",
       "7                LightGBM with weight  0.518558     0.001378  0.919867   \n",
       "9                            CatBoost  0.517528     0.000503  0.920265   \n",
       "1                 Logistic Regression  0.515551     0.001383  0.919363   \n",
       "0                    Dummy Classifier  0.500000     0.000000  0.919273   \n",
       "2           Logistic Regression SMOTE  0.740822     0.001300  0.740822   \n",
       "3   Logistic Regression Undersampling  0.706078     0.003993  0.706078   \n",
       "\n",
       "    Accuracy STD  Custom Score  Custom Score STD  \n",
       "10      0.001632     -0.484827          0.008161  \n",
       "8       0.001269     -0.493319          0.002632  \n",
       "5       0.001239     -0.526197          0.009546  \n",
       "4       0.000594     -0.759661          0.002995  \n",
       "6       0.000223     -0.777625          0.002198  \n",
       "7       0.000223     -0.777625          0.002198  \n",
       "9       0.000134     -0.779247          0.001196  \n",
       "1       0.000249     -0.782482          0.002231  \n",
       "0       0.000008     -0.807267          0.000077  \n",
       "2       0.001300     -1.333933          0.008691  \n",
       "3       0.003992     -1.602975          0.023797  "
      ]
     },
     "execution_count": 71,
     "metadata": {},
     "output_type": "execute_result"
    }
   ],
   "source": [
    "# Afficher les résultats\n",
    "results_df = pd.DataFrame(results)\n",
    "results_df.sort_values(by=\"Custom Score\", ascending=False)"
   ]
  },
  {
   "cell_type": "markdown",
   "id": "5850bdf1-070b-43b1-a3f0-caf428b4b254",
   "metadata": {},
   "source": [
    "## Recherche des hyperparamètres"
   ]
  },
  {
   "cell_type": "code",
   "execution_count": 32,
   "id": "652da0d0-b064-48e2-a559-a5d829ec78cf",
   "metadata": {},
   "outputs": [],
   "source": [
    "# Sélection des modèles les plus prometteurs\n",
    "model_datasets_hp = {\n",
    "    #\"LightGBM with unbalanced\": (lgbm_model_ub, False, False, False, None),\n",
    "    \"CatBoost with weight\": (catboost_model_weight, False, False, False, None),\n",
    "}"
   ]
  },
  {
   "cell_type": "markdown",
   "id": "f796c1a5-0006-4a05-86ae-d3aaf6da2273",
   "metadata": {},
   "source": [
    "### RandomizedSearchCV"
   ]
  },
  {
   "cell_type": "code",
   "execution_count": 83,
   "id": "61f49a76-589e-439f-a5eb-61743881e73e",
   "metadata": {},
   "outputs": [],
   "source": [
    "# Grilles d'hyperparamètres pour chaque modèle\n",
    "param_grids = {\n",
    "    \"LightGBM with unbalanced\": {\n",
    "        'n_estimators': [1200, 1300],\n",
    "        'max_depth': [40, 50, 60],\n",
    "        'learning_rate': [0.01, 0.1],\n",
    "        'num_leaves': [50, 60, 70],\n",
    "        'reg_alpha': [0.3, 0.4],\n",
    "        'reg_lambda': [0.1, 0.3],\n",
    "        'min_child_samples': [5, 10]\n",
    "    },\n",
    "    \"CatBoost with weight\": {\n",
    "        'iterations': [500, 1000, 1500],\n",
    "        'depth': [4, 6, 8, 10],\n",
    "        'learning_rate': [0.03, 0.05, 0.1],\n",
    "        'l2_leaf_reg': [1, 3, 5, 7]\n",
    "    }\n",
    "}"
   ]
  },
  {
   "cell_type": "code",
   "execution_count": 84,
   "id": "b3b54ab7-07a1-46cd-b8bb-ffe42fb7d2cd",
   "metadata": {},
   "outputs": [
    {
     "name": "stdout",
     "output_type": "stream",
     "text": [
      "Processing CatBoost with weight...\n",
      "CatBoost with weight - Best Parameters: {'learning_rate': 0.1, 'l2_leaf_reg': 1, 'iterations': 500, 'depth': 4}, Best ROC AUC: 0.7175\n"
     ]
    }
   ],
   "source": [
    "# Recherche des hyperparamètres pour chaque modèle\n",
    "best_params = {}\n",
    "best_scores = {}\n",
    "\n",
    "for model_name, dfs in model_datasets_hp.items(): \n",
    "    print(f\"Processing {model_name}...\")\n",
    "    X_train_loc, y_train_loc, X_val, y_val, X_test_loc, y_test_loc = prepare_data(dfs[1], dfs[2], dfs[3], dfs[4])\n",
    "    \n",
    "    # Utiliser RandomizedSearchCV\n",
    "    random_search = RandomizedSearchCV(dfs[0], param_grids[model_name], n_iter=10, cv=5, scoring=make_scorer(roc_auc_score))\n",
    "    random_search.fit(X_train_loc, y_train_loc)\n",
    "    \n",
    "    best_params[model_name] = random_search.best_params_\n",
    "    best_scores[model_name] = random_search.best_score_\n",
    "\n",
    "    # Enregistrer les résultats dans MLflow\n",
    "    with mlflow.start_run(run_name=f\"{model_name}_HP_Rand\"):\n",
    "        mlflow.log_param(\"model\", model_name)\n",
    "        mlflow.log_metric(\"Custom Score\", best_scores[model_name])\n",
    "        mlflow.log_params(best_params[model_name])\n",
    "        # Enregistrer le modèle dans MLflow\n",
    "        mlflow.sklearn.log_model(random_search.best_estimator_, model_name)\n",
    "\n",
    "\n",
    "# Afficher les meilleurs hyperparamètres et scores pour chaque modèle\n",
    "for model_name in best_params:\n",
    "    print(f\"{model_name} - Best Parameters: {best_params[model_name]}, Best ROC AUC: {best_scores[model_name]:.4f}\")\n"
   ]
  },
  {
   "cell_type": "markdown",
   "id": "3e27d5f2-61b4-46a3-a9c2-1166d5d50eea",
   "metadata": {},
   "source": [
    "### GridSearchCV"
   ]
  },
  {
   "cell_type": "code",
   "execution_count": 33,
   "id": "f93d48fc-8563-452d-84ff-cf5e30a8ccfc",
   "metadata": {},
   "outputs": [],
   "source": [
    "# Grilles d'hyperparamètres pour chaque modèle\n",
    "param_grids = {\n",
    "    \"LightGBM with unbalanced\": {\n",
    "        'n_estimators': [1100, 1200],\n",
    "        'max_depth': [40, 50],\n",
    "        'learning_rate': [0.01, 0.1],\n",
    "        'num_leaves': [60, 70],\n",
    "        'reg_alpha': [0.3, 0.5],\n",
    "        'reg_lambda': [0, 0.1, 0.3],\n",
    "        'min_child_samples': [10, 20]\n",
    "    },\n",
    "    \"CatBoost with weight\": {\n",
    "        'iterations': [500, 1000],\n",
    "        'depth': [4, 5],\n",
    "        'learning_rate': [0.05, 0.1],\n",
    "        'l2_leaf_reg': [1, 2]\n",
    "    }\n",
    "}"
   ]
  },
  {
   "cell_type": "code",
   "execution_count": 35,
   "id": "4dd113a5-695c-4c92-9892-68ec522a0b19",
   "metadata": {},
   "outputs": [
    {
     "name": "stdout",
     "output_type": "stream",
     "text": [
      "Processing CatBoost with weight...\n"
     ]
    }
   ],
   "source": [
    "# Recherche des hyperparamètres pour chaque modèle\n",
    "best_params = {}\n",
    "best_scores = {}\n",
    "\n",
    "for model_name, (model, need_imputation, need_scaling, need_validation, technique) in model_datasets_hp.items():\n",
    "    print(f\"Processing {model_name}...\")\n",
    "    X_train_loc, y_train_loc, X_val, y_val, X_test_loc, y_test_loc = prepare_data(need_imputation, need_scaling,\n",
    "                                                                                  need_validation, technique)\n",
    "    \n",
    "    grid_search = GridSearchCV(model, param_grids[model_name], cv=5, scoring=make_scorer(roc_auc_score))\n",
    "    grid_search.fit(X_train_loc, y_train_loc)\n",
    "    \n",
    "    best_params[model_name] = grid_search.best_params_\n",
    "    best_scores[model_name] = grid_search.best_score_\n",
    "\n",
    "    # Enregistrer les résultats dans MLflow\n",
    "    with mlflow.start_run(run_name=f\"{model_name}_HP_Grid\"):\n",
    "        mlflow.log_param(\"model\", model_name)\n",
    "        mlflow.log_metric(\"Custom Score\", best_scores[model_name])\n",
    "        mlflow.log_params(best_params[model_name])\n",
    "        # Enregistrer le modèle dans MLflow\n",
    "        mlflow.sklearn.log_model(grid_search.best_estimator_, model_name)"
   ]
  },
  {
   "cell_type": "code",
   "execution_count": 36,
   "id": "0a311c32-a1b5-4843-ba39-a666d03398c5",
   "metadata": {},
   "outputs": [
    {
     "name": "stdout",
     "output_type": "stream",
     "text": [
      "CatBoost with weight - Best Parameters: {'depth': 4, 'iterations': 500, 'l2_leaf_reg': 2, 'learning_rate': 0.1}, Best ROC AUC: 0.7182\n"
     ]
    }
   ],
   "source": [
    "# Afficher les meilleurs hyperparamètres et scores pour chaque modèle\n",
    "for model_name in best_params:\n",
    "    print(f\"{model_name} - Best Parameters: {best_params[model_name]}, Best ROC AUC: {best_scores[model_name]:.4f}\")"
   ]
  },
  {
   "cell_type": "markdown",
   "id": "1c873d99-843c-4ddd-b448-5775749a92b0",
   "metadata": {},
   "source": [
    "Resultats sur jeu de test"
   ]
  },
  {
   "cell_type": "code",
   "execution_count": 88,
   "id": "a33cd61b-11f4-4962-984c-2256d4f11fe8",
   "metadata": {},
   "outputs": [],
   "source": [
    "#  nouvelles instance des modeles\n",
    "lgbm_model_ub = LGBMClassifier(verbose=0, n_jobs=-1, is_unbalance=True, verbosity=-1)\n",
    "catboost_model_weight = CatBoostClassifier(verbose=0, class_weights=class_weights_catboost, thread_count=-1, task_type=\"GPU\")\n",
    "\n",
    "\n",
    "# Meilleurs paramètres trouvés pour chaque modèle\n",
    "#best_params = {\n",
    "#    \"LightGBM with unbalanced\": {'learning_rate': 0.01, 'max_depth': 50, 'min_child_samples': 10, 'n_estimators': 1200, 'num_leaves': 60,\n",
    "#                                 'reg_alpha': 0.3, 'reg_lambda': 0.3},\n",
    "#    \"CatBoost with weight\": {'depth': 6, 'iterations': 1000, 'l2_leaf_reg': 3, 'learning_rate': 0.03}\n",
    "#}"
   ]
  },
  {
   "cell_type": "code",
   "execution_count": 89,
   "id": "ad43356e-d51b-4119-aa43-fa64de82dc1a",
   "metadata": {},
   "outputs": [
    {
     "name": "stdout",
     "output_type": "stream",
     "text": [
      "best model - ROC AUC: 0.7816011810288845, Accuracy: 0.7297367608084159, Custom Score: -0.4956180999300847\n"
     ]
    }
   ],
   "source": [
    "train_and_log_model(catboost_model_weight, \"best model\", False, False, True, None, best_params=best_params[\"CatBoost with weight\"])"
   ]
  },
  {
   "cell_type": "raw",
   "id": "aa2da3b2-8577-47ea-bf11-39c9d892b226",
   "metadata": {},
   "source": [
    "train_and_log_model(lgbm_model_ub, \"best model\", False, False, True, None, best_params=best_params[\"LightGBM with unbalanced\"])"
   ]
  },
  {
   "cell_type": "markdown",
   "id": "abf1ce7b-36b7-4387-8dd8-c92df410ba28",
   "metadata": {},
   "source": [
    "## Features importance"
   ]
  },
  {
   "cell_type": "code",
   "execution_count": 95,
   "id": "9ee49e01-ff6e-4c10-bcbb-0052b1a3cb81",
   "metadata": {},
   "outputs": [
    {
     "data": {
      "image/png": "[encoded data removed]",
      "text/plain": [
       "<Figure size 800x950 with 1 Axes>"
      ]
     },
     "metadata": {},
     "output_type": "display_data"
    },
    {
     "data": {
      "image/png": "[encoded data removed]",
      "text/plain": [
       "<Figure size 800x950 with 2 Axes>"
      ]
     },
     "metadata": {},
     "output_type": "display_data"
    }
   ],
   "source": [
    "# Initialiser l'explainer SHAP\n",
    "explainer = shap.Explainer(catboost_model_weight)\n",
    "\n",
    "# Calculer les valeurs SHAP pour les données de test\n",
    "shap_values = explainer(X_test_selected)\n",
    "\n",
    "# Visualiser l'importance des features\n",
    "shap.summary_plot(shap_values, X_test_selected, plot_type=\"bar\")\n",
    "\n",
    "# Visualiser les valeurs SHAP pour toutes les instances\n",
    "shap.summary_plot(shap_values, X_test_selected)"
   ]
  },
  {
   "cell_type": "markdown",
   "id": "3b952532-6912-41af-b837-90edf816c756",
   "metadata": {},
   "source": [
    "## Optimisation du seuil"
   ]
  },
  {
   "cell_type": "markdown",
   "id": "ebb6e937-0d1d-4bb4-9e84-370b5592abd2",
   "metadata": {},
   "source": [
    "Calculez les probabilités de prédiction pour l'ensemble de validation ou de test.\n",
    "Évaluez le coût de différentes valeurs de seuil (par exemple, de 0 à 1 avec des pas de 0.01) et sélectionnez le seuil qui minimise votre fonction de coût."
   ]
  },
  {
   "cell_type": "code",
   "execution_count": 37,
   "id": "befbe35f-521b-401c-a6fd-1e75d047ee3c",
   "metadata": {},
   "outputs": [],
   "source": [
    "best_model = CatBoostClassifier(verbose=0, class_weights=class_weights_catboost, thread_count=-1, task_type=\"GPU\",\n",
    "                                    **best_params[\"CatBoost with weight\"])"
   ]
  },
  {
   "cell_type": "raw",
   "id": "7b827585-e6a9-48a9-8953-0c241406be22",
   "metadata": {},
   "source": [
    "best_model = LGBMClassifier(verbose=0, n_jobs=-1, is_unbalance=True, verbosity=-1, **best_params[\"LightGBM with unbalanced\"])"
   ]
  },
  {
   "cell_type": "code",
   "execution_count": 38,
   "id": "ef3aea4a-8959-446d-af3d-0bf62f2a2e06",
   "metadata": {},
   "outputs": [
    {
     "data": {
      "image/png": "[encoded data removed]",
      "text/plain": [
       "<Figure size 1200x600 with 1 Axes>"
      ]
     },
     "metadata": {},
     "output_type": "display_data"
    },
    {
     "name": "stdout",
     "output_type": "stream",
     "text": [
      "Optimal threshold: 0.49, with cost: 0.49464441779638624\n"
     ]
    }
   ],
   "source": [
    "# Entraînez le modèle avec les meilleurs hyperparamètres\n",
    "best_model.fit(X_train_part, y_train_part)\n",
    "\n",
    "# Proba de prédiction\n",
    "y_proba = best_model.predict_proba(X_val_part)[:, 1]\n",
    "\n",
    "def find_best_threshold(y_true, y_proba, cost_function):\n",
    "    thresholds = np.arange(0.0, 1.0, 0.01)\n",
    "    best_threshold = 0.5\n",
    "    best_cost = float('inf')\n",
    "    costs = []\n",
    "    f1_scores = []\n",
    "    for threshold in thresholds:\n",
    "        y_pred = (y_proba >= threshold).astype(int)\n",
    "        cost = cost_function(y_true, y_pred)\n",
    "        f1 = f1_score(y_true, y_pred)\n",
    "        costs.append(cost)\n",
    "        f1_scores.append(f1)\n",
    "        if cost < best_cost:\n",
    "            best_cost = cost\n",
    "            best_threshold = threshold\n",
    "\n",
    "    # Tracer les valeurs\n",
    "    plt.figure(figsize=(12, 6))\n",
    "    plt.plot(thresholds, costs, label='Cost Function', color='red')\n",
    "    plt.plot(thresholds, f1_scores, label='F1 Score', color='blue')\n",
    "    plt.axvline(x=best_threshold, color='green', linestyle='--', label=f'Best Threshold: {best_threshold}')\n",
    "    plt.xlabel('Threshold')\n",
    "    plt.ylabel('Value')\n",
    "    plt.title('Cost Function and F1 Score vs Threshold')\n",
    "    plt.legend()\n",
    "    plt.grid(True)\n",
    "    plt.show()\n",
    "\n",
    "    return best_threshold, best_cost, thresholds, costs, f1_scores\n",
    "\n",
    "\n",
    "# Trouver le seuil optimal\n",
    "best_threshold, best_cost, thresholds, costs, f1_scores = find_best_threshold(y_val_part, y_proba, normalized_cost_function)\n",
    "print(f\"Optimal threshold: {best_threshold}, with cost: {best_cost}\")"
   ]
  },
  {
   "cell_type": "code",
   "execution_count": 39,
   "id": "374ea60f-f976-459f-97e6-78afe5d3d81d",
   "metadata": {},
   "outputs": [
    {
     "name": "stdout",
     "output_type": "stream",
     "text": [
      "Custom Score final: -0.4972928149846349\n"
     ]
    }
   ],
   "source": [
    "# Prédire les probabilités sur le jeu de test\n",
    "y_test_proba = best_model.predict_proba(X_test_selected)[:, 1]\n",
    "\n",
    "# Utiliser le seuil optimisé pour les prédictions finales\n",
    "y_test_pred = (y_test_proba >= best_threshold).astype(int)\n",
    "\n",
    "# Calculer le custom_score final\n",
    "final_custom_score = -normalized_cost_function(y_test, y_test_pred)\n",
    "print(f\"Custom Score final: {final_custom_score}\")"
   ]
  },
  {
   "cell_type": "markdown",
   "id": "c22bbd2f-2e11-4cca-b512-c5ef14e79f60",
   "metadata": {},
   "source": [
    "# Détection du Data Drift"
   ]
  },
  {
   "cell_type": "code",
   "execution_count": 103,
   "id": "6980e791-52d7-4d7d-9351-0fe36db26445",
   "metadata": {},
   "outputs": [],
   "source": [
    "# Créer un dashboard pour la détection de la dérive des données\n",
    "data_drift_report = Report(metrics=[DataDriftPreset()])\n",
    "data_drift_report.run(current_data=application_test, reference_data=application_train.drop(columns=['TARGET']), column_mapping=None)\n",
    "\n",
    "# Sauvegarder le dashboard en HTML\n",
    "data_drift_report.save_html(\"data_drift_report_test.html\")"
   ]
  },
  {
   "cell_type": "raw",
   "id": "56349044-39a1-45cb-9bd8-cf2512a6235e",
   "metadata": {},
   "source": [
    "class DataDriftDetector:\n",
    "    def __init__(self):\n",
    "        self.dashboard = Report(metrics=[DataDriftPreset()])\n",
    "        self.reference_data = None\n",
    "\n",
    "    def fit(self, X, y=None):\n",
    "        self.reference_data = X.copy()\n",
    "        return self\n",
    "\n",
    "    def transform(self, X):\n",
    "        self.dashboard.run(reference_data=self.reference_data, current_data=X)\n",
    "        self.dashboard.save_html(\"data_drift_report.html\")\n",
    "        return X"
   ]
  },
  {
   "cell_type": "markdown",
   "id": "8c55b3bd-2d30-47c4-8c8b-97bc33c491c5",
   "metadata": {},
   "source": [
    "# Pipeline de prédiction"
   ]
  },
  {
   "cell_type": "code",
   "execution_count": 40,
   "id": "e4298d65-c1a7-4144-8711-6ec154a165db",
   "metadata": {},
   "outputs": [],
   "source": [
    "catboost_model = CatBoostClassifier(verbose=0, class_weights=class_weights_catboost, thread_count=-1, task_type=\"GPU\",\n",
    "                                    **best_params[\"CatBoost with weight\"])"
   ]
  },
  {
   "cell_type": "code",
   "execution_count": 41,
   "id": "55409953-a955-4766-8030-46f2314e8792",
   "metadata": {},
   "outputs": [],
   "source": [
    "# Classe pour classifier avec un seuil personnalisé\n",
    "class ThresholdClassifier(BaseEstimator, ClassifierMixin):\n",
    "    def __init__(self, base_classifier, threshold=0.5):\n",
    "        self.base_classifier = base_classifier\n",
    "        self.threshold = threshold\n",
    "\n",
    "    def fit(self, df, y=None):\n",
    "        X = df.drop(columns=['TARGET'])\n",
    "        y = df['TARGET']\n",
    "        print(f\"X : {X.shape}\")\n",
    "        print(f\"y : {y.shape}\")\n",
    "        self.base_classifier.fit(X, y)\n",
    "        return self\n",
    "\n",
    "    def predict(self, X):\n",
    "        proba = self.base_classifier.predict_proba(X)[:, 1]\n",
    "        return (proba >= self.threshold).astype(int)\n",
    "\n",
    "    def predict_proba(self, X):\n",
    "        return self.base_classifier.predict_proba(X)"
   ]
  },
  {
   "cell_type": "code",
   "execution_count": 42,
   "id": "a4f310d5-2ef5-4c5d-ad34-1707cb67a5e3",
   "metadata": {},
   "outputs": [],
   "source": [
    "class FeatureEngineeringPipelineWrapper(BaseEstimator, TransformerMixin):\n",
    "    def __init__(self, feature_engineering_pipeline, selected_features):\n",
    "        self.feature_engineering_pipeline = feature_engineering_pipeline\n",
    "        self.selected_features = selected_features\n",
    "\n",
    "    def fit(self, df, y=None):\n",
    "        df_transformed = self.feature_engineering_pipeline.fit(df)\n",
    "        #print(f\"df_tranformed: {df_transformed.shape}\")\n",
    "        df_transformed = clean_column_names(df_transformed)\n",
    "        self.feature_engineering_pipeline.save(\"data/Cleaned/param\")\n",
    "        return df_transformed[['TARGET'] + self.selected_features]\n",
    "\n",
    "    def transform(self, X):\n",
    "        #print(\"transform...\")\n",
    "        self.feature_engineering_pipeline.load(\"data/Cleaned/param\")\n",
    "        X_transformed = self.feature_engineering_pipeline.transform(X)\n",
    "        X_transformed = clean_column_names(X_transformed)\n",
    "        return X_transformed[self.selected_features]"
   ]
  },
  {
   "cell_type": "code",
   "execution_count": 55,
   "id": "53d92597-33ab-4f89-adb4-70dbfd402999",
   "metadata": {},
   "outputs": [],
   "source": [
    "class PipelineWithDriftDetection:\n",
    "    def __init__(self, pipeline, reference_data):\n",
    "        self.pipeline = pipeline\n",
    "        self.reference_data = reference_data\n",
    "\n",
    "    def fit(self, df):\n",
    "        #print(\"fit 1...\")\n",
    "        self.pipeline.fit(df)\n",
    "        return self\n",
    "\n",
    "    def predict(self, X):\n",
    "        #print(\"predict 1...\")\n",
    "        self.check_data_drift(X)\n",
    "        return self.pipeline.predict(X)\n",
    "\n",
    "    def predict_proba(self, X):\n",
    "        #print(\"predict proba...\")\n",
    "        self.check_data_drift(X)\n",
    "        return self.pipeline.predict_proba(X)\n",
    "\n",
    "    def check_data_drift(self, current_data):\n",
    "        if 'TARGET' not in current_data.columns:\n",
    "            ref_data = self.reference_data.drop(columns=['TARGET'])\n",
    "        report = Report(metrics=[DataDriftPreset()])\n",
    "        report.run(reference_data=ref_data, current_data=current_data)\n",
    "        report.save_html(\"data_drift_report.html\")"
   ]
  },
  {
   "cell_type": "code",
   "execution_count": 56,
   "id": "7d8103a2-d8ac-4dd4-896a-fa2ec97e33a5",
   "metadata": {},
   "outputs": [],
   "source": [
    "# Fonction de préparation des données\n",
    "def prepare_data(df):\n",
    "    # Gestion des valeurs infinies\n",
    "    df = replace_infinite_values(df)\n",
    "\n",
    "    # Initialisation du pipeline de feature engineering\n",
    "    feature_engineering_pipeline = FeatureEngineeringPipeline()\n",
    "    selected_features = pd.read_csv('data/Featured/features.csv')['Selected Features'].tolist()\n",
    "    feature_engineering_pipeline_wrapper = FeatureEngineeringPipelineWrapper(feature_engineering_pipeline, selected_features)\n",
    "\n",
    "    if 'TARGET' in df.columns:\n",
    "        print(\"fit...\")\n",
    "        df_transformed = feature_engineering_pipeline_wrapper.fit(df)\n",
    "    else:\n",
    "        df['TARGET'] = np.nan\n",
    "        print(\"predict...\")\n",
    "        df_transformed = feature_engineering_pipeline_wrapper.transform(df)\n",
    "    \n",
    "    return df_transformed"
   ]
  },
  {
   "cell_type": "code",
   "execution_count": 57,
   "id": "c6c63676-fdd9-4a63-b40d-3fc02a657d18",
   "metadata": {
    "scrolled": true
   },
   "outputs": [],
   "source": [
    "# Création du pipeline\n",
    "pipeline = Pipeline([\n",
    "    ('preprocessor', FunctionTransformer(prepare_data, validate=False)),\n",
    "    ('classifier', ThresholdClassifier(catboost_model, threshold=best_threshold))\n",
    "])\n",
    "\n",
    "# Enveloppe le pipeline avec la détection de dérive\n",
    "pipeline_with_drift = PipelineWithDriftDetection(pipeline, application_train)"
   ]
  },
  {
   "cell_type": "code",
   "execution_count": 58,
   "id": "67d1c378-ae97-4fcb-bc97-358c33d84267",
   "metadata": {},
   "outputs": [
    {
     "name": "stdout",
     "output_type": "stream",
     "text": [
      "fit...\n",
      "feature_engineering - done\n",
      "Bureau and bureau_balance data - done in 36s\n",
      "previous_application - done in 39s\n",
      "previous applications balances - done in 494s\n",
      "Gestion des valeurs infinies\n",
      "Colonnes supprimées (constantes): 0, Colonnes restantes: 733\n",
      "Initial df memory usage is 1728.21 MB for 851 columns\n",
      "Final memory usage is: 631.69 MB - decreased by 63.4%\n",
      "X : (307511, 349)\n",
      "y : (307511,)\n"
     ]
    },
    {
     "data": {
      "text/plain": [
       "<__main__.PipelineWithDriftDetection at 0x1c44b80cb90>"
      ]
     },
     "execution_count": 58,
     "metadata": {},
     "output_type": "execute_result"
    }
   ],
   "source": [
    "# Entraîner le pipeline\n",
    "pipeline_with_drift.fit(application_train)"
   ]
  },
  {
   "cell_type": "code",
   "execution_count": 59,
   "id": "2f587aa2-421f-4de4-80fc-7abe4abceb40",
   "metadata": {},
   "outputs": [
    {
     "data": {
      "text/plain": [
       "['pipeline_credit_scoring_with_drift_detection.joblib']"
      ]
     },
     "execution_count": 59,
     "metadata": {},
     "output_type": "execute_result"
    }
   ],
   "source": [
    "# Sauvegarder le pipeline\n",
    "joblib.dump(pipeline_with_drift, 'pipeline_credit_scoring_with_drift_detection.joblib')"
   ]
  },
  {
   "cell_type": "markdown",
   "id": "aff75a0f-c5d5-45c3-b795-ace6f2d81f83",
   "metadata": {},
   "source": [
    "<b>Test du pipeline"
   ]
  },
  {
   "cell_type": "code",
   "execution_count": 60,
   "id": "d9af144c-cbf4-4dd1-8f4d-d7dc0294b377",
   "metadata": {},
   "outputs": [
    {
     "name": "stdout",
     "output_type": "stream",
     "text": [
      "predict...\n",
      "Bureau and bureau_balance data - done in 36s\n",
      "previous_application - done in 39s\n",
      "Gestion des valeurs infinies\n",
      "Initial df memory usage is 398.61 MB for 851 columns\n",
      "Final memory usage is: 119.07 MB - decreased by 70.1%\n",
      "previous applications balances - done in 496s\n"
     ]
    }
   ],
   "source": [
    "# Division des données en ensembles d'entraînement et de test\n",
    "train, test = train_test_split(application_train, test_size=0.2, random_state=42, stratify=application_train['TARGET'])\n",
    "df_test = test.drop(columns=['TARGET'])\n",
    "\n",
    "# Prédictions sur df_test\n",
    "predictions = pipeline_with_drift.predict(df_test)\n",
    "#predictions_proba = pipeline_with_drift.predict_proba(df_test)[:, 1]"
   ]
  },
  {
   "cell_type": "code",
   "execution_count": 61,
   "id": "55ea763b-2411-4110-8466-67ed57970c53",
   "metadata": {},
   "outputs": [
    {
     "data": {
      "text/plain": [
       "(61503,)"
      ]
     },
     "execution_count": 61,
     "metadata": {},
     "output_type": "execute_result"
    }
   ],
   "source": [
    "predictions.shape"
   ]
  },
  {
   "cell_type": "code",
   "execution_count": 62,
   "id": "451d01b5-4234-4f4a-a6a3-61c664cb2ce6",
   "metadata": {},
   "outputs": [
    {
     "data": {
      "text/plain": [
       "(61503, 122)"
      ]
     },
     "execution_count": 62,
     "metadata": {},
     "output_type": "execute_result"
    }
   ],
   "source": [
    "test.shape"
   ]
  },
  {
   "cell_type": "code",
   "execution_count": 63,
   "id": "8eddd3e3-cf44-4b27-8081-6680e80222bb",
   "metadata": {},
   "outputs": [],
   "source": [
    "# Créer un DataFrame des prédictions avec les user_id\n",
    "df_predictions = pd.DataFrame({\n",
    "    'user_id': df_test[\"SK_ID_CURR\"],\n",
    "    'prediction': predictions,\n",
    "    #'prediction_proba': predictions_proba\n",
    "})"
   ]
  },
  {
   "cell_type": "code",
   "execution_count": 64,
   "id": "60deb18a-cd7c-4d14-8e09-1a7503843f67",
   "metadata": {},
   "outputs": [
    {
     "name": "stdout",
     "output_type": "stream",
     "text": [
      "Accuracy: 0.7041932913841601\n"
     ]
    }
   ],
   "source": [
    "# Calculer le ROC AUC score\n",
    "#roc_auc = roc_auc_score(y_df_test, predictions_proba)\n",
    "\n",
    "# Calculer l'accuracy\n",
    "accuracy = accuracy_score(test['TARGET'], predictions)\n",
    "\n",
    "#print(\"ROC AUC Score:\", roc_auc)\n",
    "print(\"Accuracy:\", accuracy)"
   ]
  },
  {
   "cell_type": "code",
   "execution_count": null,
   "id": "72482491-951d-49c0-a319-d27e58794641",
   "metadata": {},
   "outputs": [],
   "source": []
  }
 ],
 "metadata": {
  "kernelspec": {
   "display_name": "Python 3 (ipykernel)",
   "language": "python",
   "name": "python3"
  },
  "language_info": {
   "codemirror_mode": {
    "name": "ipython",
    "version": 3
   },
   "file_extension": ".py",
   "mimetype": "text/x-python",
   "name": "python",
   "nbconvert_exporter": "python",
   "pygments_lexer": "ipython3",
   "version": "3.12.3"
  },
  "toc": {
   "base_numbering": 1,
   "nav_menu": {},
   "number_sections": true,
   "sideBar": true,
   "skip_h1_title": false,
   "title_cell": "Table of Contents",
   "title_sidebar": "Contents",
   "toc_cell": false,
   "toc_position": {},
   "toc_section_display": true,
   "toc_window_display": false
  }
 },
 "nbformat": 4,
 "nbformat_minor": 5
}
