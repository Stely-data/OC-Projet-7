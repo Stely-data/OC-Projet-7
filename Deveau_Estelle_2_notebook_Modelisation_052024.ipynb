{
 "cells": [
  {
   "cell_type": "markdown",
   "id": "aa01c55d-21f2-48a5-a2c1-bf0fd402c191",
   "metadata": {},
   "source": [
    "<b><font color=\"SteelBlue\" size=\"+3\">Implémentez un modèle de scoring</font></b>"
   ]
  },
  {
   "cell_type": "markdown",
   "id": "8a4ac084-8062-4d7a-a5c5-adc368e767a6",
   "metadata": {},
   "source": [
    "# Introduction"
   ]
  },
  {
   "cell_type": "markdown",
   "id": "ac7258d0-59a3-4263-a49e-dca4206dfcb2",
   "metadata": {},
   "source": [
    "Ce note book est la suite de l'EDA, il va permettre de présenter le prétraitement des données, le feature engineering et la modélisation."
   ]
  },
  {
   "cell_type": "code",
   "execution_count": 1,
   "id": "786a8563-5f1e-4e13-b28f-b1806e6de372",
   "metadata": {},
   "outputs": [],
   "source": [
    "# Chargement des librairies\n",
    "\n",
    "# Built-in\n",
    "import os\n",
    "\n",
    "# Data Manipulation and Analysis\n",
    "import numpy as np\n",
    "import pandas as pd\n",
    "import seaborn as sns\n",
    "import matplotlib.pyplot as plt\n",
    "\n",
    "# Machine Learning\n",
    "import mlflow\n",
    "import mlflow.sklearn\n",
    "\n",
    "from imblearn.over_sampling import SMOTE\n",
    "from imblearn.under_sampling import RandomUnderSampler\n",
    "from sklearn.model_selection import train_test_split\n",
    "from sklearn.metrics import make_scorer\n",
    "from sklearn.preprocessing import StandardScaler\n",
    "from sklearn.dummy import DummyClassifier\n",
    "from sklearn.linear_model import LogisticRegression\n",
    "from sklearn.ensemble import RandomForestClassifier\n",
    "from sklearn.metrics import classification_report, confusion_matrix, roc_auc_score, accuracy_score\n",
    "import lightgbm as lgb\n",
    "import re\n",
    "from catboost import CatBoostClassifier\n",
    "\n",
    "# Custom Feature Engineering Pipeline\n",
    "from feature_pipeline import FeatureEngineeringPipeline, remove_highly_correlated_features"
   ]
  },
  {
   "cell_type": "code",
   "execution_count": 2,
   "id": "5ea0d6ba-b28e-4111-a192-46924f7e23b2",
   "metadata": {},
   "outputs": [
    {
     "data": {
      "text/plain": [
       "<Experiment: artifact_location='mlflow-artifacts:/185199612184583695', creation_time=1715766694823, experiment_id='185199612184583695', last_update_time=1715766694823, lifecycle_stage='active', name='Credit_Scoring_Experiment', tags={}>"
      ]
     },
     "execution_count": 2,
     "metadata": {},
     "output_type": "execute_result"
    }
   ],
   "source": [
    "mlflow.set_tracking_uri(uri=\"http://127.0.0.1:5000\")\n",
    "mlflow.set_experiment(\"Credit_Scoring_Experiment\")"
   ]
  },
  {
   "cell_type": "markdown",
   "id": "9ff1e3f7-1f86-4f53-a771-7ed8c87f080b",
   "metadata": {},
   "source": [
    "# Data préparation"
   ]
  },
  {
   "cell_type": "markdown",
   "id": "a70daaf5-d4cf-4661-9bdf-fb2eb9ac5aa8",
   "metadata": {},
   "source": [
    "## Chargement des données"
   ]
  },
  {
   "cell_type": "code",
   "execution_count": 2,
   "id": "cfff27f4-b9b8-4adf-b237-8b2a282ad2a3",
   "metadata": {},
   "outputs": [
    {
     "data": {
      "text/plain": [
       "['application_test.csv',\n",
       " 'application_train.csv',\n",
       " 'bureau.csv',\n",
       " 'bureau_balance.csv',\n",
       " 'credit_card_balance.csv',\n",
       " 'HomeCredit_columns_description.csv',\n",
       " 'installments_payments.csv',\n",
       " 'POS_CASH_balance.csv',\n",
       " 'previous_application.csv',\n",
       " 'Projet+Mise+en+prod+-+home-credit-default-risk.zip',\n",
       " 'sample_submission.csv']"
      ]
     },
     "execution_count": 2,
     "metadata": {},
     "output_type": "execute_result"
    }
   ],
   "source": [
    "os.listdir(\"data/sources/\")"
   ]
  },
  {
   "cell_type": "code",
   "execution_count": 3,
   "id": "1f96549a-d5bf-4ddc-ad7e-d2c0934de3f4",
   "metadata": {},
   "outputs": [],
   "source": [
    "PATH = \"./data/sources/\""
   ]
  },
  {
   "cell_type": "code",
   "execution_count": 4,
   "id": "7b5a8bd9-a476-4343-8105-4a611db9e1ad",
   "metadata": {},
   "outputs": [],
   "source": [
    "application_train = pd.read_csv(PATH+\"/application_train.csv\")\n",
    "application_test = pd.read_csv(PATH+\"/application_test.csv\")\n",
    "bureau = pd.read_csv(PATH+\"/bureau.csv\")\n",
    "bureau_balance = pd.read_csv(PATH+\"/bureau_balance.csv\")\n",
    "credit_card_balance = pd.read_csv(PATH+\"/credit_card_balance.csv\")\n",
    "installments_payments = pd.read_csv(PATH+\"/installments_payments.csv\")\n",
    "previous_application = pd.read_csv(PATH+\"/previous_application.csv\")\n",
    "POS_CASH_balance = pd.read_csv(PATH+\"/POS_CASH_balance.csv\")"
   ]
  },
  {
   "cell_type": "markdown",
   "id": "1bdcba79-4b09-4c55-96ca-909d5adac558",
   "metadata": {},
   "source": [
    "## Split du jeu de données"
   ]
  },
  {
   "cell_type": "code",
   "execution_count": 5,
   "id": "ac8bcf74-f9f0-40d5-ae20-7273db1517a5",
   "metadata": {},
   "outputs": [],
   "source": [
    "# Division des données en ensembles d'entraînement et de test\n",
    "train, test = train_test_split(application_train, test_size=0.2, random_state=42, stratify=application_train['TARGET'])"
   ]
  },
  {
   "cell_type": "code",
   "execution_count": 6,
   "id": "a3d41cd1-7650-4a9e-b126-9ab0bf51bec7",
   "metadata": {},
   "outputs": [
    {
     "data": {
      "text/plain": [
       "(246008, 122)"
      ]
     },
     "execution_count": 6,
     "metadata": {},
     "output_type": "execute_result"
    }
   ],
   "source": [
    "train.shape"
   ]
  },
  {
   "cell_type": "markdown",
   "id": "3e888fb1-106c-46fe-89fd-62464d392c58",
   "metadata": {},
   "source": [
    "## Gestion des valeurs manquantes et abérrantes"
   ]
  },
  {
   "cell_type": "code",
   "execution_count": 7,
   "id": "d4a3c190-cff8-4141-935c-3e8faa098685",
   "metadata": {},
   "outputs": [],
   "source": [
    "# Supprimer les lignes où TARGET est manquant dans application_train\n",
    "train.dropna(subset=['TARGET'], inplace=True)\n",
    "test.dropna(subset=['TARGET'], inplace=True)"
   ]
  },
  {
   "cell_type": "code",
   "execution_count": 8,
   "id": "14874a5e-3ad9-4490-9732-6e88861d0a6e",
   "metadata": {},
   "outputs": [],
   "source": [
    "# Suppression des lignes où les clés sont absentes\n",
    "def drop_missing_keys(df, key, reference_df, reference_key):\n",
    "    valid_keys = reference_df[reference_key].unique()\n",
    "    return df[df[key].isin(valid_keys)]\n",
    "\n",
    "# Supprimer les lignes où les clés sont absentes\n",
    "bureau = drop_missing_keys(bureau, 'SK_ID_CURR', application_train, 'SK_ID_CURR')\n",
    "bureau_balance = drop_missing_keys(bureau_balance, 'SK_ID_BUREAU', bureau, 'SK_ID_BUREAU')\n",
    "previous_application = drop_missing_keys(previous_application, 'SK_ID_CURR', application_train, 'SK_ID_CURR')\n",
    "POS_CASH_balance = drop_missing_keys(POS_CASH_balance, 'SK_ID_PREV', previous_application, 'SK_ID_PREV')\n",
    "installments_payments = drop_missing_keys(installments_payments, 'SK_ID_PREV', previous_application, 'SK_ID_PREV')\n",
    "credit_card_balance = drop_missing_keys(credit_card_balance, 'SK_ID_PREV', previous_application, 'SK_ID_PREV')"
   ]
  },
  {
   "cell_type": "code",
   "execution_count": 9,
   "id": "36160507-f187-4e4e-a014-6d3df5d4ae7b",
   "metadata": {},
   "outputs": [],
   "source": [
    "# Fonction pour supprimer les colonnes avec plus de 80% de valeurs manquantes\n",
    "def drop_missing_columns(df, threshold=0.8):\n",
    "    initial_columns = df.shape[1]\n",
    "    missing_percentage = df.isnull().mean()\n",
    "    columns_to_drop = missing_percentage[missing_percentage > threshold].index\n",
    "    df = df.drop(columns=columns_to_drop)\n",
    "    final_columns = df.shape[1]\n",
    "    print(f\"Colonnes supprimées: {initial_columns - final_columns}\")\n",
    "    print(f\"Colonnes restantes: {final_columns}\")\n",
    "    return df"
   ]
  },
  {
   "cell_type": "code",
   "execution_count": 10,
   "id": "fb90e0a8-596e-4380-bf53-d2be719d0a80",
   "metadata": {},
   "outputs": [],
   "source": [
    "# Fonction pour gérer les valeurs aberrantes\n",
    "def cap_values(series, threshold=0.2):\n",
    "    lower_percentile = np.percentile(series, 1)\n",
    "    upper_percentile = np.percentile(series, 99)\n",
    "    outliers = (series < lower_percentile) | (series > upper_percentile)\n",
    "\n",
    "    outlier_pct = outliers.sum() / len(series)\n",
    "\n",
    "    if outlier_pct > threshold:\n",
    "        print(\"Significant outliers detected, not capping values.\")\n",
    "        return series  # Ne pas appliquer le cap si les valeurs aberrantes sont significatives\n",
    "    else:\n",
    "        return np.clip(series, lower_percentile, upper_percentile)\n"
   ]
  },
  {
   "cell_type": "code",
   "execution_count": 11,
   "id": "ef6566b3-8b6e-4f43-b1d8-2773c34cc3cc",
   "metadata": {},
   "outputs": [],
   "source": [
    "def cap_outliers(df):\n",
    "    numeric_cols = df.select_dtypes(include=[np.number]).columns\n",
    "    for col in numeric_cols:\n",
    "        if col != 'SK_ID_CURR':  # Exclure la colonne avec la clé\n",
    "            df[col] = cap_values(df[col])\n",
    "    return df"
   ]
  },
  {
   "cell_type": "code",
   "execution_count": 12,
   "id": "1ceb9bd5-8890-4185-80a2-9f4068ee364a",
   "metadata": {},
   "outputs": [],
   "source": [
    "# Appliquer le filtre des colonnes manquantes et la gestion des valeurs aberrantes à chaque DataFrame\n",
    "dfs = {\n",
    "    \"Train\": train,\n",
    "    \"Test\": test,\n",
    "    \"Application Test\": application_test,\n",
    "    \"Bureau\": bureau,\n",
    "    \"Bureau Balance\": bureau_balance,\n",
    "    \"Credit Card Balance\": credit_card_balance,\n",
    "    \"Installments Payments\": installments_payments,\n",
    "    \"Previous Application\": previous_application,\n",
    "    \"POS CASH Balance\": POS_CASH_balance\n",
    "}"
   ]
  },
  {
   "cell_type": "code",
   "execution_count": 13,
   "id": "53e64267-8fb8-457c-b7bd-350efd8c50c4",
   "metadata": {},
   "outputs": [
    {
     "name": "stdout",
     "output_type": "stream",
     "text": [
      "\n",
      "Train:\n",
      "Colonnes supprimées: 0\n",
      "Colonnes restantes: 122\n",
      "\n",
      "Test:\n",
      "Colonnes supprimées: 0\n",
      "Colonnes restantes: 122\n",
      "\n",
      "Application Test:\n",
      "Colonnes supprimées: 0\n",
      "Colonnes restantes: 121\n",
      "\n",
      "Bureau:\n",
      "Colonnes supprimées: 0\n",
      "Colonnes restantes: 17\n",
      "\n",
      "Bureau Balance:\n",
      "Colonnes supprimées: 0\n",
      "Colonnes restantes: 3\n",
      "\n",
      "Credit Card Balance:\n",
      "Colonnes supprimées: 0\n",
      "Colonnes restantes: 23\n",
      "\n",
      "Installments Payments:\n",
      "Colonnes supprimées: 0\n",
      "Colonnes restantes: 8\n",
      "\n",
      "Previous Application:\n",
      "Colonnes supprimées: 2\n",
      "Colonnes restantes: 35\n",
      "\n",
      "POS CASH Balance:\n",
      "Colonnes supprimées: 0\n",
      "Colonnes restantes: 8\n"
     ]
    }
   ],
   "source": [
    "for name, df in dfs.items():\n",
    "    print(f\"\\n{name}:\")\n",
    "    df = drop_missing_columns(df)\n",
    "    df = cap_outliers(df)\n",
    "    dfs[name] = df"
   ]
  },
  {
   "cell_type": "code",
   "execution_count": 14,
   "id": "1bce8176-201a-46e8-b6f8-3b60a429df44",
   "metadata": {},
   "outputs": [
    {
     "data": {
      "text/plain": [
       "(246008, 122)"
      ]
     },
     "execution_count": 14,
     "metadata": {},
     "output_type": "execute_result"
    }
   ],
   "source": [
    "dfs['Train'].shape"
   ]
  },
  {
   "cell_type": "markdown",
   "id": "aaf929ea-d28d-489b-a3c2-e8525bbbaee6",
   "metadata": {},
   "source": [
    "## Imputation"
   ]
  },
  {
   "cell_type": "code",
   "execution_count": 15,
   "id": "ea5ed28f-f01e-4d11-8ec4-df0c5a640cc7",
   "metadata": {},
   "outputs": [],
   "source": [
    "dfs_imputed = dfs"
   ]
  },
  {
   "cell_type": "code",
   "execution_count": 16,
   "id": "b4629362-bab2-448a-9955-9cd0e8fa2644",
   "metadata": {},
   "outputs": [],
   "source": [
    "# Fonction pour imputer les valeurs manquantes\n",
    "def impute_missing_values(df):\n",
    "    # Imputation pour les colonnes numériques\n",
    "    numeric_cols = df.select_dtypes(include=[np.number]).columns\n",
    "    for col in numeric_cols:\n",
    "        df[col].fillna(df[col].median(), inplace=True)\n",
    "    \n",
    "    # Imputation pour les colonnes catégorielles\n",
    "    categorical_cols = df.select_dtypes(include=[object]).columns\n",
    "    for col in categorical_cols:\n",
    "        df[col].fillna(df[col].mode()[0], inplace=True)\n",
    "    \n",
    "    return df"
   ]
  },
  {
   "cell_type": "code",
   "execution_count": 17,
   "id": "f0057006-283f-43bb-9f55-1582c363bec9",
   "metadata": {},
   "outputs": [],
   "source": [
    "for name, df in dfs_imputed.items():\n",
    "    df = impute_missing_values(df)\n",
    "    dfs_imputed[name] = df"
   ]
  },
  {
   "cell_type": "code",
   "execution_count": 18,
   "id": "f032112f-85fa-4669-bb9b-54fdd81a3e4d",
   "metadata": {},
   "outputs": [
    {
     "name": "stdout",
     "output_type": "stream",
     "text": [
      "\n",
      "Train:\n",
      "Aucune valeur manquante détectée.\n",
      "\n",
      "Test:\n",
      "Aucune valeur manquante détectée.\n",
      "\n",
      "Application Test:\n",
      "Aucune valeur manquante détectée.\n",
      "\n",
      "Bureau:\n",
      "Aucune valeur manquante détectée.\n",
      "\n",
      "Bureau Balance:\n",
      "Aucune valeur manquante détectée.\n",
      "\n",
      "Credit Card Balance:\n",
      "Aucune valeur manquante détectée.\n",
      "\n",
      "Installments Payments:\n",
      "Aucune valeur manquante détectée.\n",
      "\n",
      "Previous Application:\n",
      "Aucune valeur manquante détectée.\n",
      "\n",
      "POS CASH Balance:\n",
      "Aucune valeur manquante détectée.\n"
     ]
    }
   ],
   "source": [
    "# Fonction pour vérifier les valeurs manquantes dans un DataFrame\n",
    "def check_missing_values(df):\n",
    "    missing_values = df.isnull().sum()\n",
    "    missing_values = missing_values[missing_values > 0]\n",
    "    if not missing_values.empty:\n",
    "        print(\"Colonnes avec des valeurs manquantes :\")\n",
    "        print(missing_values)\n",
    "    else:\n",
    "        print(\"Aucune valeur manquante détectée.\")\n",
    "\n",
    "# Vérification des valeurs manquantes dans chaque DataFrame\n",
    "for name, df in dfs_imputed.items():\n",
    "    print(f\"\\n{name}:\")\n",
    "    check_missing_values(df)"
   ]
  },
  {
   "cell_type": "code",
   "execution_count": 19,
   "id": "13b3418e-3a2a-4d87-aa27-737385215a66",
   "metadata": {},
   "outputs": [
    {
     "data": {
      "text/plain": [
       "(246008, 122)"
      ]
     },
     "execution_count": 19,
     "metadata": {},
     "output_type": "execute_result"
    }
   ],
   "source": [
    "dfs_imputed['Train'].shape"
   ]
  },
  {
   "cell_type": "markdown",
   "id": "3a9c253f-4378-465b-8fdd-d073453a807a",
   "metadata": {},
   "source": [
    "## Sauvegarde des données nettoyées"
   ]
  },
  {
   "cell_type": "code",
   "execution_count": 20,
   "id": "c430a269-a783-4654-87f5-4b971f807e65",
   "metadata": {},
   "outputs": [],
   "source": [
    "# Fonction pour sauvegarder un DataFrame\n",
    "def save_dataframe(df, filename, output_dir):\n",
    "    output_path = os.path.join(output_dir, filename)\n",
    "    df.to_csv(output_path, index=False)\n",
    "    print(f\"DataFrame sauvegardé sous : {output_path}\")"
   ]
  },
  {
   "cell_type": "code",
   "execution_count": 21,
   "id": "3425a43c-1539-40c3-9ae0-48650f3d0740",
   "metadata": {},
   "outputs": [],
   "source": [
    "# Dictionnaire contenant les noms des fichiers\n",
    "original_names = {\n",
    "    \"Train\": \"train.csv\",\n",
    "    \"Test\": \"test.csv\",\n",
    "    \"Application Test\": \"application_test.csv\",\n",
    "    \"Bureau\": \"bureau.csv\",\n",
    "    \"Bureau Balance\": \"bureau_balance.csv\",\n",
    "    \"Credit Card Balance\": \"credit_card_balance.csv\",\n",
    "    \"Installments Payments\": \"installments_payments.csv\",\n",
    "    \"Previous Application\": \"previous_application.csv\",\n",
    "    \"POS CASH Balance\": \"POS_CASH_balance.csv\"\n",
    "}"
   ]
  },
  {
   "cell_type": "markdown",
   "id": "b01677f9-0d19-4fd0-9d9b-fc3ee2e92cd8",
   "metadata": {},
   "source": [
    "### Sans l'imputation"
   ]
  },
  {
   "cell_type": "code",
   "execution_count": 2,
   "id": "b3e31d74-8a7f-4cbe-96c6-3f0ea367f238",
   "metadata": {},
   "outputs": [],
   "source": [
    "# Chemin du dossier où sauvegarder les DataFrames nettoyés\n",
    "output_dir = \"data/Cleaned\""
   ]
  },
  {
   "cell_type": "code",
   "execution_count": 23,
   "id": "0f60c4e4-3bda-430e-bbd5-aa35edb5cc87",
   "metadata": {},
   "outputs": [
    {
     "name": "stdout",
     "output_type": "stream",
     "text": [
      "DataFrame sauvegardé sous : data/Cleaned\\train.csv\n",
      "DataFrame sauvegardé sous : data/Cleaned\\test.csv\n",
      "DataFrame sauvegardé sous : data/Cleaned\\application_test.csv\n",
      "DataFrame sauvegardé sous : data/Cleaned\\bureau.csv\n",
      "DataFrame sauvegardé sous : data/Cleaned\\bureau_balance.csv\n",
      "DataFrame sauvegardé sous : data/Cleaned\\credit_card_balance.csv\n",
      "DataFrame sauvegardé sous : data/Cleaned\\installments_payments.csv\n",
      "DataFrame sauvegardé sous : data/Cleaned\\previous_application.csv\n",
      "DataFrame sauvegardé sous : data/Cleaned\\POS_CASH_balance.csv\n"
     ]
    }
   ],
   "source": [
    "# Sauvegarder chaque DataFrame dans le dossier output_dir avec le nom d'origine\n",
    "for name, df in dfs.items():\n",
    "    save_dataframe(df, original_names[name], output_dir)"
   ]
  },
  {
   "cell_type": "markdown",
   "id": "8faae4d8-6a4b-412e-afb0-610f049916d9",
   "metadata": {},
   "source": [
    "### Avec l'imputation"
   ]
  },
  {
   "cell_type": "code",
   "execution_count": 3,
   "id": "3a5a4511-c77c-4ef4-88d4-19106cb57d4f",
   "metadata": {},
   "outputs": [],
   "source": [
    "# Chemin du dossier où sauvegarder les DataFrames nettoyés\n",
    "output_dir_imputed = \"data/Cleaned/Imputed\""
   ]
  },
  {
   "cell_type": "code",
   "execution_count": 25,
   "id": "6b0e16b1-6e62-4ad7-9547-092fc4f58ee6",
   "metadata": {},
   "outputs": [
    {
     "name": "stdout",
     "output_type": "stream",
     "text": [
      "DataFrame sauvegardé sous : data/Cleaned/Imputed\\train.csv\n",
      "DataFrame sauvegardé sous : data/Cleaned/Imputed\\test.csv\n",
      "DataFrame sauvegardé sous : data/Cleaned/Imputed\\application_test.csv\n",
      "DataFrame sauvegardé sous : data/Cleaned/Imputed\\bureau.csv\n",
      "DataFrame sauvegardé sous : data/Cleaned/Imputed\\bureau_balance.csv\n",
      "DataFrame sauvegardé sous : data/Cleaned/Imputed\\credit_card_balance.csv\n",
      "DataFrame sauvegardé sous : data/Cleaned/Imputed\\installments_payments.csv\n",
      "DataFrame sauvegardé sous : data/Cleaned/Imputed\\previous_application.csv\n",
      "DataFrame sauvegardé sous : data/Cleaned/Imputed\\POS_CASH_balance.csv\n"
     ]
    }
   ],
   "source": [
    "# Sauvegarder chaque DataFrame dans le dossier output_dir avec le nom d'origine\n",
    "for name, df in dfs_imputed.items():\n",
    "    save_dataframe(df, original_names[name], output_dir_imputed)"
   ]
  },
  {
   "cell_type": "markdown",
   "id": "9114cdc0-cd29-4a9b-b01a-7e47a6345d83",
   "metadata": {},
   "source": [
    "# Feature engineering"
   ]
  },
  {
   "cell_type": "markdown",
   "id": "11055631-7c5c-4116-acff-3f0eed052972",
   "metadata": {},
   "source": [
    "## Sur jeu non imputé"
   ]
  },
  {
   "cell_type": "markdown",
   "id": "2efdb655-64c4-430c-a251-91cdeb245ec6",
   "metadata": {},
   "source": [
    "### Sur le df train"
   ]
  },
  {
   "cell_type": "code",
   "execution_count": 26,
   "id": "7c394711-08d1-4b5c-8332-07a98493830e",
   "metadata": {},
   "outputs": [],
   "source": [
    "# Initialiser le pipeline\n",
    "pipeline = FeatureEngineeringPipeline(data_directory=output_dir + '/')"
   ]
  },
  {
   "cell_type": "code",
   "execution_count": 27,
   "id": "ffc1b03a-a608-4b97-8b2d-6c1af8f9c774",
   "metadata": {},
   "outputs": [
    {
     "name": "stdout",
     "output_type": "stream",
     "text": [
      "feature_engineering - done\n",
      "Bureau and bureau_balance data - done in 39s\n",
      "previous_application - done in 40s\n",
      "previous applications balances - done in 516s\n",
      "Colonnes supprimées: 50, Colonnes restantes: 684\n",
      "Gestion des outliers - done\n",
      "Colonnes supprimées (constantes): 28, Colonnes restantes: 656\n",
      "Initial df memory usage is 1236.16 MB for 774 columns\n",
      "Final memory usage is: 453.03 MB - decreased by 63.4%\n",
      "Variables peu corrélées supprimées: 256\n"
     ]
    }
   ],
   "source": [
    "# Entraîner le pipeline\n",
    "train_transformed = pipeline.fit()"
   ]
  },
  {
   "cell_type": "code",
   "execution_count": 28,
   "id": "7b467426-e13b-4191-932d-33fe0edd6905",
   "metadata": {},
   "outputs": [],
   "source": [
    "# Sauvegarder les paramètres de transformation\n",
    "pipeline.save(os.path.join(output_dir, \"param\"))"
   ]
  },
  {
   "cell_type": "code",
   "execution_count": 29,
   "id": "2c98ca2c-c248-4629-8633-9972c705a633",
   "metadata": {},
   "outputs": [
    {
     "data": {
      "text/plain": [
       "(246006, 518)"
      ]
     },
     "execution_count": 29,
     "metadata": {},
     "output_type": "execute_result"
    }
   ],
   "source": [
    "train_transformed.shape"
   ]
  },
  {
   "cell_type": "code",
   "execution_count": 30,
   "id": "7fa2b1b0-8b57-4713-9b9b-5057fad67db1",
   "metadata": {},
   "outputs": [
    {
     "data": {
      "text/html": [
       "<div>\n",
       "<style scoped>\n",
       "    .dataframe tbody tr th:only-of-type {\n",
       "        vertical-align: middle;\n",
       "    }\n",
       "\n",
       "    .dataframe tbody tr th {\n",
       "        vertical-align: top;\n",
       "    }\n",
       "\n",
       "    .dataframe thead th {\n",
       "        text-align: right;\n",
       "    }\n",
       "</style>\n",
       "<table border=\"1\" class=\"dataframe\">\n",
       "  <thead>\n",
       "    <tr style=\"text-align: right;\">\n",
       "      <th></th>\n",
       "      <th>TARGET</th>\n",
       "      <th>NAME_CONTRACT_TYPE</th>\n",
       "      <th>CODE_GENDER</th>\n",
       "      <th>FLAG_OWN_CAR</th>\n",
       "      <th>CNT_CHILDREN</th>\n",
       "      <th>AMT_INCOME_TOTAL</th>\n",
       "      <th>AMT_CREDIT</th>\n",
       "      <th>AMT_ANNUITY</th>\n",
       "      <th>AMT_GOODS_PRICE</th>\n",
       "      <th>REGION_POPULATION_RELATIVE</th>\n",
       "      <th>...</th>\n",
       "      <th>ORGANIZATION_TYPE_Police</th>\n",
       "      <th>ORGANIZATION_TYPE_Restaurant</th>\n",
       "      <th>ORGANIZATION_TYPE_School</th>\n",
       "      <th>ORGANIZATION_TYPE_Self-employed</th>\n",
       "      <th>ORGANIZATION_TYPE_Transport: type 3</th>\n",
       "      <th>ORGANIZATION_TYPE_XNA</th>\n",
       "      <th>FONDKAPREMONT_MODE_reg oper account</th>\n",
       "      <th>FONDKAPREMONT_MODE_reg oper spec account</th>\n",
       "      <th>WALLSMATERIAL_MODE_Panel</th>\n",
       "      <th>WALLSMATERIAL_MODE_Stone, brick</th>\n",
       "    </tr>\n",
       "  </thead>\n",
       "  <tbody>\n",
       "    <tr>\n",
       "      <th>0</th>\n",
       "      <td>0</td>\n",
       "      <td>0</td>\n",
       "      <td>0</td>\n",
       "      <td>0</td>\n",
       "      <td>2</td>\n",
       "      <td>90000.0</td>\n",
       "      <td>227520.0</td>\n",
       "      <td>13189.5</td>\n",
       "      <td>180000.0</td>\n",
       "      <td>0.008232</td>\n",
       "      <td>...</td>\n",
       "      <td>0.0</td>\n",
       "      <td>0.0</td>\n",
       "      <td>0.0</td>\n",
       "      <td>0.0</td>\n",
       "      <td>0.0</td>\n",
       "      <td>0.0</td>\n",
       "      <td>1.0</td>\n",
       "      <td>0.0</td>\n",
       "      <td>1.0</td>\n",
       "      <td>0.0</td>\n",
       "    </tr>\n",
       "    <tr>\n",
       "      <th>1</th>\n",
       "      <td>0</td>\n",
       "      <td>0</td>\n",
       "      <td>1</td>\n",
       "      <td>1</td>\n",
       "      <td>0</td>\n",
       "      <td>90000.0</td>\n",
       "      <td>161730.0</td>\n",
       "      <td>13095.0</td>\n",
       "      <td>135000.0</td>\n",
       "      <td>0.003069</td>\n",
       "      <td>...</td>\n",
       "      <td>0.0</td>\n",
       "      <td>0.0</td>\n",
       "      <td>0.0</td>\n",
       "      <td>0.0</td>\n",
       "      <td>0.0</td>\n",
       "      <td>0.0</td>\n",
       "      <td>1.0</td>\n",
       "      <td>0.0</td>\n",
       "      <td>1.0</td>\n",
       "      <td>0.0</td>\n",
       "    </tr>\n",
       "    <tr>\n",
       "      <th>2</th>\n",
       "      <td>1</td>\n",
       "      <td>0</td>\n",
       "      <td>1</td>\n",
       "      <td>0</td>\n",
       "      <td>0</td>\n",
       "      <td>135000.0</td>\n",
       "      <td>728847.0</td>\n",
       "      <td>26307.0</td>\n",
       "      <td>553500.0</td>\n",
       "      <td>0.020706</td>\n",
       "      <td>...</td>\n",
       "      <td>0.0</td>\n",
       "      <td>0.0</td>\n",
       "      <td>0.0</td>\n",
       "      <td>0.0</td>\n",
       "      <td>0.0</td>\n",
       "      <td>0.0</td>\n",
       "      <td>0.0</td>\n",
       "      <td>1.0</td>\n",
       "      <td>1.0</td>\n",
       "      <td>0.0</td>\n",
       "    </tr>\n",
       "    <tr>\n",
       "      <th>3</th>\n",
       "      <td>1</td>\n",
       "      <td>0</td>\n",
       "      <td>1</td>\n",
       "      <td>0</td>\n",
       "      <td>0</td>\n",
       "      <td>135000.0</td>\n",
       "      <td>474183.0</td>\n",
       "      <td>34636.5</td>\n",
       "      <td>391500.0</td>\n",
       "      <td>0.011703</td>\n",
       "      <td>...</td>\n",
       "      <td>0.0</td>\n",
       "      <td>0.0</td>\n",
       "      <td>0.0</td>\n",
       "      <td>0.0</td>\n",
       "      <td>0.0</td>\n",
       "      <td>0.0</td>\n",
       "      <td>1.0</td>\n",
       "      <td>0.0</td>\n",
       "      <td>0.0</td>\n",
       "      <td>0.0</td>\n",
       "    </tr>\n",
       "    <tr>\n",
       "      <th>4</th>\n",
       "      <td>0</td>\n",
       "      <td>0</td>\n",
       "      <td>0</td>\n",
       "      <td>0</td>\n",
       "      <td>0</td>\n",
       "      <td>180000.0</td>\n",
       "      <td>254700.0</td>\n",
       "      <td>27558.0</td>\n",
       "      <td>225000.0</td>\n",
       "      <td>0.006630</td>\n",
       "      <td>...</td>\n",
       "      <td>0.0</td>\n",
       "      <td>1.0</td>\n",
       "      <td>0.0</td>\n",
       "      <td>0.0</td>\n",
       "      <td>0.0</td>\n",
       "      <td>0.0</td>\n",
       "      <td>1.0</td>\n",
       "      <td>0.0</td>\n",
       "      <td>1.0</td>\n",
       "      <td>0.0</td>\n",
       "    </tr>\n",
       "  </tbody>\n",
       "</table>\n",
       "<p>5 rows × 518 columns</p>\n",
       "</div>"
      ],
      "text/plain": [
       "   TARGET  NAME_CONTRACT_TYPE  CODE_GENDER  FLAG_OWN_CAR  CNT_CHILDREN  \\\n",
       "0       0                   0            0             0             2   \n",
       "1       0                   0            1             1             0   \n",
       "2       1                   0            1             0             0   \n",
       "3       1                   0            1             0             0   \n",
       "4       0                   0            0             0             0   \n",
       "\n",
       "   AMT_INCOME_TOTAL  AMT_CREDIT  AMT_ANNUITY  AMT_GOODS_PRICE  \\\n",
       "0           90000.0    227520.0      13189.5         180000.0   \n",
       "1           90000.0    161730.0      13095.0         135000.0   \n",
       "2          135000.0    728847.0      26307.0         553500.0   \n",
       "3          135000.0    474183.0      34636.5         391500.0   \n",
       "4          180000.0    254700.0      27558.0         225000.0   \n",
       "\n",
       "   REGION_POPULATION_RELATIVE  ...  ORGANIZATION_TYPE_Police  \\\n",
       "0                    0.008232  ...                       0.0   \n",
       "1                    0.003069  ...                       0.0   \n",
       "2                    0.020706  ...                       0.0   \n",
       "3                    0.011703  ...                       0.0   \n",
       "4                    0.006630  ...                       0.0   \n",
       "\n",
       "   ORGANIZATION_TYPE_Restaurant  ORGANIZATION_TYPE_School  \\\n",
       "0                           0.0                       0.0   \n",
       "1                           0.0                       0.0   \n",
       "2                           0.0                       0.0   \n",
       "3                           0.0                       0.0   \n",
       "4                           1.0                       0.0   \n",
       "\n",
       "   ORGANIZATION_TYPE_Self-employed  ORGANIZATION_TYPE_Transport: type 3  \\\n",
       "0                              0.0                                  0.0   \n",
       "1                              0.0                                  0.0   \n",
       "2                              0.0                                  0.0   \n",
       "3                              0.0                                  0.0   \n",
       "4                              0.0                                  0.0   \n",
       "\n",
       "   ORGANIZATION_TYPE_XNA  FONDKAPREMONT_MODE_reg oper account  \\\n",
       "0                    0.0                                  1.0   \n",
       "1                    0.0                                  1.0   \n",
       "2                    0.0                                  0.0   \n",
       "3                    0.0                                  1.0   \n",
       "4                    0.0                                  1.0   \n",
       "\n",
       "   FONDKAPREMONT_MODE_reg oper spec account  WALLSMATERIAL_MODE_Panel  \\\n",
       "0                                       0.0                       1.0   \n",
       "1                                       0.0                       1.0   \n",
       "2                                       1.0                       1.0   \n",
       "3                                       0.0                       0.0   \n",
       "4                                       0.0                       1.0   \n",
       "\n",
       "   WALLSMATERIAL_MODE_Stone, brick  \n",
       "0                              0.0  \n",
       "1                              0.0  \n",
       "2                              0.0  \n",
       "3                              0.0  \n",
       "4                              0.0  \n",
       "\n",
       "[5 rows x 518 columns]"
      ]
     },
     "execution_count": 30,
     "metadata": {},
     "output_type": "execute_result"
    }
   ],
   "source": [
    "train_transformed.head(5)"
   ]
  },
  {
   "cell_type": "code",
   "execution_count": 31,
   "id": "1a3e687e-778a-4884-9e37-b51a1bb90a40",
   "metadata": {},
   "outputs": [
    {
     "name": "stdout",
     "output_type": "stream",
     "text": [
      "Colonnes avec des valeurs manquantes :\n",
      "DAYS_EMPLOYED                       44143\n",
      "DAYS_LAST_PHONE_CHANGE              30085\n",
      "INCOME_TO_EMPLOYED_RATIO            44144\n",
      "EMPLOYED_TO_BIRTH_RATIO             44143\n",
      "CAR_TO_EMPLOYED_RATIO               44144\n",
      "                                    ...  \n",
      "PAYMENT_MEAN_TO_ANNUITY_RATIO       14513\n",
      "CTA_CREDIT_TO_ANNUITY_MAX_RATIO     14000\n",
      "CTA_CREDIT_TO_ANNUITY_MEAN_RATIO    14000\n",
      "DAYS_CREDIT_MEAN_TO_BIRTH           35244\n",
      "DAYS_DECISION_MEAN_TO_EMPLOYED      55782\n",
      "Length: 378, dtype: int64\n"
     ]
    }
   ],
   "source": [
    "check_missing_values(train_transformed)"
   ]
  },
  {
   "cell_type": "markdown",
   "id": "25569923-1d23-4c79-9680-8eff179a3de6",
   "metadata": {},
   "source": [
    "### Sur le df test"
   ]
  },
  {
   "cell_type": "code",
   "execution_count": 32,
   "id": "cc708ed9-6477-4927-908a-81f71c276ebf",
   "metadata": {},
   "outputs": [],
   "source": [
    "test = dfs[\"Test\"]"
   ]
  },
  {
   "cell_type": "code",
   "execution_count": 33,
   "id": "8ead627a-209f-42a4-b5bc-fa68bcb6a2a0",
   "metadata": {},
   "outputs": [
    {
     "name": "stdout",
     "output_type": "stream",
     "text": [
      "Bureau and bureau_balance data - done in 38s\n",
      "previous_application - done in 40s\n",
      "Colonnes supprimées: 50, Colonnes restantes: 684\n",
      "Initial df memory usage is 242.35 MB for 518 columns\n",
      "Final memory usage is: 74.78 MB - decreased by 69.1%\n",
      "previous applications balances - done in 515s\n"
     ]
    }
   ],
   "source": [
    "# Charger les paramètres de transformation\n",
    "pipeline.load(os.path.join(output_dir, \"param\"))\n",
    "\n",
    "# Transformer les données de test\n",
    "test_transformed = pipeline.transform(test)"
   ]
  },
  {
   "cell_type": "code",
   "execution_count": 34,
   "id": "a50eb6e1-d574-4a80-a990-fab0306cb933",
   "metadata": {},
   "outputs": [
    {
     "data": {
      "text/plain": [
       "(61501, 518)"
      ]
     },
     "execution_count": 34,
     "metadata": {},
     "output_type": "execute_result"
    }
   ],
   "source": [
    "test_transformed.shape"
   ]
  },
  {
   "cell_type": "markdown",
   "id": "30d8ad61-64d8-4859-b628-6f5151d48584",
   "metadata": {},
   "source": [
    "## Sur jeu imputé"
   ]
  },
  {
   "cell_type": "markdown",
   "id": "47073fa8-59eb-4c45-8169-5325d92d2567",
   "metadata": {},
   "source": [
    "### Sur le df train"
   ]
  },
  {
   "cell_type": "code",
   "execution_count": 35,
   "id": "64faec9c-992c-4364-8fb3-65c388e2eead",
   "metadata": {},
   "outputs": [],
   "source": [
    "# Initialiser le pipeline\n",
    "pipeline_imp = FeatureEngineeringPipeline(data_directory=output_dir_imputed + '/')"
   ]
  },
  {
   "cell_type": "code",
   "execution_count": 36,
   "id": "3b20a5c2-9773-4a7c-8082-ba68f1ec254b",
   "metadata": {},
   "outputs": [
    {
     "name": "stdout",
     "output_type": "stream",
     "text": [
      "feature_engineering - done\n",
      "Bureau and bureau_balance data - done in 39s\n",
      "previous_application - done in 40s\n",
      "previous applications balances - done in 514s\n",
      "Colonnes supprimées: 50, Colonnes restantes: 684\n",
      "Gestion des outliers - done\n",
      "Gestion des valeurs manquantes - done\n",
      "Colonnes supprimées (constantes): 28, Colonnes restantes: 656\n",
      "Initial df memory usage is 1236.16 MB for 774 columns\n",
      "Final memory usage is: 453.03 MB - decreased by 63.4%\n",
      "Variables peu corrélées supprimées: 271\n"
     ]
    }
   ],
   "source": [
    "# Entraîner le pipeline\n",
    "train_imputed_transformed = pipeline_imp.fit()"
   ]
  },
  {
   "cell_type": "code",
   "execution_count": 37,
   "id": "23927442-d9d4-4ebb-9654-99539d189ac6",
   "metadata": {},
   "outputs": [],
   "source": [
    "# Sauvegarder les paramètres de transformation\n",
    "pipeline_imp.save(os.path.join(output_dir_imputed, \"param\"))"
   ]
  },
  {
   "cell_type": "code",
   "execution_count": 38,
   "id": "6a5617e2-7a38-4a4f-9050-b35c068931e0",
   "metadata": {},
   "outputs": [
    {
     "data": {
      "text/plain": [
       "(246006, 503)"
      ]
     },
     "execution_count": 38,
     "metadata": {},
     "output_type": "execute_result"
    }
   ],
   "source": [
    "train_imputed_transformed.shape"
   ]
  },
  {
   "cell_type": "code",
   "execution_count": 39,
   "id": "844d2d1f-1629-433b-aef7-2175e520c4b8",
   "metadata": {},
   "outputs": [
    {
     "data": {
      "text/html": [
       "<div>\n",
       "<style scoped>\n",
       "    .dataframe tbody tr th:only-of-type {\n",
       "        vertical-align: middle;\n",
       "    }\n",
       "\n",
       "    .dataframe tbody tr th {\n",
       "        vertical-align: top;\n",
       "    }\n",
       "\n",
       "    .dataframe thead th {\n",
       "        text-align: right;\n",
       "    }\n",
       "</style>\n",
       "<table border=\"1\" class=\"dataframe\">\n",
       "  <thead>\n",
       "    <tr style=\"text-align: right;\">\n",
       "      <th></th>\n",
       "      <th>TARGET</th>\n",
       "      <th>NAME_CONTRACT_TYPE</th>\n",
       "      <th>CODE_GENDER</th>\n",
       "      <th>FLAG_OWN_CAR</th>\n",
       "      <th>CNT_CHILDREN</th>\n",
       "      <th>AMT_INCOME_TOTAL</th>\n",
       "      <th>AMT_CREDIT</th>\n",
       "      <th>AMT_ANNUITY</th>\n",
       "      <th>AMT_GOODS_PRICE</th>\n",
       "      <th>REGION_POPULATION_RELATIVE</th>\n",
       "      <th>...</th>\n",
       "      <th>ORGANIZATION_TYPE_Police</th>\n",
       "      <th>ORGANIZATION_TYPE_Restaurant</th>\n",
       "      <th>ORGANIZATION_TYPE_School</th>\n",
       "      <th>ORGANIZATION_TYPE_Self-employed</th>\n",
       "      <th>ORGANIZATION_TYPE_Transport: type 3</th>\n",
       "      <th>ORGANIZATION_TYPE_XNA</th>\n",
       "      <th>FONDKAPREMONT_MODE_reg oper account</th>\n",
       "      <th>FONDKAPREMONT_MODE_reg oper spec account</th>\n",
       "      <th>WALLSMATERIAL_MODE_Panel</th>\n",
       "      <th>WALLSMATERIAL_MODE_Stone, brick</th>\n",
       "    </tr>\n",
       "  </thead>\n",
       "  <tbody>\n",
       "    <tr>\n",
       "      <th>0</th>\n",
       "      <td>0</td>\n",
       "      <td>0</td>\n",
       "      <td>0</td>\n",
       "      <td>0</td>\n",
       "      <td>2</td>\n",
       "      <td>90000.0</td>\n",
       "      <td>227520.0</td>\n",
       "      <td>13189.5</td>\n",
       "      <td>180000.0</td>\n",
       "      <td>0.008232</td>\n",
       "      <td>...</td>\n",
       "      <td>0.0</td>\n",
       "      <td>0.0</td>\n",
       "      <td>0.0</td>\n",
       "      <td>0.0</td>\n",
       "      <td>0.0</td>\n",
       "      <td>0.0</td>\n",
       "      <td>1.0</td>\n",
       "      <td>0.0</td>\n",
       "      <td>1.0</td>\n",
       "      <td>0.0</td>\n",
       "    </tr>\n",
       "    <tr>\n",
       "      <th>1</th>\n",
       "      <td>0</td>\n",
       "      <td>0</td>\n",
       "      <td>1</td>\n",
       "      <td>1</td>\n",
       "      <td>0</td>\n",
       "      <td>90000.0</td>\n",
       "      <td>161730.0</td>\n",
       "      <td>13095.0</td>\n",
       "      <td>135000.0</td>\n",
       "      <td>0.003069</td>\n",
       "      <td>...</td>\n",
       "      <td>0.0</td>\n",
       "      <td>0.0</td>\n",
       "      <td>0.0</td>\n",
       "      <td>0.0</td>\n",
       "      <td>0.0</td>\n",
       "      <td>0.0</td>\n",
       "      <td>1.0</td>\n",
       "      <td>0.0</td>\n",
       "      <td>1.0</td>\n",
       "      <td>0.0</td>\n",
       "    </tr>\n",
       "    <tr>\n",
       "      <th>2</th>\n",
       "      <td>1</td>\n",
       "      <td>0</td>\n",
       "      <td>1</td>\n",
       "      <td>0</td>\n",
       "      <td>0</td>\n",
       "      <td>135000.0</td>\n",
       "      <td>728847.0</td>\n",
       "      <td>26307.0</td>\n",
       "      <td>553500.0</td>\n",
       "      <td>0.020706</td>\n",
       "      <td>...</td>\n",
       "      <td>0.0</td>\n",
       "      <td>0.0</td>\n",
       "      <td>0.0</td>\n",
       "      <td>0.0</td>\n",
       "      <td>0.0</td>\n",
       "      <td>0.0</td>\n",
       "      <td>0.0</td>\n",
       "      <td>1.0</td>\n",
       "      <td>1.0</td>\n",
       "      <td>0.0</td>\n",
       "    </tr>\n",
       "    <tr>\n",
       "      <th>3</th>\n",
       "      <td>1</td>\n",
       "      <td>0</td>\n",
       "      <td>1</td>\n",
       "      <td>0</td>\n",
       "      <td>0</td>\n",
       "      <td>135000.0</td>\n",
       "      <td>474183.0</td>\n",
       "      <td>34636.5</td>\n",
       "      <td>391500.0</td>\n",
       "      <td>0.011703</td>\n",
       "      <td>...</td>\n",
       "      <td>0.0</td>\n",
       "      <td>0.0</td>\n",
       "      <td>0.0</td>\n",
       "      <td>0.0</td>\n",
       "      <td>0.0</td>\n",
       "      <td>0.0</td>\n",
       "      <td>1.0</td>\n",
       "      <td>0.0</td>\n",
       "      <td>0.0</td>\n",
       "      <td>0.0</td>\n",
       "    </tr>\n",
       "    <tr>\n",
       "      <th>4</th>\n",
       "      <td>0</td>\n",
       "      <td>0</td>\n",
       "      <td>0</td>\n",
       "      <td>0</td>\n",
       "      <td>0</td>\n",
       "      <td>180000.0</td>\n",
       "      <td>254700.0</td>\n",
       "      <td>27558.0</td>\n",
       "      <td>225000.0</td>\n",
       "      <td>0.006630</td>\n",
       "      <td>...</td>\n",
       "      <td>0.0</td>\n",
       "      <td>1.0</td>\n",
       "      <td>0.0</td>\n",
       "      <td>0.0</td>\n",
       "      <td>0.0</td>\n",
       "      <td>0.0</td>\n",
       "      <td>1.0</td>\n",
       "      <td>0.0</td>\n",
       "      <td>1.0</td>\n",
       "      <td>0.0</td>\n",
       "    </tr>\n",
       "  </tbody>\n",
       "</table>\n",
       "<p>5 rows × 503 columns</p>\n",
       "</div>"
      ],
      "text/plain": [
       "   TARGET  NAME_CONTRACT_TYPE  CODE_GENDER  FLAG_OWN_CAR  CNT_CHILDREN  \\\n",
       "0       0                   0            0             0             2   \n",
       "1       0                   0            1             1             0   \n",
       "2       1                   0            1             0             0   \n",
       "3       1                   0            1             0             0   \n",
       "4       0                   0            0             0             0   \n",
       "\n",
       "   AMT_INCOME_TOTAL  AMT_CREDIT  AMT_ANNUITY  AMT_GOODS_PRICE  \\\n",
       "0           90000.0    227520.0      13189.5         180000.0   \n",
       "1           90000.0    161730.0      13095.0         135000.0   \n",
       "2          135000.0    728847.0      26307.0         553500.0   \n",
       "3          135000.0    474183.0      34636.5         391500.0   \n",
       "4          180000.0    254700.0      27558.0         225000.0   \n",
       "\n",
       "   REGION_POPULATION_RELATIVE  ...  ORGANIZATION_TYPE_Police  \\\n",
       "0                    0.008232  ...                       0.0   \n",
       "1                    0.003069  ...                       0.0   \n",
       "2                    0.020706  ...                       0.0   \n",
       "3                    0.011703  ...                       0.0   \n",
       "4                    0.006630  ...                       0.0   \n",
       "\n",
       "   ORGANIZATION_TYPE_Restaurant  ORGANIZATION_TYPE_School  \\\n",
       "0                           0.0                       0.0   \n",
       "1                           0.0                       0.0   \n",
       "2                           0.0                       0.0   \n",
       "3                           0.0                       0.0   \n",
       "4                           1.0                       0.0   \n",
       "\n",
       "   ORGANIZATION_TYPE_Self-employed  ORGANIZATION_TYPE_Transport: type 3  \\\n",
       "0                              0.0                                  0.0   \n",
       "1                              0.0                                  0.0   \n",
       "2                              0.0                                  0.0   \n",
       "3                              0.0                                  0.0   \n",
       "4                              0.0                                  0.0   \n",
       "\n",
       "   ORGANIZATION_TYPE_XNA  FONDKAPREMONT_MODE_reg oper account  \\\n",
       "0                    0.0                                  1.0   \n",
       "1                    0.0                                  1.0   \n",
       "2                    0.0                                  0.0   \n",
       "3                    0.0                                  1.0   \n",
       "4                    0.0                                  1.0   \n",
       "\n",
       "   FONDKAPREMONT_MODE_reg oper spec account  WALLSMATERIAL_MODE_Panel  \\\n",
       "0                                       0.0                       1.0   \n",
       "1                                       0.0                       1.0   \n",
       "2                                       1.0                       1.0   \n",
       "3                                       0.0                       0.0   \n",
       "4                                       0.0                       1.0   \n",
       "\n",
       "   WALLSMATERIAL_MODE_Stone, brick  \n",
       "0                              0.0  \n",
       "1                              0.0  \n",
       "2                              0.0  \n",
       "3                              0.0  \n",
       "4                              0.0  \n",
       "\n",
       "[5 rows x 503 columns]"
      ]
     },
     "execution_count": 39,
     "metadata": {},
     "output_type": "execute_result"
    }
   ],
   "source": [
    "train_imputed_transformed.head(5)"
   ]
  },
  {
   "cell_type": "code",
   "execution_count": 40,
   "id": "8a30f56a-70f2-4c3b-9020-3666caf296fa",
   "metadata": {},
   "outputs": [
    {
     "name": "stdout",
     "output_type": "stream",
     "text": [
      "Aucune valeur manquante détectée.\n"
     ]
    }
   ],
   "source": [
    "check_missing_values(train_imputed_transformed)"
   ]
  },
  {
   "cell_type": "markdown",
   "id": "880f4a7e-2f04-4d7c-be47-44b8b46b9bd5",
   "metadata": {},
   "source": [
    "### Sur le df test"
   ]
  },
  {
   "cell_type": "code",
   "execution_count": 41,
   "id": "1c02646a-8bbe-440f-8bf7-f19a7d5fbcb8",
   "metadata": {},
   "outputs": [],
   "source": [
    "test_imputed = dfs_imputed[\"Test\"]"
   ]
  },
  {
   "cell_type": "code",
   "execution_count": 50,
   "id": "33da269f-fe4f-4ef9-bcd8-6aa8442f742d",
   "metadata": {},
   "outputs": [
    {
     "name": "stdout",
     "output_type": "stream",
     "text": [
      "Bureau and bureau_balance data - done in 42s\n",
      "previous_application - done in 43s\n",
      "Colonnes supprimées: 50, Colonnes restantes: 684\n",
      "Gestion des valeurs manquantes - done\n",
      "Initial df memory usage is 235.31 MB for 503 columns\n",
      "Final memory usage is: 71.61 MB - decreased by 69.6%\n",
      "previous applications balances - done in 511s\n"
     ]
    }
   ],
   "source": [
    "# Charger les paramètres de transformation\n",
    "pipeline_imp.load(os.path.join(output_dir_imputed, \"param\"))\n",
    "\n",
    "# Transformer les données de test\n",
    "test_imputed_transformed = pipeline_imp.transform(test_imputed)"
   ]
  },
  {
   "cell_type": "code",
   "execution_count": 51,
   "id": "c3dc932e-1b12-4464-aff0-55393252a7e8",
   "metadata": {},
   "outputs": [
    {
     "data": {
      "text/plain": [
       "(61503, 122)"
      ]
     },
     "execution_count": 51,
     "metadata": {},
     "output_type": "execute_result"
    }
   ],
   "source": [
    "test_imputed.shape"
   ]
  },
  {
   "cell_type": "code",
   "execution_count": 52,
   "id": "9ccb4b00-9139-4451-80f4-a5047935cb05",
   "metadata": {},
   "outputs": [
    {
     "data": {
      "text/plain": [
       "(61501, 503)"
      ]
     },
     "execution_count": 52,
     "metadata": {},
     "output_type": "execute_result"
    }
   ],
   "source": [
    "test_imputed_transformed.shape"
   ]
  },
  {
   "cell_type": "code",
   "execution_count": 53,
   "id": "8160f7dd-cc1e-4563-a515-1163a1ab543f",
   "metadata": {},
   "outputs": [
    {
     "name": "stdout",
     "output_type": "stream",
     "text": [
      "Colonnes avec des valeurs manquantes : []\n"
     ]
    }
   ],
   "source": [
    "# Vérification des colonnes avec des valeurs manquantes\n",
    "missing_values = test_imputed_transformed.isnull().sum()\n",
    "missing_columns = missing_values[missing_values > 0].index.tolist()\n",
    "print(f\"Colonnes avec des valeurs manquantes : {missing_columns}\")"
   ]
  },
  {
   "cell_type": "markdown",
   "id": "6ea96fc7-7587-4949-be53-61f0bc654846",
   "metadata": {},
   "source": [
    "## Sauvegarde / Chargement des données"
   ]
  },
  {
   "cell_type": "code",
   "execution_count": 54,
   "id": "3b79b771-d1c3-47fe-9c6d-ed0c82d742da",
   "metadata": {},
   "outputs": [
    {
     "name": "stdout",
     "output_type": "stream",
     "text": [
      "DataFrames enregistrés avec succès.\n"
     ]
    }
   ],
   "source": [
    "output_feat_dir = \"data/Featured\"\n",
    "\n",
    "# Enregistrer les DataFrames dans des fichiers CSV\n",
    "train_transformed.to_csv(os.path.join(output_feat_dir, \"train_transformed.csv\"), index=False)\n",
    "test_transformed.to_csv(os.path.join(output_feat_dir, \"test_transformed.csv\"), index=False)\n",
    "train_imputed_transformed.to_csv(os.path.join(output_feat_dir, \"train_imputed_transformed.csv\"), index=False)\n",
    "test_imputed_transformed.to_csv(os.path.join(output_feat_dir, \"test_imputed_transformed.csv\"), index=False)\n",
    "\n",
    "print(\"DataFrames enregistrés avec succès.\")"
   ]
  },
  {
   "cell_type": "code",
   "execution_count": 3,
   "id": "377c9e6e-5aca-426b-9967-d0a968dc271e",
   "metadata": {},
   "outputs": [
    {
     "name": "stdout",
     "output_type": "stream",
     "text": [
      "DataFrames chargés avec succès.\n"
     ]
    }
   ],
   "source": [
    "output_feat_dir = \"data/Featured\"\n",
    "\n",
    "# Charger les DataFrames à partir des fichiers CSV\n",
    "train_transformed = pd.read_csv(os.path.join(output_feat_dir, \"train_transformed.csv\"))\n",
    "test_transformed = pd.read_csv(os.path.join(output_feat_dir, \"test_transformed.csv\"))\n",
    "train_imputed_transformed = pd.read_csv(os.path.join(output_feat_dir, \"train_imputed_transformed.csv\"))\n",
    "test_imputed_transformed = pd.read_csv(os.path.join(output_feat_dir, \"test_imputed_transformed.csv\"))\n",
    "\n",
    "print(\"DataFrames chargés avec succès.\")"
   ]
  },
  {
   "cell_type": "code",
   "execution_count": 4,
   "id": "23cbad9d-9a56-4c61-8640-dfd8684773cd",
   "metadata": {},
   "outputs": [
    {
     "name": "stdout",
     "output_type": "stream",
     "text": [
      "train_transformed : (246006, 518),\n",
      "test_transformed : (61501, 518),\n",
      "train_imputed_transformed : (246006, 503),\n",
      "test_imputed_transformed : (61501, 503)\n"
     ]
    }
   ],
   "source": [
    "print(f\"train_transformed : {train_transformed.shape},\\n\"\n",
    "      f\"test_transformed : {test_transformed.shape},\\n\"\n",
    "      f\"train_imputed_transformed : {train_imputed_transformed.shape},\\n\"\n",
    "      f\"test_imputed_transformed : {test_imputed_transformed.shape}\")"
   ]
  },
  {
   "cell_type": "code",
   "execution_count": 5,
   "id": "159a03ad-a5ba-4566-a53b-5e4f4afd7114",
   "metadata": {},
   "outputs": [],
   "source": [
    "# nettoyage des noms de colonnes\n",
    "def clean_column_names(df):\n",
    "    df.columns = [re.sub(r'[^A-Za-z0-9_]+', '', col) for col in df.columns]\n",
    "    return df\n",
    "\n",
    "train_transformed = clean_column_names(train_transformed)\n",
    "test_transformed = clean_column_names(test_transformed)\n",
    "train_imputed_transformed = clean_column_names(train_imputed_transformed)\n",
    "test_imputed_transformed = clean_column_names(test_imputed_transformed)"
   ]
  },
  {
   "cell_type": "code",
   "execution_count": 39,
   "id": "408808b1-6e34-4fcb-92c0-79d34f5dbd9d",
   "metadata": {},
   "outputs": [
    {
     "name": "stdout",
     "output_type": "stream",
     "text": [
      "Nombre de colonnes présentes dans X_train_imputed mais pas dans X_train: 13\n"
     ]
    }
   ],
   "source": [
    "# Déterminer les colonnes présentes dans X_train_imputed mais pas dans X_train\n",
    "extra_columns = set(train_imputed_transformed.columns) - set(train_transformed.columns)\n",
    "print(f\"Nombre de colonnes présentes dans X_train_imputed mais pas dans X_train: {len(extra_columns)}\")"
   ]
  },
  {
   "cell_type": "markdown",
   "id": "1a58d4dc-c685-47ad-874f-80c57ce33089",
   "metadata": {},
   "source": [
    "# Définition du Score Métier"
   ]
  },
  {
   "cell_type": "code",
   "execution_count": 172,
   "id": "23b119b8-fb14-4734-8831-33e031002665",
   "metadata": {},
   "outputs": [],
   "source": [
    "def cost_function(y_true, y_pred):\n",
    "    fp_cost = 1\n",
    "    fn_cost = 10\n",
    "    fp = np.sum((y_true == 0) & (y_pred == 1))\n",
    "    fn = np.sum((y_true == 1) & (y_pred == 0))\n",
    "    return fp_cost * fp + fn_cost * fn"
   ]
  },
  {
   "cell_type": "code",
   "execution_count": 173,
   "id": "8932cbfa-1426-4fd0-8565-0fcb22bd3e77",
   "metadata": {},
   "outputs": [],
   "source": [
    "custom_scorer = make_scorer(cost_function, greater_is_better=False)"
   ]
  },
  {
   "cell_type": "markdown",
   "id": "c8c2ee42-fbe8-4dcb-9b8d-3f427bf8d584",
   "metadata": {},
   "source": [
    "# Modèles de machine learning"
   ]
  },
  {
   "cell_type": "code",
   "execution_count": 27,
   "id": "65f1587d-ee07-4c1b-b715-3e2e11ad9a8c",
   "metadata": {},
   "outputs": [],
   "source": [
    "# Séparer les features et la cible sur le jeu sans imputation\n",
    "X_train = train_transformed.drop(columns=['TARGET'])\n",
    "y_train = train_transformed['TARGET']\n",
    "X_test = test_transformed.drop(columns=['TARGET'])\n",
    "y_test = test_transformed['TARGET']"
   ]
  },
  {
   "cell_type": "markdown",
   "id": "3b39aa60-706c-4ea3-9737-95a47bdeee0a",
   "metadata": {},
   "source": [
    "## Séléction des variables"
   ]
  },
  {
   "cell_type": "markdown",
   "id": "94f9a8fb-4921-434a-a3c5-47ab920e27ef",
   "metadata": {},
   "source": [
    "### Suppression des variables hautement corrélées"
   ]
  },
  {
   "cell_type": "code",
   "execution_count": 28,
   "id": "c347e306-c050-496b-8654-b3a4deb1098c",
   "metadata": {},
   "outputs": [
    {
     "name": "stdout",
     "output_type": "stream",
     "text": [
      "Variables très corrélées supprimées: 140\n"
     ]
    }
   ],
   "source": [
    "train_imputed_cleaned, high_corr_features = remove_highly_correlated_features(train_imputed_transformed, threshold=0.9)\n",
    "print(f\"Variables très corrélées supprimées: {len(high_corr_features)}\")"
   ]
  },
  {
   "cell_type": "code",
   "execution_count": 29,
   "id": "259771ad-1e55-441c-925a-a9218becd0a4",
   "metadata": {},
   "outputs": [
    {
     "data": {
      "text/plain": [
       "(246006, 363)"
      ]
     },
     "execution_count": 29,
     "metadata": {},
     "output_type": "execute_result"
    }
   ],
   "source": [
    "train_imputed_cleaned.shape"
   ]
  },
  {
   "cell_type": "code",
   "execution_count": 30,
   "id": "85c01d59-5d61-45d8-bc64-fa271e76e293",
   "metadata": {},
   "outputs": [
    {
     "data": {
      "text/plain": [
       "(61501, 363)"
      ]
     },
     "execution_count": 30,
     "metadata": {},
     "output_type": "execute_result"
    }
   ],
   "source": [
    "# Aligner les colones du jeu de test\n",
    "\n",
    "train_imputed_cleaned_columns = list(train_imputed_cleaned.columns)\n",
    "test_imputed_cleaned = test_imputed_transformed.copy()\n",
    "\n",
    "# Supprimer les colonnes en trop\n",
    "extra_cols = set(test_imputed_cleaned.columns) - set(train_imputed_cleaned_columns)\n",
    "if extra_cols:\n",
    "    test_imputed_cleaned.drop(columns=list(extra_cols), inplace=True)\n",
    "\n",
    "# Réordonner les colonnes pour correspondre à celles du train\n",
    "test_imputed_cleaned = test_imputed_cleaned[train_imputed_cleaned_columns]\n",
    "\n",
    "test_imputed_cleaned.shape"
   ]
  },
  {
   "cell_type": "code",
   "execution_count": 31,
   "id": "acd6251a-4f5e-4e4b-8cac-b7dcf0762374",
   "metadata": {},
   "outputs": [],
   "source": [
    "# Séparer les features et la cible\n",
    "X_train_imputed = train_imputed_cleaned.drop(columns=['TARGET'])\n",
    "y_train_imputed = train_imputed_cleaned['TARGET']\n",
    "X_test_imputed = test_imputed_cleaned.drop(columns=['TARGET'])\n",
    "y_test_imputed = test_imputed_cleaned['TARGET']"
   ]
  },
  {
   "cell_type": "markdown",
   "id": "b9ba1679-2ee8-404e-a6bf-83249c85c6f9",
   "metadata": {},
   "source": [
    "### Recherche de la feature importance avec randomforest"
   ]
  },
  {
   "cell_type": "code",
   "execution_count": 11,
   "id": "94bad471-9123-4196-8d83-5e672de65401",
   "metadata": {},
   "outputs": [
    {
     "data": {
      "text/html": [
       "<style>#sk-container-id-1 {color: black;}#sk-container-id-1 pre{padding: 0;}#sk-container-id-1 div.sk-toggleable {background-color: white;}#sk-container-id-1 label.sk-toggleable__label {cursor: pointer;display: block;width: 100%;margin-bottom: 0;padding: 0.3em;box-sizing: border-box;text-align: center;}#sk-container-id-1 label.sk-toggleable__label-arrow:before {content: \"▸\";float: left;margin-right: 0.25em;color: #696969;}#sk-container-id-1 label.sk-toggleable__label-arrow:hover:before {color: black;}#sk-container-id-1 div.sk-estimator:hover label.sk-toggleable__label-arrow:before {color: black;}#sk-container-id-1 div.sk-toggleable__content {max-height: 0;max-width: 0;overflow: hidden;text-align: left;background-color: #f0f8ff;}#sk-container-id-1 div.sk-toggleable__content pre {margin: 0.2em;color: black;border-radius: 0.25em;background-color: #f0f8ff;}#sk-container-id-1 input.sk-toggleable__control:checked~div.sk-toggleable__content {max-height: 200px;max-width: 100%;overflow: auto;}#sk-container-id-1 input.sk-toggleable__control:checked~label.sk-toggleable__label-arrow:before {content: \"▾\";}#sk-container-id-1 div.sk-estimator input.sk-toggleable__control:checked~label.sk-toggleable__label {background-color: #d4ebff;}#sk-container-id-1 div.sk-label input.sk-toggleable__control:checked~label.sk-toggleable__label {background-color: #d4ebff;}#sk-container-id-1 input.sk-hidden--visually {border: 0;clip: rect(1px 1px 1px 1px);clip: rect(1px, 1px, 1px, 1px);height: 1px;margin: -1px;overflow: hidden;padding: 0;position: absolute;width: 1px;}#sk-container-id-1 div.sk-estimator {font-family: monospace;background-color: #f0f8ff;border: 1px dotted black;border-radius: 0.25em;box-sizing: border-box;margin-bottom: 0.5em;}#sk-container-id-1 div.sk-estimator:hover {background-color: #d4ebff;}#sk-container-id-1 div.sk-parallel-item::after {content: \"\";width: 100%;border-bottom: 1px solid gray;flex-grow: 1;}#sk-container-id-1 div.sk-label:hover label.sk-toggleable__label {background-color: #d4ebff;}#sk-container-id-1 div.sk-serial::before {content: \"\";position: absolute;border-left: 1px solid gray;box-sizing: border-box;top: 0;bottom: 0;left: 50%;z-index: 0;}#sk-container-id-1 div.sk-serial {display: flex;flex-direction: column;align-items: center;background-color: white;padding-right: 0.2em;padding-left: 0.2em;position: relative;}#sk-container-id-1 div.sk-item {position: relative;z-index: 1;}#sk-container-id-1 div.sk-parallel {display: flex;align-items: stretch;justify-content: center;background-color: white;position: relative;}#sk-container-id-1 div.sk-item::before, #sk-container-id-1 div.sk-parallel-item::before {content: \"\";position: absolute;border-left: 1px solid gray;box-sizing: border-box;top: 0;bottom: 0;left: 50%;z-index: -1;}#sk-container-id-1 div.sk-parallel-item {display: flex;flex-direction: column;z-index: 1;position: relative;background-color: white;}#sk-container-id-1 div.sk-parallel-item:first-child::after {align-self: flex-end;width: 50%;}#sk-container-id-1 div.sk-parallel-item:last-child::after {align-self: flex-start;width: 50%;}#sk-container-id-1 div.sk-parallel-item:only-child::after {width: 0;}#sk-container-id-1 div.sk-dashed-wrapped {border: 1px dashed gray;margin: 0 0.4em 0.5em 0.4em;box-sizing: border-box;padding-bottom: 0.4em;background-color: white;}#sk-container-id-1 div.sk-label label {font-family: monospace;font-weight: bold;display: inline-block;line-height: 1.2em;}#sk-container-id-1 div.sk-label-container {text-align: center;}#sk-container-id-1 div.sk-container {/* jupyter's `normalize.less` sets `[hidden] { display: none; }` but bootstrap.min.css set `[hidden] { display: none !important; }` so we also need the `!important` here to be able to override the default hidden behavior on the sphinx rendered scikit-learn.org. See: https://github.com/scikit-learn/scikit-learn/issues/21755 */display: inline-block !important;position: relative;}#sk-container-id-1 div.sk-text-repr-fallback {display: none;}</style><div id=\"sk-container-id-1\" class=\"sk-top-container\"><div class=\"sk-text-repr-fallback\"><pre>RandomForestClassifier(random_state=42)</pre><b>In a Jupyter environment, please rerun this cell to show the HTML representation or trust the notebook. <br />On GitHub, the HTML representation is unable to render, please try loading this page with nbviewer.org.</b></div><div class=\"sk-container\" hidden><div class=\"sk-item\"><div class=\"sk-estimator sk-toggleable\"><input class=\"sk-toggleable__control sk-hidden--visually\" id=\"sk-estimator-id-1\" type=\"checkbox\" checked><label for=\"sk-estimator-id-1\" class=\"sk-toggleable__label sk-toggleable__label-arrow\">RandomForestClassifier</label><div class=\"sk-toggleable__content\"><pre>RandomForestClassifier(random_state=42)</pre></div></div></div></div></div>"
      ],
      "text/plain": [
       "RandomForestClassifier(random_state=42)"
      ]
     },
     "execution_count": 11,
     "metadata": {},
     "output_type": "execute_result"
    }
   ],
   "source": [
    "rf = RandomForestClassifier(n_estimators=100, random_state=42)\n",
    "rf.fit(X_train_imputed, y_train_imputed)"
   ]
  },
  {
   "cell_type": "code",
   "execution_count": 21,
   "id": "f2d4db80-65b3-4fec-bdee-70d313baa791",
   "metadata": {},
   "outputs": [],
   "source": [
    "# Obtenir les importances des features\n",
    "importances = rf.feature_importances_\n",
    "\n",
    "feature_importances = pd.DataFrame({'Feature': X_train_imputed.columns, 'Importance': importances})\n",
    "feature_importances = feature_importances.sort_values(by='Importance', ascending=False)"
   ]
  },
  {
   "cell_type": "code",
   "execution_count": 24,
   "id": "c65739e3-18e2-401e-840a-2f9abb131c0f",
   "metadata": {},
   "outputs": [
    {
     "data": {
      "text/html": [
       "<div>\n",
       "<style scoped>\n",
       "    .dataframe tbody tr th:only-of-type {\n",
       "        vertical-align: middle;\n",
       "    }\n",
       "\n",
       "    .dataframe tbody tr th {\n",
       "        vertical-align: top;\n",
       "    }\n",
       "\n",
       "    .dataframe thead th {\n",
       "        text-align: right;\n",
       "    }\n",
       "</style>\n",
       "<table border=\"1\" class=\"dataframe\">\n",
       "  <thead>\n",
       "    <tr style=\"text-align: right;\">\n",
       "      <th></th>\n",
       "      <th>Feature</th>\n",
       "      <th>Importance</th>\n",
       "    </tr>\n",
       "  </thead>\n",
       "  <tbody>\n",
       "    <tr>\n",
       "      <th>48</th>\n",
       "      <td>EXT_SOURCES_PROD</td>\n",
       "      <td>0.016490</td>\n",
       "    </tr>\n",
       "    <tr>\n",
       "      <th>49</th>\n",
       "      <td>EXT_SOURCES_WEIGHTED</td>\n",
       "      <td>0.012800</td>\n",
       "    </tr>\n",
       "    <tr>\n",
       "      <th>50</th>\n",
       "      <td>EXT_SOURCES_MIN</td>\n",
       "      <td>0.010827</td>\n",
       "    </tr>\n",
       "    <tr>\n",
       "      <th>51</th>\n",
       "      <td>EXT_SOURCES_MAX</td>\n",
       "      <td>0.010507</td>\n",
       "    </tr>\n",
       "    <tr>\n",
       "      <th>22</th>\n",
       "      <td>EXT_SOURCE_2</td>\n",
       "      <td>0.009903</td>\n",
       "    </tr>\n",
       "    <tr>\n",
       "      <th>52</th>\n",
       "      <td>EXT_SOURCES_NANMEDIAN</td>\n",
       "      <td>0.009846</td>\n",
       "    </tr>\n",
       "    <tr>\n",
       "      <th>23</th>\n",
       "      <td>EXT_SOURCE_3</td>\n",
       "      <td>0.007563</td>\n",
       "    </tr>\n",
       "    <tr>\n",
       "      <th>53</th>\n",
       "      <td>EXT_SOURCES_VAR</td>\n",
       "      <td>0.007039</td>\n",
       "    </tr>\n",
       "    <tr>\n",
       "      <th>60</th>\n",
       "      <td>CAR_TO_EMPLOYED_RATIO</td>\n",
       "      <td>0.005914</td>\n",
       "    </tr>\n",
       "    <tr>\n",
       "      <th>11</th>\n",
       "      <td>DAYS_ID_PUBLISH</td>\n",
       "      <td>0.005670</td>\n",
       "    </tr>\n",
       "    <tr>\n",
       "      <th>9</th>\n",
       "      <td>DAYS_EMPLOYED</td>\n",
       "      <td>0.005623</td>\n",
       "    </tr>\n",
       "    <tr>\n",
       "      <th>61</th>\n",
       "      <td>EXT_SOURCES_MEAN_MEAN</td>\n",
       "      <td>0.005560</td>\n",
       "    </tr>\n",
       "    <tr>\n",
       "      <th>56</th>\n",
       "      <td>ANNUITY_TO_INCOME_RATIO</td>\n",
       "      <td>0.005476</td>\n",
       "    </tr>\n",
       "    <tr>\n",
       "      <th>8</th>\n",
       "      <td>DAYS_BIRTH</td>\n",
       "      <td>0.005388</td>\n",
       "    </tr>\n",
       "    <tr>\n",
       "      <th>10</th>\n",
       "      <td>DAYS_REGISTRATION</td>\n",
       "      <td>0.005304</td>\n",
       "    </tr>\n",
       "    <tr>\n",
       "      <th>57</th>\n",
       "      <td>INCOME_TO_EMPLOYED_RATIO</td>\n",
       "      <td>0.005260</td>\n",
       "    </tr>\n",
       "    <tr>\n",
       "      <th>59</th>\n",
       "      <td>CAR_TO_BIRTH_RATIO</td>\n",
       "      <td>0.005176</td>\n",
       "    </tr>\n",
       "    <tr>\n",
       "      <th>322</th>\n",
       "      <td>CURRENT_TO_APPROVED_ANNUITY_MAX_RATIO</td>\n",
       "      <td>0.005149</td>\n",
       "    </tr>\n",
       "    <tr>\n",
       "      <th>289</th>\n",
       "      <td>INS_60M_DBD_VAR</td>\n",
       "      <td>0.005097</td>\n",
       "    </tr>\n",
       "    <tr>\n",
       "      <th>262</th>\n",
       "      <td>INS_DBD_VAR</td>\n",
       "      <td>0.005089</td>\n",
       "    </tr>\n",
       "  </tbody>\n",
       "</table>\n",
       "</div>"
      ],
      "text/plain": [
       "                                   Feature  Importance\n",
       "48                        EXT_SOURCES_PROD    0.016490\n",
       "49                    EXT_SOURCES_WEIGHTED    0.012800\n",
       "50                         EXT_SOURCES_MIN    0.010827\n",
       "51                         EXT_SOURCES_MAX    0.010507\n",
       "22                            EXT_SOURCE_2    0.009903\n",
       "52                   EXT_SOURCES_NANMEDIAN    0.009846\n",
       "23                            EXT_SOURCE_3    0.007563\n",
       "53                         EXT_SOURCES_VAR    0.007039\n",
       "60                   CAR_TO_EMPLOYED_RATIO    0.005914\n",
       "11                         DAYS_ID_PUBLISH    0.005670\n",
       "9                            DAYS_EMPLOYED    0.005623\n",
       "61                   EXT_SOURCES_MEAN_MEAN    0.005560\n",
       "56                 ANNUITY_TO_INCOME_RATIO    0.005476\n",
       "8                               DAYS_BIRTH    0.005388\n",
       "10                       DAYS_REGISTRATION    0.005304\n",
       "57                INCOME_TO_EMPLOYED_RATIO    0.005260\n",
       "59                      CAR_TO_BIRTH_RATIO    0.005176\n",
       "322  CURRENT_TO_APPROVED_ANNUITY_MAX_RATIO    0.005149\n",
       "289                        INS_60M_DBD_VAR    0.005097\n",
       "262                            INS_DBD_VAR    0.005089"
      ]
     },
     "execution_count": 24,
     "metadata": {},
     "output_type": "execute_result"
    }
   ],
   "source": [
    "feature_importances.head(20)"
   ]
  },
  {
   "cell_type": "code",
   "execution_count": 32,
   "id": "2100c1cb-a1f5-4e25-a1c9-1c0ccea8693a",
   "metadata": {},
   "outputs": [
    {
     "name": "stdout",
     "output_type": "stream",
     "text": [
      "Number of selected features: 177\n"
     ]
    }
   ],
   "source": [
    "# Sélectionner les features les plus importantes au-dessus de la moyenne\n",
    "threshold = feature_importances['Importance'].mean()\n",
    "selected_features = feature_importances[feature_importances['Importance'] > threshold]['Feature']\n",
    "\n",
    "#print(f\"Selected Features: {selected_features.values}\")\n",
    "print(f\"Number of selected features: {len(selected_features)}\")"
   ]
  },
  {
   "cell_type": "code",
   "execution_count": 34,
   "id": "898e194c-33a7-4a02-addb-599c525b2703",
   "metadata": {},
   "outputs": [
    {
     "data": {
      "text/plain": [
       "(246006, 362)"
      ]
     },
     "execution_count": 34,
     "metadata": {},
     "output_type": "execute_result"
    }
   ],
   "source": [
    "X_train_imputed.shape"
   ]
  },
  {
   "cell_type": "code",
   "execution_count": 35,
   "id": "9f6c61c6-1ded-4fa7-bad2-dc8d2d9f48a7",
   "metadata": {},
   "outputs": [
    {
     "data": {
      "text/plain": [
       "(246006, 517)"
      ]
     },
     "execution_count": 35,
     "metadata": {},
     "output_type": "execute_result"
    }
   ],
   "source": [
    "X_train.shape"
   ]
  },
  {
   "cell_type": "code",
   "execution_count": 37,
   "id": "18705481-f51b-4407-929e-04d6450bbf64",
   "metadata": {},
   "outputs": [
    {
     "name": "stdout",
     "output_type": "stream",
     "text": [
      "Nombre de colonnes présentes dans X_train_imputed mais pas dans X_train: 10\n",
      "Colonnes supplémentaires: {'PREV_CHANNEL_TYPE_Creditandcashoffices_MEAN', 'PREV_APPLICATION_CREDIT_DIFF_MEAN', 'PREV_LAST12M_APPLICATION_CREDIT_DIFF_MIN', 'INS_36M_DBD_MAX', 'CC_AMT_DRAWINGS_POS_CURRENT_MAX', 'POS_REMAINING_INSTALMENTS', 'REFUSED_APPLICATION_CREDIT_DIFF_MIN', 'REFUSED_NAME_CONTRACT_TYPE_Revolvingloans_MEAN', 'PREV_PRODUCT_COMBINATION_CardXSell_MEAN', 'BUREAU_CLOSED_ENDDATE_DIF_MEAN'}\n"
     ]
    }
   ],
   "source": [
    "# Déterminer les colonnes présentes dans X_train_imputed mais pas dans X_train\n",
    "extra_columns = set(X_train_imputed.columns) - set(X_train.columns)\n",
    "print(f\"Nombre de colonnes présentes dans X_train_imputed mais pas dans X_train: {len(extra_columns)}\")\n",
    "print(f\"Colonnes supplémentaires: {extra_columns}\")"
   ]
  },
  {
   "cell_type": "code",
   "execution_count": 33,
   "id": "5b730e14-c3ad-4d56-8d86-a4080a163d1b",
   "metadata": {},
   "outputs": [
    {
     "ename": "KeyError",
     "evalue": "\"['INS_36M_DBD_MAX', 'BUREAU_CLOSED_ENDDATE_DIF_MEAN', 'PREV_APPLICATION_CREDIT_DIFF_MEAN', 'PREV_LAST12M_APPLICATION_CREDIT_DIFF_MIN', 'POS_REMAINING_INSTALMENTS'] not in index\"",
     "output_type": "error",
     "traceback": [
      "\u001b[1;31m---------------------------------------------------------------------------\u001b[0m",
      "\u001b[1;31mKeyError\u001b[0m                                  Traceback (most recent call last)",
      "Cell \u001b[1;32mIn[33], line 7\u001b[0m\n\u001b[0;32m      3\u001b[0m X_test_imp_selected \u001b[38;5;241m=\u001b[39m X_test_imputed[selected_features]\n\u001b[0;32m      6\u001b[0m \u001b[38;5;66;03m# Séparer les features et la cible sur le jeu sans imputation\u001b[39;00m\n\u001b[1;32m----> 7\u001b[0m X_train_slected \u001b[38;5;241m=\u001b[39m X_train[selected_features]\n\u001b[0;32m      8\u001b[0m X_test_selected \u001b[38;5;241m=\u001b[39m X_test[selected_features]\n",
      "File \u001b[1;32m~\\anaconda3\\envs\\Projet7\\Lib\\site-packages\\pandas\\core\\frame.py:3899\u001b[0m, in \u001b[0;36mDataFrame.__getitem__\u001b[1;34m(self, key)\u001b[0m\n\u001b[0;32m   3897\u001b[0m     \u001b[38;5;28;01mif\u001b[39;00m is_iterator(key):\n\u001b[0;32m   3898\u001b[0m         key \u001b[38;5;241m=\u001b[39m \u001b[38;5;28mlist\u001b[39m(key)\n\u001b[1;32m-> 3899\u001b[0m     indexer \u001b[38;5;241m=\u001b[39m \u001b[38;5;28mself\u001b[39m\u001b[38;5;241m.\u001b[39mcolumns\u001b[38;5;241m.\u001b[39m_get_indexer_strict(key, \u001b[38;5;124m\"\u001b[39m\u001b[38;5;124mcolumns\u001b[39m\u001b[38;5;124m\"\u001b[39m)[\u001b[38;5;241m1\u001b[39m]\n\u001b[0;32m   3901\u001b[0m \u001b[38;5;66;03m# take() does not accept boolean indexers\u001b[39;00m\n\u001b[0;32m   3902\u001b[0m \u001b[38;5;28;01mif\u001b[39;00m \u001b[38;5;28mgetattr\u001b[39m(indexer, \u001b[38;5;124m\"\u001b[39m\u001b[38;5;124mdtype\u001b[39m\u001b[38;5;124m\"\u001b[39m, \u001b[38;5;28;01mNone\u001b[39;00m) \u001b[38;5;241m==\u001b[39m \u001b[38;5;28mbool\u001b[39m:\n",
      "File \u001b[1;32m~\\anaconda3\\envs\\Projet7\\Lib\\site-packages\\pandas\\core\\indexes\\base.py:6115\u001b[0m, in \u001b[0;36mIndex._get_indexer_strict\u001b[1;34m(self, key, axis_name)\u001b[0m\n\u001b[0;32m   6112\u001b[0m \u001b[38;5;28;01melse\u001b[39;00m:\n\u001b[0;32m   6113\u001b[0m     keyarr, indexer, new_indexer \u001b[38;5;241m=\u001b[39m \u001b[38;5;28mself\u001b[39m\u001b[38;5;241m.\u001b[39m_reindex_non_unique(keyarr)\n\u001b[1;32m-> 6115\u001b[0m \u001b[38;5;28mself\u001b[39m\u001b[38;5;241m.\u001b[39m_raise_if_missing(keyarr, indexer, axis_name)\n\u001b[0;32m   6117\u001b[0m keyarr \u001b[38;5;241m=\u001b[39m \u001b[38;5;28mself\u001b[39m\u001b[38;5;241m.\u001b[39mtake(indexer)\n\u001b[0;32m   6118\u001b[0m \u001b[38;5;28;01mif\u001b[39;00m \u001b[38;5;28misinstance\u001b[39m(key, Index):\n\u001b[0;32m   6119\u001b[0m     \u001b[38;5;66;03m# GH 42790 - Preserve name from an Index\u001b[39;00m\n",
      "File \u001b[1;32m~\\anaconda3\\envs\\Projet7\\Lib\\site-packages\\pandas\\core\\indexes\\base.py:6179\u001b[0m, in \u001b[0;36mIndex._raise_if_missing\u001b[1;34m(self, key, indexer, axis_name)\u001b[0m\n\u001b[0;32m   6176\u001b[0m     \u001b[38;5;28;01mraise\u001b[39;00m \u001b[38;5;167;01mKeyError\u001b[39;00m(\u001b[38;5;124mf\u001b[39m\u001b[38;5;124m\"\u001b[39m\u001b[38;5;124mNone of [\u001b[39m\u001b[38;5;132;01m{\u001b[39;00mkey\u001b[38;5;132;01m}\u001b[39;00m\u001b[38;5;124m] are in the [\u001b[39m\u001b[38;5;132;01m{\u001b[39;00maxis_name\u001b[38;5;132;01m}\u001b[39;00m\u001b[38;5;124m]\u001b[39m\u001b[38;5;124m\"\u001b[39m)\n\u001b[0;32m   6178\u001b[0m not_found \u001b[38;5;241m=\u001b[39m \u001b[38;5;28mlist\u001b[39m(ensure_index(key)[missing_mask\u001b[38;5;241m.\u001b[39mnonzero()[\u001b[38;5;241m0\u001b[39m]]\u001b[38;5;241m.\u001b[39munique())\n\u001b[1;32m-> 6179\u001b[0m \u001b[38;5;28;01mraise\u001b[39;00m \u001b[38;5;167;01mKeyError\u001b[39;00m(\u001b[38;5;124mf\u001b[39m\u001b[38;5;124m\"\u001b[39m\u001b[38;5;132;01m{\u001b[39;00mnot_found\u001b[38;5;132;01m}\u001b[39;00m\u001b[38;5;124m not in index\u001b[39m\u001b[38;5;124m\"\u001b[39m)\n",
      "\u001b[1;31mKeyError\u001b[0m: \"['INS_36M_DBD_MAX', 'BUREAU_CLOSED_ENDDATE_DIF_MEAN', 'PREV_APPLICATION_CREDIT_DIFF_MEAN', 'PREV_LAST12M_APPLICATION_CREDIT_DIFF_MIN', 'POS_REMAINING_INSTALMENTS'] not in index\""
     ]
    }
   ],
   "source": [
    "# Filtrer les jeux de données pour ne garder que les features sélectionnées\n",
    "X_train_imp_selected = X_train_imputed[selected_features]\n",
    "X_test_imp_selected = X_test_imputed[selected_features]\n",
    "\n",
    "\n",
    "# Séparer les features et la cible sur le jeu sans imputation\n",
    "X_train_slected = X_train[selected_features]\n",
    "X_test_selected = X_test[selected_features]"
   ]
  },
  {
   "cell_type": "markdown",
   "id": "c32b714b-3163-4818-b963-070f3e4d3dc4",
   "metadata": {},
   "source": [
    "## Standardisation"
   ]
  },
  {
   "cell_type": "code",
   "execution_count": null,
   "id": "3e488bf9-48bb-4f25-8c08-ed0e676e58fe",
   "metadata": {},
   "outputs": [],
   "source": [
    "# Normaliser les données\n",
    "scaler = StandardScaler()\n",
    "X_train_scaled = scaler.fit_transform(X_train_imp_selected)\n",
    "X_test_scaled = scaler.transform(X_test_imp_selected)"
   ]
  },
  {
   "cell_type": "markdown",
   "id": "6e2918b3-8d28-4dee-a302-16ed521171f5",
   "metadata": {},
   "source": [
    "## Tests de différents modèles"
   ]
  },
  {
   "cell_type": "markdown",
   "id": "be0fcd0a-ff2d-4139-ac38-40c08fa926db",
   "metadata": {},
   "source": [
    "Pour les modèles Dummy Regressor, Régression Logistique et Random Forest, nous devons utiliser le jeu de données imputé (sans NaN). La standardisation (StandardScaler) est nécessaire pour la Régression Logistique mais pas pour le Dummy Regressor et la Random Forest.<br>\n",
    "Pour les modèles Lightgbm et CatBoosting nous n'avons ni besoin de compléter les nan ni besoin de standardiser les données"
   ]
  },
  {
   "cell_type": "code",
   "execution_count": null,
   "id": "41da6ccb-249a-4f54-839c-a1bfe7b28373",
   "metadata": {},
   "outputs": [],
   "source": [
    "# Fonction pour entraîner et enregistrer les modèles avec MLFlow\n",
    "def train_and_log_model(model, model_name, X_train, y_train, X_test, y_test, balancing_technique=None):\n",
    "    with mlflow.start_run(run_name=f\"{model_name}_{balancing_technique}\"):\n",
    "        model.fit(X_train, y_train)\n",
    "        \n",
    "        # Prédictions des probabilités pour le calcul de l'AUC\n",
    "        if hasattr(model, \"predict_proba\"):\n",
    "            y_pred_proba = model.predict_proba(X_test)[:, 1]\n",
    "            y_pred = (y_pred_proba >= 0.5).astype(int)\n",
    "            auc_score = roc_auc_score(y_test, y_pred_proba)\n",
    "        else:\n",
    "            y_pred = model.predict(X_test)\n",
    "            auc_score = None\n",
    "        \n",
    "        # Calcul de l'accuracy\n",
    "        accuracy = accuracy_score(y_test, y_pred)\n",
    "\n",
    "        # Enregistrement des paramètres et des métriques dans MLFlow\n",
    "        mlflow.log_param(\"model\", model_name)\n",
    "        mlflow.log_param(\"balancing_technique\", balancing_technique)\n",
    "        if auc_score is not None:\n",
    "            mlflow.log_metric(\"ROC AUC\", auc_score)\n",
    "        mlflow.log_metric(\"Accuracy\", accuracy)\n",
    "\n",
    "        # Enregistrement du modèle dans MLFlow\n",
    "        mlflow.sklearn.log_model(model, f\"{model_name}_model\")\n",
    "\n",
    "        print(f\"{model_name} with {balancing_technique} - ROC AUC: {auc_score}, Accuracy: {accuracy}\")"
   ]
  },
  {
   "cell_type": "code",
   "execution_count": 182,
   "id": "62b95407-36ec-44cf-bb43-fbd1ee7c4b44",
   "metadata": {},
   "outputs": [],
   "source": [
    "# Modèles à tester\n",
    "models = {\n",
    "    \"Dummy Classifier\": DummyClassifier(strategy='most_frequent'),\n",
    "    \"Logistic Regression\": LogisticRegression(random_state=42, max_iter=1000),\n",
    "#    \"Random Forest\": RandomForestClassifier(),\n",
    "#    \"LightGBM\": lgb.LGBMClassifier(),\n",
    "#    \"CatBoost\": CatBoostClassifier(verbose=0)\n",
    "}"
   ]
  },
  {
   "cell_type": "code",
   "execution_count": 183,
   "id": "a1c38d1d-95f0-4eef-b872-6f5dc9e3f82f",
   "metadata": {},
   "outputs": [],
   "source": [
    "# Scénarios de rééquilibrage\n",
    "balancing_techniques = [None, \"SMOTE\", \"Undersampling\"]"
   ]
  },
  {
   "cell_type": "code",
   "execution_count": 184,
   "id": "1a24f1de-adcd-44b5-9319-2f9108da0ee3",
   "metadata": {},
   "outputs": [
    {
     "name": "stdout",
     "output_type": "stream",
     "text": [
      "Dummy Classifier with None - ROC AUC: 0.5, Accuracy: 0.9192696053722703\n",
      "Dummy Classifier with SMOTE - ROC AUC: 0.5, Accuracy: 0.9192696053722703\n",
      "Dummy Classifier with Undersampling - ROC AUC: 0.5, Accuracy: 0.9192696053722703\n",
      "Logistic Regression with None - ROC AUC: 0.7747197091113669, Accuracy: 0.9195785434383181\n",
      "Logistic Regression with SMOTE - ROC AUC: 0.7607358806110013, Accuracy: 0.8254012129884067\n",
      "Logistic Regression with Undersampling - ROC AUC: 0.7729039957215722, Accuracy: 0.7161184370985838\n",
      "Random Forest with None - ROC AUC: 0.7306577377428045, Accuracy: 0.9193671647615486\n"
     ]
    },
    {
     "ename": "KeyboardInterrupt",
     "evalue": "",
     "output_type": "error",
     "traceback": [
      "\u001b[1;31m---------------------------------------------------------------------------\u001b[0m",
      "\u001b[1;31mKeyboardInterrupt\u001b[0m                         Traceback (most recent call last)",
      "Cell \u001b[1;32mIn[184], line 56\u001b[0m\n\u001b[0;32m     53\u001b[0m     undersample \u001b[38;5;241m=\u001b[39m RandomUnderSampler(random_state\u001b[38;5;241m=\u001b[39m\u001b[38;5;241m42\u001b[39m)\n\u001b[0;32m     54\u001b[0m     X_train_bal, y_train_bal \u001b[38;5;241m=\u001b[39m undersample\u001b[38;5;241m.\u001b[39mfit_resample(X_train_bal, y_train_bal)\n\u001b[1;32m---> 56\u001b[0m train_and_log_model(model, model_name, X_train_bal, y_train_bal, X_test_bal, y_test_bal, technique)\n",
      "Cell \u001b[1;32mIn[181], line 4\u001b[0m, in \u001b[0;36mtrain_and_log_model\u001b[1;34m(model, model_name, X_train, y_train, X_test, y_test, balancing_technique)\u001b[0m\n\u001b[0;32m      2\u001b[0m \u001b[38;5;28;01mdef\u001b[39;00m \u001b[38;5;21mtrain_and_log_model\u001b[39m(model, model_name, X_train, y_train, X_test, y_test, balancing_technique\u001b[38;5;241m=\u001b[39m\u001b[38;5;28;01mNone\u001b[39;00m):\n\u001b[0;32m      3\u001b[0m     \u001b[38;5;28;01mwith\u001b[39;00m mlflow\u001b[38;5;241m.\u001b[39mstart_run(run_name\u001b[38;5;241m=\u001b[39m\u001b[38;5;124mf\u001b[39m\u001b[38;5;124m\"\u001b[39m\u001b[38;5;132;01m{\u001b[39;00mmodel_name\u001b[38;5;132;01m}\u001b[39;00m\u001b[38;5;124m_\u001b[39m\u001b[38;5;132;01m{\u001b[39;00mbalancing_technique\u001b[38;5;132;01m}\u001b[39;00m\u001b[38;5;124m\"\u001b[39m):\n\u001b[1;32m----> 4\u001b[0m         model\u001b[38;5;241m.\u001b[39mfit(X_train, y_train)\n\u001b[0;32m      6\u001b[0m         \u001b[38;5;66;03m# Prédictions des probabilités pour le calcul de l'AUC\u001b[39;00m\n\u001b[0;32m      7\u001b[0m         \u001b[38;5;28;01mif\u001b[39;00m \u001b[38;5;28mhasattr\u001b[39m(model, \u001b[38;5;124m\"\u001b[39m\u001b[38;5;124mpredict_proba\u001b[39m\u001b[38;5;124m\"\u001b[39m):\n",
      "File \u001b[1;32m~\\anaconda3\\envs\\Projet7\\Lib\\site-packages\\sklearn\\base.py:1151\u001b[0m, in \u001b[0;36m_fit_context.<locals>.decorator.<locals>.wrapper\u001b[1;34m(estimator, *args, **kwargs)\u001b[0m\n\u001b[0;32m   1144\u001b[0m     estimator\u001b[38;5;241m.\u001b[39m_validate_params()\n\u001b[0;32m   1146\u001b[0m \u001b[38;5;28;01mwith\u001b[39;00m config_context(\n\u001b[0;32m   1147\u001b[0m     skip_parameter_validation\u001b[38;5;241m=\u001b[39m(\n\u001b[0;32m   1148\u001b[0m         prefer_skip_nested_validation \u001b[38;5;129;01mor\u001b[39;00m global_skip_validation\n\u001b[0;32m   1149\u001b[0m     )\n\u001b[0;32m   1150\u001b[0m ):\n\u001b[1;32m-> 1151\u001b[0m     \u001b[38;5;28;01mreturn\u001b[39;00m fit_method(estimator, \u001b[38;5;241m*\u001b[39margs, \u001b[38;5;241m*\u001b[39m\u001b[38;5;241m*\u001b[39mkwargs)\n",
      "File \u001b[1;32m~\\anaconda3\\envs\\Projet7\\Lib\\site-packages\\sklearn\\ensemble\\_forest.py:456\u001b[0m, in \u001b[0;36mBaseForest.fit\u001b[1;34m(self, X, y, sample_weight)\u001b[0m\n\u001b[0;32m    445\u001b[0m trees \u001b[38;5;241m=\u001b[39m [\n\u001b[0;32m    446\u001b[0m     \u001b[38;5;28mself\u001b[39m\u001b[38;5;241m.\u001b[39m_make_estimator(append\u001b[38;5;241m=\u001b[39m\u001b[38;5;28;01mFalse\u001b[39;00m, random_state\u001b[38;5;241m=\u001b[39mrandom_state)\n\u001b[0;32m    447\u001b[0m     \u001b[38;5;28;01mfor\u001b[39;00m i \u001b[38;5;129;01min\u001b[39;00m \u001b[38;5;28mrange\u001b[39m(n_more_estimators)\n\u001b[0;32m    448\u001b[0m ]\n\u001b[0;32m    450\u001b[0m \u001b[38;5;66;03m# Parallel loop: we prefer the threading backend as the Cython code\u001b[39;00m\n\u001b[0;32m    451\u001b[0m \u001b[38;5;66;03m# for fitting the trees is internally releasing the Python GIL\u001b[39;00m\n\u001b[0;32m    452\u001b[0m \u001b[38;5;66;03m# making threading more efficient than multiprocessing in\u001b[39;00m\n\u001b[0;32m    453\u001b[0m \u001b[38;5;66;03m# that case. However, for joblib 0.12+ we respect any\u001b[39;00m\n\u001b[0;32m    454\u001b[0m \u001b[38;5;66;03m# parallel_backend contexts set at a higher level,\u001b[39;00m\n\u001b[0;32m    455\u001b[0m \u001b[38;5;66;03m# since correctness does not rely on using threads.\u001b[39;00m\n\u001b[1;32m--> 456\u001b[0m trees \u001b[38;5;241m=\u001b[39m Parallel(\n\u001b[0;32m    457\u001b[0m     n_jobs\u001b[38;5;241m=\u001b[39m\u001b[38;5;28mself\u001b[39m\u001b[38;5;241m.\u001b[39mn_jobs,\n\u001b[0;32m    458\u001b[0m     verbose\u001b[38;5;241m=\u001b[39m\u001b[38;5;28mself\u001b[39m\u001b[38;5;241m.\u001b[39mverbose,\n\u001b[0;32m    459\u001b[0m     prefer\u001b[38;5;241m=\u001b[39m\u001b[38;5;124m\"\u001b[39m\u001b[38;5;124mthreads\u001b[39m\u001b[38;5;124m\"\u001b[39m,\n\u001b[0;32m    460\u001b[0m )(\n\u001b[0;32m    461\u001b[0m     delayed(_parallel_build_trees)(\n\u001b[0;32m    462\u001b[0m         t,\n\u001b[0;32m    463\u001b[0m         \u001b[38;5;28mself\u001b[39m\u001b[38;5;241m.\u001b[39mbootstrap,\n\u001b[0;32m    464\u001b[0m         X,\n\u001b[0;32m    465\u001b[0m         y,\n\u001b[0;32m    466\u001b[0m         sample_weight,\n\u001b[0;32m    467\u001b[0m         i,\n\u001b[0;32m    468\u001b[0m         \u001b[38;5;28mlen\u001b[39m(trees),\n\u001b[0;32m    469\u001b[0m         verbose\u001b[38;5;241m=\u001b[39m\u001b[38;5;28mself\u001b[39m\u001b[38;5;241m.\u001b[39mverbose,\n\u001b[0;32m    470\u001b[0m         class_weight\u001b[38;5;241m=\u001b[39m\u001b[38;5;28mself\u001b[39m\u001b[38;5;241m.\u001b[39mclass_weight,\n\u001b[0;32m    471\u001b[0m         n_samples_bootstrap\u001b[38;5;241m=\u001b[39mn_samples_bootstrap,\n\u001b[0;32m    472\u001b[0m     )\n\u001b[0;32m    473\u001b[0m     \u001b[38;5;28;01mfor\u001b[39;00m i, t \u001b[38;5;129;01min\u001b[39;00m \u001b[38;5;28menumerate\u001b[39m(trees)\n\u001b[0;32m    474\u001b[0m )\n\u001b[0;32m    476\u001b[0m \u001b[38;5;66;03m# Collect newly grown trees\u001b[39;00m\n\u001b[0;32m    477\u001b[0m \u001b[38;5;28mself\u001b[39m\u001b[38;5;241m.\u001b[39mestimators_\u001b[38;5;241m.\u001b[39mextend(trees)\n",
      "File \u001b[1;32m~\\anaconda3\\envs\\Projet7\\Lib\\site-packages\\sklearn\\utils\\parallel.py:65\u001b[0m, in \u001b[0;36mParallel.__call__\u001b[1;34m(self, iterable)\u001b[0m\n\u001b[0;32m     60\u001b[0m config \u001b[38;5;241m=\u001b[39m get_config()\n\u001b[0;32m     61\u001b[0m iterable_with_config \u001b[38;5;241m=\u001b[39m (\n\u001b[0;32m     62\u001b[0m     (_with_config(delayed_func, config), args, kwargs)\n\u001b[0;32m     63\u001b[0m     \u001b[38;5;28;01mfor\u001b[39;00m delayed_func, args, kwargs \u001b[38;5;129;01min\u001b[39;00m iterable\n\u001b[0;32m     64\u001b[0m )\n\u001b[1;32m---> 65\u001b[0m \u001b[38;5;28;01mreturn\u001b[39;00m \u001b[38;5;28msuper\u001b[39m()\u001b[38;5;241m.\u001b[39m\u001b[38;5;21m__call__\u001b[39m(iterable_with_config)\n",
      "File \u001b[1;32m~\\anaconda3\\envs\\Projet7\\Lib\\site-packages\\joblib\\parallel.py:1088\u001b[0m, in \u001b[0;36mParallel.__call__\u001b[1;34m(self, iterable)\u001b[0m\n\u001b[0;32m   1085\u001b[0m \u001b[38;5;28;01mif\u001b[39;00m \u001b[38;5;28mself\u001b[39m\u001b[38;5;241m.\u001b[39mdispatch_one_batch(iterator):\n\u001b[0;32m   1086\u001b[0m     \u001b[38;5;28mself\u001b[39m\u001b[38;5;241m.\u001b[39m_iterating \u001b[38;5;241m=\u001b[39m \u001b[38;5;28mself\u001b[39m\u001b[38;5;241m.\u001b[39m_original_iterator \u001b[38;5;129;01mis\u001b[39;00m \u001b[38;5;129;01mnot\u001b[39;00m \u001b[38;5;28;01mNone\u001b[39;00m\n\u001b[1;32m-> 1088\u001b[0m \u001b[38;5;28;01mwhile\u001b[39;00m \u001b[38;5;28mself\u001b[39m\u001b[38;5;241m.\u001b[39mdispatch_one_batch(iterator):\n\u001b[0;32m   1089\u001b[0m     \u001b[38;5;28;01mpass\u001b[39;00m\n\u001b[0;32m   1091\u001b[0m \u001b[38;5;28;01mif\u001b[39;00m pre_dispatch \u001b[38;5;241m==\u001b[39m \u001b[38;5;124m\"\u001b[39m\u001b[38;5;124mall\u001b[39m\u001b[38;5;124m\"\u001b[39m \u001b[38;5;129;01mor\u001b[39;00m n_jobs \u001b[38;5;241m==\u001b[39m \u001b[38;5;241m1\u001b[39m:\n\u001b[0;32m   1092\u001b[0m     \u001b[38;5;66;03m# The iterable was consumed all at once by the above for loop.\u001b[39;00m\n\u001b[0;32m   1093\u001b[0m     \u001b[38;5;66;03m# No need to wait for async callbacks to trigger to\u001b[39;00m\n\u001b[0;32m   1094\u001b[0m     \u001b[38;5;66;03m# consumption.\u001b[39;00m\n",
      "File \u001b[1;32m~\\anaconda3\\envs\\Projet7\\Lib\\site-packages\\joblib\\parallel.py:901\u001b[0m, in \u001b[0;36mParallel.dispatch_one_batch\u001b[1;34m(self, iterator)\u001b[0m\n\u001b[0;32m    899\u001b[0m     \u001b[38;5;28;01mreturn\u001b[39;00m \u001b[38;5;28;01mFalse\u001b[39;00m\n\u001b[0;32m    900\u001b[0m \u001b[38;5;28;01melse\u001b[39;00m:\n\u001b[1;32m--> 901\u001b[0m     \u001b[38;5;28mself\u001b[39m\u001b[38;5;241m.\u001b[39m_dispatch(tasks)\n\u001b[0;32m    902\u001b[0m     \u001b[38;5;28;01mreturn\u001b[39;00m \u001b[38;5;28;01mTrue\u001b[39;00m\n",
      "File \u001b[1;32m~\\anaconda3\\envs\\Projet7\\Lib\\site-packages\\joblib\\parallel.py:819\u001b[0m, in \u001b[0;36mParallel._dispatch\u001b[1;34m(self, batch)\u001b[0m\n\u001b[0;32m    817\u001b[0m \u001b[38;5;28;01mwith\u001b[39;00m \u001b[38;5;28mself\u001b[39m\u001b[38;5;241m.\u001b[39m_lock:\n\u001b[0;32m    818\u001b[0m     job_idx \u001b[38;5;241m=\u001b[39m \u001b[38;5;28mlen\u001b[39m(\u001b[38;5;28mself\u001b[39m\u001b[38;5;241m.\u001b[39m_jobs)\n\u001b[1;32m--> 819\u001b[0m     job \u001b[38;5;241m=\u001b[39m \u001b[38;5;28mself\u001b[39m\u001b[38;5;241m.\u001b[39m_backend\u001b[38;5;241m.\u001b[39mapply_async(batch, callback\u001b[38;5;241m=\u001b[39mcb)\n\u001b[0;32m    820\u001b[0m     \u001b[38;5;66;03m# A job can complete so quickly than its callback is\u001b[39;00m\n\u001b[0;32m    821\u001b[0m     \u001b[38;5;66;03m# called before we get here, causing self._jobs to\u001b[39;00m\n\u001b[0;32m    822\u001b[0m     \u001b[38;5;66;03m# grow. To ensure correct results ordering, .insert is\u001b[39;00m\n\u001b[0;32m    823\u001b[0m     \u001b[38;5;66;03m# used (rather than .append) in the following line\u001b[39;00m\n\u001b[0;32m    824\u001b[0m     \u001b[38;5;28mself\u001b[39m\u001b[38;5;241m.\u001b[39m_jobs\u001b[38;5;241m.\u001b[39minsert(job_idx, job)\n",
      "File \u001b[1;32m~\\anaconda3\\envs\\Projet7\\Lib\\site-packages\\joblib\\_parallel_backends.py:208\u001b[0m, in \u001b[0;36mSequentialBackend.apply_async\u001b[1;34m(self, func, callback)\u001b[0m\n\u001b[0;32m    206\u001b[0m \u001b[38;5;28;01mdef\u001b[39;00m \u001b[38;5;21mapply_async\u001b[39m(\u001b[38;5;28mself\u001b[39m, func, callback\u001b[38;5;241m=\u001b[39m\u001b[38;5;28;01mNone\u001b[39;00m):\n\u001b[0;32m    207\u001b[0m \u001b[38;5;250m    \u001b[39m\u001b[38;5;124;03m\"\"\"Schedule a func to be run\"\"\"\u001b[39;00m\n\u001b[1;32m--> 208\u001b[0m     result \u001b[38;5;241m=\u001b[39m ImmediateResult(func)\n\u001b[0;32m    209\u001b[0m     \u001b[38;5;28;01mif\u001b[39;00m callback:\n\u001b[0;32m    210\u001b[0m         callback(result)\n",
      "File \u001b[1;32m~\\anaconda3\\envs\\Projet7\\Lib\\site-packages\\joblib\\_parallel_backends.py:597\u001b[0m, in \u001b[0;36mImmediateResult.__init__\u001b[1;34m(self, batch)\u001b[0m\n\u001b[0;32m    594\u001b[0m \u001b[38;5;28;01mdef\u001b[39;00m \u001b[38;5;21m__init__\u001b[39m(\u001b[38;5;28mself\u001b[39m, batch):\n\u001b[0;32m    595\u001b[0m     \u001b[38;5;66;03m# Don't delay the application, to avoid keeping the input\u001b[39;00m\n\u001b[0;32m    596\u001b[0m     \u001b[38;5;66;03m# arguments in memory\u001b[39;00m\n\u001b[1;32m--> 597\u001b[0m     \u001b[38;5;28mself\u001b[39m\u001b[38;5;241m.\u001b[39mresults \u001b[38;5;241m=\u001b[39m batch()\n",
      "File \u001b[1;32m~\\anaconda3\\envs\\Projet7\\Lib\\site-packages\\joblib\\parallel.py:288\u001b[0m, in \u001b[0;36mBatchedCalls.__call__\u001b[1;34m(self)\u001b[0m\n\u001b[0;32m    284\u001b[0m \u001b[38;5;28;01mdef\u001b[39;00m \u001b[38;5;21m__call__\u001b[39m(\u001b[38;5;28mself\u001b[39m):\n\u001b[0;32m    285\u001b[0m     \u001b[38;5;66;03m# Set the default nested backend to self._backend but do not set the\u001b[39;00m\n\u001b[0;32m    286\u001b[0m     \u001b[38;5;66;03m# change the default number of processes to -1\u001b[39;00m\n\u001b[0;32m    287\u001b[0m     \u001b[38;5;28;01mwith\u001b[39;00m parallel_backend(\u001b[38;5;28mself\u001b[39m\u001b[38;5;241m.\u001b[39m_backend, n_jobs\u001b[38;5;241m=\u001b[39m\u001b[38;5;28mself\u001b[39m\u001b[38;5;241m.\u001b[39m_n_jobs):\n\u001b[1;32m--> 288\u001b[0m         \u001b[38;5;28;01mreturn\u001b[39;00m [func(\u001b[38;5;241m*\u001b[39margs, \u001b[38;5;241m*\u001b[39m\u001b[38;5;241m*\u001b[39mkwargs)\n\u001b[0;32m    289\u001b[0m                 \u001b[38;5;28;01mfor\u001b[39;00m func, args, kwargs \u001b[38;5;129;01min\u001b[39;00m \u001b[38;5;28mself\u001b[39m\u001b[38;5;241m.\u001b[39mitems]\n",
      "File \u001b[1;32m~\\anaconda3\\envs\\Projet7\\Lib\\site-packages\\sklearn\\utils\\parallel.py:127\u001b[0m, in \u001b[0;36m_FuncWrapper.__call__\u001b[1;34m(self, *args, **kwargs)\u001b[0m\n\u001b[0;32m    125\u001b[0m     config \u001b[38;5;241m=\u001b[39m {}\n\u001b[0;32m    126\u001b[0m \u001b[38;5;28;01mwith\u001b[39;00m config_context(\u001b[38;5;241m*\u001b[39m\u001b[38;5;241m*\u001b[39mconfig):\n\u001b[1;32m--> 127\u001b[0m     \u001b[38;5;28;01mreturn\u001b[39;00m \u001b[38;5;28mself\u001b[39m\u001b[38;5;241m.\u001b[39mfunction(\u001b[38;5;241m*\u001b[39margs, \u001b[38;5;241m*\u001b[39m\u001b[38;5;241m*\u001b[39mkwargs)\n",
      "File \u001b[1;32m~\\anaconda3\\envs\\Projet7\\Lib\\site-packages\\sklearn\\ensemble\\_forest.py:188\u001b[0m, in \u001b[0;36m_parallel_build_trees\u001b[1;34m(tree, bootstrap, X, y, sample_weight, tree_idx, n_trees, verbose, class_weight, n_samples_bootstrap)\u001b[0m\n\u001b[0;32m    185\u001b[0m     \u001b[38;5;28;01melif\u001b[39;00m class_weight \u001b[38;5;241m==\u001b[39m \u001b[38;5;124m\"\u001b[39m\u001b[38;5;124mbalanced_subsample\u001b[39m\u001b[38;5;124m\"\u001b[39m:\n\u001b[0;32m    186\u001b[0m         curr_sample_weight \u001b[38;5;241m*\u001b[39m\u001b[38;5;241m=\u001b[39m compute_sample_weight(\u001b[38;5;124m\"\u001b[39m\u001b[38;5;124mbalanced\u001b[39m\u001b[38;5;124m\"\u001b[39m, y, indices\u001b[38;5;241m=\u001b[39mindices)\n\u001b[1;32m--> 188\u001b[0m     tree\u001b[38;5;241m.\u001b[39mfit(X, y, sample_weight\u001b[38;5;241m=\u001b[39mcurr_sample_weight, check_input\u001b[38;5;241m=\u001b[39m\u001b[38;5;28;01mFalse\u001b[39;00m)\n\u001b[0;32m    189\u001b[0m \u001b[38;5;28;01melse\u001b[39;00m:\n\u001b[0;32m    190\u001b[0m     tree\u001b[38;5;241m.\u001b[39mfit(X, y, sample_weight\u001b[38;5;241m=\u001b[39msample_weight, check_input\u001b[38;5;241m=\u001b[39m\u001b[38;5;28;01mFalse\u001b[39;00m)\n",
      "File \u001b[1;32m~\\anaconda3\\envs\\Projet7\\Lib\\site-packages\\sklearn\\base.py:1151\u001b[0m, in \u001b[0;36m_fit_context.<locals>.decorator.<locals>.wrapper\u001b[1;34m(estimator, *args, **kwargs)\u001b[0m\n\u001b[0;32m   1144\u001b[0m     estimator\u001b[38;5;241m.\u001b[39m_validate_params()\n\u001b[0;32m   1146\u001b[0m \u001b[38;5;28;01mwith\u001b[39;00m config_context(\n\u001b[0;32m   1147\u001b[0m     skip_parameter_validation\u001b[38;5;241m=\u001b[39m(\n\u001b[0;32m   1148\u001b[0m         prefer_skip_nested_validation \u001b[38;5;129;01mor\u001b[39;00m global_skip_validation\n\u001b[0;32m   1149\u001b[0m     )\n\u001b[0;32m   1150\u001b[0m ):\n\u001b[1;32m-> 1151\u001b[0m     \u001b[38;5;28;01mreturn\u001b[39;00m fit_method(estimator, \u001b[38;5;241m*\u001b[39margs, \u001b[38;5;241m*\u001b[39m\u001b[38;5;241m*\u001b[39mkwargs)\n",
      "File \u001b[1;32m~\\anaconda3\\envs\\Projet7\\Lib\\site-packages\\sklearn\\tree\\_classes.py:959\u001b[0m, in \u001b[0;36mDecisionTreeClassifier.fit\u001b[1;34m(self, X, y, sample_weight, check_input)\u001b[0m\n\u001b[0;32m    928\u001b[0m \u001b[38;5;129m@_fit_context\u001b[39m(prefer_skip_nested_validation\u001b[38;5;241m=\u001b[39m\u001b[38;5;28;01mTrue\u001b[39;00m)\n\u001b[0;32m    929\u001b[0m \u001b[38;5;28;01mdef\u001b[39;00m \u001b[38;5;21mfit\u001b[39m(\u001b[38;5;28mself\u001b[39m, X, y, sample_weight\u001b[38;5;241m=\u001b[39m\u001b[38;5;28;01mNone\u001b[39;00m, check_input\u001b[38;5;241m=\u001b[39m\u001b[38;5;28;01mTrue\u001b[39;00m):\n\u001b[0;32m    930\u001b[0m \u001b[38;5;250m    \u001b[39m\u001b[38;5;124;03m\"\"\"Build a decision tree classifier from the training set (X, y).\u001b[39;00m\n\u001b[0;32m    931\u001b[0m \n\u001b[0;32m    932\u001b[0m \u001b[38;5;124;03m    Parameters\u001b[39;00m\n\u001b[1;32m   (...)\u001b[0m\n\u001b[0;32m    956\u001b[0m \u001b[38;5;124;03m        Fitted estimator.\u001b[39;00m\n\u001b[0;32m    957\u001b[0m \u001b[38;5;124;03m    \"\"\"\u001b[39;00m\n\u001b[1;32m--> 959\u001b[0m     \u001b[38;5;28msuper\u001b[39m()\u001b[38;5;241m.\u001b[39m_fit(\n\u001b[0;32m    960\u001b[0m         X,\n\u001b[0;32m    961\u001b[0m         y,\n\u001b[0;32m    962\u001b[0m         sample_weight\u001b[38;5;241m=\u001b[39msample_weight,\n\u001b[0;32m    963\u001b[0m         check_input\u001b[38;5;241m=\u001b[39mcheck_input,\n\u001b[0;32m    964\u001b[0m     )\n\u001b[0;32m    965\u001b[0m     \u001b[38;5;28;01mreturn\u001b[39;00m \u001b[38;5;28mself\u001b[39m\n",
      "File \u001b[1;32m~\\anaconda3\\envs\\Projet7\\Lib\\site-packages\\sklearn\\tree\\_classes.py:443\u001b[0m, in \u001b[0;36mBaseDecisionTree._fit\u001b[1;34m(self, X, y, sample_weight, check_input, missing_values_in_feature_mask)\u001b[0m\n\u001b[0;32m    432\u001b[0m \u001b[38;5;28;01melse\u001b[39;00m:\n\u001b[0;32m    433\u001b[0m     builder \u001b[38;5;241m=\u001b[39m BestFirstTreeBuilder(\n\u001b[0;32m    434\u001b[0m         splitter,\n\u001b[0;32m    435\u001b[0m         min_samples_split,\n\u001b[1;32m   (...)\u001b[0m\n\u001b[0;32m    440\u001b[0m         \u001b[38;5;28mself\u001b[39m\u001b[38;5;241m.\u001b[39mmin_impurity_decrease,\n\u001b[0;32m    441\u001b[0m     )\n\u001b[1;32m--> 443\u001b[0m builder\u001b[38;5;241m.\u001b[39mbuild(\u001b[38;5;28mself\u001b[39m\u001b[38;5;241m.\u001b[39mtree_, X, y, sample_weight, missing_values_in_feature_mask)\n\u001b[0;32m    445\u001b[0m \u001b[38;5;28;01mif\u001b[39;00m \u001b[38;5;28mself\u001b[39m\u001b[38;5;241m.\u001b[39mn_outputs_ \u001b[38;5;241m==\u001b[39m \u001b[38;5;241m1\u001b[39m \u001b[38;5;129;01mand\u001b[39;00m is_classifier(\u001b[38;5;28mself\u001b[39m):\n\u001b[0;32m    446\u001b[0m     \u001b[38;5;28mself\u001b[39m\u001b[38;5;241m.\u001b[39mn_classes_ \u001b[38;5;241m=\u001b[39m \u001b[38;5;28mself\u001b[39m\u001b[38;5;241m.\u001b[39mn_classes_[\u001b[38;5;241m0\u001b[39m]\n",
      "\u001b[1;31mKeyboardInterrupt\u001b[0m: "
     ]
    }
   ],
   "source": [
    "for model_name, model in models.items():\n",
    "    for technique in balancing_techniques:\n",
    "        if model_name == \"Logistic Regression\":\n",
    "            X_train_bal, y_train_bal = X_train_scaled, y_train_imputed\n",
    "            X_test_bal, y_test_bal = X_test_scaled, y_test_imputed\n",
    "        elif model_name == \"LightGBM\":\n",
    "            # validation croisée pour LightGBM\n",
    "            skf = StratifiedKFold(n_splits=5, shuffle=True, random_state=42)\n",
    "            auc_scores = []\n",
    "            accuracy_scores = []\n",
    "\n",
    "            for train_index, val_index in skf.split(X_train, y_train):\n",
    "                X_train_fold, X_val_fold = X_train[train_index], X_train[val_index]\n",
    "                y_train_fold, y_val_fold = y_train[train_index], y_train[val_index]\n",
    "\n",
    "                if technique == \"SMOTE\":\n",
    "                    smote = SMOTE(random_state=42)\n",
    "                    X_train_fold, y_train_fold = smote.fit_resample(X_train_fold, y_train_fold)\n",
    "                elif technique == \"Undersampling\":\n",
    "                    undersample = RandomUnderSampler(random_state=42)\n",
    "                    X_train_fold, y_train_fold = undersample.fit_resample(X_train_fold, y_train_fold)\n",
    "\n",
    "                model.fit(X_train_fold, y_train_fold)\n",
    "                y_pred_proba = model.predict_proba(X_val_fold)[:, 1]\n",
    "                y_pred = (y_pred_proba >= 0.5).astype(int)\n",
    "\n",
    "                auc_score = roc_auc_score(y_val_fold, y_pred_proba)\n",
    "                accuracy = accuracy_score(y_val_fold, y_pred)\n",
    "\n",
    "                auc_scores.append(auc_score)\n",
    "                accuracy_scores.append(accuracy)\n",
    "\n",
    "            auc_score = np.mean(auc_scores)\n",
    "            accuracy = np.mean(accuracy_scores)\n",
    "\n",
    "            mlflow.log_param(\"model\", model_name)\n",
    "            mlflow.log_param(\"balancing_technique\", technique)\n",
    "            mlflow.log_metric(\"ROC AUC\", auc_score)\n",
    "            mlflow.log_metric(\"Accuracy\", accuracy)\n",
    "\n",
    "            mlflow.sklearn.log_model(model, f\"{model_name}_model\")\n",
    "\n",
    "            print(f\"{model_name} with {technique} - ROC AUC: {auc_score}, Accuracy: {accuracy}\")\n",
    "            continue\n",
    "        else:\n",
    "            X_train_bal, y_train_bal = X_train_imp_selected, y_train_imputed\n",
    "            X_test_bal, y_test_bal = X_test_imp_selected, y_test_imputed\n",
    "        \n",
    "        if technique == \"SMOTE\":\n",
    "            smote = SMOTE(random_state=42)\n",
    "            X_train_bal, y_train_bal = smote.fit_resample(X_train_bal, y_train_bal)\n",
    "        elif technique == \"Undersampling\":\n",
    "            undersample = RandomUnderSampler(random_state=42)\n",
    "            X_train_bal, y_train_bal = undersample.fit_resample(X_train_bal, y_train_bal)\n",
    "        \n",
    "        train_and_log_model(model, model_name, X_train_bal, y_train_bal, X_test_bal, y_test_bal, technique)"
   ]
  },
  {
   "cell_type": "code",
   "execution_count": null,
   "id": "3a4bc7b9-c4a0-4842-98e3-5332acff0b0b",
   "metadata": {},
   "outputs": [],
   "source": []
  },
  {
   "cell_type": "code",
   "execution_count": null,
   "id": "202d15b1-dfda-49cc-b1ed-6f28f5c209ac",
   "metadata": {},
   "outputs": [],
   "source": []
  },
  {
   "cell_type": "code",
   "execution_count": null,
   "id": "9d555b57-58f2-4c27-9101-39b2676182e7",
   "metadata": {},
   "outputs": [],
   "source": []
  },
  {
   "cell_type": "code",
   "execution_count": null,
   "id": "2ae3530a-18a8-4a8e-b47f-41596ddfd249",
   "metadata": {},
   "outputs": [],
   "source": []
  },
  {
   "cell_type": "code",
   "execution_count": null,
   "id": "2f3d7c4e-aa86-4eb8-954f-26757fe27857",
   "metadata": {},
   "outputs": [],
   "source": []
  },
  {
   "cell_type": "code",
   "execution_count": null,
   "id": "d0b4fa16-b07d-41f2-88c2-1d291ebd94d0",
   "metadata": {},
   "outputs": [],
   "source": []
  },
  {
   "cell_type": "markdown",
   "id": "22adfbbf-e7fb-4477-a587-221129536a82",
   "metadata": {},
   "source": [
    "## Lightgbm"
   ]
  },
  {
   "cell_type": "code",
   "execution_count": 31,
   "id": "11059ce0-4605-4122-9337-e14ed17a6776",
   "metadata": {},
   "outputs": [],
   "source": [
    "def clean_column_names(df):\n",
    "    df.columns = [re.sub(r'[^A-Za-z0-9_]+', '', col) for col in df.columns]\n",
    "    return df\n",
    "\n",
    "# Appliquer le nettoyage des noms de colonnes\n",
    "X_train = clean_column_names(X_train)\n",
    "X_test = clean_column_names(X_test)"
   ]
  },
  {
   "cell_type": "code",
   "execution_count": 32,
   "id": "20ff2427-04df-43f2-83a6-db472c0fa81b",
   "metadata": {},
   "outputs": [],
   "source": [
    "# Diviser les données d'entraînement en un ensemble d'entraînement et de validation\n",
    "X_train_split, X_val, y_train_split, y_val = train_test_split(X_train, y_train, test_size=0.2, random_state=42, stratify=y_train)"
   ]
  },
  {
   "cell_type": "code",
   "execution_count": 33,
   "id": "a4c310c0-8165-4a5e-ad4d-7e64450df20c",
   "metadata": {},
   "outputs": [],
   "source": [
    "# Créer les ensembles de données LightGBM\n",
    "train_data = lgb.Dataset(X_train_split, label=y_train_split)\n",
    "val_data = lgb.Dataset(X_val, label=y_val, reference=train_data)"
   ]
  },
  {
   "cell_type": "code",
   "execution_count": 34,
   "id": "bdea50a8-b00d-40b5-b536-cf863acfcf05",
   "metadata": {},
   "outputs": [],
   "source": [
    "# Définir les paramètres du modèle\n",
    "params = {\n",
    "    'boosting_type': 'gbdt',\n",
    "    'objective': 'binary',\n",
    "    'metric': 'auc',\n",
    "    'is_unbalance': True,  # Paramètre pour gérer le déséquilibre des classes\n",
    "    'lambda_l1': 0.1,  # L1 regularization\n",
    "    'lambda_l2': 0.1,  # L2 regularization\n",
    "    'feature_fraction': 0.8,  # Utilise 80% des caractéristiques à chaque itération\n",
    "    'bagging_fraction': 0.8,  # Utilise 80% des données à chaque itération\n",
    "    'bagging_freq': 5,  # Effectue le bagging toutes les 5 itérations\n",
    "    'max_depth': 10,  # Profondeur maximale des arbres\n",
    "    'num_leaves': 31,  # Nombre maximum de feuilles\n",
    "    'min_data_in_leaf': 20,  # Nombre minimal de données dans une feuille\n",
    "    'min_gain_to_split': 0.01,  # Gain minimal pour effectuer une division\n",
    "    'learning_rate': 0.01,\n",
    "    'verbose': -1\n",
    "}"
   ]
  },
  {
   "cell_type": "code",
   "execution_count": 35,
   "id": "836b1029-b8f6-43e8-920f-1c8552003ffd",
   "metadata": {},
   "outputs": [
    {
     "name": "stdout",
     "output_type": "stream",
     "text": [
      "Training LightGBM model...\n",
      "Training until validation scores don't improve for 50 rounds\n",
      "Did not meet early stopping. Best iteration is:\n",
      "[1000]\ttraining's auc: 0.851892\tvalid_1's auc: 0.788459\n"
     ]
    }
   ],
   "source": [
    "# Entraîner le modèle\n",
    "print(\"Training LightGBM model...\")\n",
    "callbacks = [lgb.early_stopping(stopping_rounds=50, verbose=True)]\n",
    "gbm = lgb.train(params,\n",
    "                train_data,\n",
    "                num_boost_round=1000,\n",
    "                valid_sets=[train_data, val_data],\n",
    "                callbacks=callbacks)"
   ]
  },
  {
   "cell_type": "code",
   "execution_count": 36,
   "id": "27c90b3a-a91c-465a-851e-4303ef9f9c88",
   "metadata": {},
   "outputs": [],
   "source": [
    "# Prédire sur l'ensemble de test\n",
    "y_pred = gbm.predict(X_test, num_iteration=gbm.best_iteration)\n",
    "y_pred_class = (y_pred > 0.5).astype(int)"
   ]
  },
  {
   "cell_type": "code",
   "execution_count": 37,
   "id": "6acd6680-f808-4b66-8974-e84492cc8b5f",
   "metadata": {},
   "outputs": [
    {
     "name": "stdout",
     "output_type": "stream",
     "text": [
      "Classification Report:\n",
      "              precision    recall  f1-score   support\n",
      "\n",
      "           0       0.97      0.73      0.83     56536\n",
      "           1       0.19      0.71      0.30      4965\n",
      "\n",
      "    accuracy                           0.73     61501\n",
      "   macro avg       0.58      0.72      0.56     61501\n",
      "weighted avg       0.90      0.73      0.79     61501\n",
      "\n",
      "Confusion Matrix:\n",
      "[[41337 15199]\n",
      " [ 1450  3515]]\n",
      "ROC AUC Score:\n",
      "0.7892407600336928\n",
      "Importance des caractéristiques :\n",
      "                                     feature  importance\n",
      "90                   CREDIT_TO_ANNUITY_RATIO         827\n",
      "23                              EXT_SOURCE_1         370\n",
      "87                          EXT_SOURCES_MEAN         366\n",
      "83                          EXT_SOURCES_PROD         338\n",
      "6                                AMT_ANNUITY         323\n",
      "9                                 DAYS_BIRTH         305\n",
      "97                     CAR_TO_EMPLOYED_RATIO         291\n",
      "91                     CREDIT_TO_GOODS_RATIO         280\n",
      "167  BUREAU_CONSUMER_DAYS_CREDIT_ENDDATE_MAX         275\n",
      "92                   ANNUITY_TO_INCOME_RATIO         264\n"
     ]
    }
   ],
   "source": [
    "# Évaluer le modèle\n",
    "print(\"Classification Report:\")\n",
    "print(classification_report(y_test, y_pred_class))\n",
    "\n",
    "print(\"Confusion Matrix:\")\n",
    "print(confusion_matrix(y_test, y_pred_class))\n",
    "\n",
    "print(\"ROC AUC Score:\")\n",
    "print(roc_auc_score(y_test, y_pred))\n",
    "\n",
    "# Afficher l'importance des caractéristiques\n",
    "importance = gbm.feature_importance(importance_type='split')\n",
    "feature_names = X_train.columns\n",
    "feature_importance = pd.DataFrame({'feature': feature_names, 'importance': importance})\n",
    "feature_importance = feature_importance.sort_values(by='importance', ascending=False)\n",
    "\n",
    "print(\"Importance des caractéristiques :\")\n",
    "print(feature_importance.head(10))"
   ]
  },
  {
   "cell_type": "code",
   "execution_count": null,
   "id": "4b16d535-0fc8-4987-b594-e71e4da7b513",
   "metadata": {},
   "outputs": [],
   "source": []
  },
  {
   "cell_type": "code",
   "execution_count": null,
   "id": "f6d4abaa-8813-40d9-9d0f-9501a4ecb020",
   "metadata": {},
   "outputs": [],
   "source": []
  },
  {
   "cell_type": "code",
   "execution_count": null,
   "id": "3233dbf7-5e33-4b0c-996a-86c7e699e6e0",
   "metadata": {},
   "outputs": [],
   "source": []
  },
  {
   "cell_type": "code",
   "execution_count": null,
   "id": "2591f7bb-33ad-49fd-a123-18a947cb890b",
   "metadata": {},
   "outputs": [],
   "source": []
  },
  {
   "cell_type": "code",
   "execution_count": null,
   "id": "afa82cc2-5710-42e5-a25c-63af1cf53f38",
   "metadata": {},
   "outputs": [],
   "source": []
  },
  {
   "cell_type": "raw",
   "id": "7dbe5368-3f3c-4486-97a1-67a1fdfb7a86",
   "metadata": {},
   "source": [
    "from sklearn.model_selection import StratifiedKFold, GridSearchCV\n",
    "import lightgbm as lgb\n",
    "\n",
    "skf = StratifiedKFold(n_splits=5, shuffle=True, random_state=42)\n",
    "\n",
    "model = lgb.LGBMClassifier()\n",
    "\n",
    "param_grid = {\n",
    "    'n_estimators': [100, 200],\n",
    "    'learning_rate': [0.01, 0.1]\n",
    "}\n",
    "\n",
    "grid_search = GridSearchCV(estimator=model, param_grid=param_grid, scoring=custom_scorer, cv=skf)\n",
    "grid_search.fit(X_train, y_train)\n",
    "\n",
    "\n",
    "from sklearn.metrics import roc_curve\n",
    "\n",
    "def optimize_threshold(y_true, y_proba):\n",
    "    fpr, tpr, thresholds = roc_curve(y_true, y_proba)\n",
    "    costs = [cost_function(y_true, (y_proba >= t).astype(int)) for t in thresholds]\n",
    "    optimal_threshold = thresholds[np.argmin(costs)]\n",
    "    return optimal_threshold\n",
    "\n",
    "best_threshold = optimize_threshold(y_test, grid_search.predict_proba(X_test)[:, 1])\n"
   ]
  }
 ],
 "metadata": {
  "kernelspec": {
   "display_name": "Python 3 (ipykernel)",
   "language": "python",
   "name": "python3"
  },
  "language_info": {
   "codemirror_mode": {
    "name": "ipython",
    "version": 3
   },
   "file_extension": ".py",
   "mimetype": "text/x-python",
   "name": "python",
   "nbconvert_exporter": "python",
   "pygments_lexer": "ipython3",
   "version": "3.12.0"
  },
  "toc": {
   "base_numbering": 1,
   "nav_menu": {},
   "number_sections": true,
   "sideBar": true,
   "skip_h1_title": false,
   "title_cell": "Table of Contents",
   "title_sidebar": "Contents",
   "toc_cell": false,
   "toc_position": {},
   "toc_section_display": true,
   "toc_window_display": false
  }
 },
 "nbformat": 4,
 "nbformat_minor": 5
}
